{
 "cells": [
  {
   "cell_type": "code",
   "execution_count": 1,
   "metadata": {
    "collapsed": true
   },
   "outputs": [],
   "source": [
    "import numpy as np\n",
    "import pandas as pd"
   ]
  },
  {
   "cell_type": "markdown",
   "metadata": {},
   "source": [
    "**Made-up Data**"
   ]
  },
  {
   "cell_type": "code",
   "execution_count": 2,
   "metadata": {
    "collapsed": false
   },
   "outputs": [],
   "source": [
    "data = pd.DataFrame()\n",
    "data['Y'] = [8, 15, 22]\n",
    "data['X1'] = [1,2,3]\n",
    "data['X2'] = [7,5,2]\n",
    "data['X3'] = [9,6,4]"
   ]
  },
  {
   "cell_type": "code",
   "execution_count": 3,
   "metadata": {
    "collapsed": false
   },
   "outputs": [
    {
     "data": {
      "text/html": [
       "<div>\n",
       "<table border=\"1\" class=\"dataframe\">\n",
       "  <thead>\n",
       "    <tr style=\"text-align: right;\">\n",
       "      <th></th>\n",
       "      <th>Y</th>\n",
       "      <th>X1</th>\n",
       "      <th>X2</th>\n",
       "      <th>X3</th>\n",
       "    </tr>\n",
       "  </thead>\n",
       "  <tbody>\n",
       "    <tr>\n",
       "      <th>0</th>\n",
       "      <td>8</td>\n",
       "      <td>1</td>\n",
       "      <td>7</td>\n",
       "      <td>9</td>\n",
       "    </tr>\n",
       "    <tr>\n",
       "      <th>1</th>\n",
       "      <td>15</td>\n",
       "      <td>2</td>\n",
       "      <td>5</td>\n",
       "      <td>6</td>\n",
       "    </tr>\n",
       "    <tr>\n",
       "      <th>2</th>\n",
       "      <td>22</td>\n",
       "      <td>3</td>\n",
       "      <td>2</td>\n",
       "      <td>4</td>\n",
       "    </tr>\n",
       "  </tbody>\n",
       "</table>\n",
       "</div>"
      ],
      "text/plain": [
       "    Y  X1  X2  X3\n",
       "0   8   1   7   9\n",
       "1  15   2   5   6\n",
       "2  22   3   2   4"
      ]
     },
     "execution_count": 3,
     "metadata": {},
     "output_type": "execute_result"
    }
   ],
   "source": [
    "data"
   ]
  },
  {
   "cell_type": "code",
   "execution_count": 4,
   "metadata": {
    "collapsed": true
   },
   "outputs": [],
   "source": [
    "y = data.iloc[:,0]\n",
    "X = data.iloc[:,1:]"
   ]
  },
  {
   "cell_type": "code",
   "execution_count": 44,
   "metadata": {
    "collapsed": true
   },
   "outputs": [],
   "source": [
    "def grad_descent(X,y,thetas):\n",
    "    alpha = 0.01\n",
    "    m = len(y) \n",
    "    h = np.dot(X, thetas)\n",
    "    thetas = thetas - alpha/m * np.dot(np.transpose(X),(h - y))\n",
    "    return thetas"
   ]
  },
  {
   "cell_type": "code",
   "execution_count": 96,
   "metadata": {
    "collapsed": false
   },
   "outputs": [],
   "source": [
    "def cost_function(X,y):\n",
    "    # Initialize Theta as All Ones\n",
    "    thetas = np.array([1]*(len(y)+1))\n",
    "    \n",
    "    # Set X & y\n",
    "    y = np.array(y)\n",
    "    X = np.insert(np.array(X),0,1,axis=1)\n",
    "    m=len(y)\n",
    "    \n",
    "    # Initial Hypothesis Function\n",
    "    h = np.dot(X, thetas)\n",
    "    # Initial Cost Function\n",
    "    cost = 1/(2*m) * np.sum(np.square((h - y)))\n",
    "\n",
    "    # Epsilon\n",
    "    epsilon = 0.00000000000001\n",
    "    \n",
    "    # Set Number of Iterations\n",
    "    iteration = 0\n",
    "    while cost > epsilon:\n",
    "        thetas = grad_descent(X,y,thetas)\n",
    "        h = np.dot(X, thetas)\n",
    "        cost = 1/(2*m) * np.sum(np.square((h - y)))\n",
    "        iteration += 1\n",
    "    return thetas, h, iteration"
   ]
  },
  {
   "cell_type": "code",
   "execution_count": 97,
   "metadata": {
    "collapsed": false
   },
   "outputs": [
    {
     "name": "stdout",
     "output_type": "stream",
     "text": [
      "Computed Thetas [ 2.25641023  6.70085458 -0.05982938 -0.05982878]\n",
      "Predicted Targets: [  8.00000011  14.9999998   22.00000009]\n",
      "Number of Iterations: 14650\n"
     ]
    }
   ],
   "source": [
    "thetas, h, iteration = cost_function(X,y)\n",
    "print('Computed Thetas',thetas)\n",
    "print('Predicted Targets:',h)\n",
    "print('Number of Iterations:',iteration)"
   ]
  },
  {
   "cell_type": "markdown",
   "metadata": {},
   "source": [
    "**Analytic Solution**"
   ]
  },
  {
   "cell_type": "code",
   "execution_count": 93,
   "metadata": {
    "collapsed": false
   },
   "outputs": [
    {
     "name": "stdout",
     "output_type": "stream",
     "text": [
      "True Thetas [ 1.62820513  6.85042735 -0.02991453 -0.02991453]\n",
      "True Predictions: [  8.  15.  22.]\n"
     ]
    }
   ],
   "source": [
    "theta_true = np.dot(np.linalg.pinv(np.insert(np.array(X),0,1,axis=1)),np.array(y))\n",
    "print('True Thetas',theta_true)\n",
    "h_true = np.dot(np.insert(np.array(X),0,1,axis=1), theta_true)\n",
    "print('True Predictions:',h_true)"
   ]
  },
  {
   "cell_type": "code",
   "execution_count": null,
   "metadata": {
    "collapsed": true
   },
   "outputs": [],
   "source": []
  }
 ],
 "metadata": {
  "kernelspec": {
   "display_name": "Python [Root]",
   "language": "python",
   "name": "Python [Root]"
  },
  "language_info": {
   "codemirror_mode": {
    "name": "ipython",
    "version": 3
   },
   "file_extension": ".py",
   "mimetype": "text/x-python",
   "name": "python",
   "nbconvert_exporter": "python",
   "pygments_lexer": "ipython3",
   "version": "3.5.2"
  }
 },
 "nbformat": 4,
 "nbformat_minor": 0
}

{
 "cells": [
  {
   "cell_type": "markdown",
   "metadata": {},
   "source": [
    "# Data Analysis"
   ]
  },
  {
   "cell_type": "markdown",
   "metadata": {},
   "source": [
    "**Import Libraries**"
   ]
  },
  {
   "cell_type": "code",
   "execution_count": 1,
   "metadata": {
    "collapsed": false
   },
   "outputs": [],
   "source": [
    "# Import Relevant Libraries\n",
    "import random\n",
    "import pandas as pd\n",
    "import numpy as np\n",
    "import matplotlib.pyplot as plt\n",
    "import matplotlib.image as mpimg\n",
    "from sklearn.svm import SVC\n",
    "from sklearn.model_selection import train_test_split, cross_val_score\n",
    "from sklearn.metrics import accuracy_score\n",
    "from sklearn.preprocessing import scale\n",
    "\n",
    "%matplotlib inline\n",
    "%load_ext autoreload\n",
    "%autoreload 2"
   ]
  },
  {
   "cell_type": "code",
   "execution_count": 2,
   "metadata": {
    "collapsed": true
   },
   "outputs": [],
   "source": [
    "%reload_ext autoreload"
   ]
  },
  {
   "cell_type": "code",
   "execution_count": 3,
   "metadata": {
    "collapsed": false
   },
   "outputs": [],
   "source": [
    "# Import Relevant Libraries\n",
    "import sys\n",
    "# Add Path to Project Files \n",
    "sys.path.append('/Users/Masa/Documents/Data Science/Metis/6. Projects/Project-McNulty/python')\n",
    "sys.path.append('/Users/Masa/Documents/Data Science/Metis/6. Projects/Project-McNulty/python/mklearn')"
   ]
  },
  {
   "cell_type": "markdown",
   "metadata": {},
   "source": [
    "**Import Project Python Modules**"
   ]
  },
  {
   "cell_type": "code",
   "execution_count": 4,
   "metadata": {
    "collapsed": false
   },
   "outputs": [],
   "source": [
    "# Import Python File\n",
    "import data_visualization as dv\n",
    "import data_import as di\n",
    "from mklearn.mklearn import KNearestNeighbors_MK"
   ]
  },
  {
   "cell_type": "markdown",
   "metadata": {},
   "source": [
    "## Import Data"
   ]
  },
  {
   "cell_type": "markdown",
   "metadata": {},
   "source": [
    "**Import Labeled Data**"
   ]
  },
  {
   "cell_type": "code",
   "execution_count": 5,
   "metadata": {
    "collapsed": false
   },
   "outputs": [],
   "source": [
    "df = di.create_dataframe()"
   ]
  },
  {
   "cell_type": "code",
   "execution_count": 6,
   "metadata": {
    "collapsed": false
   },
   "outputs": [
    {
     "data": {
      "text/html": [
       "<div>\n",
       "<table border=\"1\" class=\"dataframe\">\n",
       "  <thead>\n",
       "    <tr style=\"text-align: right;\">\n",
       "      <th></th>\n",
       "      <th>Labels</th>\n",
       "      <th>0</th>\n",
       "      <th>1</th>\n",
       "      <th>2</th>\n",
       "      <th>3</th>\n",
       "      <th>4</th>\n",
       "      <th>5</th>\n",
       "      <th>6</th>\n",
       "      <th>7</th>\n",
       "      <th>8</th>\n",
       "      <th>...</th>\n",
       "      <th>3062</th>\n",
       "      <th>3063</th>\n",
       "      <th>3064</th>\n",
       "      <th>3065</th>\n",
       "      <th>3066</th>\n",
       "      <th>3067</th>\n",
       "      <th>3068</th>\n",
       "      <th>3069</th>\n",
       "      <th>3070</th>\n",
       "      <th>3071</th>\n",
       "    </tr>\n",
       "  </thead>\n",
       "  <tbody>\n",
       "    <tr>\n",
       "      <th>0</th>\n",
       "      <td>6</td>\n",
       "      <td>59</td>\n",
       "      <td>43</td>\n",
       "      <td>50</td>\n",
       "      <td>68</td>\n",
       "      <td>98</td>\n",
       "      <td>119</td>\n",
       "      <td>139</td>\n",
       "      <td>145</td>\n",
       "      <td>149</td>\n",
       "      <td>...</td>\n",
       "      <td>59</td>\n",
       "      <td>58</td>\n",
       "      <td>65</td>\n",
       "      <td>59</td>\n",
       "      <td>46</td>\n",
       "      <td>57</td>\n",
       "      <td>104</td>\n",
       "      <td>140</td>\n",
       "      <td>84</td>\n",
       "      <td>72</td>\n",
       "    </tr>\n",
       "    <tr>\n",
       "      <th>1</th>\n",
       "      <td>9</td>\n",
       "      <td>154</td>\n",
       "      <td>126</td>\n",
       "      <td>105</td>\n",
       "      <td>102</td>\n",
       "      <td>125</td>\n",
       "      <td>155</td>\n",
       "      <td>172</td>\n",
       "      <td>180</td>\n",
       "      <td>142</td>\n",
       "      <td>...</td>\n",
       "      <td>22</td>\n",
       "      <td>42</td>\n",
       "      <td>67</td>\n",
       "      <td>101</td>\n",
       "      <td>122</td>\n",
       "      <td>133</td>\n",
       "      <td>136</td>\n",
       "      <td>139</td>\n",
       "      <td>142</td>\n",
       "      <td>144</td>\n",
       "    </tr>\n",
       "    <tr>\n",
       "      <th>2</th>\n",
       "      <td>9</td>\n",
       "      <td>255</td>\n",
       "      <td>253</td>\n",
       "      <td>253</td>\n",
       "      <td>253</td>\n",
       "      <td>253</td>\n",
       "      <td>253</td>\n",
       "      <td>253</td>\n",
       "      <td>253</td>\n",
       "      <td>253</td>\n",
       "      <td>...</td>\n",
       "      <td>78</td>\n",
       "      <td>83</td>\n",
       "      <td>80</td>\n",
       "      <td>69</td>\n",
       "      <td>66</td>\n",
       "      <td>72</td>\n",
       "      <td>79</td>\n",
       "      <td>83</td>\n",
       "      <td>83</td>\n",
       "      <td>84</td>\n",
       "    </tr>\n",
       "  </tbody>\n",
       "</table>\n",
       "<p>3 rows × 3073 columns</p>\n",
       "</div>"
      ],
      "text/plain": [
       "   Labels    0    1    2    3    4    5    6    7    8  ...   3062  3063  \\\n",
       "0       6   59   43   50   68   98  119  139  145  149  ...     59    58   \n",
       "1       9  154  126  105  102  125  155  172  180  142  ...     22    42   \n",
       "2       9  255  253  253  253  253  253  253  253  253  ...     78    83   \n",
       "\n",
       "   3064  3065  3066  3067  3068  3069  3070  3071  \n",
       "0    65    59    46    57   104   140    84    72  \n",
       "1    67   101   122   133   136   139   142   144  \n",
       "2    80    69    66    72    79    83    83    84  \n",
       "\n",
       "[3 rows x 3073 columns]"
      ]
     },
     "execution_count": 6,
     "metadata": {},
     "output_type": "execute_result"
    }
   ],
   "source": [
    "# Preview Data\n",
    "df.head(n=3)"
   ]
  },
  {
   "cell_type": "code",
   "execution_count": 7,
   "metadata": {
    "collapsed": true
   },
   "outputs": [],
   "source": [
    "df_sorted = df.sort_values(by='Labels').reset_index(drop=True)"
   ]
  },
  {
   "cell_type": "code",
   "execution_count": 8,
   "metadata": {
    "collapsed": false
   },
   "outputs": [
    {
     "data": {
      "text/html": [
       "<div>\n",
       "<table border=\"1\" class=\"dataframe\">\n",
       "  <thead>\n",
       "    <tr style=\"text-align: right;\">\n",
       "      <th></th>\n",
       "      <th>Labels</th>\n",
       "      <th>0</th>\n",
       "      <th>1</th>\n",
       "      <th>2</th>\n",
       "      <th>3</th>\n",
       "      <th>4</th>\n",
       "      <th>5</th>\n",
       "      <th>6</th>\n",
       "      <th>7</th>\n",
       "      <th>8</th>\n",
       "      <th>...</th>\n",
       "      <th>3062</th>\n",
       "      <th>3063</th>\n",
       "      <th>3064</th>\n",
       "      <th>3065</th>\n",
       "      <th>3066</th>\n",
       "      <th>3067</th>\n",
       "      <th>3068</th>\n",
       "      <th>3069</th>\n",
       "      <th>3070</th>\n",
       "      <th>3071</th>\n",
       "    </tr>\n",
       "  </thead>\n",
       "  <tbody>\n",
       "    <tr>\n",
       "      <th>0</th>\n",
       "      <td>0</td>\n",
       "      <td>112</td>\n",
       "      <td>109</td>\n",
       "      <td>108</td>\n",
       "      <td>106</td>\n",
       "      <td>102</td>\n",
       "      <td>99</td>\n",
       "      <td>99</td>\n",
       "      <td>99</td>\n",
       "      <td>99</td>\n",
       "      <td>...</td>\n",
       "      <td>35</td>\n",
       "      <td>45</td>\n",
       "      <td>63</td>\n",
       "      <td>80</td>\n",
       "      <td>70</td>\n",
       "      <td>61</td>\n",
       "      <td>62</td>\n",
       "      <td>60</td>\n",
       "      <td>74</td>\n",
       "      <td>89</td>\n",
       "    </tr>\n",
       "    <tr>\n",
       "      <th>1</th>\n",
       "      <td>0</td>\n",
       "      <td>184</td>\n",
       "      <td>182</td>\n",
       "      <td>182</td>\n",
       "      <td>184</td>\n",
       "      <td>185</td>\n",
       "      <td>186</td>\n",
       "      <td>186</td>\n",
       "      <td>187</td>\n",
       "      <td>187</td>\n",
       "      <td>...</td>\n",
       "      <td>139</td>\n",
       "      <td>139</td>\n",
       "      <td>138</td>\n",
       "      <td>134</td>\n",
       "      <td>133</td>\n",
       "      <td>133</td>\n",
       "      <td>133</td>\n",
       "      <td>133</td>\n",
       "      <td>133</td>\n",
       "      <td>136</td>\n",
       "    </tr>\n",
       "    <tr>\n",
       "      <th>2</th>\n",
       "      <td>0</td>\n",
       "      <td>202</td>\n",
       "      <td>200</td>\n",
       "      <td>200</td>\n",
       "      <td>200</td>\n",
       "      <td>200</td>\n",
       "      <td>200</td>\n",
       "      <td>200</td>\n",
       "      <td>201</td>\n",
       "      <td>201</td>\n",
       "      <td>...</td>\n",
       "      <td>76</td>\n",
       "      <td>74</td>\n",
       "      <td>74</td>\n",
       "      <td>76</td>\n",
       "      <td>77</td>\n",
       "      <td>77</td>\n",
       "      <td>74</td>\n",
       "      <td>74</td>\n",
       "      <td>74</td>\n",
       "      <td>75</td>\n",
       "    </tr>\n",
       "  </tbody>\n",
       "</table>\n",
       "<p>3 rows × 3073 columns</p>\n",
       "</div>"
      ],
      "text/plain": [
       "   Labels    0    1    2    3    4    5    6    7    8  ...   3062  3063  \\\n",
       "0       0  112  109  108  106  102   99   99   99   99  ...     35    45   \n",
       "1       0  184  182  182  184  185  186  186  187  187  ...    139   139   \n",
       "2       0  202  200  200  200  200  200  200  201  201  ...     76    74   \n",
       "\n",
       "   3064  3065  3066  3067  3068  3069  3070  3071  \n",
       "0    63    80    70    61    62    60    74    89  \n",
       "1   138   134   133   133   133   133   133   136  \n",
       "2    74    76    77    77    74    74    74    75  \n",
       "\n",
       "[3 rows x 3073 columns]"
      ]
     },
     "execution_count": 8,
     "metadata": {},
     "output_type": "execute_result"
    }
   ],
   "source": [
    "# Preview Data\n",
    "df_sorted.head(n=3)"
   ]
  },
  {
   "cell_type": "markdown",
   "metadata": {},
   "source": [
    "**Target Classes**"
   ]
  },
  {
   "cell_type": "code",
   "execution_count": 9,
   "metadata": {
    "collapsed": true
   },
   "outputs": [],
   "source": [
    "classes = ['airplane','automobile','bird','cat','deer','dog','frog','horse','ship','truck']"
   ]
  },
  {
   "cell_type": "markdown",
   "metadata": {},
   "source": [
    "**Define X (Features) & Y (Target)**"
   ]
  },
  {
   "cell_type": "code",
   "execution_count": 10,
   "metadata": {
    "collapsed": true
   },
   "outputs": [],
   "source": [
    "X = df_sorted.iloc[:,1:]"
   ]
  },
  {
   "cell_type": "code",
   "execution_count": 11,
   "metadata": {
    "collapsed": true
   },
   "outputs": [],
   "source": [
    "y = df_sorted.iloc[:,0]"
   ]
  },
  {
   "cell_type": "markdown",
   "metadata": {},
   "source": [
    "**Create RBF Arrays**"
   ]
  },
  {
   "cell_type": "code",
   "execution_count": 12,
   "metadata": {
    "collapsed": false
   },
   "outputs": [],
   "source": [
    "rbf = di.create_rbf_array(df)"
   ]
  },
  {
   "cell_type": "code",
   "execution_count": 13,
   "metadata": {
    "collapsed": true
   },
   "outputs": [],
   "source": [
    "rbf_sorted = di.create_rbf_array_sorted(df)"
   ]
  },
  {
   "cell_type": "markdown",
   "metadata": {
    "collapsed": true
   },
   "source": [
    "# Create Models"
   ]
  },
  {
   "cell_type": "markdown",
   "metadata": {},
   "source": [
    "**Standardize X (Features)**"
   ]
  },
  {
   "cell_type": "code",
   "execution_count": 14,
   "metadata": {
    "collapsed": true
   },
   "outputs": [],
   "source": [
    "X_scale = pd.DataFrame(scale(X))"
   ]
  },
  {
   "cell_type": "markdown",
   "metadata": {
    "collapsed": true
   },
   "source": [
    "**Train Test Split**"
   ]
  },
  {
   "cell_type": "code",
   "execution_count": 15,
   "metadata": {
    "collapsed": false
   },
   "outputs": [],
   "source": [
    "X_train, X_test, y_train, y_test = train_test_split(X_scale, y, test_size=0.02, random_state=2)\n",
    "X_val = X_train.iloc[:1000,:]\n",
    "y_val = y_train.iloc[:1000]\n",
    "X_train = X_train.iloc[1000:,:]\n",
    "y_train = y_train.iloc[1000:]"
   ]
  },
  {
   "cell_type": "markdown",
   "metadata": {},
   "source": [
    "## Create Random Forest Model Using Sklearn"
   ]
  },
  {
   "cell_type": "code",
   "execution_count": 16,
   "metadata": {
    "collapsed": true
   },
   "outputs": [],
   "source": [
    "from sklearn.ensemble import RandomForestClassifier"
   ]
  },
  {
   "cell_type": "markdown",
   "metadata": {},
   "source": [
    "### Iteration 1 - Preliminary Values"
   ]
  },
  {
   "cell_type": "code",
   "execution_count": 17,
   "metadata": {
    "collapsed": false
   },
   "outputs": [
    {
     "data": {
      "text/plain": [
       "RandomForestClassifier(bootstrap=True, class_weight=None, criterion='gini',\n",
       "            max_depth=50, max_features='sqrt', max_leaf_nodes=None,\n",
       "            min_impurity_split=1e-07, min_samples_leaf=1,\n",
       "            min_samples_split=2, min_weight_fraction_leaf=0.0,\n",
       "            n_estimators=100, n_jobs=-1, oob_score=False, random_state=2,\n",
       "            verbose=0, warm_start=False)"
      ]
     },
     "execution_count": 17,
     "metadata": {},
     "output_type": "execute_result"
    }
   ],
   "source": [
    "rf_1 = RandomForestClassifier(n_estimators=100, max_depth=50,max_features='sqrt',n_jobs=-1,random_state=2)\n",
    "rf_1.fit(X_train, y_train)"
   ]
  },
  {
   "cell_type": "code",
   "execution_count": 18,
   "metadata": {
    "collapsed": false
   },
   "outputs": [
    {
     "name": "stdout",
     "output_type": "stream",
     "text": [
      "Accuracy of First Iteration: 0.478\n"
     ]
    }
   ],
   "source": [
    "y_pred_1 = rf_1.predict(X_test)\n",
    "accuracy_1 = accuracy_score(y_test, y_pred_1)\n",
    "print('Accuracy of First Iteration:', accuracy_1)"
   ]
  },
  {
   "cell_type": "markdown",
   "metadata": {},
   "source": [
    "### Iteration 2 - Try Grid Search to Optimize Parameters"
   ]
  },
  {
   "cell_type": "code",
   "execution_count": 26,
   "metadata": {
    "collapsed": true
   },
   "outputs": [],
   "source": [
    "from sklearn.model_selection import GridSearchCV"
   ]
  },
  {
   "cell_type": "code",
   "execution_count": 27,
   "metadata": {
    "collapsed": false
   },
   "outputs": [
    {
     "name": "stdout",
     "output_type": "stream",
     "text": [
      "Fitting 3 folds for each of 12 candidates, totalling 36 fits\n",
      "[CV] min_samples_leaf=1, max_features=50 .............................\n",
      "[CV] min_samples_leaf=1, max_features=50 .............................\n",
      "[CV] min_samples_leaf=1, max_features=50 .............................\n",
      "[CV] min_samples_leaf=5, max_features=50 .............................\n",
      "[CV] .................... min_samples_leaf=5, max_features=50 -  13.5s\n",
      "[CV] min_samples_leaf=5, max_features=50 .............................\n",
      "[CV] .................... min_samples_leaf=1, max_features=50 -  25.0s\n",
      "[CV] .................... min_samples_leaf=1, max_features=50 -  23.8s\n",
      "[CV] .................... min_samples_leaf=1, max_features=50 -  25.5s\n",
      "[CV] min_samples_leaf=5, max_features=50 .............................\n",
      "[CV] min_samples_leaf=10, max_features=50 ............................\n",
      "[CV] min_samples_leaf=10, max_features=50 ............................\n",
      "[CV] .................... min_samples_leaf=5, max_features=50 -   9.8s\n",
      "[CV] min_samples_leaf=10, max_features=50 ............................\n",
      "[CV] ................... min_samples_leaf=10, max_features=50 -  11.3s\n",
      "[CV] min_samples_leaf=1, max_features=100 ............................\n",
      "[CV] ................... min_samples_leaf=10, max_features=50 -  14.6s\n",
      "[CV] min_samples_leaf=1, max_features=100 ............................\n",
      "[CV] .................... min_samples_leaf=5, max_features=50 -   9.4s\n",
      "[CV] min_samples_leaf=1, max_features=100 ............................\n",
      "[CV] ................... min_samples_leaf=10, max_features=50 -   8.6s\n",
      "[CV] min_samples_leaf=5, max_features=100 ............................\n",
      "[CV] ................... min_samples_leaf=1, max_features=100 -  14.4s\n",
      "[CV] min_samples_leaf=5, max_features=100 ............................\n",
      "[CV] ................... min_samples_leaf=1, max_features=100 -  24.1s\n",
      "[CV] min_samples_leaf=5, max_features=100 ............................\n",
      "[CV] ................... min_samples_leaf=1, max_features=100 -  16.7s\n",
      "[CV] ................... min_samples_leaf=5, max_features=100 -  12.9s\n",
      "[CV] min_samples_leaf=10, max_features=100 ...........................\n",
      "[CV] min_samples_leaf=10, max_features=100 ...........................\n",
      "[CV] .................. min_samples_leaf=10, max_features=100 -   9.8s\n",
      "[CV] min_samples_leaf=10, max_features=100 ...........................\n",
      "[CV] .................. min_samples_leaf=10, max_features=100 -  11.2s\n",
      "[CV] min_samples_leaf=1, max_features=200 ............................\n",
      "[CV] ................... min_samples_leaf=5, max_features=100 -  18.8s\n",
      "[CV] min_samples_leaf=1, max_features=200 ............................\n",
      "[CV] ................... min_samples_leaf=5, max_features=100 -  14.1s\n",
      "[CV] min_samples_leaf=1, max_features=200 ............................\n",
      "[CV] .................. min_samples_leaf=10, max_features=100 -   8.5s\n",
      "[CV] min_samples_leaf=5, max_features=200 ............................\n",
      "[CV] ................... min_samples_leaf=1, max_features=200 -  15.4s\n",
      "[CV] min_samples_leaf=5, max_features=200 ............................\n",
      "[CV] ................... min_samples_leaf=1, max_features=200 -  15.7s\n",
      "[CV] min_samples_leaf=5, max_features=200 ............................\n",
      "[CV] ................... min_samples_leaf=1, max_features=200 -  21.0s\n",
      "[CV] min_samples_leaf=10, max_features=200 ...........................\n",
      "[CV] ................... min_samples_leaf=5, max_features=200 -  10.5s\n",
      "[CV] min_samples_leaf=10, max_features=200 ...........................\n",
      "[CV] .................. min_samples_leaf=10, max_features=200 -   7.8s\n",
      "[CV] min_samples_leaf=10, max_features=200 ...........................\n",
      "[CV] ................... min_samples_leaf=5, max_features=200 -  10.5s\n",
      "[CV] min_samples_leaf=1, max_features=400 ............................\n",
      "[CV] ................... min_samples_leaf=5, max_features=200 -  11.2s\n",
      "[CV] min_samples_leaf=1, max_features=400 ............................\n",
      "[CV] .................. min_samples_leaf=10, max_features=200 -   8.5s\n",
      "[CV] min_samples_leaf=1, max_features=400 ............................\n",
      "[CV] .................. min_samples_leaf=10, max_features=200 -   7.7s\n",
      "[CV] min_samples_leaf=5, max_features=400 ............................\n",
      "[CV] ................... min_samples_leaf=1, max_features=400 -  16.0s\n",
      "[CV] min_samples_leaf=5, max_features=400 ............................\n",
      "[CV] ................... min_samples_leaf=1, max_features=400 -  13.0s\n",
      "[CV] min_samples_leaf=5, max_features=400 ............................\n",
      "[CV] ................... min_samples_leaf=1, max_features=400 -  15.2s\n",
      "[CV] min_samples_leaf=10, max_features=400 ...........................\n",
      "[CV] ................... min_samples_leaf=5, max_features=400 -   9.6s\n",
      "[CV] min_samples_leaf=10, max_features=400 ...........................\n",
      "[CV] .................. min_samples_leaf=10, max_features=400 -   8.8s\n",
      "[CV] min_samples_leaf=10, max_features=400 ...........................\n",
      "[CV] ................... min_samples_leaf=5, max_features=400 -  11.5s\n",
      "[CV] ................... min_samples_leaf=5, max_features=400 -   8.2s\n",
      "[CV] .................. min_samples_leaf=10, max_features=400 -   6.2s\n",
      "[CV] .................. min_samples_leaf=10, max_features=400 -   4.5s\n"
     ]
    },
    {
     "name": "stderr",
     "output_type": "stream",
     "text": [
      "[Parallel(n_jobs=-1)]: Done  36 out of  36 | elapsed: 385.8min finished\n"
     ]
    },
    {
     "data": {
      "text/plain": [
       "GridSearchCV(cv=3, error_score='raise',\n",
       "       estimator=RandomForestClassifier(bootstrap=True, class_weight=None, criterion='gini',\n",
       "            max_depth=50, max_features='auto', max_leaf_nodes=None,\n",
       "            min_impurity_split=1e-07, min_samples_leaf=1,\n",
       "            min_samples_split=2, min_weight_fraction_leaf=0.0,\n",
       "            n_estimators=400, n_jobs=-1, oob_score=False, random_state=2,\n",
       "            verbose=0, warm_start=False),\n",
       "       fit_params={}, iid=True, n_jobs=-1,\n",
       "       param_grid={'min_samples_leaf': [1, 5, 10], 'max_features': [50, 100, 200, 400]},\n",
       "       pre_dispatch='2*n_jobs', refit=True, return_train_score=True,\n",
       "       scoring=None, verbose=2)"
      ]
     },
     "execution_count": 27,
     "metadata": {},
     "output_type": "execute_result"
    }
   ],
   "source": [
    "rf_2 = RandomForestClassifier(n_estimators=400, max_depth=50, n_jobs=-1, random_state=2)\n",
    "param_grid = {'max_features':[50, 100, 200, 400], 'min_samples_leaf':[1,5,10]}\n",
    "gridsearch = GridSearchCV(rf_2, param_grid, cv=3, n_jobs=-1,verbose=2)\n",
    "gridsearch.fit(X_train, y_train)"
   ]
  },
  {
   "cell_type": "code",
   "execution_count": 37,
   "metadata": {
    "collapsed": false
   },
   "outputs": [
    {
     "data": {
      "text/plain": [
       "{'max_features': 400, 'min_samples_leaf': 1}"
      ]
     },
     "execution_count": 37,
     "metadata": {},
     "output_type": "execute_result"
    }
   ],
   "source": [
    "gridsearch.best_params_"
   ]
  },
  {
   "cell_type": "code",
   "execution_count": 32,
   "metadata": {
    "collapsed": false
   },
   "outputs": [
    {
     "name": "stdout",
     "output_type": "stream",
     "text": [
      "Accuracy of Second Iteration: 0.51\n"
     ]
    }
   ],
   "source": [
    "y_pred_2 = gridsearch.predict(X_test)\n",
    "accuracy_2 = accuracy_score(y_test, y_pred_2)\n",
    "print('Accuracy of Second Iteration:', accuracy_2)"
   ]
  },
  {
   "cell_type": "markdown",
   "metadata": {},
   "source": [
    "# Save Predictions"
   ]
  },
  {
   "cell_type": "code",
   "execution_count": 22,
   "metadata": {
    "collapsed": true
   },
   "outputs": [],
   "source": [
    "pred_df = pd.DataFrame()"
   ]
  },
  {
   "cell_type": "code",
   "execution_count": 33,
   "metadata": {
    "collapsed": true
   },
   "outputs": [],
   "source": [
    "pred_df['Indices'] = y_test.index\n",
    "pred_df['Y True'] = y_test.values\n",
    "pred_df['Y Pred RF Iter 1'] = y_pred_1\n",
    "pred_df['Y Pred RF Iter 2'] = y_pred_2"
   ]
  },
  {
   "cell_type": "code",
   "execution_count": 36,
   "metadata": {
    "collapsed": false
   },
   "outputs": [
    {
     "data": {
      "text/html": [
       "<div>\n",
       "<table border=\"1\" class=\"dataframe\">\n",
       "  <thead>\n",
       "    <tr style=\"text-align: right;\">\n",
       "      <th></th>\n",
       "      <th>Indices</th>\n",
       "      <th>Y True</th>\n",
       "      <th>Y Pred RF Iter 1</th>\n",
       "      <th>Y Pred RF Iter 2</th>\n",
       "    </tr>\n",
       "  </thead>\n",
       "  <tbody>\n",
       "    <tr>\n",
       "      <th>0</th>\n",
       "      <td>23656</td>\n",
       "      <td>4</td>\n",
       "      <td>4</td>\n",
       "      <td>4</td>\n",
       "    </tr>\n",
       "    <tr>\n",
       "      <th>1</th>\n",
       "      <td>27442</td>\n",
       "      <td>5</td>\n",
       "      <td>5</td>\n",
       "      <td>5</td>\n",
       "    </tr>\n",
       "    <tr>\n",
       "      <th>2</th>\n",
       "      <td>40162</td>\n",
       "      <td>8</td>\n",
       "      <td>8</td>\n",
       "      <td>8</td>\n",
       "    </tr>\n",
       "    <tr>\n",
       "      <th>3</th>\n",
       "      <td>8459</td>\n",
       "      <td>1</td>\n",
       "      <td>1</td>\n",
       "      <td>1</td>\n",
       "    </tr>\n",
       "    <tr>\n",
       "      <th>4</th>\n",
       "      <td>8051</td>\n",
       "      <td>1</td>\n",
       "      <td>9</td>\n",
       "      <td>1</td>\n",
       "    </tr>\n",
       "    <tr>\n",
       "      <th>5</th>\n",
       "      <td>42404</td>\n",
       "      <td>8</td>\n",
       "      <td>5</td>\n",
       "      <td>3</td>\n",
       "    </tr>\n",
       "    <tr>\n",
       "      <th>6</th>\n",
       "      <td>89</td>\n",
       "      <td>0</td>\n",
       "      <td>0</td>\n",
       "      <td>0</td>\n",
       "    </tr>\n",
       "    <tr>\n",
       "      <th>7</th>\n",
       "      <td>1461</td>\n",
       "      <td>0</td>\n",
       "      <td>9</td>\n",
       "      <td>9</td>\n",
       "    </tr>\n",
       "    <tr>\n",
       "      <th>8</th>\n",
       "      <td>13519</td>\n",
       "      <td>2</td>\n",
       "      <td>3</td>\n",
       "      <td>3</td>\n",
       "    </tr>\n",
       "    <tr>\n",
       "      <th>9</th>\n",
       "      <td>42536</td>\n",
       "      <td>8</td>\n",
       "      <td>8</td>\n",
       "      <td>2</td>\n",
       "    </tr>\n",
       "  </tbody>\n",
       "</table>\n",
       "</div>"
      ],
      "text/plain": [
       "   Indices  Y True  Y Pred RF Iter 1  Y Pred RF Iter 2\n",
       "0    23656       4                 4                 4\n",
       "1    27442       5                 5                 5\n",
       "2    40162       8                 8                 8\n",
       "3     8459       1                 1                 1\n",
       "4     8051       1                 9                 1\n",
       "5    42404       8                 5                 3\n",
       "6       89       0                 0                 0\n",
       "7     1461       0                 9                 9\n",
       "8    13519       2                 3                 3\n",
       "9    42536       8                 8                 2"
      ]
     },
     "execution_count": 36,
     "metadata": {},
     "output_type": "execute_result"
    }
   ],
   "source": [
    "# Preview Predictions Dataframe\n",
    "pred_df.head(n=10)"
   ]
  },
  {
   "cell_type": "code",
   "execution_count": 35,
   "metadata": {
    "collapsed": true
   },
   "outputs": [],
   "source": [
    "pred_df.to_pickle('../data/pickled_predictions/pred_rf.pkl')"
   ]
  },
  {
   "cell_type": "markdown",
   "metadata": {},
   "source": [
    "# Work in Progress"
   ]
  },
  {
   "cell_type": "markdown",
   "metadata": {},
   "source": [
    "## Create Random Forest Model From Scratch"
   ]
  },
  {
   "cell_type": "code",
   "execution_count": 140,
   "metadata": {
    "collapsed": false
   },
   "outputs": [],
   "source": [
    "class RandomForest_MK(object):\n",
    "    \n",
    "    def get_split(self, X, y, max_features):\n",
    "        m, n = X.shape\n",
    "        # List of Class Labels\n",
    "        labels = list(set(y))\n",
    "        # Create List of Random Indices\n",
    "        indices = np.random.choice(n, max_features, replace=False)\n",
    "        X_subset = X.iloc[:, indices]\n",
    "        \n",
    "        # Initialize Best Index\n",
    "        best_gini = 1e10\n",
    "        best_index = 0\n",
    "        best_split = 0\n",
    "        \n",
    "        for col in indices:\n",
    "            X_temp = X_subset.loc[:, col]\n",
    "            for row in range(m):\n",
    "                # Separate into Left & Right Branch\n",
    "                X_left = X_temp[X_temp <= X_temp.iloc[row]]\n",
    "                X_right = X_temp[X_temp > X_temp.iloc[row]]\n",
    "                \n",
    "                y_left, y_right = y[X_left.index], y[X_right.index]\n",
    "            \n",
    "                # Calculate Gini Impurity\n",
    "                gini = self.gini_impurity(y_left, y_right, labels)\n",
    "                \n",
    "                if gini < best_gini:\n",
    "                    best_gini = gini\n",
    "                    best_index = col\n",
    "                    best_split = X_temp[row]\n",
    "                    \n",
    "        return {'Gini Impurity': best_gini, \n",
    "                'Index': best_index, \n",
    "                'Split Value': best_split}     \n",
    "    \n",
    "    def gini_impurity(self, y_left, y_right, class_labels):\n",
    "        # Number of Total Samples\n",
    "        num_obs = len(y)\n",
    "        # Initialize Gini Impurity\n",
    "        gini_impurity = 0\n",
    "        \n",
    "        for class_label in class_labels:\n",
    "            frequency_left = sum(y_left == class_label) / num_obs\n",
    "            gini_impurity += frequency_left * (1 - frequency_left)\n",
    "            \n",
    "            frequency_right = sum(y_right == class_label) / num_obs\n",
    "            gini_impurity += frequency_right * (1 - frequency_right)\n",
    "            \n",
    "        return gini_impurity"
   ]
  }
 ],
 "metadata": {
  "anaconda-cloud": {},
  "kernelspec": {
   "display_name": "Python [Root]",
   "language": "python",
   "name": "Python [Root]"
  },
  "language_info": {
   "codemirror_mode": {
    "name": "ipython",
    "version": 3
   },
   "file_extension": ".py",
   "mimetype": "text/x-python",
   "name": "python",
   "nbconvert_exporter": "python",
   "pygments_lexer": "ipython3",
   "version": "3.5.2"
  }
 },
 "nbformat": 4,
 "nbformat_minor": 0
}

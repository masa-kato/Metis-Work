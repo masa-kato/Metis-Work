{
 "cells": [
  {
   "cell_type": "code",
   "execution_count": null,
   "metadata": {
    "collapsed": true
   },
   "outputs": [],
   "source": [
    "# Create some toy data to check your implementations\n",
    "input_size = 4\n",
    "hidden_size = 10\n",
    "num_classes = 3\n",
    "num_inputs = 5\n",
    "\n",
    "def init_toy_model():\n",
    "    model = {}\n",
    "    model['Theta1'] = np.linspace(-0.2, 0.6, num=input_size*hidden_size).reshape(input_size, hidden_size)\n",
    "    model['B1'] = np.linspace(-0.3, 0.7, num=hidden_size)\n",
    "    model['Theta2'] = np.linspace(-0.4, 0.1, num=hidden_size*num_classes).reshape(hidden_size, num_classes)\n",
    "    model['B2'] = np.linspace(-0.5, 0.9, num=num_classes)\n",
    "    return model\n",
    "\n",
    "def init_toy_data():\n",
    "    X = np.linspace(-0.2, 0.5, num=num_inputs*input_size).reshape(num_inputs, input_size)\n",
    "    y = np.array([0, 1, 2, 2, 1])\n",
    "    return X, y\n",
    "\n",
    "model = init_toy_model()\n",
    "X, y = init_toy_data()"
   ]
  },
  {
   "cell_type": "code",
   "execution_count": null,
   "metadata": {
    "collapsed": true
   },
   "outputs": [],
   "source": [
    "NN_test = NeuralNetwork_MK(input_size, hidden_size, output_size=num_classes, model=model)\n",
    "results = NN_test.fit(X, y, X, y,alpha_learn=1e-1, alpha_decay=1.0,\n",
    "                      lambda_reg=0.001, num_epoch=100, batch_size=False,\n",
    "                      print_costs=True, update_method='momentum',momentum=0.9)"
   ]
  },
  {
   "cell_type": "code",
   "execution_count": null,
   "metadata": {
    "collapsed": true
   },
   "outputs": [],
   "source": [
    "NN_test = NeuralNetwork_MK(input_size, hidden_size, output_size=num_classes, model=model)\n",
    "results = NN_test.fit(X, y, X, y,alpha_learn=1e-1, alpha_decay=1.0,\n",
    "                      lambda_reg=0.001, num_epoch=100, batch_size=False,\n",
    "                      print_costs=True, update_method='sgd',momentum=0)"
   ]
  }
 ],
 "metadata": {
  "kernelspec": {
   "display_name": "Python [Root]",
   "language": "python",
   "name": "Python [Root]"
  },
  "language_info": {
   "codemirror_mode": {
    "name": "ipython",
    "version": 3
   },
   "file_extension": ".py",
   "mimetype": "text/x-python",
   "name": "python",
   "nbconvert_exporter": "python",
   "pygments_lexer": "ipython3",
   "version": "3.5.2"
  }
 },
 "nbformat": 4,
 "nbformat_minor": 0
}

{
 "cells": [
  {
   "cell_type": "markdown",
   "metadata": {},
   "source": [
    "# NIPS - Neural Information Processing Systems"
   ]
  },
  {
   "cell_type": "markdown",
   "metadata": {},
   "source": [
    "## Objective: Use Natural Language Processing to discover trends in machine learning over time by analyzing research papers submitted to the NIPS conference from 1987 to 2016"
   ]
  },
  {
   "cell_type": "code",
   "execution_count": 1,
   "metadata": {
    "collapsed": true
   },
   "outputs": [],
   "source": [
    "# Import Relevant Libraries\n",
    "import pandas as pd\n",
    "import seaborn as sns\n",
    "import numpy as np\n",
    "import matplotlib.pyplot as plt\n",
    "import sqlite3\n",
    "import re\n",
    "\n",
    "from sklearn.feature_extraction.text import CountVectorizer, TfidfVectorizer\n",
    "from sklearn.cluster import KMeans\n",
    "from sklearn.decomposition import NMF\n",
    "from sklearn.manifold import TSNE\n",
    "\n",
    "from nltk import word_tokenize, sent_tokenize\n",
    "from nltk.stem import SnowballStemmer, PorterStemmer\n",
    "\n",
    "from gensim.matutils import Sparse2Corpus\n",
    "from gensim import models\n",
    "\n",
    "%matplotlib inline"
   ]
  },
  {
   "cell_type": "markdown",
   "metadata": {
    "collapsed": false
   },
   "source": [
    "**Create a connection object representing the database** "
   ]
  },
  {
   "cell_type": "code",
   "execution_count": 2,
   "metadata": {
    "collapsed": false
   },
   "outputs": [],
   "source": [
    "cnx = sqlite3.connect('../data/nips-papers/database.sqlite')"
   ]
  },
  {
   "cell_type": "markdown",
   "metadata": {},
   "source": [
    "**Let's examine the tables in the database!**"
   ]
  },
  {
   "cell_type": "code",
   "execution_count": 3,
   "metadata": {
    "collapsed": false
   },
   "outputs": [
    {
     "data": {
      "text/html": [
       "<div>\n",
       "<table border=\"1\" class=\"dataframe\">\n",
       "  <thead>\n",
       "    <tr style=\"text-align: right;\">\n",
       "      <th></th>\n",
       "      <th>type</th>\n",
       "      <th>name</th>\n",
       "      <th>tbl_name</th>\n",
       "      <th>rootpage</th>\n",
       "      <th>sql</th>\n",
       "    </tr>\n",
       "  </thead>\n",
       "  <tbody>\n",
       "    <tr>\n",
       "      <th>0</th>\n",
       "      <td>table</td>\n",
       "      <td>papers</td>\n",
       "      <td>papers</td>\n",
       "      <td>2</td>\n",
       "      <td>CREATE TABLE papers (\\n    id INTEGER PRIMARY ...</td>\n",
       "    </tr>\n",
       "    <tr>\n",
       "      <th>1</th>\n",
       "      <td>table</td>\n",
       "      <td>authors</td>\n",
       "      <td>authors</td>\n",
       "      <td>3</td>\n",
       "      <td>CREATE TABLE authors (\\n    id INTEGER PRIMARY...</td>\n",
       "    </tr>\n",
       "    <tr>\n",
       "      <th>2</th>\n",
       "      <td>table</td>\n",
       "      <td>paper_authors</td>\n",
       "      <td>paper_authors</td>\n",
       "      <td>4</td>\n",
       "      <td>CREATE TABLE paper_authors (\\n    id INTEGER P...</td>\n",
       "    </tr>\n",
       "  </tbody>\n",
       "</table>\n",
       "</div>"
      ],
      "text/plain": [
       "    type           name       tbl_name  rootpage  \\\n",
       "0  table         papers         papers         2   \n",
       "1  table        authors        authors         3   \n",
       "2  table  paper_authors  paper_authors         4   \n",
       "\n",
       "                                                 sql  \n",
       "0  CREATE TABLE papers (\\n    id INTEGER PRIMARY ...  \n",
       "1  CREATE TABLE authors (\\n    id INTEGER PRIMARY...  \n",
       "2  CREATE TABLE paper_authors (\\n    id INTEGER P...  "
      ]
     },
     "execution_count": 3,
     "metadata": {},
     "output_type": "execute_result"
    }
   ],
   "source": [
    "pd.read_sql_query('''\n",
    "SELECT *\n",
    "FROM sqlite_master\n",
    "WHERE type = 'table'\n",
    "''', cnx)"
   ]
  },
  {
   "cell_type": "markdown",
   "metadata": {},
   "source": [
    "**Preview each of the tables**"
   ]
  },
  {
   "cell_type": "code",
   "execution_count": 4,
   "metadata": {
    "collapsed": false
   },
   "outputs": [
    {
     "data": {
      "text/html": [
       "<div>\n",
       "<table border=\"1\" class=\"dataframe\">\n",
       "  <thead>\n",
       "    <tr style=\"text-align: right;\">\n",
       "      <th></th>\n",
       "      <th>id</th>\n",
       "      <th>year</th>\n",
       "      <th>title</th>\n",
       "      <th>event_type</th>\n",
       "      <th>pdf_name</th>\n",
       "      <th>abstract</th>\n",
       "      <th>paper_text</th>\n",
       "    </tr>\n",
       "  </thead>\n",
       "  <tbody>\n",
       "    <tr>\n",
       "      <th>0</th>\n",
       "      <td>1</td>\n",
       "      <td>1987</td>\n",
       "      <td>Self-Organization of Associative Database and ...</td>\n",
       "      <td></td>\n",
       "      <td>1-self-organization-of-associative-database-an...</td>\n",
       "      <td>Abstract Missing</td>\n",
       "      <td>767\\n\\nSELF-ORGANIZATION OF ASSOCIATIVE DATABA...</td>\n",
       "    </tr>\n",
       "    <tr>\n",
       "      <th>1</th>\n",
       "      <td>2</td>\n",
       "      <td>1987</td>\n",
       "      <td>The Capacity of the Kanerva Associative Memory...</td>\n",
       "      <td></td>\n",
       "      <td>2-the-capacity-of-the-kanerva-associative-memo...</td>\n",
       "      <td>Abstract Missing</td>\n",
       "      <td>184\\n\\nTHE CAPACITY OF THE KANERVA ASSOCIATIVE...</td>\n",
       "    </tr>\n",
       "    <tr>\n",
       "      <th>2</th>\n",
       "      <td>3</td>\n",
       "      <td>1987</td>\n",
       "      <td>Supervised Learning of Probability Distributio...</td>\n",
       "      <td></td>\n",
       "      <td>3-supervised-learning-of-probability-distribut...</td>\n",
       "      <td>Abstract Missing</td>\n",
       "      <td>52\\n\\nSupervised Learning of Probability Distr...</td>\n",
       "    </tr>\n",
       "  </tbody>\n",
       "</table>\n",
       "</div>"
      ],
      "text/plain": [
       "   id  year                                              title event_type  \\\n",
       "0   1  1987  Self-Organization of Associative Database and ...              \n",
       "1   2  1987  The Capacity of the Kanerva Associative Memory...              \n",
       "2   3  1987  Supervised Learning of Probability Distributio...              \n",
       "\n",
       "                                            pdf_name          abstract  \\\n",
       "0  1-self-organization-of-associative-database-an...  Abstract Missing   \n",
       "1  2-the-capacity-of-the-kanerva-associative-memo...  Abstract Missing   \n",
       "2  3-supervised-learning-of-probability-distribut...  Abstract Missing   \n",
       "\n",
       "                                          paper_text  \n",
       "0  767\\n\\nSELF-ORGANIZATION OF ASSOCIATIVE DATABA...  \n",
       "1  184\\n\\nTHE CAPACITY OF THE KANERVA ASSOCIATIVE...  \n",
       "2  52\\n\\nSupervised Learning of Probability Distr...  "
      ]
     },
     "execution_count": 4,
     "metadata": {},
     "output_type": "execute_result"
    }
   ],
   "source": [
    "# Table: Papers\n",
    "pd.read_sql_query('''\n",
    "SELECT *\n",
    "FROM papers\n",
    "LIMIT 3\n",
    "''', cnx)"
   ]
  },
  {
   "cell_type": "code",
   "execution_count": 5,
   "metadata": {
    "collapsed": false
   },
   "outputs": [
    {
     "data": {
      "text/html": [
       "<div>\n",
       "<table border=\"1\" class=\"dataframe\">\n",
       "  <thead>\n",
       "    <tr style=\"text-align: right;\">\n",
       "      <th></th>\n",
       "      <th>id</th>\n",
       "      <th>name</th>\n",
       "    </tr>\n",
       "  </thead>\n",
       "  <tbody>\n",
       "    <tr>\n",
       "      <th>0</th>\n",
       "      <td>1</td>\n",
       "      <td>Hisashi Suzuki</td>\n",
       "    </tr>\n",
       "    <tr>\n",
       "      <th>1</th>\n",
       "      <td>2</td>\n",
       "      <td>Suguru Arimoto</td>\n",
       "    </tr>\n",
       "    <tr>\n",
       "      <th>2</th>\n",
       "      <td>3</td>\n",
       "      <td>Philip A. Chou</td>\n",
       "    </tr>\n",
       "  </tbody>\n",
       "</table>\n",
       "</div>"
      ],
      "text/plain": [
       "   id            name\n",
       "0   1  Hisashi Suzuki\n",
       "1   2  Suguru Arimoto\n",
       "2   3  Philip A. Chou"
      ]
     },
     "execution_count": 5,
     "metadata": {},
     "output_type": "execute_result"
    }
   ],
   "source": [
    "# Table: Authors\n",
    "pd.read_sql_query('''\n",
    "SELECT *\n",
    "FROM authors\n",
    "LIMIT 3\n",
    "''', cnx)"
   ]
  },
  {
   "cell_type": "code",
   "execution_count": 6,
   "metadata": {
    "collapsed": false
   },
   "outputs": [
    {
     "data": {
      "text/html": [
       "<div>\n",
       "<table border=\"1\" class=\"dataframe\">\n",
       "  <thead>\n",
       "    <tr style=\"text-align: right;\">\n",
       "      <th></th>\n",
       "      <th>id</th>\n",
       "      <th>paper_id</th>\n",
       "      <th>author_id</th>\n",
       "    </tr>\n",
       "  </thead>\n",
       "  <tbody>\n",
       "    <tr>\n",
       "      <th>0</th>\n",
       "      <td>1</td>\n",
       "      <td>63</td>\n",
       "      <td>94</td>\n",
       "    </tr>\n",
       "    <tr>\n",
       "      <th>1</th>\n",
       "      <td>2</td>\n",
       "      <td>80</td>\n",
       "      <td>124</td>\n",
       "    </tr>\n",
       "    <tr>\n",
       "      <th>2</th>\n",
       "      <td>3</td>\n",
       "      <td>80</td>\n",
       "      <td>125</td>\n",
       "    </tr>\n",
       "  </tbody>\n",
       "</table>\n",
       "</div>"
      ],
      "text/plain": [
       "   id  paper_id  author_id\n",
       "0   1        63         94\n",
       "1   2        80        124\n",
       "2   3        80        125"
      ]
     },
     "execution_count": 6,
     "metadata": {},
     "output_type": "execute_result"
    }
   ],
   "source": [
    "# Table: Paper_Authors\n",
    "pd.read_sql_query('''\n",
    "SELECT *\n",
    "FROM paper_authors\n",
    "LIMIT 3\n",
    "''', cnx)"
   ]
  },
  {
   "cell_type": "markdown",
   "metadata": {},
   "source": [
    "**Merge Tables to Create a Single Database**"
   ]
  },
  {
   "cell_type": "code",
   "execution_count": 7,
   "metadata": {
    "collapsed": false
   },
   "outputs": [],
   "source": [
    "df = pd.read_sql_query('''\n",
    "SELECT papers.id AS id, year, title, pdf_name, abstract, paper_text, author_id, name AS author\n",
    "FROM papers\n",
    "JOIN paper_authors ON paper_authors.paper_id = papers.id\n",
    "JOIN authors ON authors.id = paper_authors.author_id\n",
    "ORDER BY papers.id\n",
    "''', cnx)"
   ]
  },
  {
   "cell_type": "code",
   "execution_count": 8,
   "metadata": {
    "collapsed": false
   },
   "outputs": [
    {
     "data": {
      "text/html": [
       "<div>\n",
       "<table border=\"1\" class=\"dataframe\">\n",
       "  <thead>\n",
       "    <tr style=\"text-align: right;\">\n",
       "      <th></th>\n",
       "      <th>id</th>\n",
       "      <th>year</th>\n",
       "      <th>title</th>\n",
       "      <th>pdf_name</th>\n",
       "      <th>abstract</th>\n",
       "      <th>paper_text</th>\n",
       "      <th>author_id</th>\n",
       "      <th>author</th>\n",
       "    </tr>\n",
       "  </thead>\n",
       "  <tbody>\n",
       "    <tr>\n",
       "      <th>0</th>\n",
       "      <td>1</td>\n",
       "      <td>1987</td>\n",
       "      <td>Self-Organization of Associative Database and ...</td>\n",
       "      <td>1-self-organization-of-associative-database-an...</td>\n",
       "      <td>Abstract Missing</td>\n",
       "      <td>767\\n\\nSELF-ORGANIZATION OF ASSOCIATIVE DATABA...</td>\n",
       "      <td>1</td>\n",
       "      <td>Hisashi Suzuki</td>\n",
       "    </tr>\n",
       "    <tr>\n",
       "      <th>1</th>\n",
       "      <td>1</td>\n",
       "      <td>1987</td>\n",
       "      <td>Self-Organization of Associative Database and ...</td>\n",
       "      <td>1-self-organization-of-associative-database-an...</td>\n",
       "      <td>Abstract Missing</td>\n",
       "      <td>767\\n\\nSELF-ORGANIZATION OF ASSOCIATIVE DATABA...</td>\n",
       "      <td>2</td>\n",
       "      <td>Suguru Arimoto</td>\n",
       "    </tr>\n",
       "    <tr>\n",
       "      <th>2</th>\n",
       "      <td>2</td>\n",
       "      <td>1987</td>\n",
       "      <td>The Capacity of the Kanerva Associative Memory...</td>\n",
       "      <td>2-the-capacity-of-the-kanerva-associative-memo...</td>\n",
       "      <td>Abstract Missing</td>\n",
       "      <td>184\\n\\nTHE CAPACITY OF THE KANERVA ASSOCIATIVE...</td>\n",
       "      <td>3</td>\n",
       "      <td>Philip A. Chou</td>\n",
       "    </tr>\n",
       "  </tbody>\n",
       "</table>\n",
       "</div>"
      ],
      "text/plain": [
       "   id  year                                              title  \\\n",
       "0   1  1987  Self-Organization of Associative Database and ...   \n",
       "1   1  1987  Self-Organization of Associative Database and ...   \n",
       "2   2  1987  The Capacity of the Kanerva Associative Memory...   \n",
       "\n",
       "                                            pdf_name          abstract  \\\n",
       "0  1-self-organization-of-associative-database-an...  Abstract Missing   \n",
       "1  1-self-organization-of-associative-database-an...  Abstract Missing   \n",
       "2  2-the-capacity-of-the-kanerva-associative-memo...  Abstract Missing   \n",
       "\n",
       "                                          paper_text  author_id  \\\n",
       "0  767\\n\\nSELF-ORGANIZATION OF ASSOCIATIVE DATABA...          1   \n",
       "1  767\\n\\nSELF-ORGANIZATION OF ASSOCIATIVE DATABA...          2   \n",
       "2  184\\n\\nTHE CAPACITY OF THE KANERVA ASSOCIATIVE...          3   \n",
       "\n",
       "           author  \n",
       "0  Hisashi Suzuki  \n",
       "1  Suguru Arimoto  \n",
       "2  Philip A. Chou  "
      ]
     },
     "execution_count": 8,
     "metadata": {},
     "output_type": "execute_result"
    }
   ],
   "source": [
    "df.head(n=3)"
   ]
  },
  {
   "cell_type": "markdown",
   "metadata": {},
   "source": [
    "# Exploratory Data Analysis"
   ]
  },
  {
   "cell_type": "markdown",
   "metadata": {},
   "source": [
    "**Plot the number of published documents per year**"
   ]
  },
  {
   "cell_type": "code",
   "execution_count": 9,
   "metadata": {
    "collapsed": false
   },
   "outputs": [],
   "source": [
    "year_counts = pd.read_sql_query('''\n",
    "SELECT year, COUNT(*) as num_papers\n",
    "FROM papers\n",
    "GROUP BY year\n",
    "''', cnx)"
   ]
  },
  {
   "cell_type": "code",
   "execution_count": 10,
   "metadata": {
    "collapsed": false
   },
   "outputs": [
    {
     "data": {
      "text/html": [
       "<div>\n",
       "<table border=\"1\" class=\"dataframe\">\n",
       "  <thead>\n",
       "    <tr style=\"text-align: right;\">\n",
       "      <th></th>\n",
       "      <th>year</th>\n",
       "      <th>num_papers</th>\n",
       "    </tr>\n",
       "  </thead>\n",
       "  <tbody>\n",
       "    <tr>\n",
       "      <th>0</th>\n",
       "      <td>1987</td>\n",
       "      <td>90</td>\n",
       "    </tr>\n",
       "    <tr>\n",
       "      <th>1</th>\n",
       "      <td>1988</td>\n",
       "      <td>94</td>\n",
       "    </tr>\n",
       "    <tr>\n",
       "      <th>2</th>\n",
       "      <td>1989</td>\n",
       "      <td>101</td>\n",
       "    </tr>\n",
       "    <tr>\n",
       "      <th>3</th>\n",
       "      <td>1990</td>\n",
       "      <td>143</td>\n",
       "    </tr>\n",
       "    <tr>\n",
       "      <th>4</th>\n",
       "      <td>1991</td>\n",
       "      <td>144</td>\n",
       "    </tr>\n",
       "  </tbody>\n",
       "</table>\n",
       "</div>"
      ],
      "text/plain": [
       "   year  num_papers\n",
       "0  1987          90\n",
       "1  1988          94\n",
       "2  1989         101\n",
       "3  1990         143\n",
       "4  1991         144"
      ]
     },
     "execution_count": 10,
     "metadata": {},
     "output_type": "execute_result"
    }
   ],
   "source": [
    "year_counts.head()"
   ]
  },
  {
   "cell_type": "code",
   "execution_count": 38,
   "metadata": {
    "collapsed": false,
    "scrolled": false
   },
   "outputs": [],
   "source": [
    "def plot_docs_by_year(df):\n",
    "    plt.figure(figsize=(16,8))\n",
    "    ax = sns.countplot(x=df['year'],palette='Blues')\n",
    "    \n",
    "    # Prettify\n",
    "    sns.set_style('white')\n",
    "    plt.title('Published Papers by Year', fontsize=20)\n",
    "    plt.xlabel('Year', fontsize=20)\n",
    "    plt.ylabel('Number of Papers', fontsize=20)\n",
    "    \n",
    "    plt.xticks(fontsize=12,rotation='vertical')\n",
    "    plt.yticks(fontsize=12)\n",
    "    \n",
    "    ax.spines['top'].set_visible(False)\n",
    "    ax.spines['right'].set_visible(False)\n",
    "    ax.spines['left'].set_visible(False)\n",
    "    ax.spines['bottom'].set_visible(False)"
   ]
  },
  {
   "cell_type": "code",
   "execution_count": 39,
   "metadata": {
    "collapsed": false
   },
   "outputs": [
    {
     "data": {
      "image/png": "[encoded data removed]",
      "text/plain": [
       "<matplotlib.figure.Figure at 0x11b265b38>"
      ]
     },
     "metadata": {},
     "output_type": "display_data"
    }
   ],
   "source": [
    "plot_docs_by_year(df)"
   ]
  },
  {
   "cell_type": "markdown",
   "metadata": {},
   "source": [
    "**Before we move on, let's make a function that does all the importing for us**"
   ]
  },
  {
   "cell_type": "code",
   "execution_count": 13,
   "metadata": {
    "collapsed": true
   },
   "outputs": [],
   "source": [
    "def import_raw_data():\n",
    "    '''\n",
    "    Imports data from sqlite file\n",
    "    Input: None\n",
    "    Output: Pandas DataFrame\n",
    "    '''\n",
    "    import sqlite3\n",
    "    cnx = sqlite3.connect('../data/nips-papers/database.sqlite')\n",
    "    df = pd.read_sql_query('''\n",
    "    SELECT papers.id AS id, year, title, pdf_name, abstract, paper_text, author_id, name AS author\n",
    "    FROM papers\n",
    "    JOIN paper_authors ON paper_authors.paper_id = papers.id\n",
    "    JOIN authors ON authors.id = paper_authors.author_id\n",
    "    ORDER BY papers.id\n",
    "    ''', cnx)\n",
    "    \n",
    "    return df"
   ]
  },
  {
   "cell_type": "markdown",
   "metadata": {},
   "source": [
    "# Natural Language Processing"
   ]
  },
  {
   "cell_type": "markdown",
   "metadata": {},
   "source": [
    "# Preprocessing"
   ]
  },
  {
   "cell_type": "markdown",
   "metadata": {},
   "source": [
    "**Let's first take a subset of the data & then expand to the entire dataset. We'll choose to look at papers from 2016**"
   ]
  },
  {
   "cell_type": "code",
   "execution_count": 14,
   "metadata": {
    "collapsed": true
   },
   "outputs": [],
   "source": [
    "df_2016 = df[df['year'] == 2016]"
   ]
  },
  {
   "cell_type": "code",
   "execution_count": 15,
   "metadata": {
    "collapsed": false
   },
   "outputs": [
    {
     "name": "stdout",
     "output_type": "stream",
     "text": [
      "(1932, 8)\n"
     ]
    }
   ],
   "source": [
    "print(df_2016.shape)"
   ]
  },
  {
   "cell_type": "code",
   "execution_count": 16,
   "metadata": {
    "collapsed": false
   },
   "outputs": [
    {
     "data": {
      "text/html": [
       "<div>\n",
       "<table border=\"1\" class=\"dataframe\">\n",
       "  <thead>\n",
       "    <tr style=\"text-align: right;\">\n",
       "      <th></th>\n",
       "      <th>id</th>\n",
       "      <th>year</th>\n",
       "      <th>title</th>\n",
       "      <th>pdf_name</th>\n",
       "      <th>abstract</th>\n",
       "      <th>paper_text</th>\n",
       "      <th>author_id</th>\n",
       "      <th>author</th>\n",
       "    </tr>\n",
       "  </thead>\n",
       "  <tbody>\n",
       "    <tr>\n",
       "      <th>16389</th>\n",
       "      <td>6036</td>\n",
       "      <td>2016</td>\n",
       "      <td>Optimistic Gittins Indices</td>\n",
       "      <td>6036-optimistic-gittins-indices.pdf</td>\n",
       "      <td>Starting with the Thomspon sampling algorithm,...</td>\n",
       "      <td>Optimistic Gittins Indices\\nEli Gutin\\nOperati...</td>\n",
       "      <td>8450</td>\n",
       "      <td>Eli Gutin</td>\n",
       "    </tr>\n",
       "    <tr>\n",
       "      <th>16390</th>\n",
       "      <td>6036</td>\n",
       "      <td>2016</td>\n",
       "      <td>Optimistic Gittins Indices</td>\n",
       "      <td>6036-optimistic-gittins-indices.pdf</td>\n",
       "      <td>Starting with the Thomspon sampling algorithm,...</td>\n",
       "      <td>Optimistic Gittins Indices\\nEli Gutin\\nOperati...</td>\n",
       "      <td>4383</td>\n",
       "      <td>Vivek Farias</td>\n",
       "    </tr>\n",
       "    <tr>\n",
       "      <th>16391</th>\n",
       "      <td>6037</td>\n",
       "      <td>2016</td>\n",
       "      <td>Sub-sampled Newton Methods with Non-uniform Sa...</td>\n",
       "      <td>6037-sub-sampled-newton-methods-with-non-unifo...</td>\n",
       "      <td>We consider the problem of finding the minimiz...</td>\n",
       "      <td>Sub-sampled Newton Methods\\nwith Non-uniform S...</td>\n",
       "      <td>2927</td>\n",
       "      <td>Peng Xu</td>\n",
       "    </tr>\n",
       "    <tr>\n",
       "      <th>16392</th>\n",
       "      <td>6037</td>\n",
       "      <td>2016</td>\n",
       "      <td>Sub-sampled Newton Methods with Non-uniform Sa...</td>\n",
       "      <td>6037-sub-sampled-newton-methods-with-non-unifo...</td>\n",
       "      <td>We consider the problem of finding the minimiz...</td>\n",
       "      <td>Sub-sampled Newton Methods\\nwith Non-uniform S...</td>\n",
       "      <td>8451</td>\n",
       "      <td>Jiyan Yang</td>\n",
       "    </tr>\n",
       "    <tr>\n",
       "      <th>16393</th>\n",
       "      <td>6037</td>\n",
       "      <td>2016</td>\n",
       "      <td>Sub-sampled Newton Methods with Non-uniform Sa...</td>\n",
       "      <td>6037-sub-sampled-newton-methods-with-non-unifo...</td>\n",
       "      <td>We consider the problem of finding the minimiz...</td>\n",
       "      <td>Sub-sampled Newton Methods\\nwith Non-uniform S...</td>\n",
       "      <td>8452</td>\n",
       "      <td>Farbod Roosta-Khorasani</td>\n",
       "    </tr>\n",
       "  </tbody>\n",
       "</table>\n",
       "</div>"
      ],
      "text/plain": [
       "         id  year                                              title  \\\n",
       "16389  6036  2016                         Optimistic Gittins Indices   \n",
       "16390  6036  2016                         Optimistic Gittins Indices   \n",
       "16391  6037  2016  Sub-sampled Newton Methods with Non-uniform Sa...   \n",
       "16392  6037  2016  Sub-sampled Newton Methods with Non-uniform Sa...   \n",
       "16393  6037  2016  Sub-sampled Newton Methods with Non-uniform Sa...   \n",
       "\n",
       "                                                pdf_name  \\\n",
       "16389                6036-optimistic-gittins-indices.pdf   \n",
       "16390                6036-optimistic-gittins-indices.pdf   \n",
       "16391  6037-sub-sampled-newton-methods-with-non-unifo...   \n",
       "16392  6037-sub-sampled-newton-methods-with-non-unifo...   \n",
       "16393  6037-sub-sampled-newton-methods-with-non-unifo...   \n",
       "\n",
       "                                                abstract  \\\n",
       "16389  Starting with the Thomspon sampling algorithm,...   \n",
       "16390  Starting with the Thomspon sampling algorithm,...   \n",
       "16391  We consider the problem of finding the minimiz...   \n",
       "16392  We consider the problem of finding the minimiz...   \n",
       "16393  We consider the problem of finding the minimiz...   \n",
       "\n",
       "                                              paper_text  author_id  \\\n",
       "16389  Optimistic Gittins Indices\\nEli Gutin\\nOperati...       8450   \n",
       "16390  Optimistic Gittins Indices\\nEli Gutin\\nOperati...       4383   \n",
       "16391  Sub-sampled Newton Methods\\nwith Non-uniform S...       2927   \n",
       "16392  Sub-sampled Newton Methods\\nwith Non-uniform S...       8451   \n",
       "16393  Sub-sampled Newton Methods\\nwith Non-uniform S...       8452   \n",
       "\n",
       "                        author  \n",
       "16389                Eli Gutin  \n",
       "16390             Vivek Farias  \n",
       "16391                  Peng Xu  \n",
       "16392               Jiyan Yang  \n",
       "16393  Farbod Roosta-Khorasani  "
      ]
     },
     "execution_count": 16,
     "metadata": {},
     "output_type": "execute_result"
    }
   ],
   "source": [
    "# Preview Data\n",
    "df_2016.head()"
   ]
  },
  {
   "cell_type": "markdown",
   "metadata": {},
   "source": [
    "**Notice that the first two documents are identical documents, in which only the author & author_id are unique! We only care about the paper content so we'll drop duplicate rows based on paper id.** "
   ]
  },
  {
   "cell_type": "code",
   "execution_count": 17,
   "metadata": {
    "collapsed": true
   },
   "outputs": [],
   "source": [
    "def drop_duplicate_papers(df):\n",
    "    '''\n",
    "    Drops papers with the same id to remove duplicate papers\n",
    "    Input: Pandas DataFrame\n",
    "    Output: Pandas DataFrame\n",
    "    '''\n",
    "    return df.drop_duplicates(subset='id', keep='first')"
   ]
  },
  {
   "cell_type": "code",
   "execution_count": 18,
   "metadata": {
    "collapsed": false
   },
   "outputs": [
    {
     "data": {
      "text/html": [
       "<div>\n",
       "<table border=\"1\" class=\"dataframe\">\n",
       "  <thead>\n",
       "    <tr style=\"text-align: right;\">\n",
       "      <th></th>\n",
       "      <th>id</th>\n",
       "      <th>year</th>\n",
       "      <th>title</th>\n",
       "      <th>pdf_name</th>\n",
       "      <th>abstract</th>\n",
       "      <th>paper_text</th>\n",
       "      <th>author_id</th>\n",
       "      <th>author</th>\n",
       "    </tr>\n",
       "  </thead>\n",
       "  <tbody>\n",
       "    <tr>\n",
       "      <th>16389</th>\n",
       "      <td>6036</td>\n",
       "      <td>2016</td>\n",
       "      <td>Optimistic Gittins Indices</td>\n",
       "      <td>6036-optimistic-gittins-indices.pdf</td>\n",
       "      <td>Starting with the Thomspon sampling algorithm,...</td>\n",
       "      <td>Optimistic Gittins Indices\\nEli Gutin\\nOperati...</td>\n",
       "      <td>8450</td>\n",
       "      <td>Eli Gutin</td>\n",
       "    </tr>\n",
       "    <tr>\n",
       "      <th>16391</th>\n",
       "      <td>6037</td>\n",
       "      <td>2016</td>\n",
       "      <td>Sub-sampled Newton Methods with Non-uniform Sa...</td>\n",
       "      <td>6037-sub-sampled-newton-methods-with-non-unifo...</td>\n",
       "      <td>We consider the problem of finding the minimiz...</td>\n",
       "      <td>Sub-sampled Newton Methods\\nwith Non-uniform S...</td>\n",
       "      <td>2927</td>\n",
       "      <td>Peng Xu</td>\n",
       "    </tr>\n",
       "    <tr>\n",
       "      <th>16396</th>\n",
       "      <td>6038</td>\n",
       "      <td>2016</td>\n",
       "      <td>Budgeted stream-based active learning via adap...</td>\n",
       "      <td>6038-budgeted-stream-based-active-learning-via...</td>\n",
       "      <td>Active learning enables us to reduce the annot...</td>\n",
       "      <td>Budgeted stream-based active learning\\nvia ada...</td>\n",
       "      <td>8453</td>\n",
       "      <td>Kaito Fujii</td>\n",
       "    </tr>\n",
       "    <tr>\n",
       "      <th>16398</th>\n",
       "      <td>6039</td>\n",
       "      <td>2016</td>\n",
       "      <td>Sequential Neural Models with Stochastic Layers</td>\n",
       "      <td>6039-sequential-neural-models-with-stochastic-...</td>\n",
       "      <td>How can we efficiently propagate uncertainty i...</td>\n",
       "      <td>Sequential Neural Models with Stochastic Layer...</td>\n",
       "      <td>8454</td>\n",
       "      <td>Marco Fraccaro</td>\n",
       "    </tr>\n",
       "    <tr>\n",
       "      <th>16402</th>\n",
       "      <td>6040</td>\n",
       "      <td>2016</td>\n",
       "      <td>Stochastic Gradient Methods for Distributional...</td>\n",
       "      <td>6040-stochastic-gradient-methods-for-distribut...</td>\n",
       "      <td>We develop efficient solution methods for a ro...</td>\n",
       "      <td>Stochastic Gradient Methods for Distributional...</td>\n",
       "      <td>8456</td>\n",
       "      <td>Hongseok Namkoong</td>\n",
       "    </tr>\n",
       "  </tbody>\n",
       "</table>\n",
       "</div>"
      ],
      "text/plain": [
       "         id  year                                              title  \\\n",
       "16389  6036  2016                         Optimistic Gittins Indices   \n",
       "16391  6037  2016  Sub-sampled Newton Methods with Non-uniform Sa...   \n",
       "16396  6038  2016  Budgeted stream-based active learning via adap...   \n",
       "16398  6039  2016    Sequential Neural Models with Stochastic Layers   \n",
       "16402  6040  2016  Stochastic Gradient Methods for Distributional...   \n",
       "\n",
       "                                                pdf_name  \\\n",
       "16389                6036-optimistic-gittins-indices.pdf   \n",
       "16391  6037-sub-sampled-newton-methods-with-non-unifo...   \n",
       "16396  6038-budgeted-stream-based-active-learning-via...   \n",
       "16398  6039-sequential-neural-models-with-stochastic-...   \n",
       "16402  6040-stochastic-gradient-methods-for-distribut...   \n",
       "\n",
       "                                                abstract  \\\n",
       "16389  Starting with the Thomspon sampling algorithm,...   \n",
       "16391  We consider the problem of finding the minimiz...   \n",
       "16396  Active learning enables us to reduce the annot...   \n",
       "16398  How can we efficiently propagate uncertainty i...   \n",
       "16402  We develop efficient solution methods for a ro...   \n",
       "\n",
       "                                              paper_text  author_id  \\\n",
       "16389  Optimistic Gittins Indices\\nEli Gutin\\nOperati...       8450   \n",
       "16391  Sub-sampled Newton Methods\\nwith Non-uniform S...       2927   \n",
       "16396  Budgeted stream-based active learning\\nvia ada...       8453   \n",
       "16398  Sequential Neural Models with Stochastic Layer...       8454   \n",
       "16402  Stochastic Gradient Methods for Distributional...       8456   \n",
       "\n",
       "                  author  \n",
       "16389          Eli Gutin  \n",
       "16391            Peng Xu  \n",
       "16396        Kaito Fujii  \n",
       "16398     Marco Fraccaro  \n",
       "16402  Hongseok Namkoong  "
      ]
     },
     "execution_count": 18,
     "metadata": {},
     "output_type": "execute_result"
    }
   ],
   "source": [
    "df_2016 = drop_duplicate_papers(df_2016)\n",
    "df_2016.head()"
   ]
  },
  {
   "cell_type": "markdown",
   "metadata": {},
   "source": [
    "**Let's see how the paper_text looks like for one of the papers (Uncomment cell below to view)**  \n",
    "* Seems like we must clean the data to remove signs such as \\n & \\x0c & remove all non-character values. We'll do this before the actual analysis. For now let's move on."
   ]
  },
  {
   "cell_type": "code",
   "execution_count": 19,
   "metadata": {
    "collapsed": false,
    "scrolled": true
   },
   "outputs": [],
   "source": [
    "# Uncomment to view document (commented out to reduce clutter in notebook)\n",
    "# df_2016['paper_text'].iloc[0]"
   ]
  },
  {
   "cell_type": "code",
   "execution_count": 20,
   "metadata": {
    "collapsed": true
   },
   "outputs": [],
   "source": [
    "def clean(document):\n",
    "    '''\n",
    "    Removes signs such as \\n; Removes all non-character values; Make all text lowercase\n",
    "    Input: string \n",
    "    Output: string\n",
    "    '''\n",
    "    text = re.sub('[^a-zA-Z]+', ' ', document)\n",
    "    for sign in ['\\n', '\\x0c']:\n",
    "        text = text.replace(sign, ' ')\n",
    "    return text.lower()"
   ]
  },
  {
   "cell_type": "code",
   "execution_count": 21,
   "metadata": {
    "collapsed": false
   },
   "outputs": [],
   "source": [
    "# Uncomment to view cleaned document (commented out to reduce clutter in notebook)\n",
    "# clean(df_2016['paper_text_clean'].iloc[0])"
   ]
  },
  {
   "cell_type": "code",
   "execution_count": 22,
   "metadata": {
    "collapsed": true
   },
   "outputs": [],
   "source": [
    "# Clean all documents of Dataframe\n",
    "df_2016['paper_text_clean'] = df_2016['paper_text'].apply(lambda x: clean(x))\n",
    "df_2016['title_clean'] = df_2016['title'].apply(lambda x: clean(x))\n",
    "df_2016['abstract_clean'] = df_2016['abstract'].apply(lambda x: clean(x))"
   ]
  },
  {
   "cell_type": "code",
   "execution_count": 23,
   "metadata": {
    "collapsed": false
   },
   "outputs": [
    {
     "data": {
      "text/html": [
       "<div>\n",
       "<table border=\"1\" class=\"dataframe\">\n",
       "  <thead>\n",
       "    <tr style=\"text-align: right;\">\n",
       "      <th></th>\n",
       "      <th>id</th>\n",
       "      <th>year</th>\n",
       "      <th>title</th>\n",
       "      <th>pdf_name</th>\n",
       "      <th>abstract</th>\n",
       "      <th>paper_text</th>\n",
       "      <th>author_id</th>\n",
       "      <th>author</th>\n",
       "      <th>paper_text_clean</th>\n",
       "      <th>title_clean</th>\n",
       "      <th>abstract_clean</th>\n",
       "    </tr>\n",
       "  </thead>\n",
       "  <tbody>\n",
       "    <tr>\n",
       "      <th>16389</th>\n",
       "      <td>6036</td>\n",
       "      <td>2016</td>\n",
       "      <td>Optimistic Gittins Indices</td>\n",
       "      <td>6036-optimistic-gittins-indices.pdf</td>\n",
       "      <td>Starting with the Thomspon sampling algorithm,...</td>\n",
       "      <td>Optimistic Gittins Indices\\nEli Gutin\\nOperati...</td>\n",
       "      <td>8450</td>\n",
       "      <td>Eli Gutin</td>\n",
       "      <td>optimistic gittins indices eli gutin operation...</td>\n",
       "      <td>optimistic gittins indices</td>\n",
       "      <td>starting with the thomspon sampling algorithm ...</td>\n",
       "    </tr>\n",
       "    <tr>\n",
       "      <th>16391</th>\n",
       "      <td>6037</td>\n",
       "      <td>2016</td>\n",
       "      <td>Sub-sampled Newton Methods with Non-uniform Sa...</td>\n",
       "      <td>6037-sub-sampled-newton-methods-with-non-unifo...</td>\n",
       "      <td>We consider the problem of finding the minimiz...</td>\n",
       "      <td>Sub-sampled Newton Methods\\nwith Non-uniform S...</td>\n",
       "      <td>2927</td>\n",
       "      <td>Peng Xu</td>\n",
       "      <td>sub sampled newton methods with non uniform sa...</td>\n",
       "      <td>sub sampled newton methods with non uniform sa...</td>\n",
       "      <td>we consider the problem of finding the minimiz...</td>\n",
       "    </tr>\n",
       "    <tr>\n",
       "      <th>16396</th>\n",
       "      <td>6038</td>\n",
       "      <td>2016</td>\n",
       "      <td>Budgeted stream-based active learning via adap...</td>\n",
       "      <td>6038-budgeted-stream-based-active-learning-via...</td>\n",
       "      <td>Active learning enables us to reduce the annot...</td>\n",
       "      <td>Budgeted stream-based active learning\\nvia ada...</td>\n",
       "      <td>8453</td>\n",
       "      <td>Kaito Fujii</td>\n",
       "      <td>budgeted stream based active learning via adap...</td>\n",
       "      <td>budgeted stream based active learning via adap...</td>\n",
       "      <td>active learning enables us to reduce the annot...</td>\n",
       "    </tr>\n",
       "    <tr>\n",
       "      <th>16398</th>\n",
       "      <td>6039</td>\n",
       "      <td>2016</td>\n",
       "      <td>Sequential Neural Models with Stochastic Layers</td>\n",
       "      <td>6039-sequential-neural-models-with-stochastic-...</td>\n",
       "      <td>How can we efficiently propagate uncertainty i...</td>\n",
       "      <td>Sequential Neural Models with Stochastic Layer...</td>\n",
       "      <td>8454</td>\n",
       "      <td>Marco Fraccaro</td>\n",
       "      <td>sequential neural models with stochastic layer...</td>\n",
       "      <td>sequential neural models with stochastic layers</td>\n",
       "      <td>how can we efficiently propagate uncertainty i...</td>\n",
       "    </tr>\n",
       "    <tr>\n",
       "      <th>16402</th>\n",
       "      <td>6040</td>\n",
       "      <td>2016</td>\n",
       "      <td>Stochastic Gradient Methods for Distributional...</td>\n",
       "      <td>6040-stochastic-gradient-methods-for-distribut...</td>\n",
       "      <td>We develop efficient solution methods for a ro...</td>\n",
       "      <td>Stochastic Gradient Methods for Distributional...</td>\n",
       "      <td>8456</td>\n",
       "      <td>Hongseok Namkoong</td>\n",
       "      <td>stochastic gradient methods for distributional...</td>\n",
       "      <td>stochastic gradient methods for distributional...</td>\n",
       "      <td>we develop efficient solution methods for a ro...</td>\n",
       "    </tr>\n",
       "  </tbody>\n",
       "</table>\n",
       "</div>"
      ],
      "text/plain": [
       "         id  year                                              title  \\\n",
       "16389  6036  2016                         Optimistic Gittins Indices   \n",
       "16391  6037  2016  Sub-sampled Newton Methods with Non-uniform Sa...   \n",
       "16396  6038  2016  Budgeted stream-based active learning via adap...   \n",
       "16398  6039  2016    Sequential Neural Models with Stochastic Layers   \n",
       "16402  6040  2016  Stochastic Gradient Methods for Distributional...   \n",
       "\n",
       "                                                pdf_name  \\\n",
       "16389                6036-optimistic-gittins-indices.pdf   \n",
       "16391  6037-sub-sampled-newton-methods-with-non-unifo...   \n",
       "16396  6038-budgeted-stream-based-active-learning-via...   \n",
       "16398  6039-sequential-neural-models-with-stochastic-...   \n",
       "16402  6040-stochastic-gradient-methods-for-distribut...   \n",
       "\n",
       "                                                abstract  \\\n",
       "16389  Starting with the Thomspon sampling algorithm,...   \n",
       "16391  We consider the problem of finding the minimiz...   \n",
       "16396  Active learning enables us to reduce the annot...   \n",
       "16398  How can we efficiently propagate uncertainty i...   \n",
       "16402  We develop efficient solution methods for a ro...   \n",
       "\n",
       "                                              paper_text  author_id  \\\n",
       "16389  Optimistic Gittins Indices\\nEli Gutin\\nOperati...       8450   \n",
       "16391  Sub-sampled Newton Methods\\nwith Non-uniform S...       2927   \n",
       "16396  Budgeted stream-based active learning\\nvia ada...       8453   \n",
       "16398  Sequential Neural Models with Stochastic Layer...       8454   \n",
       "16402  Stochastic Gradient Methods for Distributional...       8456   \n",
       "\n",
       "                  author                                   paper_text_clean  \\\n",
       "16389          Eli Gutin  optimistic gittins indices eli gutin operation...   \n",
       "16391            Peng Xu  sub sampled newton methods with non uniform sa...   \n",
       "16396        Kaito Fujii  budgeted stream based active learning via adap...   \n",
       "16398     Marco Fraccaro  sequential neural models with stochastic layer...   \n",
       "16402  Hongseok Namkoong  stochastic gradient methods for distributional...   \n",
       "\n",
       "                                             title_clean  \\\n",
       "16389                         optimistic gittins indices   \n",
       "16391  sub sampled newton methods with non uniform sa...   \n",
       "16396  budgeted stream based active learning via adap...   \n",
       "16398    sequential neural models with stochastic layers   \n",
       "16402  stochastic gradient methods for distributional...   \n",
       "\n",
       "                                          abstract_clean  \n",
       "16389  starting with the thomspon sampling algorithm ...  \n",
       "16391  we consider the problem of finding the minimiz...  \n",
       "16396  active learning enables us to reduce the annot...  \n",
       "16398  how can we efficiently propagate uncertainty i...  \n",
       "16402  we develop efficient solution methods for a ro...  "
      ]
     },
     "execution_count": 23,
     "metadata": {},
     "output_type": "execute_result"
    }
   ],
   "source": [
    "df_2016.head()"
   ]
  },
  {
   "cell_type": "markdown",
   "metadata": {},
   "source": [
    "**Now we will tokenize the document then stem/lemmatize each individual token/word**"
   ]
  },
  {
   "cell_type": "code",
   "execution_count": 24,
   "metadata": {
    "collapsed": false
   },
   "outputs": [],
   "source": [
    "def tokenize_and_stem(document):\n",
    "    '''\n",
    "    Tokenizes document & stem words\n",
    "    Input: string\n",
    "    Output: list of strings\n",
    "    '''\n",
    "    stemmer = PorterStemmer()\n",
    "    tokens = [stemmer.stem(word) for sentence in sent_tokenize(document) for word in word_tokenize(sentence)]\n",
    "    return tokens"
   ]
  },
  {
   "cell_type": "code",
   "execution_count": 25,
   "metadata": {
    "collapsed": true
   },
   "outputs": [],
   "source": [
    "# A function to only tokenize without stemming\n",
    "def tokenize(document):\n",
    "    '''\n",
    "    Tokenizes document \n",
    "    Input: string\n",
    "    Output: list of strings\n",
    "    '''\n",
    "    tokens = [word for sentence in sent_tokenize(document) for word in word_tokenize(sentence)]\n",
    "    return tokens    "
   ]
  },
  {
   "cell_type": "markdown",
   "metadata": {},
   "source": [
    "**Create Count Vectors & TFIDF Vectors to convert a collection of text documents to a numeric matrix**"
   ]
  },
  {
   "cell_type": "code",
   "execution_count": 26,
   "metadata": {
    "collapsed": true
   },
   "outputs": [],
   "source": [
    "def create_tfidf(df, column_name, num_features, ngram=1):\n",
    "    '''\n",
    "    Creates a sparse matrix of tfidf vectors\n",
    "    Input: df - Pandas DataFrame\n",
    "           column_name - String\n",
    "           num_features - Int\n",
    "    Output: Scipy Sparse Matrix \n",
    "    '''\n",
    "    tfidf_vectorizer = TfidfVectorizer(ngram_range=(1,ngram), \n",
    "                                       stop_words='english', \n",
    "                                       max_df=0.95,\n",
    "                                       min_df=2,\n",
    "                                       max_features=num_features,\n",
    "                                       tokenizer=tokenize_and_stem)\n",
    "    tfidf_sparse = tfidf_vectorizer.fit_transform(df[column_name]) \n",
    "    return tfidf_vectorizer, tfidf_sparse"
   ]
  },
  {
   "cell_type": "code",
   "execution_count": 27,
   "metadata": {
    "collapsed": true
   },
   "outputs": [],
   "source": [
    "def create_count(df, column_name, num_features, ngram=1):\n",
    "    '''\n",
    "    Creates a sparse matrix of count vectors\n",
    "    Input: df - Pandas DataFrame \n",
    "           column_name - String\n",
    "           num_features - Int\n",
    "    Output: Scipy Sparse Matrix \n",
    "    '''\n",
    "    count_vectorizer = CountVectorizer(ngram_range=(1,ngram), \n",
    "                                       stop_words='english', \n",
    "                                       max_df=0.95,\n",
    "                                       min_df=2,\n",
    "                                       max_features=num_features,\n",
    "                                       tokenizer=tokenize_and_stem)\n",
    "    count_sparse = count_vectorizer.fit_transform(df[column_name]) \n",
    "    return count_vectorizer, count_sparse"
   ]
  },
  {
   "cell_type": "code",
   "execution_count": 28,
   "metadata": {
    "collapsed": false
   },
   "outputs": [],
   "source": [
    "count_vectorizer, count_sparse = create_count(df=df_2016,column_name='title_clean',num_features=1000)"
   ]
  },
  {
   "cell_type": "code",
   "execution_count": 29,
   "metadata": {
    "collapsed": false
   },
   "outputs": [],
   "source": [
    "tfidf_vectorizer, tfidf_sparse = create_tfidf(df=df_2016,column_name='title_clean',num_features=1000)"
   ]
  },
  {
   "cell_type": "code",
   "execution_count": 30,
   "metadata": {
    "collapsed": false
   },
   "outputs": [],
   "source": [
    "# Print All The Features Names\n",
    "# print(count_vectorizer.get_feature_names())"
   ]
  },
  {
   "cell_type": "markdown",
   "metadata": {},
   "source": [
    "**Let's take a look at how the sparse matrix looks like**"
   ]
  },
  {
   "cell_type": "code",
   "execution_count": 31,
   "metadata": {
    "collapsed": false
   },
   "outputs": [
    {
     "data": {
      "text/html": [
       "<div>\n",
       "<table border=\"1\" class=\"dataframe\">\n",
       "  <thead>\n",
       "    <tr style=\"text-align: right;\">\n",
       "      <th></th>\n",
       "      <th>acceler</th>\n",
       "      <th>achiev</th>\n",
       "      <th>action</th>\n",
       "      <th>activ</th>\n",
       "      <th>adapt</th>\n",
       "      <th>adversari</th>\n",
       "      <th>aggreg</th>\n",
       "      <th>algorithm</th>\n",
       "      <th>align</th>\n",
       "      <th>altern</th>\n",
       "      <th>...</th>\n",
       "      <th>video</th>\n",
       "      <th>view</th>\n",
       "      <th>visual</th>\n",
       "      <th>vote</th>\n",
       "      <th>vs</th>\n",
       "      <th>weakli</th>\n",
       "      <th>web</th>\n",
       "      <th>weight</th>\n",
       "      <th>wild</th>\n",
       "      <th>word</th>\n",
       "    </tr>\n",
       "  </thead>\n",
       "  <tbody>\n",
       "    <tr>\n",
       "      <th>0</th>\n",
       "      <td>0</td>\n",
       "      <td>0</td>\n",
       "      <td>0</td>\n",
       "      <td>0</td>\n",
       "      <td>0</td>\n",
       "      <td>0</td>\n",
       "      <td>0</td>\n",
       "      <td>0</td>\n",
       "      <td>0</td>\n",
       "      <td>0</td>\n",
       "      <td>...</td>\n",
       "      <td>0</td>\n",
       "      <td>0</td>\n",
       "      <td>0</td>\n",
       "      <td>0</td>\n",
       "      <td>0</td>\n",
       "      <td>0</td>\n",
       "      <td>0</td>\n",
       "      <td>0</td>\n",
       "      <td>0</td>\n",
       "      <td>0</td>\n",
       "    </tr>\n",
       "    <tr>\n",
       "      <th>1</th>\n",
       "      <td>0</td>\n",
       "      <td>0</td>\n",
       "      <td>0</td>\n",
       "      <td>0</td>\n",
       "      <td>0</td>\n",
       "      <td>0</td>\n",
       "      <td>0</td>\n",
       "      <td>0</td>\n",
       "      <td>0</td>\n",
       "      <td>0</td>\n",
       "      <td>...</td>\n",
       "      <td>0</td>\n",
       "      <td>0</td>\n",
       "      <td>0</td>\n",
       "      <td>0</td>\n",
       "      <td>0</td>\n",
       "      <td>0</td>\n",
       "      <td>0</td>\n",
       "      <td>0</td>\n",
       "      <td>0</td>\n",
       "      <td>0</td>\n",
       "    </tr>\n",
       "    <tr>\n",
       "      <th>2</th>\n",
       "      <td>0</td>\n",
       "      <td>0</td>\n",
       "      <td>0</td>\n",
       "      <td>1</td>\n",
       "      <td>1</td>\n",
       "      <td>0</td>\n",
       "      <td>0</td>\n",
       "      <td>0</td>\n",
       "      <td>0</td>\n",
       "      <td>0</td>\n",
       "      <td>...</td>\n",
       "      <td>0</td>\n",
       "      <td>0</td>\n",
       "      <td>0</td>\n",
       "      <td>0</td>\n",
       "      <td>0</td>\n",
       "      <td>0</td>\n",
       "      <td>0</td>\n",
       "      <td>0</td>\n",
       "      <td>0</td>\n",
       "      <td>0</td>\n",
       "    </tr>\n",
       "    <tr>\n",
       "      <th>3</th>\n",
       "      <td>0</td>\n",
       "      <td>0</td>\n",
       "      <td>0</td>\n",
       "      <td>0</td>\n",
       "      <td>0</td>\n",
       "      <td>0</td>\n",
       "      <td>0</td>\n",
       "      <td>0</td>\n",
       "      <td>0</td>\n",
       "      <td>0</td>\n",
       "      <td>...</td>\n",
       "      <td>0</td>\n",
       "      <td>0</td>\n",
       "      <td>0</td>\n",
       "      <td>0</td>\n",
       "      <td>0</td>\n",
       "      <td>0</td>\n",
       "      <td>0</td>\n",
       "      <td>0</td>\n",
       "      <td>0</td>\n",
       "      <td>0</td>\n",
       "    </tr>\n",
       "    <tr>\n",
       "      <th>4</th>\n",
       "      <td>0</td>\n",
       "      <td>0</td>\n",
       "      <td>0</td>\n",
       "      <td>0</td>\n",
       "      <td>0</td>\n",
       "      <td>0</td>\n",
       "      <td>0</td>\n",
       "      <td>0</td>\n",
       "      <td>0</td>\n",
       "      <td>0</td>\n",
       "      <td>...</td>\n",
       "      <td>0</td>\n",
       "      <td>0</td>\n",
       "      <td>0</td>\n",
       "      <td>0</td>\n",
       "      <td>0</td>\n",
       "      <td>0</td>\n",
       "      <td>0</td>\n",
       "      <td>0</td>\n",
       "      <td>0</td>\n",
       "      <td>0</td>\n",
       "    </tr>\n",
       "  </tbody>\n",
       "</table>\n",
       "<p>5 rows × 483 columns</p>\n",
       "</div>"
      ],
      "text/plain": [
       "   acceler  achiev  action  activ  adapt  adversari  aggreg  algorithm  align  \\\n",
       "0        0       0       0      0      0          0       0          0      0   \n",
       "1        0       0       0      0      0          0       0          0      0   \n",
       "2        0       0       0      1      1          0       0          0      0   \n",
       "3        0       0       0      0      0          0       0          0      0   \n",
       "4        0       0       0      0      0          0       0          0      0   \n",
       "\n",
       "   altern  ...   video  view  visual  vote  vs  weakli  web  weight  wild  \\\n",
       "0       0  ...       0     0       0     0   0       0    0       0     0   \n",
       "1       0  ...       0     0       0     0   0       0    0       0     0   \n",
       "2       0  ...       0     0       0     0   0       0    0       0     0   \n",
       "3       0  ...       0     0       0     0   0       0    0       0     0   \n",
       "4       0  ...       0     0       0     0   0       0    0       0     0   \n",
       "\n",
       "   word  \n",
       "0     0  \n",
       "1     0  \n",
       "2     0  \n",
       "3     0  \n",
       "4     0  \n",
       "\n",
       "[5 rows x 483 columns]"
      ]
     },
     "execution_count": 31,
     "metadata": {},
     "output_type": "execute_result"
    }
   ],
   "source": [
    "pd.DataFrame(count_sparse.toarray(), columns=count_vectorizer.get_feature_names()).head()"
   ]
  },
  {
   "cell_type": "code",
   "execution_count": 32,
   "metadata": {
    "collapsed": false
   },
   "outputs": [
    {
     "data": {
      "text/html": [
       "<div>\n",
       "<table border=\"1\" class=\"dataframe\">\n",
       "  <thead>\n",
       "    <tr style=\"text-align: right;\">\n",
       "      <th></th>\n",
       "      <th>acceler</th>\n",
       "      <th>achiev</th>\n",
       "      <th>action</th>\n",
       "      <th>activ</th>\n",
       "      <th>adapt</th>\n",
       "      <th>adversari</th>\n",
       "      <th>aggreg</th>\n",
       "      <th>algorithm</th>\n",
       "      <th>align</th>\n",
       "      <th>altern</th>\n",
       "      <th>...</th>\n",
       "      <th>video</th>\n",
       "      <th>view</th>\n",
       "      <th>visual</th>\n",
       "      <th>vote</th>\n",
       "      <th>vs</th>\n",
       "      <th>weakli</th>\n",
       "      <th>web</th>\n",
       "      <th>weight</th>\n",
       "      <th>wild</th>\n",
       "      <th>word</th>\n",
       "    </tr>\n",
       "  </thead>\n",
       "  <tbody>\n",
       "    <tr>\n",
       "      <th>0</th>\n",
       "      <td>0.0</td>\n",
       "      <td>0.0</td>\n",
       "      <td>0.0</td>\n",
       "      <td>0.000000</td>\n",
       "      <td>0.000000</td>\n",
       "      <td>0.0</td>\n",
       "      <td>0.0</td>\n",
       "      <td>0.0</td>\n",
       "      <td>0.0</td>\n",
       "      <td>0.0</td>\n",
       "      <td>...</td>\n",
       "      <td>0.0</td>\n",
       "      <td>0.0</td>\n",
       "      <td>0.0</td>\n",
       "      <td>0.0</td>\n",
       "      <td>0.0</td>\n",
       "      <td>0.0</td>\n",
       "      <td>0.0</td>\n",
       "      <td>0.0</td>\n",
       "      <td>0.0</td>\n",
       "      <td>0.0</td>\n",
       "    </tr>\n",
       "    <tr>\n",
       "      <th>1</th>\n",
       "      <td>0.0</td>\n",
       "      <td>0.0</td>\n",
       "      <td>0.0</td>\n",
       "      <td>0.000000</td>\n",
       "      <td>0.000000</td>\n",
       "      <td>0.0</td>\n",
       "      <td>0.0</td>\n",
       "      <td>0.0</td>\n",
       "      <td>0.0</td>\n",
       "      <td>0.0</td>\n",
       "      <td>...</td>\n",
       "      <td>0.0</td>\n",
       "      <td>0.0</td>\n",
       "      <td>0.0</td>\n",
       "      <td>0.0</td>\n",
       "      <td>0.0</td>\n",
       "      <td>0.0</td>\n",
       "      <td>0.0</td>\n",
       "      <td>0.0</td>\n",
       "      <td>0.0</td>\n",
       "      <td>0.0</td>\n",
       "    </tr>\n",
       "    <tr>\n",
       "      <th>2</th>\n",
       "      <td>0.0</td>\n",
       "      <td>0.0</td>\n",
       "      <td>0.0</td>\n",
       "      <td>0.379707</td>\n",
       "      <td>0.313673</td>\n",
       "      <td>0.0</td>\n",
       "      <td>0.0</td>\n",
       "      <td>0.0</td>\n",
       "      <td>0.0</td>\n",
       "      <td>0.0</td>\n",
       "      <td>...</td>\n",
       "      <td>0.0</td>\n",
       "      <td>0.0</td>\n",
       "      <td>0.0</td>\n",
       "      <td>0.0</td>\n",
       "      <td>0.0</td>\n",
       "      <td>0.0</td>\n",
       "      <td>0.0</td>\n",
       "      <td>0.0</td>\n",
       "      <td>0.0</td>\n",
       "      <td>0.0</td>\n",
       "    </tr>\n",
       "    <tr>\n",
       "      <th>3</th>\n",
       "      <td>0.0</td>\n",
       "      <td>0.0</td>\n",
       "      <td>0.0</td>\n",
       "      <td>0.000000</td>\n",
       "      <td>0.000000</td>\n",
       "      <td>0.0</td>\n",
       "      <td>0.0</td>\n",
       "      <td>0.0</td>\n",
       "      <td>0.0</td>\n",
       "      <td>0.0</td>\n",
       "      <td>...</td>\n",
       "      <td>0.0</td>\n",
       "      <td>0.0</td>\n",
       "      <td>0.0</td>\n",
       "      <td>0.0</td>\n",
       "      <td>0.0</td>\n",
       "      <td>0.0</td>\n",
       "      <td>0.0</td>\n",
       "      <td>0.0</td>\n",
       "      <td>0.0</td>\n",
       "      <td>0.0</td>\n",
       "    </tr>\n",
       "    <tr>\n",
       "      <th>4</th>\n",
       "      <td>0.0</td>\n",
       "      <td>0.0</td>\n",
       "      <td>0.0</td>\n",
       "      <td>0.000000</td>\n",
       "      <td>0.000000</td>\n",
       "      <td>0.0</td>\n",
       "      <td>0.0</td>\n",
       "      <td>0.0</td>\n",
       "      <td>0.0</td>\n",
       "      <td>0.0</td>\n",
       "      <td>...</td>\n",
       "      <td>0.0</td>\n",
       "      <td>0.0</td>\n",
       "      <td>0.0</td>\n",
       "      <td>0.0</td>\n",
       "      <td>0.0</td>\n",
       "      <td>0.0</td>\n",
       "      <td>0.0</td>\n",
       "      <td>0.0</td>\n",
       "      <td>0.0</td>\n",
       "      <td>0.0</td>\n",
       "    </tr>\n",
       "  </tbody>\n",
       "</table>\n",
       "<p>5 rows × 483 columns</p>\n",
       "</div>"
      ],
      "text/plain": [
       "   acceler  achiev  action     activ     adapt  adversari  aggreg  algorithm  \\\n",
       "0      0.0     0.0     0.0  0.000000  0.000000        0.0     0.0        0.0   \n",
       "1      0.0     0.0     0.0  0.000000  0.000000        0.0     0.0        0.0   \n",
       "2      0.0     0.0     0.0  0.379707  0.313673        0.0     0.0        0.0   \n",
       "3      0.0     0.0     0.0  0.000000  0.000000        0.0     0.0        0.0   \n",
       "4      0.0     0.0     0.0  0.000000  0.000000        0.0     0.0        0.0   \n",
       "\n",
       "   align  altern  ...   video  view  visual  vote   vs  weakli  web  weight  \\\n",
       "0    0.0     0.0  ...     0.0   0.0     0.0   0.0  0.0     0.0  0.0     0.0   \n",
       "1    0.0     0.0  ...     0.0   0.0     0.0   0.0  0.0     0.0  0.0     0.0   \n",
       "2    0.0     0.0  ...     0.0   0.0     0.0   0.0  0.0     0.0  0.0     0.0   \n",
       "3    0.0     0.0  ...     0.0   0.0     0.0   0.0  0.0     0.0  0.0     0.0   \n",
       "4    0.0     0.0  ...     0.0   0.0     0.0   0.0  0.0     0.0  0.0     0.0   \n",
       "\n",
       "   wild  word  \n",
       "0   0.0   0.0  \n",
       "1   0.0   0.0  \n",
       "2   0.0   0.0  \n",
       "3   0.0   0.0  \n",
       "4   0.0   0.0  \n",
       "\n",
       "[5 rows x 483 columns]"
      ]
     },
     "execution_count": 32,
     "metadata": {},
     "output_type": "execute_result"
    }
   ],
   "source": [
    "pd.DataFrame(tfidf_sparse.toarray(), columns=tfidf_vectorizer.get_feature_names()).head()"
   ]
  }
 ],
 "metadata": {
  "anaconda-cloud": {},
  "kernelspec": {
   "display_name": "Python [Root]",
   "language": "python",
   "name": "Python [Root]"
  },
  "language_info": {
   "codemirror_mode": {
    "name": "ipython",
    "version": 3
   },
   "file_extension": ".py",
   "mimetype": "text/x-python",
   "name": "python",
   "nbconvert_exporter": "python",
   "pygments_lexer": "ipython3",
   "version": "3.5.2"
  }
 },
 "nbformat": 4,
 "nbformat_minor": 0
}

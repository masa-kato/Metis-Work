{
 "cells": [
  {
   "cell_type": "markdown",
   "metadata": {},
   "source": [
    "# Data Retrieval"
   ]
  },
  {
   "cell_type": "markdown",
   "metadata": {},
   "source": [
    "**The notebook will retrieve data from [nba.stats.com](http://stats.nba.com/) using the API & scrape data from a few other websites**"
   ]
  },
  {
   "cell_type": "code",
   "execution_count": 3,
   "metadata": {
    "collapsed": false
   },
   "outputs": [],
   "source": [
    "# Import Relevant Libraries\n",
    "import requests\n",
    "import json\n",
    "import pandas as pd\n",
    "from bs4 import BeautifulSoup\n",
    "from urllib.request import urlopen\n",
    "from pprint import pprint"
   ]
  },
  {
   "cell_type": "markdown",
   "metadata": {},
   "source": [
    "## Retrieve Player Game Logs from [NBA Website](http://stats.nba.com/)"
   ]
  },
  {
   "cell_type": "code",
   "execution_count": 7,
   "metadata": {
    "collapsed": true
   },
   "outputs": [],
   "source": [
    "def get_player_game_logs(season):\n",
    "    '''\n",
    "    Input: Season of Interest (ie. 2016-17)\n",
    "    Output: Pandas Dataframe of Player Game Logs during Regular Season\n",
    "    '''\n",
    "    url_base = 'http://stats.nba.com/stats/leaguegamefinder?'\\\n",
    "               'Conference=&DateFrom=&DateTo=&Division=&DraftNumber='\\\n",
    "               '&DraftRound=&DraftYear=&GB=N&LeagueID=00&Location=&Outcome='\\\n",
    "               '&PlayerOrTeam=P&Season={}&SeasonType=Regular+Season&StatCategory='\\\n",
    "               'PTS&TeamID=&VsConference=&VsDivision=&VsTeamID='.format(season)\n",
    "\n",
    "    response = requests.get(url_base)\n",
    "    response.raise_for_status() # Raises error if request returns unsuccessful status code\n",
    "    \n",
    "    data = json.loads(response.text)\n",
    "    \n",
    "    headers = data['resultSets'][0]['headers']\n",
    "    player_logs = data['resultSets'][0]['rowSet']\n",
    "    \n",
    "    df = pd.DataFrame(player_logs, columns=headers) \n",
    "    return df"
   ]
  },
  {
   "cell_type": "markdown",
   "metadata": {},
   "source": [
    "**Get Player Game Logs from 2015-16 Regular Season**"
   ]
  },
  {
   "cell_type": "code",
   "execution_count": 37,
   "metadata": {
    "collapsed": false
   },
   "outputs": [],
   "source": [
    "player_game_log_15to16 = get_player_game_logs('2015-16')"
   ]
  },
  {
   "cell_type": "code",
   "execution_count": 39,
   "metadata": {
    "collapsed": true
   },
   "outputs": [],
   "source": [
    "player_game_log_15to16.to_pickle('raw_player_game_log_15to16')"
   ]
  },
  {
   "cell_type": "code",
   "execution_count": 40,
   "metadata": {
    "collapsed": false
   },
   "outputs": [
    {
     "data": {
      "text/html": [
       "<div>\n",
       "<table border=\"1\" class=\"dataframe\">\n",
       "  <thead>\n",
       "    <tr style=\"text-align: right;\">\n",
       "      <th></th>\n",
       "      <th>SEASON_ID</th>\n",
       "      <th>PLAYER_ID</th>\n",
       "      <th>PLAYER_NAME</th>\n",
       "      <th>TEAM_ID</th>\n",
       "      <th>TEAM_ABBREVIATION</th>\n",
       "      <th>TEAM_NAME</th>\n",
       "      <th>GAME_ID</th>\n",
       "      <th>GAME_DATE</th>\n",
       "      <th>MATCHUP</th>\n",
       "      <th>WL</th>\n",
       "      <th>...</th>\n",
       "      <th>FT_PCT</th>\n",
       "      <th>OREB</th>\n",
       "      <th>DREB</th>\n",
       "      <th>REB</th>\n",
       "      <th>AST</th>\n",
       "      <th>STL</th>\n",
       "      <th>BLK</th>\n",
       "      <th>TOV</th>\n",
       "      <th>PF</th>\n",
       "      <th>PLUS_MINUS</th>\n",
       "    </tr>\n",
       "  </thead>\n",
       "  <tbody>\n",
       "    <tr>\n",
       "      <th>0</th>\n",
       "      <td>22015</td>\n",
       "      <td>203961</td>\n",
       "      <td>Eric Moreland</td>\n",
       "      <td>1610612758</td>\n",
       "      <td>SAC</td>\n",
       "      <td>Sacramento Kings</td>\n",
       "      <td>0021501224</td>\n",
       "      <td>2016-04-13</td>\n",
       "      <td>SAC @ HOU</td>\n",
       "      <td>L</td>\n",
       "      <td>...</td>\n",
       "      <td>NaN</td>\n",
       "      <td>2</td>\n",
       "      <td>1</td>\n",
       "      <td>3</td>\n",
       "      <td>1</td>\n",
       "      <td>0</td>\n",
       "      <td>0</td>\n",
       "      <td>0</td>\n",
       "      <td>1</td>\n",
       "      <td>-8</td>\n",
       "    </tr>\n",
       "    <tr>\n",
       "      <th>1</th>\n",
       "      <td>22015</td>\n",
       "      <td>203909</td>\n",
       "      <td>KJ McDaniels</td>\n",
       "      <td>1610612745</td>\n",
       "      <td>HOU</td>\n",
       "      <td>Houston Rockets</td>\n",
       "      <td>0021501224</td>\n",
       "      <td>2016-04-13</td>\n",
       "      <td>HOU vs. SAC</td>\n",
       "      <td>W</td>\n",
       "      <td>...</td>\n",
       "      <td>0.5</td>\n",
       "      <td>1</td>\n",
       "      <td>3</td>\n",
       "      <td>4</td>\n",
       "      <td>0</td>\n",
       "      <td>0</td>\n",
       "      <td>0</td>\n",
       "      <td>0</td>\n",
       "      <td>0</td>\n",
       "      <td>7</td>\n",
       "    </tr>\n",
       "    <tr>\n",
       "      <th>2</th>\n",
       "      <td>22015</td>\n",
       "      <td>1626145</td>\n",
       "      <td>Tyus Jones</td>\n",
       "      <td>1610612750</td>\n",
       "      <td>MIN</td>\n",
       "      <td>Minnesota Timberwolves</td>\n",
       "      <td>0021501226</td>\n",
       "      <td>2016-04-13</td>\n",
       "      <td>MIN vs. NOP</td>\n",
       "      <td>W</td>\n",
       "      <td>...</td>\n",
       "      <td>0.5</td>\n",
       "      <td>0</td>\n",
       "      <td>1</td>\n",
       "      <td>1</td>\n",
       "      <td>12</td>\n",
       "      <td>1</td>\n",
       "      <td>0</td>\n",
       "      <td>0</td>\n",
       "      <td>0</td>\n",
       "      <td>14</td>\n",
       "    </tr>\n",
       "    <tr>\n",
       "      <th>3</th>\n",
       "      <td>22015</td>\n",
       "      <td>203473</td>\n",
       "      <td>Dewayne Dedmon</td>\n",
       "      <td>1610612753</td>\n",
       "      <td>ORL</td>\n",
       "      <td>Orlando Magic</td>\n",
       "      <td>0021501219</td>\n",
       "      <td>2016-04-13</td>\n",
       "      <td>ORL @ CHA</td>\n",
       "      <td>L</td>\n",
       "      <td>...</td>\n",
       "      <td>NaN</td>\n",
       "      <td>0</td>\n",
       "      <td>4</td>\n",
       "      <td>4</td>\n",
       "      <td>0</td>\n",
       "      <td>0</td>\n",
       "      <td>2</td>\n",
       "      <td>2</td>\n",
       "      <td>3</td>\n",
       "      <td>-3</td>\n",
       "    </tr>\n",
       "    <tr>\n",
       "      <th>4</th>\n",
       "      <td>22015</td>\n",
       "      <td>203109</td>\n",
       "      <td>Jae Crowder</td>\n",
       "      <td>1610612738</td>\n",
       "      <td>BOS</td>\n",
       "      <td>Boston Celtics</td>\n",
       "      <td>0021501217</td>\n",
       "      <td>2016-04-13</td>\n",
       "      <td>BOS vs. MIA</td>\n",
       "      <td>W</td>\n",
       "      <td>...</td>\n",
       "      <td>NaN</td>\n",
       "      <td>3</td>\n",
       "      <td>3</td>\n",
       "      <td>6</td>\n",
       "      <td>2</td>\n",
       "      <td>0</td>\n",
       "      <td>0</td>\n",
       "      <td>1</td>\n",
       "      <td>5</td>\n",
       "      <td>8</td>\n",
       "    </tr>\n",
       "  </tbody>\n",
       "</table>\n",
       "<p>5 rows × 30 columns</p>\n",
       "</div>"
      ],
      "text/plain": [
       "  SEASON_ID  PLAYER_ID     PLAYER_NAME     TEAM_ID TEAM_ABBREVIATION  \\\n",
       "0     22015     203961   Eric Moreland  1610612758               SAC   \n",
       "1     22015     203909    KJ McDaniels  1610612745               HOU   \n",
       "2     22015    1626145      Tyus Jones  1610612750               MIN   \n",
       "3     22015     203473  Dewayne Dedmon  1610612753               ORL   \n",
       "4     22015     203109     Jae Crowder  1610612738               BOS   \n",
       "\n",
       "                TEAM_NAME     GAME_ID   GAME_DATE      MATCHUP WL     ...      \\\n",
       "0        Sacramento Kings  0021501224  2016-04-13    SAC @ HOU  L     ...       \n",
       "1         Houston Rockets  0021501224  2016-04-13  HOU vs. SAC  W     ...       \n",
       "2  Minnesota Timberwolves  0021501226  2016-04-13  MIN vs. NOP  W     ...       \n",
       "3           Orlando Magic  0021501219  2016-04-13    ORL @ CHA  L     ...       \n",
       "4          Boston Celtics  0021501217  2016-04-13  BOS vs. MIA  W     ...       \n",
       "\n",
       "   FT_PCT  OREB  DREB  REB  AST  STL  BLK  TOV  PF  PLUS_MINUS  \n",
       "0     NaN     2     1    3    1    0    0    0   1          -8  \n",
       "1     0.5     1     3    4    0    0    0    0   0           7  \n",
       "2     0.5     0     1    1   12    1    0    0   0          14  \n",
       "3     NaN     0     4    4    0    0    2    2   3          -3  \n",
       "4     NaN     3     3    6    2    0    0    1   5           8  \n",
       "\n",
       "[5 rows x 30 columns]"
      ]
     },
     "execution_count": 40,
     "metadata": {},
     "output_type": "execute_result"
    }
   ],
   "source": [
    "# Preview Data\n",
    "player_game_log_15to16.head()"
   ]
  },
  {
   "cell_type": "markdown",
   "metadata": {},
   "source": [
    "**Get Player Game Logs from 2014-15 Regular Season**"
   ]
  },
  {
   "cell_type": "code",
   "execution_count": 8,
   "metadata": {
    "collapsed": false
   },
   "outputs": [],
   "source": [
    "player_game_log_14to15 = get_player_game_logs('2014-15')"
   ]
  },
  {
   "cell_type": "code",
   "execution_count": 9,
   "metadata": {
    "collapsed": true
   },
   "outputs": [],
   "source": [
    "player_game_log_14to15.to_pickle('raw_player_game_log_14to15')"
   ]
  },
  {
   "cell_type": "markdown",
   "metadata": {},
   "source": [
    "**Get Player Game Logs from 2016-17 Regular Season**"
   ]
  },
  {
   "cell_type": "code",
   "execution_count": null,
   "metadata": {
    "collapsed": true
   },
   "outputs": [],
   "source": []
  },
  {
   "cell_type": "code",
   "execution_count": null,
   "metadata": {
    "collapsed": true
   },
   "outputs": [],
   "source": []
  },
  {
   "cell_type": "code",
   "execution_count": null,
   "metadata": {
    "collapsed": true
   },
   "outputs": [],
   "source": []
  },
  {
   "cell_type": "markdown",
   "metadata": {},
   "source": [
    "## Retrieve Team Advanced Statistics from [NBA Website](http://stats.nba.com/)"
   ]
  },
  {
   "cell_type": "code",
   "execution_count": 15,
   "metadata": {
    "collapsed": true
   },
   "outputs": [],
   "source": [
    "def get_team_advanced_stats(season):\n",
    "    '''\n",
    "    Input: Season of Interest (ie. 2016-17)\n",
    "    Output: Pandas Dataframe of Team Advanced Statistics during Regular Season\n",
    "    '''\n",
    "    url_base = 'http://stats.nba.com/stats/leaguedashteamstats?Conference='\\\n",
    "               '&DateFrom=&DateTo=&Division=&GameScope=&GameSegment=&LastNGames=0'\\\n",
    "               '&LeagueID=00&Location=&MeasureType=Advanced&Month=0&OpponentTeamID=0'\\\n",
    "               '&Outcome=&PORound=0&PaceAdjust=N&PerMode=PerGame&Period=0&PlayerExperience=&'\\\n",
    "               'PlayerPosition=&PlusMinus=N&Rank=N&Season={}&SeasonSegment=&SeasonType='\\\n",
    "               'Regular+Season&ShotClockRange=&StarterBench=&TeamID=0&VsConference=&VsDivision='.format(season)\n",
    "    \n",
    "    response = requests.get(url_base)\n",
    "    response.raise_for_status() # Raises error if request returns unsuccessful status code\n",
    "\n",
    "    data = json.loads(response.text)\n",
    "\n",
    "    headers = data['resultSets'][0]['headers']\n",
    "    team_advanced_stats = data['resultSets'][0]['rowSet']\n",
    "    \n",
    "    df = pd.DataFrame(team_advanced_stats, columns=headers) \n",
    "    return df "
   ]
  },
  {
   "cell_type": "markdown",
   "metadata": {},
   "source": [
    "**Get Team Advanced Statistics from 2015-16 Regular Season**"
   ]
  },
  {
   "cell_type": "code",
   "execution_count": 209,
   "metadata": {
    "collapsed": false
   },
   "outputs": [],
   "source": [
    "team_advanced_stats_15to16 = get_team_advanced_stats('2015-16')"
   ]
  },
  {
   "cell_type": "code",
   "execution_count": 210,
   "metadata": {
    "collapsed": true
   },
   "outputs": [],
   "source": [
    "team_advanced_stats_15to16.to_pickle('raw_team_advanced_stats_15to16')"
   ]
  },
  {
   "cell_type": "code",
   "execution_count": 211,
   "metadata": {
    "collapsed": false
   },
   "outputs": [
    {
     "data": {
      "text/html": [
       "<div>\n",
       "<table border=\"1\" class=\"dataframe\">\n",
       "  <thead>\n",
       "    <tr style=\"text-align: right;\">\n",
       "      <th></th>\n",
       "      <th>TEAM_ID</th>\n",
       "      <th>TEAM_NAME</th>\n",
       "      <th>GP</th>\n",
       "      <th>W</th>\n",
       "      <th>L</th>\n",
       "      <th>W_PCT</th>\n",
       "      <th>MIN</th>\n",
       "      <th>OFF_RATING</th>\n",
       "      <th>DEF_RATING</th>\n",
       "      <th>NET_RATING</th>\n",
       "      <th>...</th>\n",
       "      <th>OREB_PCT_RANK</th>\n",
       "      <th>DREB_PCT_RANK</th>\n",
       "      <th>REB_PCT_RANK</th>\n",
       "      <th>TM_TOV_PCT_RANK</th>\n",
       "      <th>EFG_PCT_RANK</th>\n",
       "      <th>TS_PCT_RANK</th>\n",
       "      <th>PACE_RANK</th>\n",
       "      <th>PIE_RANK</th>\n",
       "      <th>CFID</th>\n",
       "      <th>CFPARAMS</th>\n",
       "    </tr>\n",
       "  </thead>\n",
       "  <tbody>\n",
       "    <tr>\n",
       "      <th>0</th>\n",
       "      <td>1610612737</td>\n",
       "      <td>Atlanta Hawks</td>\n",
       "      <td>82</td>\n",
       "      <td>48</td>\n",
       "      <td>34</td>\n",
       "      <td>0.585</td>\n",
       "      <td>3966.0</td>\n",
       "      <td>103.0</td>\n",
       "      <td>98.8</td>\n",
       "      <td>4.1</td>\n",
       "      <td>...</td>\n",
       "      <td>30</td>\n",
       "      <td>25</td>\n",
       "      <td>28</td>\n",
       "      <td>21</td>\n",
       "      <td>6</td>\n",
       "      <td>8</td>\n",
       "      <td>8</td>\n",
       "      <td>6</td>\n",
       "      <td>10</td>\n",
       "      <td>Atlanta Hawks</td>\n",
       "    </tr>\n",
       "    <tr>\n",
       "      <th>1</th>\n",
       "      <td>1610612738</td>\n",
       "      <td>Boston Celtics</td>\n",
       "      <td>82</td>\n",
       "      <td>48</td>\n",
       "      <td>34</td>\n",
       "      <td>0.585</td>\n",
       "      <td>3956.0</td>\n",
       "      <td>103.9</td>\n",
       "      <td>100.9</td>\n",
       "      <td>3.0</td>\n",
       "      <td>...</td>\n",
       "      <td>10</td>\n",
       "      <td>26</td>\n",
       "      <td>20</td>\n",
       "      <td>5</td>\n",
       "      <td>24</td>\n",
       "      <td>21</td>\n",
       "      <td>3</td>\n",
       "      <td>9</td>\n",
       "      <td>10</td>\n",
       "      <td>Boston Celtics</td>\n",
       "    </tr>\n",
       "    <tr>\n",
       "      <th>2</th>\n",
       "      <td>1610612751</td>\n",
       "      <td>Brooklyn Nets</td>\n",
       "      <td>82</td>\n",
       "      <td>21</td>\n",
       "      <td>61</td>\n",
       "      <td>0.256</td>\n",
       "      <td>3951.0</td>\n",
       "      <td>100.9</td>\n",
       "      <td>108.5</td>\n",
       "      <td>-7.6</td>\n",
       "      <td>...</td>\n",
       "      <td>15</td>\n",
       "      <td>19</td>\n",
       "      <td>19</td>\n",
       "      <td>22</td>\n",
       "      <td>21</td>\n",
       "      <td>23</td>\n",
       "      <td>21</td>\n",
       "      <td>27</td>\n",
       "      <td>10</td>\n",
       "      <td>Brooklyn Nets</td>\n",
       "    </tr>\n",
       "    <tr>\n",
       "      <th>3</th>\n",
       "      <td>1610612766</td>\n",
       "      <td>Charlotte Hornets</td>\n",
       "      <td>82</td>\n",
       "      <td>48</td>\n",
       "      <td>34</td>\n",
       "      <td>0.585</td>\n",
       "      <td>3971.0</td>\n",
       "      <td>105.1</td>\n",
       "      <td>101.8</td>\n",
       "      <td>3.3</td>\n",
       "      <td>...</td>\n",
       "      <td>29</td>\n",
       "      <td>1</td>\n",
       "      <td>16</td>\n",
       "      <td>1</td>\n",
       "      <td>14</td>\n",
       "      <td>12</td>\n",
       "      <td>18</td>\n",
       "      <td>11</td>\n",
       "      <td>10</td>\n",
       "      <td>Charlotte Hornets</td>\n",
       "    </tr>\n",
       "    <tr>\n",
       "      <th>4</th>\n",
       "      <td>1610612741</td>\n",
       "      <td>Chicago Bulls</td>\n",
       "      <td>82</td>\n",
       "      <td>42</td>\n",
       "      <td>40</td>\n",
       "      <td>0.512</td>\n",
       "      <td>3981.0</td>\n",
       "      <td>102.1</td>\n",
       "      <td>103.9</td>\n",
       "      <td>-1.8</td>\n",
       "      <td>...</td>\n",
       "      <td>13</td>\n",
       "      <td>21</td>\n",
       "      <td>12</td>\n",
       "      <td>12</td>\n",
       "      <td>26</td>\n",
       "      <td>26</td>\n",
       "      <td>13</td>\n",
       "      <td>16</td>\n",
       "      <td>10</td>\n",
       "      <td>Chicago Bulls</td>\n",
       "    </tr>\n",
       "  </tbody>\n",
       "</table>\n",
       "<p>5 rows × 42 columns</p>\n",
       "</div>"
      ],
      "text/plain": [
       "      TEAM_ID          TEAM_NAME  GP   W   L  W_PCT     MIN  OFF_RATING  \\\n",
       "0  1610612737      Atlanta Hawks  82  48  34  0.585  3966.0       103.0   \n",
       "1  1610612738     Boston Celtics  82  48  34  0.585  3956.0       103.9   \n",
       "2  1610612751      Brooklyn Nets  82  21  61  0.256  3951.0       100.9   \n",
       "3  1610612766  Charlotte Hornets  82  48  34  0.585  3971.0       105.1   \n",
       "4  1610612741      Chicago Bulls  82  42  40  0.512  3981.0       102.1   \n",
       "\n",
       "   DEF_RATING  NET_RATING        ...          OREB_PCT_RANK  DREB_PCT_RANK  \\\n",
       "0        98.8         4.1        ...                     30             25   \n",
       "1       100.9         3.0        ...                     10             26   \n",
       "2       108.5        -7.6        ...                     15             19   \n",
       "3       101.8         3.3        ...                     29              1   \n",
       "4       103.9        -1.8        ...                     13             21   \n",
       "\n",
       "   REB_PCT_RANK  TM_TOV_PCT_RANK  EFG_PCT_RANK  TS_PCT_RANK  PACE_RANK  \\\n",
       "0            28               21             6            8          8   \n",
       "1            20                5            24           21          3   \n",
       "2            19               22            21           23         21   \n",
       "3            16                1            14           12         18   \n",
       "4            12               12            26           26         13   \n",
       "\n",
       "   PIE_RANK  CFID           CFPARAMS  \n",
       "0         6    10      Atlanta Hawks  \n",
       "1         9    10     Boston Celtics  \n",
       "2        27    10      Brooklyn Nets  \n",
       "3        11    10  Charlotte Hornets  \n",
       "4        16    10      Chicago Bulls  \n",
       "\n",
       "[5 rows x 42 columns]"
      ]
     },
     "execution_count": 211,
     "metadata": {},
     "output_type": "execute_result"
    }
   ],
   "source": [
    "# Preview Data\n",
    "team_advanced_stats_15to16.head()"
   ]
  },
  {
   "cell_type": "code",
   "execution_count": 219,
   "metadata": {
    "collapsed": false
   },
   "outputs": [
    {
     "data": {
      "text/plain": [
       "Index(['TEAM_ID', 'TEAM_NAME', 'GP', 'W', 'L', 'W_PCT', 'MIN', 'OFF_RATING',\n",
       "       'DEF_RATING', 'NET_RATING', 'AST_PCT', 'AST_TO', 'AST_RATIO',\n",
       "       'OREB_PCT', 'DREB_PCT', 'REB_PCT', 'TM_TOV_PCT', 'EFG_PCT', 'TS_PCT',\n",
       "       'PACE', 'PIE', 'GP_RANK', 'W_RANK', 'L_RANK', 'W_PCT_RANK', 'MIN_RANK',\n",
       "       'OFF_RATING_RANK', 'DEF_RATING_RANK', 'NET_RATING_RANK', 'AST_PCT_RANK',\n",
       "       'AST_TO_RANK', 'AST_RATIO_RANK', 'OREB_PCT_RANK', 'DREB_PCT_RANK',\n",
       "       'REB_PCT_RANK', 'TM_TOV_PCT_RANK', 'EFG_PCT_RANK', 'TS_PCT_RANK',\n",
       "       'PACE_RANK', 'PIE_RANK', 'CFID', 'CFPARAMS'],\n",
       "      dtype='object')"
      ]
     },
     "execution_count": 219,
     "metadata": {},
     "output_type": "execute_result"
    }
   ],
   "source": [
    "team_advanced_stats_15to16.columns"
   ]
  },
  {
   "cell_type": "markdown",
   "metadata": {},
   "source": [
    "**Get Team Advanced Statistics from 2014-15 Regular Season**"
   ]
  },
  {
   "cell_type": "code",
   "execution_count": 16,
   "metadata": {
    "collapsed": false
   },
   "outputs": [],
   "source": [
    "team_advanced_stats_14to15 = get_team_advanced_stats('2014-15')"
   ]
  },
  {
   "cell_type": "code",
   "execution_count": 17,
   "metadata": {
    "collapsed": true
   },
   "outputs": [],
   "source": [
    "team_advanced_stats_14to15.to_pickle('raw_team_advanced_stats_14to15')"
   ]
  },
  {
   "cell_type": "markdown",
   "metadata": {},
   "source": [
    "**Get Team Advanced Statistics from 2016-17 Regular Season**"
   ]
  },
  {
   "cell_type": "code",
   "execution_count": null,
   "metadata": {
    "collapsed": true
   },
   "outputs": [],
   "source": []
  },
  {
   "cell_type": "code",
   "execution_count": null,
   "metadata": {
    "collapsed": true
   },
   "outputs": [],
   "source": []
  },
  {
   "cell_type": "code",
   "execution_count": null,
   "metadata": {
    "collapsed": true
   },
   "outputs": [],
   "source": []
  },
  {
   "cell_type": "markdown",
   "metadata": {},
   "source": [
    "## Retrieve Team Defense Statistics from [NBA Website](http://stats.nba.com/)"
   ]
  },
  {
   "cell_type": "code",
   "execution_count": 19,
   "metadata": {
    "collapsed": true
   },
   "outputs": [],
   "source": [
    "def get_team_defense_stats(season):\n",
    "    '''\n",
    "    Input: Season of Interest (ie. 2016-17)\n",
    "    Output: Pandas Dataframe of Team Defense Statistics during Regular Season\n",
    "    '''\n",
    "    url_base = 'http://stats.nba.com/stats/leaguedashteamstats?Conference='\\\n",
    "               '&DateFrom=&DateTo=&Division=&GameScope=&GameSegment=&LastNGames=0'\\\n",
    "               '&LeagueID=00&Location=&MeasureType=Defense&Month=0&OpponentTeamID=0'\\\n",
    "               '&Outcome=&PORound=0&PaceAdjust=N&PerMode=PerGame&Period=0&PlayerExperience='\\\n",
    "               '&PlayerPosition=&PlusMinus=N&Rank=N&Season={}&SeasonSegment='\\\n",
    "               '&SeasonType=Regular+Season&ShotClockRange=&StarterBench=&TeamID=0&VsConference=&VsDivision='.format(season)\n",
    "    \n",
    "    response = requests.get(url_base)\n",
    "    response.raise_for_status() # Raises error if request returns unsuccessful status code\n",
    "\n",
    "    data = json.loads(response.text)\n",
    "\n",
    "    headers = data['resultSets'][0]['headers']\n",
    "    team_stats = data['resultSets'][0]['rowSet']\n",
    "    \n",
    "    df = pd.DataFrame(team_stats, columns=headers) \n",
    "    return df    "
   ]
  },
  {
   "cell_type": "markdown",
   "metadata": {},
   "source": [
    "**Get Team Defense Statistics from 2015-16 Regular Season**"
   ]
  },
  {
   "cell_type": "code",
   "execution_count": 197,
   "metadata": {
    "collapsed": true
   },
   "outputs": [],
   "source": [
    "team_defense_stats_15to16 = get_team_defense_stats('2015-16')"
   ]
  },
  {
   "cell_type": "code",
   "execution_count": 198,
   "metadata": {
    "collapsed": true
   },
   "outputs": [],
   "source": [
    "team_defense_stats_15to16.to_pickle('raw_team_defense_stats_15to16')"
   ]
  },
  {
   "cell_type": "code",
   "execution_count": 199,
   "metadata": {
    "collapsed": false
   },
   "outputs": [
    {
     "data": {
      "text/html": [
       "<div>\n",
       "<table border=\"1\" class=\"dataframe\">\n",
       "  <thead>\n",
       "    <tr style=\"text-align: right;\">\n",
       "      <th></th>\n",
       "      <th>TEAM_ID</th>\n",
       "      <th>TEAM_NAME</th>\n",
       "      <th>GP</th>\n",
       "      <th>W</th>\n",
       "      <th>L</th>\n",
       "      <th>W_PCT</th>\n",
       "      <th>MIN</th>\n",
       "      <th>DEF_RATING</th>\n",
       "      <th>DREB</th>\n",
       "      <th>DREB_PCT</th>\n",
       "      <th>...</th>\n",
       "      <th>DREB_RANK</th>\n",
       "      <th>DREB_PCT_RANK</th>\n",
       "      <th>STL_RANK</th>\n",
       "      <th>BLK_RANK</th>\n",
       "      <th>OPP_PTS_OFF_TOV_RANK</th>\n",
       "      <th>OPP_PTS_2ND_CHANCE_RANK</th>\n",
       "      <th>OPP_PTS_FB_RANK</th>\n",
       "      <th>OPP_PTS_PAINT_RANK</th>\n",
       "      <th>CFID</th>\n",
       "      <th>CFPARAMS</th>\n",
       "    </tr>\n",
       "  </thead>\n",
       "  <tbody>\n",
       "    <tr>\n",
       "      <th>0</th>\n",
       "      <td>1610612737</td>\n",
       "      <td>Atlanta Hawks</td>\n",
       "      <td>82</td>\n",
       "      <td>48</td>\n",
       "      <td>34</td>\n",
       "      <td>0.585</td>\n",
       "      <td>48.4</td>\n",
       "      <td>98.8</td>\n",
       "      <td>33.8</td>\n",
       "      <td>0.746</td>\n",
       "      <td>...</td>\n",
       "      <td>13</td>\n",
       "      <td>25</td>\n",
       "      <td>3</td>\n",
       "      <td>5</td>\n",
       "      <td>14</td>\n",
       "      <td>18</td>\n",
       "      <td>9</td>\n",
       "      <td>8</td>\n",
       "      <td>10</td>\n",
       "      <td>Atlanta Hawks</td>\n",
       "    </tr>\n",
       "    <tr>\n",
       "      <th>1</th>\n",
       "      <td>1610612738</td>\n",
       "      <td>Boston Celtics</td>\n",
       "      <td>82</td>\n",
       "      <td>48</td>\n",
       "      <td>34</td>\n",
       "      <td>0.585</td>\n",
       "      <td>48.2</td>\n",
       "      <td>100.9</td>\n",
       "      <td>33.3</td>\n",
       "      <td>0.746</td>\n",
       "      <td>...</td>\n",
       "      <td>15</td>\n",
       "      <td>26</td>\n",
       "      <td>2</td>\n",
       "      <td>22</td>\n",
       "      <td>6</td>\n",
       "      <td>26</td>\n",
       "      <td>3</td>\n",
       "      <td>14</td>\n",
       "      <td>10</td>\n",
       "      <td>Boston Celtics</td>\n",
       "    </tr>\n",
       "    <tr>\n",
       "      <th>2</th>\n",
       "      <td>1610612751</td>\n",
       "      <td>Brooklyn Nets</td>\n",
       "      <td>82</td>\n",
       "      <td>21</td>\n",
       "      <td>61</td>\n",
       "      <td>0.256</td>\n",
       "      <td>48.2</td>\n",
       "      <td>108.5</td>\n",
       "      <td>31.9</td>\n",
       "      <td>0.757</td>\n",
       "      <td>...</td>\n",
       "      <td>25</td>\n",
       "      <td>19</td>\n",
       "      <td>19</td>\n",
       "      <td>25</td>\n",
       "      <td>26</td>\n",
       "      <td>11</td>\n",
       "      <td>24</td>\n",
       "      <td>30</td>\n",
       "      <td>10</td>\n",
       "      <td>Brooklyn Nets</td>\n",
       "    </tr>\n",
       "    <tr>\n",
       "      <th>3</th>\n",
       "      <td>1610612766</td>\n",
       "      <td>Charlotte Hornets</td>\n",
       "      <td>82</td>\n",
       "      <td>48</td>\n",
       "      <td>34</td>\n",
       "      <td>0.585</td>\n",
       "      <td>48.4</td>\n",
       "      <td>101.8</td>\n",
       "      <td>35.0</td>\n",
       "      <td>0.798</td>\n",
       "      <td>...</td>\n",
       "      <td>4</td>\n",
       "      <td>1</td>\n",
       "      <td>22</td>\n",
       "      <td>12</td>\n",
       "      <td>2</td>\n",
       "      <td>5</td>\n",
       "      <td>13</td>\n",
       "      <td>3</td>\n",
       "      <td>10</td>\n",
       "      <td>Charlotte Hornets</td>\n",
       "    </tr>\n",
       "    <tr>\n",
       "      <th>4</th>\n",
       "      <td>1610612741</td>\n",
       "      <td>Chicago Bulls</td>\n",
       "      <td>82</td>\n",
       "      <td>42</td>\n",
       "      <td>40</td>\n",
       "      <td>0.512</td>\n",
       "      <td>48.5</td>\n",
       "      <td>103.9</td>\n",
       "      <td>35.2</td>\n",
       "      <td>0.749</td>\n",
       "      <td>...</td>\n",
       "      <td>3</td>\n",
       "      <td>21</td>\n",
       "      <td>29</td>\n",
       "      <td>8</td>\n",
       "      <td>16</td>\n",
       "      <td>27</td>\n",
       "      <td>21</td>\n",
       "      <td>23</td>\n",
       "      <td>10</td>\n",
       "      <td>Chicago Bulls</td>\n",
       "    </tr>\n",
       "  </tbody>\n",
       "</table>\n",
       "<p>5 rows × 32 columns</p>\n",
       "</div>"
      ],
      "text/plain": [
       "      TEAM_ID          TEAM_NAME  GP   W   L  W_PCT   MIN  DEF_RATING  DREB  \\\n",
       "0  1610612737      Atlanta Hawks  82  48  34  0.585  48.4        98.8  33.8   \n",
       "1  1610612738     Boston Celtics  82  48  34  0.585  48.2       100.9  33.3   \n",
       "2  1610612751      Brooklyn Nets  82  21  61  0.256  48.2       108.5  31.9   \n",
       "3  1610612766  Charlotte Hornets  82  48  34  0.585  48.4       101.8  35.0   \n",
       "4  1610612741      Chicago Bulls  82  42  40  0.512  48.5       103.9  35.2   \n",
       "\n",
       "   DREB_PCT        ...          DREB_RANK  DREB_PCT_RANK  STL_RANK  BLK_RANK  \\\n",
       "0     0.746        ...                 13             25         3         5   \n",
       "1     0.746        ...                 15             26         2        22   \n",
       "2     0.757        ...                 25             19        19        25   \n",
       "3     0.798        ...                  4              1        22        12   \n",
       "4     0.749        ...                  3             21        29         8   \n",
       "\n",
       "   OPP_PTS_OFF_TOV_RANK  OPP_PTS_2ND_CHANCE_RANK  OPP_PTS_FB_RANK  \\\n",
       "0                    14                       18                9   \n",
       "1                     6                       26                3   \n",
       "2                    26                       11               24   \n",
       "3                     2                        5               13   \n",
       "4                    16                       27               21   \n",
       "\n",
       "   OPP_PTS_PAINT_RANK  CFID           CFPARAMS  \n",
       "0                   8    10      Atlanta Hawks  \n",
       "1                  14    10     Boston Celtics  \n",
       "2                  30    10      Brooklyn Nets  \n",
       "3                   3    10  Charlotte Hornets  \n",
       "4                  23    10      Chicago Bulls  \n",
       "\n",
       "[5 rows x 32 columns]"
      ]
     },
     "execution_count": 199,
     "metadata": {},
     "output_type": "execute_result"
    }
   ],
   "source": [
    "# Preview Data\n",
    "team_defense_stats_15to16.head()"
   ]
  },
  {
   "cell_type": "markdown",
   "metadata": {},
   "source": [
    "**Get Team Defense Statistics from 2014-15 Regular Season**"
   ]
  },
  {
   "cell_type": "code",
   "execution_count": 24,
   "metadata": {
    "collapsed": false
   },
   "outputs": [],
   "source": [
    "team_defense_stats_14to15 = get_team_defense_stats('2014-15')"
   ]
  },
  {
   "cell_type": "code",
   "execution_count": 25,
   "metadata": {
    "collapsed": true
   },
   "outputs": [],
   "source": [
    "team_defense_stats_14to15.to_pickle('raw_team_defense_stats_14to15')"
   ]
  },
  {
   "cell_type": "markdown",
   "metadata": {},
   "source": [
    "**Get Team Defense Statistics from 2016-17 Regular Season**"
   ]
  },
  {
   "cell_type": "code",
   "execution_count": null,
   "metadata": {
    "collapsed": true
   },
   "outputs": [],
   "source": []
  },
  {
   "cell_type": "code",
   "execution_count": null,
   "metadata": {
    "collapsed": true
   },
   "outputs": [],
   "source": []
  },
  {
   "cell_type": "code",
   "execution_count": null,
   "metadata": {
    "collapsed": true
   },
   "outputs": [],
   "source": []
  },
  {
   "cell_type": "markdown",
   "metadata": {},
   "source": [
    "## Retrieve Team Game Logs from [NBA Website](http://stats.nba.com/)"
   ]
  },
  {
   "cell_type": "code",
   "execution_count": 46,
   "metadata": {
    "collapsed": true
   },
   "outputs": [],
   "source": [
    "def get_team_game_logs(season):\n",
    "    '''\n",
    "    Input: Season of Interest (ie. 2016-17)\n",
    "    Output: Pandas Dataframe of Team Game Logs during Regular Season\n",
    "    '''\n",
    "    url_base = 'http://stats.nba.com/stats/leaguegamefinder?'\\\n",
    "               'Conference=&DateFrom=&DateTo=&Division=&DraftNumber='\\\n",
    "               '&DraftRound=&DraftYear=&GB=N&LeagueID=00&Location=&Outcome='\\\n",
    "               '&PlayerOrTeam=T&Season={}&SeasonType=Regular+Season&StatCategory='\\\n",
    "               'PTS&TeamID=&VsConference=&VsDivision=&VsTeamID='.format(season)\n",
    "            \n",
    "    response = requests.get(url_base)\n",
    "    response.raise_for_status() # Raises error if request returns unsuccessful status code\n",
    "    \n",
    "    data = json.loads(response.text)\n",
    "    \n",
    "    headers = data['resultSets'][0]['headers']\n",
    "    team_logs = data['resultSets'][0]['rowSet']\n",
    "    \n",
    "    df = pd.DataFrame(team_logs, columns=headers) \n",
    "    return df    "
   ]
  },
  {
   "cell_type": "markdown",
   "metadata": {},
   "source": [
    "**Get Team Game Logs from 2015-16 Regular Season**"
   ]
  },
  {
   "cell_type": "code",
   "execution_count": 45,
   "metadata": {
    "collapsed": true
   },
   "outputs": [],
   "source": [
    "team_game_log_15to16 = get_team_game_logs('2015-16')"
   ]
  },
  {
   "cell_type": "code",
   "execution_count": 46,
   "metadata": {
    "collapsed": true
   },
   "outputs": [],
   "source": [
    "team_game_log_15to16.to_pickle('raw_team_game_log_15to16')"
   ]
  },
  {
   "cell_type": "code",
   "execution_count": 47,
   "metadata": {
    "collapsed": false
   },
   "outputs": [
    {
     "data": {
      "text/html": [
       "<div>\n",
       "<table border=\"1\" class=\"dataframe\">\n",
       "  <thead>\n",
       "    <tr style=\"text-align: right;\">\n",
       "      <th></th>\n",
       "      <th>SEASON_ID</th>\n",
       "      <th>TEAM_ID</th>\n",
       "      <th>TEAM_ABBREVIATION</th>\n",
       "      <th>TEAM_NAME</th>\n",
       "      <th>GAME_ID</th>\n",
       "      <th>GAME_DATE</th>\n",
       "      <th>MATCHUP</th>\n",
       "      <th>WL</th>\n",
       "      <th>MIN</th>\n",
       "      <th>PTS</th>\n",
       "      <th>...</th>\n",
       "      <th>FT_PCT</th>\n",
       "      <th>OREB</th>\n",
       "      <th>DREB</th>\n",
       "      <th>REB</th>\n",
       "      <th>AST</th>\n",
       "      <th>STL</th>\n",
       "      <th>BLK</th>\n",
       "      <th>TOV</th>\n",
       "      <th>PF</th>\n",
       "      <th>PLUS_MINUS</th>\n",
       "    </tr>\n",
       "  </thead>\n",
       "  <tbody>\n",
       "    <tr>\n",
       "      <th>0</th>\n",
       "      <td>22015</td>\n",
       "      <td>1610612737</td>\n",
       "      <td>ATL</td>\n",
       "      <td>Atlanta Hawks</td>\n",
       "      <td>0021501221</td>\n",
       "      <td>2016-04-13</td>\n",
       "      <td>ATL @ WAS</td>\n",
       "      <td>L</td>\n",
       "      <td>240</td>\n",
       "      <td>98</td>\n",
       "      <td>...</td>\n",
       "      <td>0.742</td>\n",
       "      <td>9</td>\n",
       "      <td>38</td>\n",
       "      <td>47</td>\n",
       "      <td>22</td>\n",
       "      <td>13</td>\n",
       "      <td>5</td>\n",
       "      <td>22</td>\n",
       "      <td>21</td>\n",
       "      <td>-11.0</td>\n",
       "    </tr>\n",
       "    <tr>\n",
       "      <th>1</th>\n",
       "      <td>22015</td>\n",
       "      <td>1610612762</td>\n",
       "      <td>UTA</td>\n",
       "      <td>Utah Jazz</td>\n",
       "      <td>0021501228</td>\n",
       "      <td>2016-04-13</td>\n",
       "      <td>UTA @ LAL</td>\n",
       "      <td>L</td>\n",
       "      <td>240</td>\n",
       "      <td>96</td>\n",
       "      <td>...</td>\n",
       "      <td>0.600</td>\n",
       "      <td>8</td>\n",
       "      <td>30</td>\n",
       "      <td>38</td>\n",
       "      <td>27</td>\n",
       "      <td>10</td>\n",
       "      <td>1</td>\n",
       "      <td>13</td>\n",
       "      <td>16</td>\n",
       "      <td>-5.0</td>\n",
       "    </tr>\n",
       "    <tr>\n",
       "      <th>2</th>\n",
       "      <td>22015</td>\n",
       "      <td>1610612740</td>\n",
       "      <td>NOP</td>\n",
       "      <td>New Orleans Pelicans</td>\n",
       "      <td>0021501226</td>\n",
       "      <td>2016-04-13</td>\n",
       "      <td>NOP @ MIN</td>\n",
       "      <td>L</td>\n",
       "      <td>240</td>\n",
       "      <td>109</td>\n",
       "      <td>...</td>\n",
       "      <td>0.818</td>\n",
       "      <td>10</td>\n",
       "      <td>23</td>\n",
       "      <td>33</td>\n",
       "      <td>31</td>\n",
       "      <td>7</td>\n",
       "      <td>0</td>\n",
       "      <td>16</td>\n",
       "      <td>16</td>\n",
       "      <td>-35.0</td>\n",
       "    </tr>\n",
       "    <tr>\n",
       "      <th>3</th>\n",
       "      <td>22015</td>\n",
       "      <td>1610612745</td>\n",
       "      <td>HOU</td>\n",
       "      <td>Houston Rockets</td>\n",
       "      <td>0021501224</td>\n",
       "      <td>2016-04-13</td>\n",
       "      <td>HOU vs. SAC</td>\n",
       "      <td>W</td>\n",
       "      <td>239</td>\n",
       "      <td>116</td>\n",
       "      <td>...</td>\n",
       "      <td>0.632</td>\n",
       "      <td>14</td>\n",
       "      <td>41</td>\n",
       "      <td>55</td>\n",
       "      <td>33</td>\n",
       "      <td>11</td>\n",
       "      <td>7</td>\n",
       "      <td>14</td>\n",
       "      <td>15</td>\n",
       "      <td>35.0</td>\n",
       "    </tr>\n",
       "    <tr>\n",
       "      <th>4</th>\n",
       "      <td>22015</td>\n",
       "      <td>1610612757</td>\n",
       "      <td>POR</td>\n",
       "      <td>Portland Trail Blazers</td>\n",
       "      <td>0021501230</td>\n",
       "      <td>2016-04-13</td>\n",
       "      <td>POR vs. DEN</td>\n",
       "      <td>W</td>\n",
       "      <td>241</td>\n",
       "      <td>107</td>\n",
       "      <td>...</td>\n",
       "      <td>0.818</td>\n",
       "      <td>13</td>\n",
       "      <td>32</td>\n",
       "      <td>45</td>\n",
       "      <td>19</td>\n",
       "      <td>11</td>\n",
       "      <td>8</td>\n",
       "      <td>15</td>\n",
       "      <td>19</td>\n",
       "      <td>8.0</td>\n",
       "    </tr>\n",
       "  </tbody>\n",
       "</table>\n",
       "<p>5 rows × 28 columns</p>\n",
       "</div>"
      ],
      "text/plain": [
       "  SEASON_ID     TEAM_ID TEAM_ABBREVIATION               TEAM_NAME     GAME_ID  \\\n",
       "0     22015  1610612737               ATL           Atlanta Hawks  0021501221   \n",
       "1     22015  1610612762               UTA               Utah Jazz  0021501228   \n",
       "2     22015  1610612740               NOP    New Orleans Pelicans  0021501226   \n",
       "3     22015  1610612745               HOU         Houston Rockets  0021501224   \n",
       "4     22015  1610612757               POR  Portland Trail Blazers  0021501230   \n",
       "\n",
       "    GAME_DATE      MATCHUP WL  MIN  PTS     ...      FT_PCT  OREB  DREB  REB  \\\n",
       "0  2016-04-13    ATL @ WAS  L  240   98     ...       0.742     9    38   47   \n",
       "1  2016-04-13    UTA @ LAL  L  240   96     ...       0.600     8    30   38   \n",
       "2  2016-04-13    NOP @ MIN  L  240  109     ...       0.818    10    23   33   \n",
       "3  2016-04-13  HOU vs. SAC  W  239  116     ...       0.632    14    41   55   \n",
       "4  2016-04-13  POR vs. DEN  W  241  107     ...       0.818    13    32   45   \n",
       "\n",
       "   AST  STL  BLK  TOV  PF  PLUS_MINUS  \n",
       "0   22   13    5   22  21       -11.0  \n",
       "1   27   10    1   13  16        -5.0  \n",
       "2   31    7    0   16  16       -35.0  \n",
       "3   33   11    7   14  15        35.0  \n",
       "4   19   11    8   15  19         8.0  \n",
       "\n",
       "[5 rows x 28 columns]"
      ]
     },
     "execution_count": 47,
     "metadata": {},
     "output_type": "execute_result"
    }
   ],
   "source": [
    "# Preview Data\n",
    "team_game_log_15to16.head()"
   ]
  },
  {
   "cell_type": "markdown",
   "metadata": {},
   "source": [
    "**Get Team Game Logs from 2014-15 Regular Season**"
   ]
  },
  {
   "cell_type": "code",
   "execution_count": 47,
   "metadata": {
    "collapsed": false
   },
   "outputs": [],
   "source": [
    "team_game_log_14to15 = get_team_game_logs('2014-15')"
   ]
  },
  {
   "cell_type": "code",
   "execution_count": 48,
   "metadata": {
    "collapsed": true
   },
   "outputs": [],
   "source": [
    "team_game_log_14to15.to_pickle('raw_team_game_log_14to15')"
   ]
  },
  {
   "cell_type": "markdown",
   "metadata": {},
   "source": [
    "**Get Team Game Logs from 2016-17 Regular Season**"
   ]
  },
  {
   "cell_type": "code",
   "execution_count": null,
   "metadata": {
    "collapsed": true
   },
   "outputs": [],
   "source": []
  },
  {
   "cell_type": "code",
   "execution_count": null,
   "metadata": {
    "collapsed": true
   },
   "outputs": [],
   "source": []
  },
  {
   "cell_type": "code",
   "execution_count": null,
   "metadata": {
    "collapsed": true
   },
   "outputs": [],
   "source": []
  },
  {
   "cell_type": "markdown",
   "metadata": {},
   "source": [
    "## Retrieve Team Opponent Statistics from [NBA Website](http://stats.nba.com/)"
   ]
  },
  {
   "cell_type": "code",
   "execution_count": 80,
   "metadata": {
    "collapsed": false
   },
   "outputs": [],
   "source": [
    "def get_team_opponent_stats(season):\n",
    "    '''\n",
    "    Input: Season of Interest (ie. 2016-17)\n",
    "    Output: Pandas Dataframe of Team Opponent Stats during Regular Season\n",
    "    '''\n",
    "    url_base = 'http://stats.nba.com/stats/leaguedashteamstats?Conference='\\\n",
    "               '&DateFrom=&DateTo=&Division=&GameScope=&GameSegment=&LastNGames=0'\\\n",
    "               '&LeagueID=00&Location=&MeasureType=Opponent&Month=0&OpponentTeamID=0'\\\n",
    "               '&Outcome=&PORound=0&PaceAdjust=N&PerMode=PerGame&Period=0&PlayerExperience='\\\n",
    "               '&PlayerPosition=&PlusMinus=N&Rank=N&Season={}&SeasonSegment=&SeasonType=Regular+Season'\\\n",
    "               '&ShotClockRange=&StarterBench=&TeamID=0&VsConference=&VsDivision='.format(season)\n",
    "            \n",
    "    response = requests.get(url_base)\n",
    "    response.raise_for_status() # Raises error if request returns unsuccessful status code\n",
    "    \n",
    "    data = json.loads(response.text)\n",
    "    \n",
    "    headers = data['resultSets'][0]['headers']\n",
    "    team_opponents = data['resultSets'][0]['rowSet']\n",
    "    \n",
    "    df = pd.DataFrame(team_opponents, columns=headers) \n",
    "    return df"
   ]
  },
  {
   "cell_type": "markdown",
   "metadata": {},
   "source": [
    "**Get Team Opponent Stats from 2015-16 Regular Season**"
   ]
  },
  {
   "cell_type": "code",
   "execution_count": 215,
   "metadata": {
    "collapsed": true
   },
   "outputs": [],
   "source": [
    "team_opponent_stats_15to16 = get_team_opponent_stats('2015-16')"
   ]
  },
  {
   "cell_type": "code",
   "execution_count": 216,
   "metadata": {
    "collapsed": true
   },
   "outputs": [],
   "source": [
    "team_opponent_stats_15to16.to_pickle('raw_team_opponent_stats_15to16')"
   ]
  },
  {
   "cell_type": "code",
   "execution_count": 218,
   "metadata": {
    "collapsed": false
   },
   "outputs": [
    {
     "data": {
      "text/html": [
       "<div>\n",
       "<table border=\"1\" class=\"dataframe\">\n",
       "  <thead>\n",
       "    <tr style=\"text-align: right;\">\n",
       "      <th></th>\n",
       "      <th>TEAM_ID</th>\n",
       "      <th>TEAM_NAME</th>\n",
       "      <th>GP</th>\n",
       "      <th>W</th>\n",
       "      <th>L</th>\n",
       "      <th>W_PCT</th>\n",
       "      <th>MIN</th>\n",
       "      <th>OPP_FGM</th>\n",
       "      <th>OPP_FGA</th>\n",
       "      <th>OPP_FG_PCT</th>\n",
       "      <th>...</th>\n",
       "      <th>OPP_TOV_RANK</th>\n",
       "      <th>OPP_STL_RANK</th>\n",
       "      <th>OPP_BLK_RANK</th>\n",
       "      <th>OPP_BLKA_RANK</th>\n",
       "      <th>OPP_PF_RANK</th>\n",
       "      <th>OPP_PFD_RANK</th>\n",
       "      <th>OPP_PTS_RANK</th>\n",
       "      <th>PLUS_MINUS_RANK</th>\n",
       "      <th>CFID</th>\n",
       "      <th>CFPARAMS</th>\n",
       "    </tr>\n",
       "  </thead>\n",
       "  <tbody>\n",
       "    <tr>\n",
       "      <th>0</th>\n",
       "      <td>1610612737</td>\n",
       "      <td>Atlanta Hawks</td>\n",
       "      <td>82</td>\n",
       "      <td>48</td>\n",
       "      <td>34</td>\n",
       "      <td>0.585</td>\n",
       "      <td>48.4</td>\n",
       "      <td>37.1</td>\n",
       "      <td>86.1</td>\n",
       "      <td>0.432</td>\n",
       "      <td>...</td>\n",
       "      <td>5</td>\n",
       "      <td>23</td>\n",
       "      <td>14</td>\n",
       "      <td>5</td>\n",
       "      <td>2</td>\n",
       "      <td>24</td>\n",
       "      <td>6</td>\n",
       "      <td>7</td>\n",
       "      <td>10</td>\n",
       "      <td>Atlanta Hawks</td>\n",
       "    </tr>\n",
       "    <tr>\n",
       "      <th>1</th>\n",
       "      <td>1610612738</td>\n",
       "      <td>Boston Celtics</td>\n",
       "      <td>82</td>\n",
       "      <td>48</td>\n",
       "      <td>34</td>\n",
       "      <td>0.585</td>\n",
       "      <td>48.2</td>\n",
       "      <td>37.5</td>\n",
       "      <td>85.0</td>\n",
       "      <td>0.441</td>\n",
       "      <td>...</td>\n",
       "      <td>2</td>\n",
       "      <td>14</td>\n",
       "      <td>24</td>\n",
       "      <td>22</td>\n",
       "      <td>21</td>\n",
       "      <td>2</td>\n",
       "      <td>13</td>\n",
       "      <td>8</td>\n",
       "      <td>10</td>\n",
       "      <td>Boston Celtics</td>\n",
       "    </tr>\n",
       "    <tr>\n",
       "      <th>2</th>\n",
       "      <td>1610612751</td>\n",
       "      <td>Brooklyn Nets</td>\n",
       "      <td>82</td>\n",
       "      <td>21</td>\n",
       "      <td>61</td>\n",
       "      <td>0.256</td>\n",
       "      <td>48.2</td>\n",
       "      <td>40.8</td>\n",
       "      <td>85.2</td>\n",
       "      <td>0.479</td>\n",
       "      <td>...</td>\n",
       "      <td>16</td>\n",
       "      <td>27</td>\n",
       "      <td>18</td>\n",
       "      <td>25</td>\n",
       "      <td>3</td>\n",
       "      <td>29</td>\n",
       "      <td>24</td>\n",
       "      <td>28</td>\n",
       "      <td>10</td>\n",
       "      <td>Brooklyn Nets</td>\n",
       "    </tr>\n",
       "    <tr>\n",
       "      <th>3</th>\n",
       "      <td>1610612766</td>\n",
       "      <td>Charlotte Hornets</td>\n",
       "      <td>82</td>\n",
       "      <td>48</td>\n",
       "      <td>34</td>\n",
       "      <td>0.585</td>\n",
       "      <td>48.4</td>\n",
       "      <td>37.8</td>\n",
       "      <td>85.0</td>\n",
       "      <td>0.444</td>\n",
       "      <td>...</td>\n",
       "      <td>21</td>\n",
       "      <td>2</td>\n",
       "      <td>21</td>\n",
       "      <td>12</td>\n",
       "      <td>17</td>\n",
       "      <td>28</td>\n",
       "      <td>9</td>\n",
       "      <td>9</td>\n",
       "      <td>10</td>\n",
       "      <td>Charlotte Hornets</td>\n",
       "    </tr>\n",
       "    <tr>\n",
       "      <th>4</th>\n",
       "      <td>1610612741</td>\n",
       "      <td>Chicago Bulls</td>\n",
       "      <td>82</td>\n",
       "      <td>42</td>\n",
       "      <td>40</td>\n",
       "      <td>0.512</td>\n",
       "      <td>48.5</td>\n",
       "      <td>39.4</td>\n",
       "      <td>89.4</td>\n",
       "      <td>0.441</td>\n",
       "      <td>...</td>\n",
       "      <td>29</td>\n",
       "      <td>19</td>\n",
       "      <td>27</td>\n",
       "      <td>8</td>\n",
       "      <td>5</td>\n",
       "      <td>26</td>\n",
       "      <td>16</td>\n",
       "      <td>18</td>\n",
       "      <td>10</td>\n",
       "      <td>Chicago Bulls</td>\n",
       "    </tr>\n",
       "  </tbody>\n",
       "</table>\n",
       "<p>5 rows × 56 columns</p>\n",
       "</div>"
      ],
      "text/plain": [
       "      TEAM_ID          TEAM_NAME  GP   W   L  W_PCT   MIN  OPP_FGM  OPP_FGA  \\\n",
       "0  1610612737      Atlanta Hawks  82  48  34  0.585  48.4     37.1     86.1   \n",
       "1  1610612738     Boston Celtics  82  48  34  0.585  48.2     37.5     85.0   \n",
       "2  1610612751      Brooklyn Nets  82  21  61  0.256  48.2     40.8     85.2   \n",
       "3  1610612766  Charlotte Hornets  82  48  34  0.585  48.4     37.8     85.0   \n",
       "4  1610612741      Chicago Bulls  82  42  40  0.512  48.5     39.4     89.4   \n",
       "\n",
       "   OPP_FG_PCT        ...          OPP_TOV_RANK  OPP_STL_RANK  OPP_BLK_RANK  \\\n",
       "0       0.432        ...                     5            23            14   \n",
       "1       0.441        ...                     2            14            24   \n",
       "2       0.479        ...                    16            27            18   \n",
       "3       0.444        ...                    21             2            21   \n",
       "4       0.441        ...                    29            19            27   \n",
       "\n",
       "   OPP_BLKA_RANK  OPP_PF_RANK  OPP_PFD_RANK  OPP_PTS_RANK  PLUS_MINUS_RANK  \\\n",
       "0              5            2            24             6                7   \n",
       "1             22           21             2            13                8   \n",
       "2             25            3            29            24               28   \n",
       "3             12           17            28             9                9   \n",
       "4              8            5            26            16               18   \n",
       "\n",
       "   CFID           CFPARAMS  \n",
       "0    10      Atlanta Hawks  \n",
       "1    10     Boston Celtics  \n",
       "2    10      Brooklyn Nets  \n",
       "3    10  Charlotte Hornets  \n",
       "4    10      Chicago Bulls  \n",
       "\n",
       "[5 rows x 56 columns]"
      ]
     },
     "execution_count": 218,
     "metadata": {},
     "output_type": "execute_result"
    }
   ],
   "source": [
    "# Preview Data\n",
    "team_opponent_stats_15to16.head()"
   ]
  },
  {
   "cell_type": "markdown",
   "metadata": {},
   "source": [
    "**Get Team Opponent Stats from 2014-15 Regular Season**"
   ]
  },
  {
   "cell_type": "code",
   "execution_count": 81,
   "metadata": {
    "collapsed": false
   },
   "outputs": [],
   "source": [
    "team_opponent_stats_14to15 = get_team_opponent_stats('2014-15')"
   ]
  },
  {
   "cell_type": "code",
   "execution_count": 82,
   "metadata": {
    "collapsed": true
   },
   "outputs": [],
   "source": [
    "team_opponent_stats_14to15.to_pickle('raw_team_opponent_stats_14to15')"
   ]
  },
  {
   "cell_type": "markdown",
   "metadata": {},
   "source": [
    "**Get Team Opponent Stats from 2016-17 Regular Season**"
   ]
  },
  {
   "cell_type": "code",
   "execution_count": null,
   "metadata": {
    "collapsed": true
   },
   "outputs": [],
   "source": []
  },
  {
   "cell_type": "code",
   "execution_count": null,
   "metadata": {
    "collapsed": true
   },
   "outputs": [],
   "source": []
  },
  {
   "cell_type": "code",
   "execution_count": null,
   "metadata": {
    "collapsed": true
   },
   "outputs": [],
   "source": []
  },
  {
   "cell_type": "markdown",
   "metadata": {},
   "source": [
    "## Retrieve Player Overall Statistics from [NBA Website](http://stats.nba.com/)"
   ]
  },
  {
   "cell_type": "code",
   "execution_count": 74,
   "metadata": {
    "collapsed": true
   },
   "outputs": [],
   "source": [
    "def get_general_player_stats(season):\n",
    "    '''\n",
    "    Input: Season of Interest (ie. 2016-17)\n",
    "    Output: Pandas Dataframe of General Player Statistics \n",
    "    '''\n",
    "    url_base = 'http://stats.nba.com/stats/leaguedashplayerstats?'\\\n",
    "               'College=&Conference=&Country=&DateFrom=&DateTo=&Division='\\\n",
    "               '&DraftPick=&DraftYear=&GameScope=&GameSegment=&Height=&LastNGames=0'\\\n",
    "               '&LeagueID=00&Location=&MeasureType=Base&Month=0&OpponentTeamID=0&Outcome='\\\n",
    "               '&PORound=0&PaceAdjust=N&PerMode=PerGame&Period=0&PlayerExperience='\\\n",
    "               '&PlayerPosition=&PlusMinus=N&Rank=N&Season={}&SeasonSegment=&SeasonType=Regular+Season'\\\n",
    "               '&ShotClockRange=&StarterBench=&TeamID=0&VsConference=&VsDivision=&Weight='.format(season)\n",
    "    \n",
    "    response = requests.get(url_base)\n",
    "    response.raise_for_status() # Raises error if request returns unsuccessful status code    \n",
    "    \n",
    "    data = json.loads(response.text)\n",
    "    \n",
    "    headers = data['resultSets'][0]['headers']\n",
    "    player_stats = data['resultSets'][0]['rowSet']\n",
    "    \n",
    "    df = pd.DataFrame(player_stats, columns=headers) \n",
    "    return df        "
   ]
  },
  {
   "cell_type": "markdown",
   "metadata": {},
   "source": [
    "**Get Player General Statistics from 2015-16 Regular Season**"
   ]
  },
  {
   "cell_type": "code",
   "execution_count": 51,
   "metadata": {
    "collapsed": false
   },
   "outputs": [],
   "source": [
    "player_general_stats_15to16 = get_general_player_stats('2015-16')"
   ]
  },
  {
   "cell_type": "code",
   "execution_count": 52,
   "metadata": {
    "collapsed": true
   },
   "outputs": [],
   "source": [
    "player_general_stats_15to16.to_pickle('raw_player_general_stats_15to16')"
   ]
  },
  {
   "cell_type": "code",
   "execution_count": 53,
   "metadata": {
    "collapsed": false
   },
   "outputs": [
    {
     "data": {
      "text/html": [
       "<div>\n",
       "<table border=\"1\" class=\"dataframe\">\n",
       "  <thead>\n",
       "    <tr style=\"text-align: right;\">\n",
       "      <th></th>\n",
       "      <th>PLAYER_ID</th>\n",
       "      <th>PLAYER_NAME</th>\n",
       "      <th>TEAM_ID</th>\n",
       "      <th>TEAM_ABBREVIATION</th>\n",
       "      <th>AGE</th>\n",
       "      <th>GP</th>\n",
       "      <th>W</th>\n",
       "      <th>L</th>\n",
       "      <th>W_PCT</th>\n",
       "      <th>MIN</th>\n",
       "      <th>...</th>\n",
       "      <th>BLK_RANK</th>\n",
       "      <th>BLKA_RANK</th>\n",
       "      <th>PF_RANK</th>\n",
       "      <th>PFD_RANK</th>\n",
       "      <th>PTS_RANK</th>\n",
       "      <th>PLUS_MINUS_RANK</th>\n",
       "      <th>DD2_RANK</th>\n",
       "      <th>TD3_RANK</th>\n",
       "      <th>CFID</th>\n",
       "      <th>CFPARAMS</th>\n",
       "    </tr>\n",
       "  </thead>\n",
       "  <tbody>\n",
       "    <tr>\n",
       "      <th>0</th>\n",
       "      <td>201166</td>\n",
       "      <td>Aaron Brooks</td>\n",
       "      <td>1610612741</td>\n",
       "      <td>CHI</td>\n",
       "      <td>31.0</td>\n",
       "      <td>69</td>\n",
       "      <td>36</td>\n",
       "      <td>33</td>\n",
       "      <td>0.522</td>\n",
       "      <td>16.1</td>\n",
       "      <td>...</td>\n",
       "      <td>345</td>\n",
       "      <td>155</td>\n",
       "      <td>200</td>\n",
       "      <td>281</td>\n",
       "      <td>235</td>\n",
       "      <td>208</td>\n",
       "      <td>233</td>\n",
       "      <td>25</td>\n",
       "      <td>5</td>\n",
       "      <td>201166,1610612741</td>\n",
       "    </tr>\n",
       "    <tr>\n",
       "      <th>1</th>\n",
       "      <td>203932</td>\n",
       "      <td>Aaron Gordon</td>\n",
       "      <td>1610612753</td>\n",
       "      <td>ORL</td>\n",
       "      <td>20.0</td>\n",
       "      <td>78</td>\n",
       "      <td>32</td>\n",
       "      <td>46</td>\n",
       "      <td>0.410</td>\n",
       "      <td>23.9</td>\n",
       "      <td>...</td>\n",
       "      <td>79</td>\n",
       "      <td>181</td>\n",
       "      <td>187</td>\n",
       "      <td>153</td>\n",
       "      <td>169</td>\n",
       "      <td>283</td>\n",
       "      <td>54</td>\n",
       "      <td>25</td>\n",
       "      <td>5</td>\n",
       "      <td>203932,1610612753</td>\n",
       "    </tr>\n",
       "    <tr>\n",
       "      <th>2</th>\n",
       "      <td>1626151</td>\n",
       "      <td>Aaron Harrison</td>\n",
       "      <td>1610612766</td>\n",
       "      <td>CHA</td>\n",
       "      <td>21.0</td>\n",
       "      <td>21</td>\n",
       "      <td>15</td>\n",
       "      <td>6</td>\n",
       "      <td>0.714</td>\n",
       "      <td>4.4</td>\n",
       "      <td>...</td>\n",
       "      <td>449</td>\n",
       "      <td>464</td>\n",
       "      <td>452</td>\n",
       "      <td>425</td>\n",
       "      <td>470</td>\n",
       "      <td>220</td>\n",
       "      <td>233</td>\n",
       "      <td>25</td>\n",
       "      <td>5</td>\n",
       "      <td>1626151,1610612766</td>\n",
       "    </tr>\n",
       "    <tr>\n",
       "      <th>3</th>\n",
       "      <td>203940</td>\n",
       "      <td>Adreian Payne</td>\n",
       "      <td>1610612750</td>\n",
       "      <td>MIN</td>\n",
       "      <td>25.0</td>\n",
       "      <td>52</td>\n",
       "      <td>18</td>\n",
       "      <td>34</td>\n",
       "      <td>0.346</td>\n",
       "      <td>9.3</td>\n",
       "      <td>...</td>\n",
       "      <td>287</td>\n",
       "      <td>387</td>\n",
       "      <td>313</td>\n",
       "      <td>383</td>\n",
       "      <td>416</td>\n",
       "      <td>378</td>\n",
       "      <td>233</td>\n",
       "      <td>25</td>\n",
       "      <td>5</td>\n",
       "      <td>203940,1610612750</td>\n",
       "    </tr>\n",
       "    <tr>\n",
       "      <th>4</th>\n",
       "      <td>201143</td>\n",
       "      <td>Al Horford</td>\n",
       "      <td>1610612737</td>\n",
       "      <td>ATL</td>\n",
       "      <td>30.0</td>\n",
       "      <td>82</td>\n",
       "      <td>48</td>\n",
       "      <td>34</td>\n",
       "      <td>0.585</td>\n",
       "      <td>32.1</td>\n",
       "      <td>...</td>\n",
       "      <td>19</td>\n",
       "      <td>199</td>\n",
       "      <td>184</td>\n",
       "      <td>211</td>\n",
       "      <td>61</td>\n",
       "      <td>49</td>\n",
       "      <td>39</td>\n",
       "      <td>25</td>\n",
       "      <td>5</td>\n",
       "      <td>201143,1610612737</td>\n",
       "    </tr>\n",
       "  </tbody>\n",
       "</table>\n",
       "<p>5 rows × 63 columns</p>\n",
       "</div>"
      ],
      "text/plain": [
       "   PLAYER_ID     PLAYER_NAME     TEAM_ID TEAM_ABBREVIATION   AGE  GP   W   L  \\\n",
       "0     201166    Aaron Brooks  1610612741               CHI  31.0  69  36  33   \n",
       "1     203932    Aaron Gordon  1610612753               ORL  20.0  78  32  46   \n",
       "2    1626151  Aaron Harrison  1610612766               CHA  21.0  21  15   6   \n",
       "3     203940   Adreian Payne  1610612750               MIN  25.0  52  18  34   \n",
       "4     201143      Al Horford  1610612737               ATL  30.0  82  48  34   \n",
       "\n",
       "   W_PCT   MIN         ...          BLK_RANK  BLKA_RANK  PF_RANK  PFD_RANK  \\\n",
       "0  0.522  16.1         ...               345        155      200       281   \n",
       "1  0.410  23.9         ...                79        181      187       153   \n",
       "2  0.714   4.4         ...               449        464      452       425   \n",
       "3  0.346   9.3         ...               287        387      313       383   \n",
       "4  0.585  32.1         ...                19        199      184       211   \n",
       "\n",
       "   PTS_RANK  PLUS_MINUS_RANK  DD2_RANK  TD3_RANK  CFID            CFPARAMS  \n",
       "0       235              208       233        25     5   201166,1610612741  \n",
       "1       169              283        54        25     5   203932,1610612753  \n",
       "2       470              220       233        25     5  1626151,1610612766  \n",
       "3       416              378       233        25     5   203940,1610612750  \n",
       "4        61               49        39        25     5   201143,1610612737  \n",
       "\n",
       "[5 rows x 63 columns]"
      ]
     },
     "execution_count": 53,
     "metadata": {},
     "output_type": "execute_result"
    }
   ],
   "source": [
    "# Preview Data\n",
    "player_general_stats_15to16.head()"
   ]
  },
  {
   "cell_type": "markdown",
   "metadata": {},
   "source": [
    "**Get Player General Statistics from 2014-15 Regular Season**"
   ]
  },
  {
   "cell_type": "code",
   "execution_count": 75,
   "metadata": {
    "collapsed": false
   },
   "outputs": [],
   "source": [
    "player_general_stats_14to15 = get_general_player_stats('2014-15')"
   ]
  },
  {
   "cell_type": "code",
   "execution_count": 76,
   "metadata": {
    "collapsed": true
   },
   "outputs": [],
   "source": [
    "player_general_stats_14to15.to_pickle('raw_player_general_stats_14to15')"
   ]
  },
  {
   "cell_type": "markdown",
   "metadata": {},
   "source": [
    "**Get Player General Statistics from 2016-17 Regular Season**"
   ]
  },
  {
   "cell_type": "code",
   "execution_count": null,
   "metadata": {
    "collapsed": true
   },
   "outputs": [],
   "source": []
  },
  {
   "cell_type": "code",
   "execution_count": null,
   "metadata": {
    "collapsed": true
   },
   "outputs": [],
   "source": []
  },
  {
   "cell_type": "code",
   "execution_count": null,
   "metadata": {
    "collapsed": true
   },
   "outputs": [],
   "source": []
  },
  {
   "cell_type": "markdown",
   "metadata": {},
   "source": [
    "## Retrieve Player Defensive Statistics from [NBA Website](http://stats.nba.com/)"
   ]
  },
  {
   "cell_type": "code",
   "execution_count": 58,
   "metadata": {
    "collapsed": true
   },
   "outputs": [],
   "source": [
    "def get_defense_player_stats(season):\n",
    "    '''\n",
    "    Input: Season of Interest (ie. 2016-17)\n",
    "    Output: Pandas Dataframe of Player Defensive Statistics \n",
    "    '''\n",
    "    url_base = 'http://stats.nba.com/stats/leaguedashplayerstats?'\\\n",
    "               'College=&Conference=&Country=&DateFrom=&DateTo=&Division='\\\n",
    "               '&DraftPick=&DraftYear=&GameScope=&GameSegment=&Height=&LastNGames=0'\\\n",
    "               '&LeagueID=00&Location=&MeasureType=Defense&Month=0&OpponentTeamID=0&Outcome='\\\n",
    "               '&PORound=0&PaceAdjust=N&PerMode=PerGame&Period=0&PlayerExperience='\\\n",
    "               '&PlayerPosition=&PlusMinus=N&Rank=N&Season={}&SeasonSegment=&SeasonType=Regular+Season'\\\n",
    "               '&ShotClockRange=&StarterBench=&TeamID=0&VsConference=&VsDivision=&Weight='.format(season)\n",
    "    \n",
    "    response = requests.get(url_base)\n",
    "    response.raise_for_status() # Raises error if request returns unsuccessful status code    \n",
    "    \n",
    "    data = json.loads(response.text)\n",
    "    \n",
    "    headers = data['resultSets'][0]['headers']\n",
    "    player_defense_stats = data['resultSets'][0]['rowSet']\n",
    "    \n",
    "    df = pd.DataFrame(player_defense_stats, columns=headers) \n",
    "    return df        "
   ]
  },
  {
   "cell_type": "markdown",
   "metadata": {},
   "source": [
    "**Get Player Defensive Statistics from 2015-16 Regular Season**"
   ]
  },
  {
   "cell_type": "code",
   "execution_count": 60,
   "metadata": {
    "collapsed": true
   },
   "outputs": [],
   "source": [
    "player_defense_stats_15to16 = get_defense_player_stats('2015-16')"
   ]
  },
  {
   "cell_type": "code",
   "execution_count": 61,
   "metadata": {
    "collapsed": true
   },
   "outputs": [],
   "source": [
    "player_defense_stats_15to16.to_pickle('raw_player_defense_stats_15to16')"
   ]
  },
  {
   "cell_type": "code",
   "execution_count": 62,
   "metadata": {
    "collapsed": false
   },
   "outputs": [
    {
     "data": {
      "text/html": [
       "<div>\n",
       "<table border=\"1\" class=\"dataframe\">\n",
       "  <thead>\n",
       "    <tr style=\"text-align: right;\">\n",
       "      <th></th>\n",
       "      <th>PLAYER_ID</th>\n",
       "      <th>PLAYER_NAME</th>\n",
       "      <th>TEAM_ID</th>\n",
       "      <th>TEAM_ABBREVIATION</th>\n",
       "      <th>AGE</th>\n",
       "      <th>GP</th>\n",
       "      <th>W</th>\n",
       "      <th>L</th>\n",
       "      <th>W_PCT</th>\n",
       "      <th>MIN</th>\n",
       "      <th>...</th>\n",
       "      <th>PCT_STL_RANK</th>\n",
       "      <th>BLK_RANK</th>\n",
       "      <th>PCT_BLK_RANK</th>\n",
       "      <th>OPP_PTS_OFF_TOV_RANK</th>\n",
       "      <th>OPP_PTS_2ND_CHANCE_RANK</th>\n",
       "      <th>OPP_PTS_FB_RANK</th>\n",
       "      <th>OPP_PTS_PAINT_RANK</th>\n",
       "      <th>DEF_WS_RANK</th>\n",
       "      <th>CFID</th>\n",
       "      <th>CFPARAMS</th>\n",
       "    </tr>\n",
       "  </thead>\n",
       "  <tbody>\n",
       "    <tr>\n",
       "      <th>0</th>\n",
       "      <td>201166</td>\n",
       "      <td>Aaron Brooks</td>\n",
       "      <td>1610612741</td>\n",
       "      <td>CHI</td>\n",
       "      <td>31.0</td>\n",
       "      <td>69</td>\n",
       "      <td>36</td>\n",
       "      <td>33</td>\n",
       "      <td>0.522</td>\n",
       "      <td>16.1</td>\n",
       "      <td>...</td>\n",
       "      <td>142</td>\n",
       "      <td>345</td>\n",
       "      <td>321</td>\n",
       "      <td>162</td>\n",
       "      <td>180</td>\n",
       "      <td>185</td>\n",
       "      <td>169</td>\n",
       "      <td>260</td>\n",
       "      <td>5</td>\n",
       "      <td>201166,1610612741</td>\n",
       "    </tr>\n",
       "    <tr>\n",
       "      <th>1</th>\n",
       "      <td>203932</td>\n",
       "      <td>Aaron Gordon</td>\n",
       "      <td>1610612753</td>\n",
       "      <td>ORL</td>\n",
       "      <td>20.0</td>\n",
       "      <td>78</td>\n",
       "      <td>32</td>\n",
       "      <td>46</td>\n",
       "      <td>0.410</td>\n",
       "      <td>23.9</td>\n",
       "      <td>...</td>\n",
       "      <td>241</td>\n",
       "      <td>80</td>\n",
       "      <td>138</td>\n",
       "      <td>296</td>\n",
       "      <td>235</td>\n",
       "      <td>318</td>\n",
       "      <td>315</td>\n",
       "      <td>170</td>\n",
       "      <td>5</td>\n",
       "      <td>203932,1610612753</td>\n",
       "    </tr>\n",
       "    <tr>\n",
       "      <th>2</th>\n",
       "      <td>1626151</td>\n",
       "      <td>Aaron Harrison</td>\n",
       "      <td>1610612766</td>\n",
       "      <td>CHA</td>\n",
       "      <td>21.0</td>\n",
       "      <td>21</td>\n",
       "      <td>15</td>\n",
       "      <td>6</td>\n",
       "      <td>0.714</td>\n",
       "      <td>4.4</td>\n",
       "      <td>...</td>\n",
       "      <td>35</td>\n",
       "      <td>456</td>\n",
       "      <td>444</td>\n",
       "      <td>21</td>\n",
       "      <td>11</td>\n",
       "      <td>54</td>\n",
       "      <td>21</td>\n",
       "      <td>388</td>\n",
       "      <td>5</td>\n",
       "      <td>1626151,1610612766</td>\n",
       "    </tr>\n",
       "    <tr>\n",
       "      <th>3</th>\n",
       "      <td>203940</td>\n",
       "      <td>Adreian Payne</td>\n",
       "      <td>1610612750</td>\n",
       "      <td>MIN</td>\n",
       "      <td>25.0</td>\n",
       "      <td>52</td>\n",
       "      <td>18</td>\n",
       "      <td>34</td>\n",
       "      <td>0.346</td>\n",
       "      <td>9.3</td>\n",
       "      <td>...</td>\n",
       "      <td>191</td>\n",
       "      <td>287</td>\n",
       "      <td>151</td>\n",
       "      <td>101</td>\n",
       "      <td>95</td>\n",
       "      <td>93</td>\n",
       "      <td>103</td>\n",
       "      <td>435</td>\n",
       "      <td>5</td>\n",
       "      <td>203940,1610612750</td>\n",
       "    </tr>\n",
       "    <tr>\n",
       "      <th>4</th>\n",
       "      <td>201143</td>\n",
       "      <td>Al Horford</td>\n",
       "      <td>1610612737</td>\n",
       "      <td>ATL</td>\n",
       "      <td>30.0</td>\n",
       "      <td>82</td>\n",
       "      <td>48</td>\n",
       "      <td>34</td>\n",
       "      <td>0.585</td>\n",
       "      <td>32.1</td>\n",
       "      <td>...</td>\n",
       "      <td>362</td>\n",
       "      <td>19</td>\n",
       "      <td>79</td>\n",
       "      <td>383</td>\n",
       "      <td>425</td>\n",
       "      <td>354</td>\n",
       "      <td>386</td>\n",
       "      <td>7</td>\n",
       "      <td>5</td>\n",
       "      <td>201143,1610612737</td>\n",
       "    </tr>\n",
       "  </tbody>\n",
       "</table>\n",
       "<p>5 rows × 43 columns</p>\n",
       "</div>"
      ],
      "text/plain": [
       "   PLAYER_ID     PLAYER_NAME     TEAM_ID TEAM_ABBREVIATION   AGE  GP   W   L  \\\n",
       "0     201166    Aaron Brooks  1610612741               CHI  31.0  69  36  33   \n",
       "1     203932    Aaron Gordon  1610612753               ORL  20.0  78  32  46   \n",
       "2    1626151  Aaron Harrison  1610612766               CHA  21.0  21  15   6   \n",
       "3     203940   Adreian Payne  1610612750               MIN  25.0  52  18  34   \n",
       "4     201143      Al Horford  1610612737               ATL  30.0  82  48  34   \n",
       "\n",
       "   W_PCT   MIN         ...          PCT_STL_RANK  BLK_RANK  PCT_BLK_RANK  \\\n",
       "0  0.522  16.1         ...                   142       345           321   \n",
       "1  0.410  23.9         ...                   241        80           138   \n",
       "2  0.714   4.4         ...                    35       456           444   \n",
       "3  0.346   9.3         ...                   191       287           151   \n",
       "4  0.585  32.1         ...                   362        19            79   \n",
       "\n",
       "   OPP_PTS_OFF_TOV_RANK  OPP_PTS_2ND_CHANCE_RANK  OPP_PTS_FB_RANK  \\\n",
       "0                   162                      180              185   \n",
       "1                   296                      235              318   \n",
       "2                    21                       11               54   \n",
       "3                   101                       95               93   \n",
       "4                   383                      425              354   \n",
       "\n",
       "   OPP_PTS_PAINT_RANK  DEF_WS_RANK  CFID            CFPARAMS  \n",
       "0                 169          260     5   201166,1610612741  \n",
       "1                 315          170     5   203932,1610612753  \n",
       "2                  21          388     5  1626151,1610612766  \n",
       "3                 103          435     5   203940,1610612750  \n",
       "4                 386            7     5   201143,1610612737  \n",
       "\n",
       "[5 rows x 43 columns]"
      ]
     },
     "execution_count": 62,
     "metadata": {},
     "output_type": "execute_result"
    }
   ],
   "source": [
    "# Preview Data\n",
    "player_defense_stats_15to16.head()"
   ]
  },
  {
   "cell_type": "markdown",
   "metadata": {},
   "source": [
    "**Get Player Defensive Statistics from 2014-15 Regular Season**"
   ]
  },
  {
   "cell_type": "code",
   "execution_count": 59,
   "metadata": {
    "collapsed": false
   },
   "outputs": [],
   "source": [
    "player_defense_stats_14to15 = get_defense_player_stats('2014-15')"
   ]
  },
  {
   "cell_type": "code",
   "execution_count": 60,
   "metadata": {
    "collapsed": true
   },
   "outputs": [],
   "source": [
    "player_defense_stats_14to15.to_pickle('raw_player_defense_stats_14to15')"
   ]
  },
  {
   "cell_type": "markdown",
   "metadata": {},
   "source": [
    "**Get Player Defensive Statistics from 2016-17 Regular Season**"
   ]
  },
  {
   "cell_type": "code",
   "execution_count": null,
   "metadata": {
    "collapsed": true
   },
   "outputs": [],
   "source": []
  },
  {
   "cell_type": "code",
   "execution_count": null,
   "metadata": {
    "collapsed": true
   },
   "outputs": [],
   "source": []
  },
  {
   "cell_type": "code",
   "execution_count": null,
   "metadata": {
    "collapsed": true
   },
   "outputs": [],
   "source": []
  },
  {
   "cell_type": "markdown",
   "metadata": {},
   "source": [
    "## Scrape Data from [Basketball-Reference](http://www.basketball-reference.com/)"
   ]
  },
  {
   "cell_type": "markdown",
   "metadata": {},
   "source": [
    "**Use BeautifulSoup to scrape data from basketball-reference.com**"
   ]
  },
  {
   "cell_type": "code",
   "execution_count": 50,
   "metadata": {
    "collapsed": false
   },
   "outputs": [],
   "source": [
    "def get_advanced_player_stats(season):\n",
    "    '''\n",
    "    Input: Season of Interest (ie. 2017 for 2016-17 Season)\n",
    "    Output: Pandas Dataframe of Advanced Player Statistics     \n",
    "    '''\n",
    "    url_base = 'http://www.basketball-reference.com/leagues/NBA_{}_advanced.html'.format(season)\n",
    "    html = urlopen(url_base)\n",
    "    \n",
    "    soup = BeautifulSoup(html, 'lxml')\n",
    "    table = soup.findAll('table',class_='sortable stats_table')[0]\n",
    "    \n",
    "    # Find & Clean Column Names\n",
    "    col_names = [th.getText() for th in table.findAll('th') if th.getText() != '\\xa0'][1:27]\n",
    "    \n",
    "    player_data = []\n",
    "    for tr in table.findAll('tr'):\n",
    "        player = [td.getText() for td in tr.findAll('td') if td.getText() != '']\n",
    "        if player:\n",
    "            player_data.append(player)\n",
    "    \n",
    "    df = pd.DataFrame(player_data,columns=col_names)\n",
    "    return df"
   ]
  },
  {
   "cell_type": "markdown",
   "metadata": {},
   "source": [
    "**Get Advanced Player Statistics from 2015-16 Regular Season**"
   ]
  },
  {
   "cell_type": "code",
   "execution_count": 191,
   "metadata": {
    "collapsed": false,
    "scrolled": true
   },
   "outputs": [],
   "source": [
    "player_advanced_stats_15to16 = get_advanced_player_stats(2016)"
   ]
  },
  {
   "cell_type": "code",
   "execution_count": 194,
   "metadata": {
    "collapsed": true
   },
   "outputs": [],
   "source": [
    "player_advanced_stats_15to16.to_pickle('raw_player_advanced_stats_15to16')"
   ]
  },
  {
   "cell_type": "code",
   "execution_count": 195,
   "metadata": {
    "collapsed": false
   },
   "outputs": [
    {
     "data": {
      "text/html": [
       "<div>\n",
       "<table border=\"1\" class=\"dataframe\">\n",
       "  <thead>\n",
       "    <tr style=\"text-align: right;\">\n",
       "      <th></th>\n",
       "      <th>Player</th>\n",
       "      <th>Pos</th>\n",
       "      <th>Age</th>\n",
       "      <th>Tm</th>\n",
       "      <th>G</th>\n",
       "      <th>MP</th>\n",
       "      <th>PER</th>\n",
       "      <th>TS%</th>\n",
       "      <th>3PAr</th>\n",
       "      <th>FTr</th>\n",
       "      <th>...</th>\n",
       "      <th>TOV%</th>\n",
       "      <th>USG%</th>\n",
       "      <th>OWS</th>\n",
       "      <th>DWS</th>\n",
       "      <th>WS</th>\n",
       "      <th>WS/48</th>\n",
       "      <th>OBPM</th>\n",
       "      <th>DBPM</th>\n",
       "      <th>BPM</th>\n",
       "      <th>VORP</th>\n",
       "    </tr>\n",
       "  </thead>\n",
       "  <tbody>\n",
       "    <tr>\n",
       "      <th>0</th>\n",
       "      <td>Quincy Acy</td>\n",
       "      <td>PF</td>\n",
       "      <td>25</td>\n",
       "      <td>SAC</td>\n",
       "      <td>59</td>\n",
       "      <td>876</td>\n",
       "      <td>14.7</td>\n",
       "      <td>.629</td>\n",
       "      <td>.229</td>\n",
       "      <td>.318</td>\n",
       "      <td>...</td>\n",
       "      <td>10.0</td>\n",
       "      <td>13.1</td>\n",
       "      <td>1.8</td>\n",
       "      <td>0.7</td>\n",
       "      <td>2.5</td>\n",
       "      <td>.137</td>\n",
       "      <td>0.2</td>\n",
       "      <td>0.0</td>\n",
       "      <td>0.2</td>\n",
       "      <td>0.5</td>\n",
       "    </tr>\n",
       "    <tr>\n",
       "      <th>1</th>\n",
       "      <td>Jordan Adams</td>\n",
       "      <td>SG</td>\n",
       "      <td>21</td>\n",
       "      <td>MEM</td>\n",
       "      <td>2</td>\n",
       "      <td>15</td>\n",
       "      <td>17.3</td>\n",
       "      <td>.427</td>\n",
       "      <td>.167</td>\n",
       "      <td>.833</td>\n",
       "      <td>...</td>\n",
       "      <td>19.6</td>\n",
       "      <td>30.5</td>\n",
       "      <td>0.0</td>\n",
       "      <td>0.0</td>\n",
       "      <td>0.0</td>\n",
       "      <td>.015</td>\n",
       "      <td>-2.9</td>\n",
       "      <td>4.8</td>\n",
       "      <td>1.9</td>\n",
       "      <td>0.0</td>\n",
       "    </tr>\n",
       "    <tr>\n",
       "      <th>2</th>\n",
       "      <td>Steven Adams</td>\n",
       "      <td>C</td>\n",
       "      <td>22</td>\n",
       "      <td>OKC</td>\n",
       "      <td>80</td>\n",
       "      <td>2014</td>\n",
       "      <td>15.5</td>\n",
       "      <td>.621</td>\n",
       "      <td>.000</td>\n",
       "      <td>.460</td>\n",
       "      <td>...</td>\n",
       "      <td>14.1</td>\n",
       "      <td>12.6</td>\n",
       "      <td>4.2</td>\n",
       "      <td>2.3</td>\n",
       "      <td>6.5</td>\n",
       "      <td>.155</td>\n",
       "      <td>0.8</td>\n",
       "      <td>1.3</td>\n",
       "      <td>2.1</td>\n",
       "      <td>2.1</td>\n",
       "    </tr>\n",
       "    <tr>\n",
       "      <th>3</th>\n",
       "      <td>Arron Afflalo</td>\n",
       "      <td>SG</td>\n",
       "      <td>30</td>\n",
       "      <td>NYK</td>\n",
       "      <td>71</td>\n",
       "      <td>2371</td>\n",
       "      <td>10.9</td>\n",
       "      <td>.531</td>\n",
       "      <td>.298</td>\n",
       "      <td>.164</td>\n",
       "      <td>...</td>\n",
       "      <td>8.7</td>\n",
       "      <td>17.9</td>\n",
       "      <td>1.8</td>\n",
       "      <td>0.9</td>\n",
       "      <td>2.7</td>\n",
       "      <td>.055</td>\n",
       "      <td>-0.6</td>\n",
       "      <td>-1.8</td>\n",
       "      <td>-2.4</td>\n",
       "      <td>-0.2</td>\n",
       "    </tr>\n",
       "    <tr>\n",
       "      <th>4</th>\n",
       "      <td>Alexis Ajinca</td>\n",
       "      <td>C</td>\n",
       "      <td>27</td>\n",
       "      <td>NOP</td>\n",
       "      <td>59</td>\n",
       "      <td>861</td>\n",
       "      <td>13.8</td>\n",
       "      <td>.514</td>\n",
       "      <td>.003</td>\n",
       "      <td>.197</td>\n",
       "      <td>...</td>\n",
       "      <td>13.6</td>\n",
       "      <td>20.4</td>\n",
       "      <td>0.2</td>\n",
       "      <td>0.9</td>\n",
       "      <td>1.0</td>\n",
       "      <td>.058</td>\n",
       "      <td>-4.3</td>\n",
       "      <td>-0.2</td>\n",
       "      <td>-4.5</td>\n",
       "      <td>-0.5</td>\n",
       "    </tr>\n",
       "  </tbody>\n",
       "</table>\n",
       "<p>5 rows × 26 columns</p>\n",
       "</div>"
      ],
      "text/plain": [
       "          Player Pos Age   Tm   G    MP   PER   TS%  3PAr   FTr  ...   TOV%  \\\n",
       "0     Quincy Acy  PF  25  SAC  59   876  14.7  .629  .229  .318  ...   10.0   \n",
       "1   Jordan Adams  SG  21  MEM   2    15  17.3  .427  .167  .833  ...   19.6   \n",
       "2   Steven Adams   C  22  OKC  80  2014  15.5  .621  .000  .460  ...   14.1   \n",
       "3  Arron Afflalo  SG  30  NYK  71  2371  10.9  .531  .298  .164  ...    8.7   \n",
       "4  Alexis Ajinca   C  27  NOP  59   861  13.8  .514  .003  .197  ...   13.6   \n",
       "\n",
       "   USG%  OWS  DWS   WS WS/48  OBPM  DBPM   BPM  VORP  \n",
       "0  13.1  1.8  0.7  2.5  .137   0.2   0.0   0.2   0.5  \n",
       "1  30.5  0.0  0.0  0.0  .015  -2.9   4.8   1.9   0.0  \n",
       "2  12.6  4.2  2.3  6.5  .155   0.8   1.3   2.1   2.1  \n",
       "3  17.9  1.8  0.9  2.7  .055  -0.6  -1.8  -2.4  -0.2  \n",
       "4  20.4  0.2  0.9  1.0  .058  -4.3  -0.2  -4.5  -0.5  \n",
       "\n",
       "[5 rows x 26 columns]"
      ]
     },
     "execution_count": 195,
     "metadata": {},
     "output_type": "execute_result"
    }
   ],
   "source": [
    "# Preview Data\n",
    "player_advanced_stats_15to16.head()"
   ]
  },
  {
   "cell_type": "markdown",
   "metadata": {},
   "source": [
    "**Get Advanced Player Statistics from 2014-15 Regular Season**"
   ]
  },
  {
   "cell_type": "code",
   "execution_count": 53,
   "metadata": {
    "collapsed": false
   },
   "outputs": [],
   "source": [
    "player_advanced_stats_14to15 = get_advanced_player_stats(2015)"
   ]
  },
  {
   "cell_type": "code",
   "execution_count": 54,
   "metadata": {
    "collapsed": true
   },
   "outputs": [],
   "source": [
    "player_advanced_stats_14to15.to_pickle('raw_player_advanced_stats_14to15')"
   ]
  },
  {
   "cell_type": "markdown",
   "metadata": {},
   "source": [
    "**Get Advanced Player Statistics from 2016-17 Regular Season**"
   ]
  },
  {
   "cell_type": "code",
   "execution_count": 83,
   "metadata": {
    "collapsed": true
   },
   "outputs": [],
   "source": [
    "player_advanced_stats_16to17 = get_advanced_player_stats(2016)"
   ]
  },
  {
   "cell_type": "code",
   "execution_count": 84,
   "metadata": {
    "collapsed": true
   },
   "outputs": [],
   "source": [
    "player_advanced_stats_16to17.to_pickle('raw_player_advanced_stats_16to17')"
   ]
  },
  {
   "cell_type": "markdown",
   "metadata": {},
   "source": [
    "## Scrape Data from [Wikipedia](https://en.wikipedia.org/wiki/List_of_National_Basketball_Association_arenas)"
   ]
  },
  {
   "cell_type": "code",
   "execution_count": 40,
   "metadata": {
    "collapsed": true
   },
   "outputs": [],
   "source": [
    "def get_arena_links():\n",
    "    arena_url = 'https://en.wikipedia.org/wiki/List_of_National_Basketball_Association_arenas'\n",
    "    \n",
    "    html = urlopen(arena_url)\n",
    "    \n",
    "    soup = BeautifulSoup(html, 'lxml')\n",
    "    table = soup.findAll('table',class_='wikitable sortable plainrowheaders')[0]\n",
    "    \n",
    "    link_list = []\n",
    "    for b in table.findAll('b'):\n",
    "        for a in b.findAll('a'):\n",
    "            if '.' not in a['href']:\n",
    "                link_list.append(a['href'])\n",
    "    return link_list"
   ]
  },
  {
   "cell_type": "code",
   "execution_count": 38,
   "metadata": {
    "collapsed": false
   },
   "outputs": [],
   "source": [
    "a = get_arena_links()"
   ]
  },
  {
   "cell_type": "code",
   "execution_count": null,
   "metadata": {
    "collapsed": true
   },
   "outputs": [],
   "source": []
  }
 ],
 "metadata": {
  "anaconda-cloud": {},
  "kernelspec": {
   "display_name": "Python [Root]",
   "language": "python",
   "name": "Python [Root]"
  },
  "language_info": {
   "codemirror_mode": {
    "name": "ipython",
    "version": 3
   },
   "file_extension": ".py",
   "mimetype": "text/x-python",
   "name": "python",
   "nbconvert_exporter": "python",
   "pygments_lexer": "ipython3",
   "version": "3.5.2"
  }
 },
 "nbformat": 4,
 "nbformat_minor": 0
}

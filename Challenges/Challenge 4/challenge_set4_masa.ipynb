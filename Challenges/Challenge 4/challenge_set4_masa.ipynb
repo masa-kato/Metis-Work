{
 "cells": [
  {
   "cell_type": "markdown",
   "metadata": {},
   "source": [
    "# Probability"
   ]
  },
  {
   "cell_type": "markdown",
   "metadata": {},
   "source": [
    "## Checking Understanding 1"
   ]
  },
  {
   "cell_type": "markdown",
   "metadata": {},
   "source": [
    "** 1. What are the unions, intersections, and complements of all sets represented in figured (a)-(f)?**"
   ]
  },
  {
   "cell_type": "markdown",
   "metadata": {},
   "source": [
    "** 2. Which set(s) represent(s) the universal set?**  \n",
    "W Represents the Universal Set"
   ]
  },
  {
   "cell_type": "markdown",
   "metadata": {},
   "source": [
    "**3. Which set(s), if any, are subsets or supersets of other sets?**  \n",
    "In all Figures, W is a superset of all included sets & every set included in W is a subset of W.  \n",
    "In Figure d, S is a superset of T & T is a subset of S."
   ]
  },
  {
   "cell_type": "markdown",
   "metadata": {},
   "source": [
    "**4. Which set(s), if any, are disjoint sets?**  \n",
    "In Figure e & f, {S,T,U} are disjoint sets"
   ]
  },
  {
   "cell_type": "markdown",
   "metadata": {},
   "source": [
    "**5. Which set(s), if any, form a partition of the universal set?**  \n",
    "In Figure f, {S,T,U} partition W "
   ]
  },
  {
   "cell_type": "markdown",
   "metadata": {},
   "source": [
    "**6. How would you write the shaded areas in (a)-(d) in set notation?**  \n",
    "a) S $\\cap$ T  \n",
    "b) S $\\cup$ T  \n",
    "c) S $\\cap$ T<sup>c</sup>  \n",
    "d) S<sup>c</sup>"
   ]
  },
  {
   "cell_type": "markdown",
   "metadata": {},
   "source": [
    "**7. And the non-shaded areas?**  \n",
    "a) (S $\\cap$ T)<sup>c</sup>  \n",
    "b) (S $\\cup$ T)<sup>c</sup>  \n",
    "c) S<sup>c</sup> $\\cup$ T  \n",
    "d) S"
   ]
  },
  {
   "cell_type": "markdown",
   "metadata": {},
   "source": [
    "## Checking Understanding 2"
   ]
  },
  {
   "cell_type": "markdown",
   "metadata": {},
   "source": [
    "**1. If my experiment is to flip 3 coins in a row, what are all the possible outcomes?**  \n",
    "$\\Omega=${HHH, HTH, HHT, HTT, THH, THT, TTH, TTT}"
   ]
  },
  {
   "cell_type": "markdown",
   "metadata": {},
   "source": [
    "**2. What are some possible events for this experiment?**  \n",
    "Define Event A as outcomes with exactly 2 Heads  \n",
    "Define Event B as outcomes with 2 Tails or more"
   ]
  },
  {
   "cell_type": "markdown",
   "metadata": {},
   "source": [
    "**3. If my experiment is to draw 5 cards from a deck of 52, what are some possible outcomes?**  \n",
    "Possible Outcomes: {A,K,Q,J,10; A,A,A,A,K; ...}"
   ]
  },
  {
   "cell_type": "markdown",
   "metadata": {},
   "source": [
    "**What are some possible events for this experiment?**  \n",
    "Define Event A as outcomes with at least one Ace  \n",
    "Define Event B as outcomes with two pairs and a random fifth card"
   ]
  },
  {
   "cell_type": "markdown",
   "metadata": {},
   "source": [
    "## Checking Understanding 3"
   ]
  },
  {
   "cell_type": "markdown",
   "metadata": {},
   "source": [
    "**Let's say you toss 3 dice now, what is the probability that you get sum of at least 16?**  \n",
    "P(Sum $\\geq$ 16) = P(Sum = 16) + P(Sum = 17) + P(Sum = 18)  \n",
    "P(Sum = 16) = Any Permutation of 6,6,4 & 6,5,5 = 6/216  \n",
    "P(Sum = 17) = Any Permutation of 6,6,5 = 3/216  \n",
    "P(Sum = 18) = 6,6,6 = 1/216  \n",
    "Therefore, P(Sum $\\geq$ 16) = 5/108"
   ]
  },
  {
   "cell_type": "markdown",
   "metadata": {},
   "source": [
    "## Checking Understanding 4"
   ]
  },
  {
   "cell_type": "markdown",
   "metadata": {},
   "source": [
    "**In a game of 5-card draw in a 52-card deck (4 suits of 13 cards each), what is the probability of drawing a flush (5 cards of all the same suit)?**  \n",
    "P(Flush) = [(4 choose 1)(13 choose 5)] / (52 Choose 5) = 0.00198  "
   ]
  },
  {
   "cell_type": "markdown",
   "metadata": {},
   "source": [
    "## Checking Understanding 5"
   ]
  },
  {
   "cell_type": "markdown",
   "metadata": {},
   "source": [
    "** You're Rex Ryan coaching the Bills and playing the New England Patriots this weekend. Your probability of beating them is dependent on who is starting at quarterback for them. You know the following facts:**  \n",
    "* **If Jimmy Garoppolo plays (probability 0.2) you have a 30% chance of winning.**  \n",
    "* **If Jacoby Brissett plays (probability 0.7) you have a 40% chance of winning.**  \n",
    "* **If Julian Edelman plays (probability 0.09) you have a 60% chance of winning.**  \n",
    "* **If Tom Brady sneaks onto the field in disguise and plays (probability 0.01) you have a 10% chance of winning.**\n",
    "\n",
    "**What is your total probability of winning? **  \n",
    "P(Bills Win) = (0.2)(0.3) + (0.7)(0.4) + (0.09)(0.6) + (0.01)(0.1) = 0.395"
   ]
  },
  {
   "cell_type": "markdown",
   "metadata": {},
   "source": [
    "## Checking Understanding 6"
   ]
  },
  {
   "cell_type": "markdown",
   "metadata": {},
   "source": [
    "**You managed to beat the Patriots! However, you're Rex Ryan so you got drunk and slept through the game. You're curious to know which of the Patriots' quarterbacks actually ended up playing. Using the information above and your newfound winning knowledge, how likely would you rate the chances for each quarterback having played?**\n"
   ]
  },
  {
   "cell_type": "markdown",
   "metadata": {},
   "source": [
    "1. P(Jimmy Garoppolo | Bills Win) = P(Jimmy Garoppolo, Bills Win) / P(Bills Win)  \n",
    "[P(Bills Win | JG) P(JG)] / P(Bills Win) = [(0.3)(0.2)] / (0.395) = 0.1519  \n",
    "2. P(Jacoby Brisset | Bills Win) = P(Jacoby Brisset, Bills Win) / P(Bills Win)  \n",
    "[P(Bills Win | JB) P(JB)] / P(Bills Win) = [(0.7)(0.4)] / (0.395) = 0.7089  \n",
    "3. P(Julian Edelman | Bills Win) = P(Julian Edelman, Bills Win) / P(Bills Win)  \n",
    "[P(Bills Win | JE) P(JE)] / P(Bills Win) = [(0.09)(0.6)] / (0.395) = 0.1367  \n",
    "4. P(Tom Brady | Bills Win) = P(Tom Brady, Bills Win) / P(Bills Win)  \n",
    "[P(Bills Win | TB) P(TB)] / P(Bills Win) = [(0.01)(0.1)] / (0.395) = 0.0025"
   ]
  },
  {
   "cell_type": "markdown",
   "metadata": {},
   "source": [
    "## Checking Understanding 7"
   ]
  },
  {
   "cell_type": "markdown",
   "metadata": {},
   "source": [
    "** 1. When flipping coins, are the events \"you got a Heads on the first toss\" and \"you got a Heads on the second toss\" independent events?**  \n",
    "Yes, because the probability of result of the second toss is not effected by the result of the first toss.  \n",
    "** 2. When drawing cards, are the events \"you got a Heart on the first draw\" and \"you got a Heart on the 2nd draw\" independent events?**\n",
    "No, because the probability of drawing a Heart on the second draw is effected by the result of the first draw since there is one less card in the deck."
   ]
  },
  {
   "cell_type": "code",
   "execution_count": null,
   "metadata": {
    "collapsed": true
   },
   "outputs": [],
   "source": []
  }
 ],
 "metadata": {
  "kernelspec": {
   "display_name": "Python [Root]",
   "language": "python",
   "name": "Python [Root]"
  },
  "language_info": {
   "codemirror_mode": {
    "name": "ipython",
    "version": 3
   },
   "file_extension": ".py",
   "mimetype": "text/x-python",
   "name": "python",
   "nbconvert_exporter": "python",
   "pygments_lexer": "ipython3",
   "version": "3.5.2"
  }
 },
 "nbformat": 4,
 "nbformat_minor": 0
}

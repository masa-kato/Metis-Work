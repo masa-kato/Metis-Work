{
 "cells": [
  {
   "cell_type": "markdown",
   "metadata": {},
   "source": [
    "# Challenge 6"
   ]
  },
  {
   "cell_type": "code",
   "execution_count": 258,
   "metadata": {
    "collapsed": true
   },
   "outputs": [],
   "source": [
    "# Import Relevant Libraries\n",
    "import random\n",
    "import numpy as np\n",
    "import pandas as pd\n",
    "random.seed(0)\n",
    "from sklearn.linear_model import LinearRegression\n",
    "from sklearn.model_selection import train_test_split\n",
    "from sklearn.preprocessing import PolynomialFeatures\n",
    "from sklearn import metrics\n",
    "import statsmodels.formula.api as smf\n",
    "import statsmodels.api as sm\n",
    "import \n",
    "import patsy\n",
    "import matplotlib.pyplot as plt\n",
    "%matplotlib inline"
   ]
  },
  {
   "cell_type": "markdown",
   "metadata": {},
   "source": [
    "## Challenge 6.1"
   ]
  },
  {
   "cell_type": "code",
   "execution_count": 250,
   "metadata": {
    "collapsed": false
   },
   "outputs": [],
   "source": [
    "X = np.array([random.uniform(0,20) for i in range(1000)])\n",
    "epsilon = np.array([random.uniform(0,0.5) for i in range(1000)])\n",
    "Y = np.log(X) + epsilon"
   ]
  },
  {
   "cell_type": "code",
   "execution_count": 251,
   "metadata": {
    "collapsed": false
   },
   "outputs": [
    {
     "data": {
      "text/plain": [
       "<matplotlib.collections.PathCollection at 0x11e84d748>"
      ]
     },
     "execution_count": 251,
     "metadata": {},
     "output_type": "execute_result"
    },
    {
     "data": {
      "image/png": "[encoded data removed]",
      "text/plain": [
       "<matplotlib.figure.Figure at 0x11e4de780>"
      ]
     },
     "metadata": {},
     "output_type": "display_data"
    }
   ],
   "source": [
    "plt.scatter(X,Y)"
   ]
  },
  {
   "cell_type": "code",
   "execution_count": 252,
   "metadata": {
    "collapsed": false
   },
   "outputs": [],
   "source": [
    "def challenge_1_log(X,Y):\n",
    "    X = np.log(X)\n",
    "    y,x = patsy.dmatrices('Y ~ X')\n",
    "    model = sm.OLS(y,x)\n",
    "    fit=model.fit()\n",
    "    return fit.summary()"
   ]
  },
  {
   "cell_type": "code",
   "execution_count": 253,
   "metadata": {
    "collapsed": false
   },
   "outputs": [
    {
     "data": {
      "text/html": [
       "<table class=\"simpletable\">\n",
       "<caption>OLS Regression Results</caption>\n",
       "<tr>\n",
       "  <th>Dep. Variable:</th>            <td>Y</td>        <th>  R-squared:         </th> <td>   0.981</td> \n",
       "</tr>\n",
       "<tr>\n",
       "  <th>Model:</th>                   <td>OLS</td>       <th>  Adj. R-squared:    </th> <td>   0.981</td> \n",
       "</tr>\n",
       "<tr>\n",
       "  <th>Method:</th>             <td>Least Squares</td>  <th>  F-statistic:       </th> <td>5.238e+04</td>\n",
       "</tr>\n",
       "<tr>\n",
       "  <th>Date:</th>             <td>Mon, 06 Feb 2017</td> <th>  Prob (F-statistic):</th>  <td>  0.00</td>  \n",
       "</tr>\n",
       "<tr>\n",
       "  <th>Time:</th>                 <td>13:32:21</td>     <th>  Log-Likelihood:    </th> <td>  543.28</td> \n",
       "</tr>\n",
       "<tr>\n",
       "  <th>No. Observations:</th>      <td>  1000</td>      <th>  AIC:               </th> <td>  -1083.</td> \n",
       "</tr>\n",
       "<tr>\n",
       "  <th>Df Residuals:</th>          <td>   998</td>      <th>  BIC:               </th> <td>  -1073.</td> \n",
       "</tr>\n",
       "<tr>\n",
       "  <th>Df Model:</th>              <td>     1</td>      <th>                     </th>     <td> </td>    \n",
       "</tr>\n",
       "<tr>\n",
       "  <th>Covariance Type:</th>      <td>nonrobust</td>    <th>                     </th>     <td> </td>    \n",
       "</tr>\n",
       "</table>\n",
       "<table class=\"simpletable\">\n",
       "<tr>\n",
       "      <td></td>         <th>coef</th>     <th>std err</th>      <th>t</th>      <th>P>|t|</th> <th>[95.0% Conf. Int.]</th> \n",
       "</tr>\n",
       "<tr>\n",
       "  <th>Intercept</th> <td>    0.2556</td> <td>    0.010</td> <td>   26.591</td> <td> 0.000</td> <td>    0.237     0.274</td>\n",
       "</tr>\n",
       "<tr>\n",
       "  <th>X</th>         <td>    0.9945</td> <td>    0.004</td> <td>  228.865</td> <td> 0.000</td> <td>    0.986     1.003</td>\n",
       "</tr>\n",
       "</table>\n",
       "<table class=\"simpletable\">\n",
       "<tr>\n",
       "  <th>Omnibus:</th>       <td>755.707</td> <th>  Durbin-Watson:     </th> <td>   1.944</td>\n",
       "</tr>\n",
       "<tr>\n",
       "  <th>Prob(Omnibus):</th> <td> 0.000</td>  <th>  Jarque-Bera (JB):  </th> <td>  60.486</td>\n",
       "</tr>\n",
       "<tr>\n",
       "  <th>Skew:</th>          <td> 0.029</td>  <th>  Prob(JB):          </th> <td>7.34e-14</td>\n",
       "</tr>\n",
       "<tr>\n",
       "  <th>Kurtosis:</th>      <td> 1.797</td>  <th>  Cond. No.          </th> <td>    5.58</td>\n",
       "</tr>\n",
       "</table>"
      ],
      "text/plain": [
       "<class 'statsmodels.iolib.summary.Summary'>\n",
       "\"\"\"\n",
       "                            OLS Regression Results                            \n",
       "==============================================================================\n",
       "Dep. Variable:                      Y   R-squared:                       0.981\n",
       "Model:                            OLS   Adj. R-squared:                  0.981\n",
       "Method:                 Least Squares   F-statistic:                 5.238e+04\n",
       "Date:                Mon, 06 Feb 2017   Prob (F-statistic):               0.00\n",
       "Time:                        13:32:21   Log-Likelihood:                 543.28\n",
       "No. Observations:                1000   AIC:                            -1083.\n",
       "Df Residuals:                     998   BIC:                            -1073.\n",
       "Df Model:                           1                                         \n",
       "Covariance Type:            nonrobust                                         \n",
       "==============================================================================\n",
       "                 coef    std err          t      P>|t|      [95.0% Conf. Int.]\n",
       "------------------------------------------------------------------------------\n",
       "Intercept      0.2556      0.010     26.591      0.000         0.237     0.274\n",
       "X              0.9945      0.004    228.865      0.000         0.986     1.003\n",
       "==============================================================================\n",
       "Omnibus:                      755.707   Durbin-Watson:                   1.944\n",
       "Prob(Omnibus):                  0.000   Jarque-Bera (JB):               60.486\n",
       "Skew:                           0.029   Prob(JB):                     7.34e-14\n",
       "Kurtosis:                       1.797   Cond. No.                         5.58\n",
       "==============================================================================\n",
       "\n",
       "Warnings:\n",
       "[1] Standard Errors assume that the covariance matrix of the errors is correctly specified.\n",
       "\"\"\""
      ]
     },
     "execution_count": 253,
     "metadata": {},
     "output_type": "execute_result"
    }
   ],
   "source": [
    "challenge_1_log(X,Y)"
   ]
  },
  {
   "cell_type": "code",
   "execution_count": 254,
   "metadata": {
    "collapsed": true
   },
   "outputs": [],
   "source": [
    "def challenge_1_quad(X,Y):\n",
    "    X_2 = np.power(X,2)\n",
    "    y,x = patsy.dmatrices('Y ~ X + X_2')\n",
    "    model = sm.OLS(y,x)\n",
    "    fit = model.fit()\n",
    "    return fit.summary()"
   ]
  },
  {
   "cell_type": "code",
   "execution_count": 255,
   "metadata": {
    "collapsed": false
   },
   "outputs": [
    {
     "data": {
      "text/html": [
       "<table class=\"simpletable\">\n",
       "<caption>OLS Regression Results</caption>\n",
       "<tr>\n",
       "  <th>Dep. Variable:</th>            <td>Y</td>        <th>  R-squared:         </th> <td>   0.836</td>\n",
       "</tr>\n",
       "<tr>\n",
       "  <th>Model:</th>                   <td>OLS</td>       <th>  Adj. R-squared:    </th> <td>   0.836</td>\n",
       "</tr>\n",
       "<tr>\n",
       "  <th>Method:</th>             <td>Least Squares</td>  <th>  F-statistic:       </th> <td>   2539.</td>\n",
       "</tr>\n",
       "<tr>\n",
       "  <th>Date:</th>             <td>Mon, 06 Feb 2017</td> <th>  Prob (F-statistic):</th>  <td>  0.00</td> \n",
       "</tr>\n",
       "<tr>\n",
       "  <th>Time:</th>                 <td>13:32:21</td>     <th>  Log-Likelihood:    </th> <td> -542.73</td>\n",
       "</tr>\n",
       "<tr>\n",
       "  <th>No. Observations:</th>      <td>  1000</td>      <th>  AIC:               </th> <td>   1091.</td>\n",
       "</tr>\n",
       "<tr>\n",
       "  <th>Df Residuals:</th>          <td>   997</td>      <th>  BIC:               </th> <td>   1106.</td>\n",
       "</tr>\n",
       "<tr>\n",
       "  <th>Df Model:</th>              <td>     2</td>      <th>                     </th>     <td> </td>   \n",
       "</tr>\n",
       "<tr>\n",
       "  <th>Covariance Type:</th>      <td>nonrobust</td>    <th>                     </th>     <td> </td>   \n",
       "</tr>\n",
       "</table>\n",
       "<table class=\"simpletable\">\n",
       "<tr>\n",
       "      <td></td>         <th>coef</th>     <th>std err</th>      <th>t</th>      <th>P>|t|</th> <th>[95.0% Conf. Int.]</th> \n",
       "</tr>\n",
       "<tr>\n",
       "  <th>Intercept</th> <td>   -0.0800</td> <td>    0.039</td> <td>   -2.047</td> <td> 0.041</td> <td>   -0.157    -0.003</td>\n",
       "</tr>\n",
       "<tr>\n",
       "  <th>X</th>         <td>    0.4008</td> <td>    0.009</td> <td>   43.652</td> <td> 0.000</td> <td>    0.383     0.419</td>\n",
       "</tr>\n",
       "<tr>\n",
       "  <th>X_2</th>       <td>   -0.0126</td> <td>    0.000</td> <td>  -28.176</td> <td> 0.000</td> <td>   -0.014    -0.012</td>\n",
       "</tr>\n",
       "</table>\n",
       "<table class=\"simpletable\">\n",
       "<tr>\n",
       "  <th>Omnibus:</th>       <td>1446.897</td> <th>  Durbin-Watson:     </th>  <td>   1.957</td> \n",
       "</tr>\n",
       "<tr>\n",
       "  <th>Prob(Omnibus):</th>  <td> 0.000</td>  <th>  Jarque-Bera (JB):  </th> <td>643050.588</td>\n",
       "</tr>\n",
       "<tr>\n",
       "  <th>Skew:</th>           <td>-7.945</td>  <th>  Prob(JB):          </th>  <td>    0.00</td> \n",
       "</tr>\n",
       "<tr>\n",
       "  <th>Kurtosis:</th>       <td>126.210</td> <th>  Cond. No.          </th>  <td>    526.</td> \n",
       "</tr>\n",
       "</table>"
      ],
      "text/plain": [
       "<class 'statsmodels.iolib.summary.Summary'>\n",
       "\"\"\"\n",
       "                            OLS Regression Results                            \n",
       "==============================================================================\n",
       "Dep. Variable:                      Y   R-squared:                       0.836\n",
       "Model:                            OLS   Adj. R-squared:                  0.836\n",
       "Method:                 Least Squares   F-statistic:                     2539.\n",
       "Date:                Mon, 06 Feb 2017   Prob (F-statistic):               0.00\n",
       "Time:                        13:32:21   Log-Likelihood:                -542.73\n",
       "No. Observations:                1000   AIC:                             1091.\n",
       "Df Residuals:                     997   BIC:                             1106.\n",
       "Df Model:                           2                                         \n",
       "Covariance Type:            nonrobust                                         \n",
       "==============================================================================\n",
       "                 coef    std err          t      P>|t|      [95.0% Conf. Int.]\n",
       "------------------------------------------------------------------------------\n",
       "Intercept     -0.0800      0.039     -2.047      0.041        -0.157    -0.003\n",
       "X              0.4008      0.009     43.652      0.000         0.383     0.419\n",
       "X_2           -0.0126      0.000    -28.176      0.000        -0.014    -0.012\n",
       "==============================================================================\n",
       "Omnibus:                     1446.897   Durbin-Watson:                   1.957\n",
       "Prob(Omnibus):                  0.000   Jarque-Bera (JB):           643050.588\n",
       "Skew:                          -7.945   Prob(JB):                         0.00\n",
       "Kurtosis:                     126.210   Cond. No.                         526.\n",
       "==============================================================================\n",
       "\n",
       "Warnings:\n",
       "[1] Standard Errors assume that the covariance matrix of the errors is correctly specified.\n",
       "\"\"\""
      ]
     },
     "execution_count": 255,
     "metadata": {},
     "output_type": "execute_result"
    }
   ],
   "source": [
    "challenge_1_quad(X,Y)"
   ]
  },
  {
   "cell_type": "markdown",
   "metadata": {},
   "source": [
    "## Challenge 6.2"
   ]
  },
  {
   "cell_type": "code",
   "execution_count": 282,
   "metadata": {
    "collapsed": true
   },
   "outputs": [],
   "source": [
    "def challenge_2():\n",
    "    # Define Variables\n",
    "    X = np.array([random.uniform(0,20) for i in range(1000)])\n",
    "    X_2 = np.power(X,2)\n",
    "    epsilon = np.array([random.uniform(0,1) for i in range(1000)])\n",
    "    Y = X + X_2 + epsilon\n",
    "    \n",
    "    # Create Dataframe \n",
    "    df = pd.DataFrame({'Y':Y, 'X1':X, 'X2':X_2})\n",
    "    X = df[['X1','X2']]\n",
    "    \n",
    "    # Train/Test Split\n",
    "    X_train, X_test, y_train, y_test = train_test_split(X, Y, test_size=0.3, random_state=0)\n",
    "    \n",
    "    model = LinearRegression()\n",
    "    model.fit(X_train,y_train)\n",
    "    \n",
    "    # Calculate In-Sample Error\n",
    "    y_pred_in = model.predict(X_train)\n",
    "    mse_in = metrics.mean_squared_error(y_train, y_pred_in)\n",
    "    print('In Sample Error:',mse_in)\n",
    "    \n",
    "    # Calculate Out-of-Sample Error\n",
    "    y_pred_out = model.predict(X_test)\n",
    "    mse_out = metrics.mean_squared_error(y_test,y_pred_out)\n",
    "    print('Out of Sample Error:',mse_out)"
   ]
  },
  {
   "cell_type": "code",
   "execution_count": 283,
   "metadata": {
    "collapsed": false
   },
   "outputs": [
    {
     "name": "stdout",
     "output_type": "stream",
     "text": [
      "In Sample Error: 0.0887875148364\n",
      "Out of Sample Error: 0.091048558838\n"
     ]
    }
   ],
   "source": [
    "challenge_2()"
   ]
  },
  {
   "cell_type": "markdown",
   "metadata": {},
   "source": [
    "## Challenge 6.3"
   ]
  },
  {
   "cell_type": "code",
   "execution_count": 544,
   "metadata": {
    "collapsed": false
   },
   "outputs": [],
   "source": [
    "def challenge_3():\n",
    "    X = np.array([random.uniform(0,10) for i in range(100)])\n",
    "    epsilon = np.array([np.random.normal(0,20) for i in range(100)])\n",
    "    \n",
    "    X_0 = np.power(X,0)\n",
    "    X_1 = np.power(X,1)\n",
    "    X_2 = np.power(X,2)\n",
    "    X_3 = np.power(X,3)\n",
    "    X_4 = np.power(X,4)\n",
    "    X_5 = np.power(X,5)\n",
    "    X_6 = np.power(X,6)\n",
    "    X_7 = np.power(X,7)\n",
    "    X_8 = np.power(X,8)\n",
    "    X_9 = np.power(X,9)\n",
    "    X_10 = np.power(X,10)\n",
    "    \n",
    "    Y = X + X_2 + epsilon\n",
    "    \n",
    "    plt.figure(1)\n",
    "    plt.scatter(X,Y)\n",
    "    \n",
    "    train_error = []\n",
    "    test_error = []\n",
    "    r_2 = []\n",
    "    \n",
    "    df = pd.DataFrame({'X_0':X_0,'X_1':X_1,'X_2':X_2,'X_3':X_3, \n",
    "                       'X_4':X_4,'X_5':X_5,'X_6':X_6,'X_7':X_7,\n",
    "                       'X_8':X_8,'X_9':X_9,'X_10':X_10})    \n",
    "\n",
    "    feature_list = ['X_0','X_1','X_2','X_3','X_4','X_5','X_6','X_7','X_8','X_9','X_10']\n",
    "    \n",
    "    for i in range(11):\n",
    "        features = feature_list[:i+1]\n",
    "        X = df[features]\n",
    "        # Train Test Split\n",
    "        X_train, X_test, y_train, y_test = train_test_split(X, Y, test_size=0.3, random_state=0)\n",
    "\n",
    "        # Create Model\n",
    "        model = LinearRegression()\n",
    "        model.fit(X_train,y_train)\n",
    "        \n",
    "        # Calculate In-Sample Error\n",
    "        y_pred_in = model.predict(X_train)\n",
    "        mse_in = metrics.mean_squared_error(y_train, y_pred_in)\n",
    "        train_error.append(mse_in)\n",
    "\n",
    "        # Calculate Out-of-Sample Error\n",
    "        y_pred_out = model.predict(X_test)\n",
    "        mse_out = metrics.mean_squared_error(y_test,y_pred_out)\n",
    "        test_error.append(mse_out)  \n",
    "        \n",
    "        # Calculate R^2 Value\n",
    "        r_2.append(model.score(X_train,y_train))\n",
    "\n",
    "    plt.figure(2)\n",
    "    plt.plot(range(11),train_error)\n",
    "    plt.plot(range(11),test_error)"
   ]
  },
  {
   "cell_type": "code",
   "execution_count": 545,
   "metadata": {
    "collapsed": false,
    "scrolled": false
   },
   "outputs": [
    {
     "name": "stdout",
     "output_type": "stream",
     "text": [
      "[1141.1564245074305, 328.23649791577463, 269.35242360548244, 269.09374732521854, 269.0840252697904, 259.25863187477717, 258.74941169853122, 258.09229908476806, 243.74541592885663, 243.03590810910995, 242.38127398821058]\n",
      "[1339.034467886536, 519.9515406119267, 480.53045103638249, 473.29116383371013, 473.53204946501995, 489.04462373467402, 494.36266898024365, 497.35502956792629, 544.95842751758596, 534.7581280454217, 536.54868402824786]\n"
     ]
    },
    {
     "data": {
      "image/png": "[encoded data removed]",
      "text/plain": [
       "<matplotlib.figure.Figure at 0x12153a550>"
      ]
     },
     "metadata": {},
     "output_type": "display_data"
    },
    {
     "data": {
      "image/png": "[encoded data removed]",
      "text/plain": [
       "<matplotlib.figure.Figure at 0x12302a5c0>"
      ]
     },
     "metadata": {},
     "output_type": "display_data"
    }
   ],
   "source": [
    "challenge_3()"
   ]
  },
  {
   "cell_type": "markdown",
   "metadata": {},
   "source": [
    "## Challenge 6.4"
   ]
  },
  {
   "cell_type": "code",
   "execution_count": 568,
   "metadata": {
    "collapsed": true
   },
   "outputs": [],
   "source": [
    "def challenge_4():\n",
    "    X = np.array([random.uniform(0,10) for i in range(100)])\n",
    "    epsilon = np.array([np.random.normal(0,20) for i in range(100)])\n",
    "    \n",
    "    X_0 = np.power(X,0)\n",
    "    X_1 = np.power(X,1)\n",
    "    X_2 = np.power(X,2)\n",
    "    \n",
    "    Y = X + X_2 + epsilon\n",
    "    \n",
    "    plt.figure(1)\n",
    "    plt.scatter(X,Y)\n",
    "    \n",
    "    train_error = []\n",
    "    test_error = []\n",
    "    r_2 = []\n",
    "    \n",
    "    df = pd.DataFrame({'X_0':X_0,'X_1':X_1,'X_2':X_2})    \n",
    "    \n",
    "    for i in range(5,105,5):\n",
    "        X = df[['X_0','X_1','X_2']].iloc[:i]\n",
    "        Y_ = Y[:i]\n",
    "\n",
    "        # Train Test Split\n",
    "        X_train, X_test, y_train, y_test = train_test_split(X, Y_, test_size=0.3, random_state=0)\n",
    "    \n",
    "        # Create Model\n",
    "        model = LinearRegression()\n",
    "        model.fit(X_train,y_train)\n",
    "        \n",
    "        # Calculate In-Sample Error\n",
    "        y_pred_in = model.predict(X_train)\n",
    "        mse_in = metrics.mean_squared_error(y_train, y_pred_in)\n",
    "        train_error.append(mse_in)\n",
    "\n",
    "        # Calculate Out-of-Sample Error\n",
    "        y_pred_out = model.predict(X_test)\n",
    "        mse_out = metrics.mean_squared_error(y_test,y_pred_out)\n",
    "        test_error.append(mse_out)  \n",
    "        \n",
    "        # Calculate R^2 Value\n",
    "        r_2.append(model.score(X_train,y_train))\n",
    "  \n",
    "\n",
    "    plt.figure(2)\n",
    "    plt.plot(range(len(train_error)),train_error)\n",
    "    plt.plot(range(len(test_error)),test_error)"
   ]
  },
  {
   "cell_type": "code",
   "execution_count": 569,
   "metadata": {
    "collapsed": false
   },
   "outputs": [
    {
     "data": {
      "image/png": "[encoded data removed]",
      "text/plain": [
       "<matplotlib.figure.Figure at 0x11e73cb00>"
      ]
     },
     "metadata": {},
     "output_type": "display_data"
    },
    {
     "data": {
      "image/png": "[encoded data removed]",
      "text/plain": [
       "<matplotlib.figure.Figure at 0x12317c940>"
      ]
     },
     "metadata": {},
     "output_type": "display_data"
    }
   ],
   "source": [
    "challenge_4()"
   ]
  },
  {
   "cell_type": "code",
   "execution_count": null,
   "metadata": {
    "collapsed": true
   },
   "outputs": [],
   "source": []
  }
 ],
 "metadata": {
  "anaconda-cloud": {},
  "kernelspec": {
   "display_name": "Python [Root]",
   "language": "python",
   "name": "Python [Root]"
  },
  "language_info": {
   "codemirror_mode": {
    "name": "ipython",
    "version": 3
   },
   "file_extension": ".py",
   "mimetype": "text/x-python",
   "name": "python",
   "nbconvert_exporter": "python",
   "pygments_lexer": "ipython3",
   "version": "3.5.2"
  }
 },
 "nbformat": 4,
 "nbformat_minor": 0
}

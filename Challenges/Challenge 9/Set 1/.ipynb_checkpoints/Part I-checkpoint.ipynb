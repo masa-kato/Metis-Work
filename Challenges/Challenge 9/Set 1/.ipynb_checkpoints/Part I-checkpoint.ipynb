{
 "cells": [
  {
   "cell_type": "markdown",
   "metadata": {},
   "source": [
    "## Problem 1\n",
    "\n",
    "Which customers are from the UK?"
   ]
  },
  {
   "cell_type": "markdown",
   "metadata": {},
   "source": [
    "```Sql\n",
    "SELECT\n",
    "    *\n",
    "FROM\n",
    "    Customers \n",
    "WHERE\n",
    "\tCountry = 'UK'\n",
    "```"
   ]
  },
  {
   "cell_type": "markdown",
   "metadata": {},
   "source": [
    "## Problem 2\n",
    "\n",
    "What is the name of the customer who has the most orders?"
   ]
  },
  {
   "cell_type": "markdown",
   "metadata": {},
   "source": [
    "```Sql\n",
    "SELECT CustomerName, COUNT(*)\n",
    "FROM Customers\n",
    "JOIN Orders\n",
    "ON Customers.CustomerID = Orders.CustomerID\n",
    "GROUP BY CustomerName\n",
    "ORDER BY COUNT(*) DESC\n",
    "\n",
    "```"
   ]
  },
  {
   "cell_type": "markdown",
   "metadata": {},
   "source": [
    "## Problem 3\n",
    "Which supplier has the highest average product price?"
   ]
  },
  {
   "cell_type": "markdown",
   "metadata": {},
   "source": [
    "```Sql\n",
    "SELECT SupplierName, AVG(Price)\n",
    "FROM Suppliers\n",
    "JOIN Products\n",
    "ON Suppliers.SupplierID = Products.SupplierID\n",
    "GROUP BY SupplierName\n",
    "ORDER BY AVG(Price) DESC\n",
    "```"
   ]
  },
  {
   "cell_type": "markdown",
   "metadata": {},
   "source": [
    "## Problem 4\n",
    "How many different countries are all the customers from? (Hint: consider DISTINCT.)"
   ]
  },
  {
   "cell_type": "markdown",
   "metadata": {},
   "source": [
    "```Sql\n",
    "SELECT COUNT(DISTINCT Country) AS NumberOfCountry\n",
    "FROM Customers\n",
    "```"
   ]
  },
  {
   "cell_type": "markdown",
   "metadata": {},
   "source": [
    "## Problem 5\n",
    "What category appears in the most orders?"
   ]
  },
  {
   "cell_type": "markdown",
   "metadata": {},
   "source": [
    "```Sql\n",
    "SELECT Categories.CategoryName, COUNT(*) FROM Categories\n",
    "JOIN Products ON Products.CategoryID = Categories.CategoryID\n",
    "JOIN OrderDetails ON OrderDetails.ProductID = Products.ProductID\n",
    "GROUP BY Categories.CategoryID\n",
    "ORDER BY COUNT(*) DESC\n",
    "LIMIT 1\n",
    "```"
   ]
  },
  {
   "cell_type": "markdown",
   "metadata": {},
   "source": [
    "## Problem 6\n",
    "What was the total cost for each order?\n"
   ]
  },
  {
   "cell_type": "markdown",
   "metadata": {},
   "source": [
    "```Sql\n",
    "SELECT OrderID, SUM(OrderDetails.Quantity * Products.Price) AS Total FROM OrderDetails\n",
    "JOIN Products ON OrderDetails.ProductID = Products.ProductID\n",
    "GROUP BY OrderID\n",
    "ORDER BY Total DESC\n",
    "\n",
    "```"
   ]
  },
  {
   "cell_type": "markdown",
   "metadata": {},
   "source": [
    "## Problem 7\n",
    "Which employee made the most sales (by total cost)?"
   ]
  },
  {
   "cell_type": "markdown",
   "metadata": {},
   "source": [
    "```Sql\n",
    "SELECT LastName, FirstName, SUM(Products.Price * OrderDetails.Quantity) AS Sales FROM Employees\n",
    "JOIN Orders ON Employees.EmployeeID = Orders.EmployeeID\n",
    "JOIN OrderDetails ON Orders.OrderID = OrderDetails.OrderID\n",
    "JOIN Products ON OrderDetails.ProductID = Products.ProductID\n",
    "GROUP BY Employees.EmployeeID\n",
    "ORDER BY Sales DESC\n",
    "```"
   ]
  },
  {
   "cell_type": "markdown",
   "metadata": {},
   "source": [
    "## Problem 8\n",
    "Which employees have BS degrees? (Hint: look at the LIKE operator.)"
   ]
  },
  {
   "cell_type": "markdown",
   "metadata": {},
   "source": [
    "```Sql\n",
    "SELECT FirstName, LastName FROM Employees\n",
    "WHERE Notes LIKE '%BS%'\n",
    "```"
   ]
  },
  {
   "cell_type": "markdown",
   "metadata": {},
   "source": [
    "## Problem 9\n",
    "Which supplier of three or more products has the highest average product price? (Hint: look at the HAVING operator.)"
   ]
  },
  {
   "cell_type": "markdown",
   "metadata": {},
   "source": [
    "```Sql\n",
    "SELECT SupplierName, COUNT(*) AS NUM, AVG(Products.Price) AS AvgPrice from Suppliers\n",
    "JOIN Products ON Suppliers.SupplierID = Products.SupplierID\n",
    "GROUP BY SupplierName \n",
    "HAVING NUM > 3\n",
    "ORDER BY AvgPrice DESC\n",
    "```"
   ]
  },
  {
   "cell_type": "code",
   "execution_count": null,
   "metadata": {
    "collapsed": true
   },
   "outputs": [],
   "source": []
  }
 ],
 "metadata": {
  "kernelspec": {
   "display_name": "Python [Root]",
   "language": "python",
   "name": "Python [Root]"
  },
  "language_info": {
   "codemirror_mode": {
    "name": "ipython",
    "version": 3
   },
   "file_extension": ".py",
   "mimetype": "text/x-python",
   "name": "python",
   "nbconvert_exporter": "python",
   "pygments_lexer": "ipython3",
   "version": "3.5.2"
  }
 },
 "nbformat": 4,
 "nbformat_minor": 0
}

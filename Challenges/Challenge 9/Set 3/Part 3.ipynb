{
 "cells": [
  {
   "cell_type": "code",
   "execution_count": 1,
   "metadata": {
    "collapsed": true
   },
   "outputs": [],
   "source": [
    "import sqlite3\n",
    "import pandas as pd"
   ]
  },
  {
   "cell_type": "code",
   "execution_count": 13,
   "metadata": {
    "collapsed": false
   },
   "outputs": [],
   "source": [
    "c = cnx.cursor()"
   ]
  },
  {
   "cell_type": "code",
   "execution_count": 18,
   "metadata": {
    "collapsed": false
   },
   "outputs": [
    {
     "data": {
      "text/plain": [
       "<sqlite3.Cursor at 0x11248df10>"
      ]
     },
     "execution_count": 18,
     "metadata": {},
     "output_type": "execute_result"
    }
   ],
   "source": [
    "c.execute('''SELECT * FROM sqlite_master''')"
   ]
  },
  {
   "cell_type": "code",
   "execution_count": 19,
   "metadata": {
    "collapsed": false
   },
   "outputs": [
    {
     "data": {
      "text/plain": [
       "[('table',\n",
       "  'sqlite_sequence',\n",
       "  'sqlite_sequence',\n",
       "  4,\n",
       "  'CREATE TABLE sqlite_sequence(name,seq)'),\n",
       " ('table',\n",
       "  'Player_Attributes',\n",
       "  'Player_Attributes',\n",
       "  11,\n",
       "  'CREATE TABLE \"Player_Attributes\" (\\n\\t`id`\\tINTEGER PRIMARY KEY AUTOINCREMENT,\\n\\t`player_fifa_api_id`\\tINTEGER,\\n\\t`player_api_id`\\tINTEGER,\\n\\t`date`\\tTEXT,\\n\\t`overall_rating`\\tINTEGER,\\n\\t`potential`\\tINTEGER,\\n\\t`preferred_foot`\\tTEXT,\\n\\t`attacking_work_rate`\\tTEXT,\\n\\t`defensive_work_rate`\\tTEXT,\\n\\t`crossing`\\tINTEGER,\\n\\t`finishing`\\tINTEGER,\\n\\t`heading_accuracy`\\tINTEGER,\\n\\t`short_passing`\\tINTEGER,\\n\\t`volleys`\\tINTEGER,\\n\\t`dribbling`\\tINTEGER,\\n\\t`curve`\\tINTEGER,\\n\\t`free_kick_accuracy`\\tINTEGER,\\n\\t`long_passing`\\tINTEGER,\\n\\t`ball_control`\\tINTEGER,\\n\\t`acceleration`\\tINTEGER,\\n\\t`sprint_speed`\\tINTEGER,\\n\\t`agility`\\tINTEGER,\\n\\t`reactions`\\tINTEGER,\\n\\t`balance`\\tINTEGER,\\n\\t`shot_power`\\tINTEGER,\\n\\t`jumping`\\tINTEGER,\\n\\t`stamina`\\tINTEGER,\\n\\t`strength`\\tINTEGER,\\n\\t`long_shots`\\tINTEGER,\\n\\t`aggression`\\tINTEGER,\\n\\t`interceptions`\\tINTEGER,\\n\\t`positioning`\\tINTEGER,\\n\\t`vision`\\tINTEGER,\\n\\t`penalties`\\tINTEGER,\\n\\t`marking`\\tINTEGER,\\n\\t`standing_tackle`\\tINTEGER,\\n\\t`sliding_tackle`\\tINTEGER,\\n\\t`gk_diving`\\tINTEGER,\\n\\t`gk_handling`\\tINTEGER,\\n\\t`gk_kicking`\\tINTEGER,\\n\\t`gk_positioning`\\tINTEGER,\\n\\t`gk_reflexes`\\tINTEGER,\\n\\tFOREIGN KEY(`player_fifa_api_id`) REFERENCES `Player`(`player_fifa_api_id`),\\n\\tFOREIGN KEY(`player_api_id`) REFERENCES `Player`(`player_api_id`)\\n)'),\n",
       " ('table',\n",
       "  'Player',\n",
       "  'Player',\n",
       "  14,\n",
       "  'CREATE TABLE `Player` (\\n\\t`id`\\tINTEGER PRIMARY KEY AUTOINCREMENT,\\n\\t`player_api_id`\\tINTEGER UNIQUE,\\n\\t`player_name`\\tTEXT,\\n\\t`player_fifa_api_id`\\tINTEGER UNIQUE,\\n\\t`birthday`\\tTEXT,\\n\\t`height`\\tINTEGER,\\n\\t`weight`\\tINTEGER\\n)'),\n",
       " ('index', 'sqlite_autoindex_Player_1', 'Player', 15, None),\n",
       " ('index', 'sqlite_autoindex_Player_2', 'Player', 17, None),\n",
       " ('table',\n",
       "  'Match',\n",
       "  'Match',\n",
       "  18,\n",
       "  'CREATE TABLE `Match` (\\n\\t`id`\\tINTEGER PRIMARY KEY AUTOINCREMENT,\\n\\t`country_id`\\tINTEGER,\\n\\t`league_id`\\tINTEGER,\\n\\t`season`\\tTEXT,\\n\\t`stage`\\tINTEGER,\\n\\t`date`\\tTEXT,\\n\\t`match_api_id`\\tINTEGER UNIQUE,\\n\\t`home_team_api_id`\\tINTEGER,\\n\\t`away_team_api_id`\\tINTEGER,\\n\\t`home_team_goal`\\tINTEGER,\\n\\t`away_team_goal`\\tINTEGER,\\n\\t`home_player_X1`\\tINTEGER,\\n\\t`home_player_X2`\\tINTEGER,\\n\\t`home_player_X3`\\tINTEGER,\\n\\t`home_player_X4`\\tINTEGER,\\n\\t`home_player_X5`\\tINTEGER,\\n\\t`home_player_X6`\\tINTEGER,\\n\\t`home_player_X7`\\tINTEGER,\\n\\t`home_player_X8`\\tINTEGER,\\n\\t`home_player_X9`\\tINTEGER,\\n\\t`home_player_X10`\\tINTEGER,\\n\\t`home_player_X11`\\tINTEGER,\\n\\t`away_player_X1`\\tINTEGER,\\n\\t`away_player_X2`\\tINTEGER,\\n\\t`away_player_X3`\\tINTEGER,\\n\\t`away_player_X4`\\tINTEGER,\\n\\t`away_player_X5`\\tINTEGER,\\n\\t`away_player_X6`\\tINTEGER,\\n\\t`away_player_X7`\\tINTEGER,\\n\\t`away_player_X8`\\tINTEGER,\\n\\t`away_player_X9`\\tINTEGER,\\n\\t`away_player_X10`\\tINTEGER,\\n\\t`away_player_X11`\\tINTEGER,\\n\\t`home_player_Y1`\\tINTEGER,\\n\\t`home_player_Y2`\\tINTEGER,\\n\\t`home_player_Y3`\\tINTEGER,\\n\\t`home_player_Y4`\\tINTEGER,\\n\\t`home_player_Y5`\\tINTEGER,\\n\\t`home_player_Y6`\\tINTEGER,\\n\\t`home_player_Y7`\\tINTEGER,\\n\\t`home_player_Y8`\\tINTEGER,\\n\\t`home_player_Y9`\\tINTEGER,\\n\\t`home_player_Y10`\\tINTEGER,\\n\\t`home_player_Y11`\\tINTEGER,\\n\\t`away_player_Y1`\\tINTEGER,\\n\\t`away_player_Y2`\\tINTEGER,\\n\\t`away_player_Y3`\\tINTEGER,\\n\\t`away_player_Y4`\\tINTEGER,\\n\\t`away_player_Y5`\\tINTEGER,\\n\\t`away_player_Y6`\\tINTEGER,\\n\\t`away_player_Y7`\\tINTEGER,\\n\\t`away_player_Y8`\\tINTEGER,\\n\\t`away_player_Y9`\\tINTEGER,\\n\\t`away_player_Y10`\\tINTEGER,\\n\\t`away_player_Y11`\\tINTEGER,\\n\\t`home_player_1`\\tINTEGER,\\n\\t`home_player_2`\\tINTEGER,\\n\\t`home_player_3`\\tINTEGER,\\n\\t`home_player_4`\\tINTEGER,\\n\\t`home_player_5`\\tINTEGER,\\n\\t`home_player_6`\\tINTEGER,\\n\\t`home_player_7`\\tINTEGER,\\n\\t`home_player_8`\\tINTEGER,\\n\\t`home_player_9`\\tINTEGER,\\n\\t`home_player_10`\\tINTEGER,\\n\\t`home_player_11`\\tINTEGER,\\n\\t`away_player_1`\\tINTEGER,\\n\\t`away_player_2`\\tINTEGER,\\n\\t`away_player_3`\\tINTEGER,\\n\\t`away_player_4`\\tINTEGER,\\n\\t`away_player_5`\\tINTEGER,\\n\\t`away_player_6`\\tINTEGER,\\n\\t`away_player_7`\\tINTEGER,\\n\\t`away_player_8`\\tINTEGER,\\n\\t`away_player_9`\\tINTEGER,\\n\\t`away_player_10`\\tINTEGER,\\n\\t`away_player_11`\\tINTEGER,\\n\\t`goal`\\tTEXT,\\n\\t`shoton`\\tTEXT,\\n\\t`shotoff`\\tTEXT,\\n\\t`foulcommit`\\tTEXT,\\n\\t`card`\\tTEXT,\\n\\t`cross`\\tTEXT,\\n\\t`corner`\\tTEXT,\\n\\t`possession`\\tTEXT,\\n\\t`B365H`\\tNUMERIC,\\n\\t`B365D`\\tNUMERIC,\\n\\t`B365A`\\tNUMERIC,\\n\\t`BWH`\\tNUMERIC,\\n\\t`BWD`\\tNUMERIC,\\n\\t`BWA`\\tNUMERIC,\\n\\t`IWH`\\tNUMERIC,\\n\\t`IWD`\\tNUMERIC,\\n\\t`IWA`\\tNUMERIC,\\n\\t`LBH`\\tNUMERIC,\\n\\t`LBD`\\tNUMERIC,\\n\\t`LBA`\\tNUMERIC,\\n\\t`PSH`\\tNUMERIC,\\n\\t`PSD`\\tNUMERIC,\\n\\t`PSA`\\tNUMERIC,\\n\\t`WHH`\\tNUMERIC,\\n\\t`WHD`\\tNUMERIC,\\n\\t`WHA`\\tNUMERIC,\\n\\t`SJH`\\tNUMERIC,\\n\\t`SJD`\\tNUMERIC,\\n\\t`SJA`\\tNUMERIC,\\n\\t`VCH`\\tNUMERIC,\\n\\t`VCD`\\tNUMERIC,\\n\\t`VCA`\\tNUMERIC,\\n\\t`GBH`\\tNUMERIC,\\n\\t`GBD`\\tNUMERIC,\\n\\t`GBA`\\tNUMERIC,\\n\\t`BSH`\\tNUMERIC,\\n\\t`BSD`\\tNUMERIC,\\n\\t`BSA`\\tNUMERIC,\\n\\tFOREIGN KEY(`country_id`) REFERENCES `country`(`id`),\\n\\tFOREIGN KEY(`league_id`) REFERENCES `League`(`id`),\\n\\tFOREIGN KEY(`home_team_api_id`) REFERENCES `Team`(`team_api_id`),\\n\\tFOREIGN KEY(`away_team_api_id`) REFERENCES `Team`(`team_api_id`),\\n\\tFOREIGN KEY(`home_player_1`) REFERENCES `Player`(`player_api_id`),\\n\\tFOREIGN KEY(`home_player_2`) REFERENCES `Player`(`player_api_id`),\\n\\tFOREIGN KEY(`home_player_3`) REFERENCES `Player`(`player_api_id`),\\n\\tFOREIGN KEY(`home_player_4`) REFERENCES `Player`(`player_api_id`),\\n\\tFOREIGN KEY(`home_player_5`) REFERENCES `Player`(`player_api_id`),\\n\\tFOREIGN KEY(`home_player_6`) REFERENCES `Player`(`player_api_id`),\\n\\tFOREIGN KEY(`home_player_7`) REFERENCES `Player`(`player_api_id`),\\n\\tFOREIGN KEY(`home_player_8`) REFERENCES `Player`(`player_api_id`),\\n\\tFOREIGN KEY(`home_player_9`) REFERENCES `Player`(`player_api_id`),\\n\\tFOREIGN KEY(`home_player_10`) REFERENCES `Player`(`player_api_id`),\\n\\tFOREIGN KEY(`home_player_11`) REFERENCES `Player`(`player_api_id`),\\n\\tFOREIGN KEY(`away_player_1`) REFERENCES `Player`(`player_api_id`),\\n\\tFOREIGN KEY(`away_player_2`) REFERENCES `Player`(`player_api_id`),\\n\\tFOREIGN KEY(`away_player_3`) REFERENCES `Player`(`player_api_id`),\\n\\tFOREIGN KEY(`away_player_4`) REFERENCES `Player`(`player_api_id`),\\n\\tFOREIGN KEY(`away_player_5`) REFERENCES `Player`(`player_api_id`),\\n\\tFOREIGN KEY(`away_player_6`) REFERENCES `Player`(`player_api_id`),\\n\\tFOREIGN KEY(`away_player_7`) REFERENCES `Player`(`player_api_id`),\\n\\tFOREIGN KEY(`away_player_8`) REFERENCES `Player`(`player_api_id`),\\n\\tFOREIGN KEY(`away_player_9`) REFERENCES `Player`(`player_api_id`),\\n\\tFOREIGN KEY(`away_player_10`) REFERENCES `Player`(`player_api_id`),\\n\\tFOREIGN KEY(`away_player_11`) REFERENCES `Player`(`player_api_id`)\\n)'),\n",
       " ('index', 'sqlite_autoindex_Match_1', 'Match', 19, None),\n",
       " ('table',\n",
       "  'League',\n",
       "  'League',\n",
       "  24,\n",
       "  'CREATE TABLE `League` (\\n\\t`id`\\tINTEGER PRIMARY KEY AUTOINCREMENT,\\n\\t`country_id`\\tINTEGER,\\n\\t`name`\\tTEXT UNIQUE,\\n\\tFOREIGN KEY(`country_id`) REFERENCES `country`(`id`)\\n)'),\n",
       " ('index', 'sqlite_autoindex_League_1', 'League', 25, None),\n",
       " ('table',\n",
       "  'Country',\n",
       "  'Country',\n",
       "  26,\n",
       "  'CREATE TABLE `Country` (\\n\\t`id`\\tINTEGER PRIMARY KEY AUTOINCREMENT,\\n\\t`name`\\tTEXT UNIQUE\\n)'),\n",
       " ('index', 'sqlite_autoindex_Country_1', 'Country', 28, None),\n",
       " ('table',\n",
       "  'Team',\n",
       "  'Team',\n",
       "  29,\n",
       "  'CREATE TABLE \"Team\" (\\n\\t`id`\\tINTEGER PRIMARY KEY AUTOINCREMENT,\\n\\t`team_api_id`\\tINTEGER UNIQUE,\\n\\t`team_fifa_api_id`\\tINTEGER,\\n\\t`team_long_name`\\tTEXT,\\n\\t`team_short_name`\\tTEXT\\n)'),\n",
       " ('index', 'sqlite_autoindex_Team_1', 'Team', 30, None),\n",
       " ('table',\n",
       "  'Team_Attributes',\n",
       "  'Team_Attributes',\n",
       "  2,\n",
       "  'CREATE TABLE `Team_Attributes` (\\n\\t`id`\\tINTEGER PRIMARY KEY AUTOINCREMENT,\\n\\t`team_fifa_api_id`\\tINTEGER,\\n\\t`team_api_id`\\tINTEGER,\\n\\t`date`\\tTEXT,\\n\\t`buildUpPlaySpeed`\\tINTEGER,\\n\\t`buildUpPlaySpeedClass`\\tTEXT,\\n\\t`buildUpPlayDribbling`\\tINTEGER,\\n\\t`buildUpPlayDribblingClass`\\tTEXT,\\n\\t`buildUpPlayPassing`\\tINTEGER,\\n\\t`buildUpPlayPassingClass`\\tTEXT,\\n\\t`buildUpPlayPositioningClass`\\tTEXT,\\n\\t`chanceCreationPassing`\\tINTEGER,\\n\\t`chanceCreationPassingClass`\\tTEXT,\\n\\t`chanceCreationCrossing`\\tINTEGER,\\n\\t`chanceCreationCrossingClass`\\tTEXT,\\n\\t`chanceCreationShooting`\\tINTEGER,\\n\\t`chanceCreationShootingClass`\\tTEXT,\\n\\t`chanceCreationPositioningClass`\\tTEXT,\\n\\t`defencePressure`\\tINTEGER,\\n\\t`defencePressureClass`\\tTEXT,\\n\\t`defenceAggression`\\tINTEGER,\\n\\t`defenceAggressionClass`\\tTEXT,\\n\\t`defenceTeamWidth`\\tINTEGER,\\n\\t`defenceTeamWidthClass`\\tTEXT,\\n\\t`defenceDefenderLineClass`\\tTEXT,\\n\\tFOREIGN KEY(`team_fifa_api_id`) REFERENCES `Team`(`team_fifa_api_id`),\\n\\tFOREIGN KEY(`team_api_id`) REFERENCES `Team`(`team_api_id`)\\n)')]"
      ]
     },
     "execution_count": 19,
     "metadata": {},
     "output_type": "execute_result"
    }
   ],
   "source": [
    "c.fetchall()"
   ]
  },
  {
   "cell_type": "markdown",
   "metadata": {},
   "source": [
    "## Problem 1\n",
    "\n",
    "Which team scored the most points when playing at home?\n",
    "\n"
   ]
  },
  {
   "cell_type": "code",
   "execution_count": 2,
   "metadata": {
    "collapsed": false
   },
   "outputs": [],
   "source": [
    "cnx = sqlite3.connect('database.sqlite')"
   ]
  },
  {
   "cell_type": "code",
   "execution_count": 3,
   "metadata": {
    "collapsed": false
   },
   "outputs": [
    {
     "data": {
      "text/html": [
       "<div>\n",
       "<table border=\"1\" class=\"dataframe\">\n",
       "  <thead>\n",
       "    <tr style=\"text-align: right;\">\n",
       "      <th></th>\n",
       "      <th>Team_Name</th>\n",
       "      <th>Team_Abv</th>\n",
       "      <th>Home_Goals</th>\n",
       "    </tr>\n",
       "  </thead>\n",
       "  <tbody>\n",
       "    <tr>\n",
       "      <th>0</th>\n",
       "      <td>Real Madrid CF</td>\n",
       "      <td>REA</td>\n",
       "      <td>505</td>\n",
       "    </tr>\n",
       "    <tr>\n",
       "      <th>1</th>\n",
       "      <td>FC Barcelona</td>\n",
       "      <td>BAR</td>\n",
       "      <td>495</td>\n",
       "    </tr>\n",
       "    <tr>\n",
       "      <th>2</th>\n",
       "      <td>Celtic</td>\n",
       "      <td>CEL</td>\n",
       "      <td>389</td>\n",
       "    </tr>\n",
       "    <tr>\n",
       "      <th>3</th>\n",
       "      <td>FC Bayern Munich</td>\n",
       "      <td>BMU</td>\n",
       "      <td>382</td>\n",
       "    </tr>\n",
       "    <tr>\n",
       "      <th>4</th>\n",
       "      <td>PSV</td>\n",
       "      <td>PSV</td>\n",
       "      <td>370</td>\n",
       "    </tr>\n",
       "    <tr>\n",
       "      <th>5</th>\n",
       "      <td>Manchester City</td>\n",
       "      <td>MCI</td>\n",
       "      <td>365</td>\n",
       "    </tr>\n",
       "    <tr>\n",
       "      <th>6</th>\n",
       "      <td>Ajax</td>\n",
       "      <td>AJA</td>\n",
       "      <td>360</td>\n",
       "    </tr>\n",
       "    <tr>\n",
       "      <th>7</th>\n",
       "      <td>FC Basel</td>\n",
       "      <td>BAS</td>\n",
       "      <td>344</td>\n",
       "    </tr>\n",
       "    <tr>\n",
       "      <th>8</th>\n",
       "      <td>Manchester United</td>\n",
       "      <td>MUN</td>\n",
       "      <td>338</td>\n",
       "    </tr>\n",
       "    <tr>\n",
       "      <th>9</th>\n",
       "      <td>Chelsea</td>\n",
       "      <td>CHE</td>\n",
       "      <td>333</td>\n",
       "    </tr>\n",
       "  </tbody>\n",
       "</table>\n",
       "</div>"
      ],
      "text/plain": [
       "           Team_Name Team_Abv  Home_Goals\n",
       "0     Real Madrid CF      REA         505\n",
       "1       FC Barcelona      BAR         495\n",
       "2             Celtic      CEL         389\n",
       "3   FC Bayern Munich      BMU         382\n",
       "4                PSV      PSV         370\n",
       "5    Manchester City      MCI         365\n",
       "6               Ajax      AJA         360\n",
       "7           FC Basel      BAS         344\n",
       "8  Manchester United      MUN         338\n",
       "9            Chelsea      CHE         333"
      ]
     },
     "execution_count": 3,
     "metadata": {},
     "output_type": "execute_result"
    }
   ],
   "source": [
    "pd.read_sql_query('''SELECT team_long_name AS Team_Name, team_short_name AS Team_Abv, SUM(home_team_goal) AS Home_Goals\n",
    "FROM Match\n",
    "JOIN Team ON Team.team_api_id = Match.home_team_api_id\n",
    "GROUP BY Match.home_team_api_id\n",
    "ORDER BY Home_Goals DESC\n",
    "LIMIT 10''', cnx)"
   ]
  },
  {
   "cell_type": "markdown",
   "metadata": {},
   "source": [
    "## Problem 2\n",
    "\n",
    "Did this team also score the most points when playing away?"
   ]
  },
  {
   "cell_type": "code",
   "execution_count": 4,
   "metadata": {
    "collapsed": false
   },
   "outputs": [
    {
     "data": {
      "text/html": [
       "<div>\n",
       "<table border=\"1\" class=\"dataframe\">\n",
       "  <thead>\n",
       "    <tr style=\"text-align: right;\">\n",
       "      <th></th>\n",
       "      <th>Team_Name</th>\n",
       "      <th>Team_Abv</th>\n",
       "      <th>Away_Goals</th>\n",
       "    </tr>\n",
       "  </thead>\n",
       "  <tbody>\n",
       "    <tr>\n",
       "      <th>0</th>\n",
       "      <td>FC Barcelona</td>\n",
       "      <td>BAR</td>\n",
       "      <td>354</td>\n",
       "    </tr>\n",
       "    <tr>\n",
       "      <th>1</th>\n",
       "      <td>Real Madrid CF</td>\n",
       "      <td>REA</td>\n",
       "      <td>338</td>\n",
       "    </tr>\n",
       "    <tr>\n",
       "      <th>2</th>\n",
       "      <td>Celtic</td>\n",
       "      <td>CEL</td>\n",
       "      <td>306</td>\n",
       "    </tr>\n",
       "    <tr>\n",
       "      <th>3</th>\n",
       "      <td>Ajax</td>\n",
       "      <td>AJA</td>\n",
       "      <td>287</td>\n",
       "    </tr>\n",
       "    <tr>\n",
       "      <th>4</th>\n",
       "      <td>PSV</td>\n",
       "      <td>PSV</td>\n",
       "      <td>282</td>\n",
       "    </tr>\n",
       "    <tr>\n",
       "      <th>5</th>\n",
       "      <td>FC Basel</td>\n",
       "      <td>BAS</td>\n",
       "      <td>275</td>\n",
       "    </tr>\n",
       "    <tr>\n",
       "      <th>6</th>\n",
       "      <td>FC Bayern Munich</td>\n",
       "      <td>BMU</td>\n",
       "      <td>271</td>\n",
       "    </tr>\n",
       "    <tr>\n",
       "      <th>7</th>\n",
       "      <td>Arsenal</td>\n",
       "      <td>ARS</td>\n",
       "      <td>267</td>\n",
       "    </tr>\n",
       "    <tr>\n",
       "      <th>8</th>\n",
       "      <td>Borussia Dortmund</td>\n",
       "      <td>DOR</td>\n",
       "      <td>253</td>\n",
       "    </tr>\n",
       "    <tr>\n",
       "      <th>9</th>\n",
       "      <td>Chelsea</td>\n",
       "      <td>CHE</td>\n",
       "      <td>250</td>\n",
       "    </tr>\n",
       "  </tbody>\n",
       "</table>\n",
       "</div>"
      ],
      "text/plain": [
       "           Team_Name Team_Abv  Away_Goals\n",
       "0       FC Barcelona      BAR         354\n",
       "1     Real Madrid CF      REA         338\n",
       "2             Celtic      CEL         306\n",
       "3               Ajax      AJA         287\n",
       "4                PSV      PSV         282\n",
       "5           FC Basel      BAS         275\n",
       "6   FC Bayern Munich      BMU         271\n",
       "7            Arsenal      ARS         267\n",
       "8  Borussia Dortmund      DOR         253\n",
       "9            Chelsea      CHE         250"
      ]
     },
     "execution_count": 4,
     "metadata": {},
     "output_type": "execute_result"
    }
   ],
   "source": [
    "pd.read_sql_query('''SELECT team_long_name AS Team_Name, team_short_name AS Team_Abv, SUM(away_team_goal) AS Away_Goals\n",
    "FROM Match\n",
    "JOIN Team ON Team.team_api_id = Match.away_team_api_id\n",
    "GROUP BY Match.away_team_api_id\n",
    "ORDER BY Away_Goals DESC\n",
    "LIMIT 10''', cnx)"
   ]
  },
  {
   "cell_type": "markdown",
   "metadata": {},
   "source": [
    "## Problem 3\n",
    "\n",
    "How many matches resulted in a tie?"
   ]
  },
  {
   "cell_type": "code",
   "execution_count": 5,
   "metadata": {
    "collapsed": false
   },
   "outputs": [
    {
     "data": {
      "text/html": [
       "<div>\n",
       "<table border=\"1\" class=\"dataframe\">\n",
       "  <thead>\n",
       "    <tr style=\"text-align: right;\">\n",
       "      <th></th>\n",
       "      <th>Ties</th>\n",
       "    </tr>\n",
       "  </thead>\n",
       "  <tbody>\n",
       "    <tr>\n",
       "      <th>0</th>\n",
       "      <td>6596</td>\n",
       "    </tr>\n",
       "  </tbody>\n",
       "</table>\n",
       "</div>"
      ],
      "text/plain": [
       "   Ties\n",
       "0  6596"
      ]
     },
     "execution_count": 5,
     "metadata": {},
     "output_type": "execute_result"
    }
   ],
   "source": [
    "pd.read_sql_query('''SELECT COUNT(match_api_id) AS Ties\n",
    "FROM Match\n",
    "WHERE away_team_goal = home_team_goal\n",
    "LIMIT 10''', cnx)"
   ]
  },
  {
   "cell_type": "markdown",
   "metadata": {},
   "source": [
    "## Problem 4\n",
    "\n",
    "How many players have Smith for their last name? How many have 'smith' anywhere in their name?\n",
    "\n"
   ]
  },
  {
   "cell_type": "code",
   "execution_count": 6,
   "metadata": {
    "collapsed": false
   },
   "outputs": [
    {
     "data": {
      "text/html": [
       "<div>\n",
       "<table border=\"1\" class=\"dataframe\">\n",
       "  <thead>\n",
       "    <tr style=\"text-align: right;\">\n",
       "      <th></th>\n",
       "      <th>COUNT(player_name)</th>\n",
       "    </tr>\n",
       "  </thead>\n",
       "  <tbody>\n",
       "    <tr>\n",
       "      <th>0</th>\n",
       "      <td>15</td>\n",
       "    </tr>\n",
       "  </tbody>\n",
       "</table>\n",
       "</div>"
      ],
      "text/plain": [
       "   COUNT(player_name)\n",
       "0                  15"
      ]
     },
     "execution_count": 6,
     "metadata": {},
     "output_type": "execute_result"
    }
   ],
   "source": [
    "pd.read_sql_query('''SELECT COUNT(player_name) FROM Player \n",
    "WHERE player_name LIKE '% SMITH'\n",
    "''', cnx)"
   ]
  },
  {
   "cell_type": "code",
   "execution_count": 7,
   "metadata": {
    "collapsed": false
   },
   "outputs": [
    {
     "data": {
      "text/html": [
       "<div>\n",
       "<table border=\"1\" class=\"dataframe\">\n",
       "  <thead>\n",
       "    <tr style=\"text-align: right;\">\n",
       "      <th></th>\n",
       "      <th>COUNT(player_name)</th>\n",
       "    </tr>\n",
       "  </thead>\n",
       "  <tbody>\n",
       "    <tr>\n",
       "      <th>0</th>\n",
       "      <td>18</td>\n",
       "    </tr>\n",
       "  </tbody>\n",
       "</table>\n",
       "</div>"
      ],
      "text/plain": [
       "   COUNT(player_name)\n",
       "0                  18"
      ]
     },
     "execution_count": 7,
     "metadata": {},
     "output_type": "execute_result"
    }
   ],
   "source": [
    "pd.read_sql_query('''SELECT COUNT(player_name) FROM Player \n",
    "WHERE player_name LIKE '%SMITH%'\n",
    "''', cnx)"
   ]
  },
  {
   "cell_type": "markdown",
   "metadata": {},
   "source": [
    "## Problem 5\n",
    "\n",
    "What was the median tie score? Use the value determined in the previous question for the number of tie games. Hint: PostgreSQL does not have a median function. Instead, think about the steps required to calculate a median and use the WITH command to store stepwise results as a table and then operate on these results."
   ]
  },
  {
   "cell_type": "code",
   "execution_count": 31,
   "metadata": {
    "collapsed": false
   },
   "outputs": [
    {
     "data": {
      "text/html": [
       "<div>\n",
       "<table border=\"1\" class=\"dataframe\">\n",
       "  <thead>\n",
       "    <tr style=\"text-align: right;\">\n",
       "      <th></th>\n",
       "      <th>Away_Goals</th>\n",
       "      <th>Home_Goals</th>\n",
       "      <th>Num_Ties</th>\n",
       "    </tr>\n",
       "  </thead>\n",
       "  <tbody>\n",
       "    <tr>\n",
       "      <th>0</th>\n",
       "      <td>1</td>\n",
       "      <td>1</td>\n",
       "      <td>6596</td>\n",
       "    </tr>\n",
       "  </tbody>\n",
       "</table>\n",
       "</div>"
      ],
      "text/plain": [
       "   Away_Goals  Home_Goals  Num_Ties\n",
       "0           1           1      6596"
      ]
     },
     "execution_count": 31,
     "metadata": {},
     "output_type": "execute_result"
    }
   ],
   "source": [
    "pd.read_sql_query('''WITH Ties AS (SELECT COUNT(match_api_id) AS Num_Ties\n",
    "FROM Match\n",
    "WHERE away_team_goal = home_team_goal)\n",
    "SELECT away_team_goal as Away_Goals, home_team_goal AS Home_Goals, Num_Ties\n",
    "FROM Match, Ties\n",
    "WHERE away_team_goal = home_team_goal\n",
    "ORDER BY Home_Goals DESC\n",
    "LIMIT 1 OFFSET 6596/2\n",
    "''', cnx)"
   ]
  },
  {
   "cell_type": "code",
   "execution_count": 32,
   "metadata": {
    "collapsed": true
   },
   "outputs": [],
   "source": [
    "df = pd.read_sql_query('''WITH Ties AS (SELECT COUNT(match_api_id) AS Num_Ties\n",
    "FROM Match\n",
    "WHERE away_team_goal = home_team_goal)\n",
    "SELECT away_team_goal as Away_Goals, home_team_goal AS Home_Goals, Num_Ties\n",
    "FROM Match, Ties\n",
    "WHERE away_team_goal = home_team_goal\n",
    "ORDER BY Home_Goals DESC\n",
    "''', cnx)"
   ]
  },
  {
   "cell_type": "code",
   "execution_count": 33,
   "metadata": {
    "collapsed": false
   },
   "outputs": [
    {
     "data": {
      "text/plain": [
       "1.0"
      ]
     },
     "execution_count": 33,
     "metadata": {},
     "output_type": "execute_result"
    }
   ],
   "source": [
    "df['Away_Goals'].median()"
   ]
  },
  {
   "cell_type": "markdown",
   "metadata": {},
   "source": [
    "## Problem 6\n",
    "\n",
    "What percentage of players prefer their left or right foot? Hint: Calculate either the right or left foot, whichever is easier based on how you setup the problem.\n",
    "\n"
   ]
  },
  {
   "cell_type": "code",
   "execution_count": 9,
   "metadata": {
    "collapsed": false
   },
   "outputs": [],
   "source": [
    "right_db = pd.read_sql_query('''\n",
    "SELECT COUNT(player_api_id)\n",
    "FROM Player_Attributes\n",
    "WHERE preferred_foot = 'right'\n",
    "LIMIT 1\n",
    "''', cnx)\n",
    "right = int(right_db.iloc[0])"
   ]
  },
  {
   "cell_type": "code",
   "execution_count": 10,
   "metadata": {
    "collapsed": false
   },
   "outputs": [],
   "source": [
    "total_db = pd.read_sql_query('''SELECT COUNT(*) FROM Player_Attributes LIMIT 1''',cnx)\n",
    "total = int(total_db.iloc[0])"
   ]
  },
  {
   "cell_type": "code",
   "execution_count": 11,
   "metadata": {
    "collapsed": false
   },
   "outputs": [
    {
     "data": {
      "text/plain": [
       "0.7523127765276283"
      ]
     },
     "execution_count": 11,
     "metadata": {},
     "output_type": "execute_result"
    }
   ],
   "source": [
    "right/total"
   ]
  },
  {
   "cell_type": "code",
   "execution_count": null,
   "metadata": {
    "collapsed": true
   },
   "outputs": [],
   "source": []
  }
 ],
 "metadata": {
  "anaconda-cloud": {},
  "kernelspec": {
   "display_name": "Python [Root]",
   "language": "python",
   "name": "Python [Root]"
  },
  "language_info": {
   "codemirror_mode": {
    "name": "ipython",
    "version": 3
   },
   "file_extension": ".py",
   "mimetype": "text/x-python",
   "name": "python",
   "nbconvert_exporter": "python",
   "pygments_lexer": "ipython3",
   "version": "3.5.2"
  }
 },
 "nbformat": 4,
 "nbformat_minor": 0
}

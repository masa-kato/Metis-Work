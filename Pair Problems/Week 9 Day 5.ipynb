{
 "cells": [
  {
   "cell_type": "markdown",
   "metadata": {},
   "source": [
    "# Pair Problems"
   ]
  },
  {
   "cell_type": "code",
   "execution_count": 5,
   "metadata": {
    "collapsed": true
   },
   "outputs": [],
   "source": [
    "import numpy as np"
   ]
  },
  {
   "cell_type": "code",
   "execution_count": 146,
   "metadata": {
    "collapsed": true
   },
   "outputs": [],
   "source": [
    "def amoebas(p):\n",
    "    '''\n",
    "    Parameters:\n",
    "    p - Probability of split\n",
    "    '''\n",
    "    # Initialize Number of Amoebas\n",
    "    n = 1\n",
    "    while (n > 0) and (n < 100000):\n",
    "        n = 2*np.random.binomial(n, p)\n",
    "    return n"
   ]
  },
  {
   "cell_type": "code",
   "execution_count": 150,
   "metadata": {
    "collapsed": false
   },
   "outputs": [
    {
     "name": "stdout",
     "output_type": "stream",
     "text": [
      "Probability of Line Immortality: 0.6733\n"
     ]
    }
   ],
   "source": [
    "p = 0.75\n",
    "results = [amoebas(p) for i in range(10000)]\n",
    "prob = sum([1 for result in results if result != 0])/len(results)\n",
    "\n",
    "print('Probability of Line Immortality:', prob)"
   ]
  },
  {
   "cell_type": "code",
   "execution_count": 151,
   "metadata": {
    "collapsed": false
   },
   "outputs": [
    {
     "name": "stdout",
     "output_type": "stream",
     "text": [
      "Probability of Line Immortality: 0.0\n"
     ]
    }
   ],
   "source": [
    "p = 0.5\n",
    "results = [amoebas(p) for i in range(10000)]\n",
    "prob = sum([1 for result in results if result != 0])/len(results)\n",
    "\n",
    "print('Probability of Line Immortality:', prob)"
   ]
  },
  {
   "cell_type": "code",
   "execution_count": 152,
   "metadata": {
    "collapsed": false
   },
   "outputs": [
    {
     "name": "stdout",
     "output_type": "stream",
     "text": [
      "Probability of Line Immortality: 0.8917\n"
     ]
    }
   ],
   "source": [
    "p = 0.9\n",
    "results = [amoebas(p) for i in range(10000)]\n",
    "prob = sum([1 for result in results if result != 0])/len(results)\n",
    "\n",
    "print('Probability of Line Immortality:', prob)"
   ]
  },
  {
   "cell_type": "code",
   "execution_count": null,
   "metadata": {
    "collapsed": true
   },
   "outputs": [],
   "source": []
  }
 ],
 "metadata": {
  "anaconda-cloud": {},
  "kernelspec": {
   "display_name": "Python [Root]",
   "language": "python",
   "name": "Python [Root]"
  },
  "language_info": {
   "codemirror_mode": {
    "name": "ipython",
    "version": 3
   },
   "file_extension": ".py",
   "mimetype": "text/x-python",
   "name": "python",
   "nbconvert_exporter": "python",
   "pygments_lexer": "ipython3",
   "version": "3.5.2"
  }
 },
 "nbformat": 4,
 "nbformat_minor": 0
}

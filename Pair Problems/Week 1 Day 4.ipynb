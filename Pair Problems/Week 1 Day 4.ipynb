{
 "cells": [
  {
   "cell_type": "markdown",
   "metadata": {},
   "source": [
    "# Problem 1"
   ]
  },
  {
   "cell_type": "code",
   "execution_count": 33,
   "metadata": {
    "collapsed": false
   },
   "outputs": [],
   "source": [
    "def prime_factors(num):\n",
    "    factors = []\n",
    "    \n",
    "    while num != 1:\n",
    "        for i in range(2,int(num+1)):\n",
    "            if num%i == 0:\n",
    "                factors.append(i)\n",
    "                num /= i\n",
    "                break\n",
    "    print('The list of prime factors is {}'.format(factors))\n",
    "    print('The largest prime factor is {}'.format(max(set(factors)))) \n",
    "    print('The number of factors is {}'.format(len(factors)))\n",
    "\n",
    "# Worst Case Complexity is O(n)"
   ]
  },
  {
   "cell_type": "markdown",
   "metadata": {},
   "source": [
    "The prime factors of 13195 are 5, 7, 13 and 29."
   ]
  },
  {
   "cell_type": "code",
   "execution_count": 9,
   "metadata": {
    "collapsed": true
   },
   "outputs": [],
   "source": [
    "def prime_factors_on_steroids(num):\n",
    "    factors = []\n",
    "    \n",
    "    low = 2\n",
    "    \n",
    "    all_factors = list(range(2,num+1))\n",
    "    while num != 1:\n",
    "        for i in all_factors:\n",
    "            if num%i != 0:\n",
    "                [all_factors.remove(x) for x in all_factors if x%i ==0]\n",
    "                break\n",
    "            elif num%i == 0:\n",
    "                factors.append(i)\n",
    "                num /= i\n",
    "                low = i\n",
    "                break\n",
    "    print('The list of prime factors is {}'.format(factors))\n",
    "    print('The largest prime factor is {}'.format(max(set(factors)))) \n",
    "    print('The number of factors is {}'.format(len(factors)))\n",
    "\n",
    "# Worst Case Complexity is O(n)"
   ]
  },
  {
   "cell_type": "code",
   "execution_count": null,
   "metadata": {
    "collapsed": false,
    "scrolled": true
   },
   "outputs": [],
   "source": [
    "prime_factors(600851475143)"
   ]
  },
  {
   "cell_type": "code",
   "execution_count": null,
   "metadata": {
    "collapsed": false
   },
   "outputs": [],
   "source": [
    "prime_factors_on_steroids(600851475143)"
   ]
  }
 ],
 "metadata": {
  "anaconda-cloud": {},
  "kernelspec": {
   "display_name": "Python [Root]",
   "language": "python",
   "name": "Python [Root]"
  },
  "language_info": {
   "codemirror_mode": {
    "name": "ipython",
    "version": 3
   },
   "file_extension": ".py",
   "mimetype": "text/x-python",
   "name": "python",
   "nbconvert_exporter": "python",
   "pygments_lexer": "ipython3",
   "version": "3.5.2"
  }
 },
 "nbformat": 4,
 "nbformat_minor": 0
}

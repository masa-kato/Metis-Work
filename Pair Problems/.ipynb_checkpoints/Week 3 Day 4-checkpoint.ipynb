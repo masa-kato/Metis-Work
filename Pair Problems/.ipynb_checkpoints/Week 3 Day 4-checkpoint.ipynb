{
 "cells": [
  {
   "cell_type": "code",
   "execution_count": 1,
   "metadata": {
    "collapsed": true
   },
   "outputs": [],
   "source": [
    "import random\n",
    "import copy\n",
    "import matplotlib.pyplot as plt\n",
    "%matplotlib inline\n",
    "from timeit import Timer\n",
    "import timeit"
   ]
  },
  {
   "cell_type": "code",
   "execution_count": 2,
   "metadata": {
    "collapsed": false
   },
   "outputs": [],
   "source": [
    "l = random.sample(range(1000), 1000)"
   ]
  },
  {
   "cell_type": "code",
   "execution_count": 8,
   "metadata": {
    "collapsed": true
   },
   "outputs": [],
   "source": [
    "def pop_back(l):\n",
    "    l = copy.deepcopy(l)\n",
    "    for i in range(len(l)):\n",
    "        l.pop()\n",
    "    return l"
   ]
  },
  {
   "cell_type": "code",
   "execution_count": 9,
   "metadata": {
    "collapsed": true
   },
   "outputs": [],
   "source": [
    "def pop_front(l):\n",
    "    l = copy.deepcopy(l)\n",
    "    for i in range(len(l)):\n",
    "        l.pop(0)\n",
    "    return l "
   ]
  },
  {
   "cell_type": "code",
   "execution_count": 10,
   "metadata": {
    "collapsed": false
   },
   "outputs": [
    {
     "name": "stdout",
     "output_type": "stream",
     "text": [
      "1000 loops, best of 3: 1.08 ms per loop\n"
     ]
    }
   ],
   "source": [
    "%timeit pop_back(l)"
   ]
  },
  {
   "cell_type": "code",
   "execution_count": 11,
   "metadata": {
    "collapsed": false,
    "scrolled": true
   },
   "outputs": [
    {
     "name": "stdout",
     "output_type": "stream",
     "text": [
      "1000 loops, best of 3: 1.29 ms per loop\n"
     ]
    }
   ],
   "source": [
    "%timeit pop_front(l)"
   ]
  },
  {
   "cell_type": "code",
   "execution_count": 78,
   "metadata": {
    "collapsed": false
   },
   "outputs": [],
   "source": [
    "def plot_times():\n",
    "    time_list_front = []\n",
    "    time_list_back = []\n",
    "    length = []\n",
    "    for i in range(0,100000000,1000000):\n",
    "        l = list(range(i))\n",
    "        times_front = %timeit -n100 -o pop_front(l);\n",
    "        times_back = %timeit -n100 -o pop_back(l);\n",
    "        \n",
    "        time_front = sum(times_front.all_runs)/len(times_front.all_runs)\n",
    "        time_back = sum(times_back.all_runs)/len(times_back.all_runs)\n",
    "        \n",
    "        length.append(len(l))\n",
    "        time_list_front.append(time_front)\n",
    "        time_list_back.append(time_back)\n",
    "        \n",
    "    plt.figure(1)\n",
    "    plt.plot(length, time_list_front)\n",
    "    plt.plot(length, time_list_back)"
   ]
  },
  {
   "cell_type": "code",
   "execution_count": null,
   "metadata": {
    "collapsed": true
   },
   "outputs": [],
   "source": []
  }
 ],
 "metadata": {
  "kernelspec": {
   "display_name": "Python [Root]",
   "language": "python",
   "name": "Python [Root]"
  },
  "language_info": {
   "codemirror_mode": {
    "name": "ipython",
    "version": 3
   },
   "file_extension": ".py",
   "mimetype": "text/x-python",
   "name": "python",
   "nbconvert_exporter": "python",
   "pygments_lexer": "ipython3",
   "version": "3.5.2"
  }
 },
 "nbformat": 4,
 "nbformat_minor": 0
}

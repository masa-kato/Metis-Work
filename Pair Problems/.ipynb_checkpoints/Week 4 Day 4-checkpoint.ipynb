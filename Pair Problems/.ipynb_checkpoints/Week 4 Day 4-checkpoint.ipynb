{
 "cells": [
  {
   "cell_type": "markdown",
   "metadata": {},
   "source": [
    "# Pair Problem"
   ]
  },
  {
   "cell_type": "code",
   "execution_count": 78,
   "metadata": {
    "collapsed": false
   },
   "outputs": [],
   "source": [
    "import math\n",
    "def way(D,N):\n",
    "    '''\n",
    "    Input:\n",
    "        D - Length of Board\n",
    "        N - Number of Moves\n",
    "    '''\n",
    "    Stay = N - D\n",
    "    if D > N:\n",
    "        return 'No Solution'\n",
    "    return math.factorial(N) / (math.factorial(Stay) * math.factorial(N - Stay))"
   ]
  },
  {
   "cell_type": "code",
   "execution_count": 91,
   "metadata": {
    "collapsed": true
   },
   "outputs": [],
   "source": [
    "def way_recursive(D,N):\n",
    "    '''\n",
    "    Input:\n",
    "        D - Length of Board\n",
    "        N - Number of Moves\n",
    "    '''\n",
    "    Stay = N - D\n",
    "    Count = 0 \n",
    "    if D > N:\n",
    "        return 'No Solution'\n",
    "    if Stay == 0 or D == 0:\n",
    "        return 1\n",
    "    for i in ['Stay','Forward']:\n",
    "        if i == 'Stay': \n",
    "            Count += way_recursive(D, N-1)\n",
    "        if i == 'Forward':\n",
    "            Count += way_recursive(D-1, N-1)\n",
    "    return Count       "
   ]
  },
  {
   "cell_type": "code",
   "execution_count": 92,
   "metadata": {
    "collapsed": false
   },
   "outputs": [
    {
     "data": {
      "text/plain": [
       "5.0"
      ]
     },
     "execution_count": 92,
     "metadata": {},
     "output_type": "execute_result"
    }
   ],
   "source": [
    "way(4, 5)"
   ]
  },
  {
   "cell_type": "code",
   "execution_count": 95,
   "metadata": {
    "collapsed": false
   },
   "outputs": [
    {
     "data": {
      "text/plain": [
       "5"
      ]
     },
     "execution_count": 95,
     "metadata": {},
     "output_type": "execute_result"
    }
   ],
   "source": [
    "way_recursive(4, 5)"
   ]
  },
  {
   "cell_type": "code",
   "execution_count": 141,
   "metadata": {
    "collapsed": false
   },
   "outputs": [],
   "source": [
    "def way_extension(D, N):\n",
    "    '''\n",
    "    Input:\n",
    "        D - Length of Board\n",
    "        N - Number of Moves\n",
    "    '''\n",
    "    if D > N:\n",
    "        return 'No Solution'\n",
    "    max_stays = N - D\n",
    "    max_backs = max_stays // 2\n",
    "    \n",
    "    counts = 0\n",
    "    \n",
    "    # Counts with no backward movement\n",
    "    counts += (math.factorial(N) / (math.factorial(max_stays) * math.factorial(N - max_stays)))\n",
    "    \n",
    "    # Counts with backward movement\n",
    "    for i in range(max_backs):\n",
    "        stays_and_backs = max_stays - i\n",
    "        counts += (math.factorial(N) / (math.factorial(max_stays) * math.factorial(N - max_stays))) *\\\n",
    "        (math.factorial(stays_and_backs) / (math.factorial(i) * math.factorial(stays_and_backs - i)))\n",
    "    return counts"
   ]
  },
  {
   "cell_type": "code",
   "execution_count": 142,
   "metadata": {
    "collapsed": false
   },
   "outputs": [
    {
     "data": {
      "text/plain": [
       "20.0"
      ]
     },
     "execution_count": 142,
     "metadata": {},
     "output_type": "execute_result"
    }
   ],
   "source": [
    "way_extension(2,5)"
   ]
  },
  {
   "cell_type": "code",
   "execution_count": 143,
   "metadata": {
    "collapsed": false
   },
   "outputs": [
    {
     "data": {
      "text/plain": [
       "112.0"
      ]
     },
     "execution_count": 143,
     "metadata": {},
     "output_type": "execute_result"
    }
   ],
   "source": [
    "way_extension(5,8)"
   ]
  },
  {
   "cell_type": "code",
   "execution_count": null,
   "metadata": {
    "collapsed": true
   },
   "outputs": [],
   "source": []
  }
 ],
 "metadata": {
  "anaconda-cloud": {},
  "kernelspec": {
   "display_name": "Python [Root]",
   "language": "python",
   "name": "Python [Root]"
  },
  "language_info": {
   "codemirror_mode": {
    "name": "ipython",
    "version": 3
   },
   "file_extension": ".py",
   "mimetype": "text/x-python",
   "name": "python",
   "nbconvert_exporter": "python",
   "pygments_lexer": "ipython3",
   "version": "3.5.2"
  }
 },
 "nbformat": 4,
 "nbformat_minor": 0
}

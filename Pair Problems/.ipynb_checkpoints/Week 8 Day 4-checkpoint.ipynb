{
 "cells": [
  {
   "cell_type": "markdown",
   "metadata": {},
   "source": [
    "# Pair Problem"
   ]
  },
  {
   "cell_type": "code",
   "execution_count": 46,
   "metadata": {
    "collapsed": false
   },
   "outputs": [],
   "source": [
    "# Import Relevant Libraries\n",
    "import pandas as pd\n",
    "import numpy as np\n",
    "\n",
    "from sklearn.preprocessing import StandardScaler\n",
    "from sklearn.ensemble import RandomForestClassifier\n",
    "from sklearn.model_selection import train_test_split, GridSearchCV\n",
    "from sklearn.metrics import accuracy_score, classification_report"
   ]
  },
  {
   "cell_type": "code",
   "execution_count": 2,
   "metadata": {
    "collapsed": true
   },
   "outputs": [],
   "source": [
    "df  = pd.read_pickle('data/classification.pkl')"
   ]
  },
  {
   "cell_type": "code",
   "execution_count": 4,
   "metadata": {
    "collapsed": false
   },
   "outputs": [
    {
     "data": {
      "text/html": [
       "<div>\n",
       "<table border=\"1\" class=\"dataframe\">\n",
       "  <thead>\n",
       "    <tr style=\"text-align: right;\">\n",
       "      <th></th>\n",
       "      <th>0</th>\n",
       "      <th>1</th>\n",
       "      <th>2</th>\n",
       "      <th>3</th>\n",
       "      <th>4</th>\n",
       "      <th>5</th>\n",
       "      <th>6</th>\n",
       "      <th>7</th>\n",
       "      <th>8</th>\n",
       "      <th>9</th>\n",
       "      <th>...</th>\n",
       "      <th>11</th>\n",
       "      <th>12</th>\n",
       "      <th>13</th>\n",
       "      <th>14</th>\n",
       "      <th>15</th>\n",
       "      <th>16</th>\n",
       "      <th>17</th>\n",
       "      <th>18</th>\n",
       "      <th>19</th>\n",
       "      <th>target</th>\n",
       "    </tr>\n",
       "  </thead>\n",
       "  <tbody>\n",
       "    <tr>\n",
       "      <th>0</th>\n",
       "      <td>0.094176</td>\n",
       "      <td>1.311481</td>\n",
       "      <td>0.669518</td>\n",
       "      <td>0.462130</td>\n",
       "      <td>0.924826</td>\n",
       "      <td>0.320199</td>\n",
       "      <td>0.500238</td>\n",
       "      <td>-1.141416</td>\n",
       "      <td>0.946244</td>\n",
       "      <td>0.134583</td>\n",
       "      <td>...</td>\n",
       "      <td>-0.210488</td>\n",
       "      <td>-0.688082</td>\n",
       "      <td>-0.198602</td>\n",
       "      <td>-0.389638</td>\n",
       "      <td>0.847061</td>\n",
       "      <td>1.147521</td>\n",
       "      <td>-1.248303</td>\n",
       "      <td>0.819974</td>\n",
       "      <td>0.684105</td>\n",
       "      <td>1</td>\n",
       "    </tr>\n",
       "    <tr>\n",
       "      <th>1</th>\n",
       "      <td>0.039309</td>\n",
       "      <td>-0.282793</td>\n",
       "      <td>0.091440</td>\n",
       "      <td>0.348772</td>\n",
       "      <td>-1.222226</td>\n",
       "      <td>-1.270123</td>\n",
       "      <td>0.565200</td>\n",
       "      <td>0.654688</td>\n",
       "      <td>-1.243673</td>\n",
       "      <td>1.190361</td>\n",
       "      <td>...</td>\n",
       "      <td>-0.291332</td>\n",
       "      <td>0.636953</td>\n",
       "      <td>0.464488</td>\n",
       "      <td>0.815605</td>\n",
       "      <td>0.277057</td>\n",
       "      <td>0.274514</td>\n",
       "      <td>0.879307</td>\n",
       "      <td>-0.182923</td>\n",
       "      <td>0.470393</td>\n",
       "      <td>1</td>\n",
       "    </tr>\n",
       "    <tr>\n",
       "      <th>2</th>\n",
       "      <td>-0.566671</td>\n",
       "      <td>-0.865299</td>\n",
       "      <td>-1.869118</td>\n",
       "      <td>-0.708375</td>\n",
       "      <td>-1.363103</td>\n",
       "      <td>-1.322028</td>\n",
       "      <td>0.346960</td>\n",
       "      <td>-2.391982</td>\n",
       "      <td>0.693698</td>\n",
       "      <td>0.442282</td>\n",
       "      <td>...</td>\n",
       "      <td>0.160562</td>\n",
       "      <td>0.724428</td>\n",
       "      <td>1.359291</td>\n",
       "      <td>0.388840</td>\n",
       "      <td>-1.174396</td>\n",
       "      <td>0.287220</td>\n",
       "      <td>-0.152500</td>\n",
       "      <td>-1.979320</td>\n",
       "      <td>0.563817</td>\n",
       "      <td>0</td>\n",
       "    </tr>\n",
       "    <tr>\n",
       "      <th>3</th>\n",
       "      <td>0.229075</td>\n",
       "      <td>-2.189922</td>\n",
       "      <td>0.103816</td>\n",
       "      <td>-0.662714</td>\n",
       "      <td>0.346710</td>\n",
       "      <td>-0.630887</td>\n",
       "      <td>0.958386</td>\n",
       "      <td>1.194592</td>\n",
       "      <td>-0.032281</td>\n",
       "      <td>-0.756764</td>\n",
       "      <td>...</td>\n",
       "      <td>-1.299216</td>\n",
       "      <td>0.640543</td>\n",
       "      <td>0.123078</td>\n",
       "      <td>2.162666</td>\n",
       "      <td>-1.839366</td>\n",
       "      <td>2.511557</td>\n",
       "      <td>0.051661</td>\n",
       "      <td>-1.840078</td>\n",
       "      <td>0.232787</td>\n",
       "      <td>0</td>\n",
       "    </tr>\n",
       "    <tr>\n",
       "      <th>4</th>\n",
       "      <td>0.660343</td>\n",
       "      <td>-1.007195</td>\n",
       "      <td>1.097985</td>\n",
       "      <td>0.978973</td>\n",
       "      <td>1.396760</td>\n",
       "      <td>0.201980</td>\n",
       "      <td>-2.161304</td>\n",
       "      <td>0.168231</td>\n",
       "      <td>-0.161767</td>\n",
       "      <td>0.479940</td>\n",
       "      <td>...</td>\n",
       "      <td>-0.331865</td>\n",
       "      <td>0.330867</td>\n",
       "      <td>0.749767</td>\n",
       "      <td>-0.728429</td>\n",
       "      <td>1.780035</td>\n",
       "      <td>0.444968</td>\n",
       "      <td>0.482534</td>\n",
       "      <td>0.031063</td>\n",
       "      <td>0.324782</td>\n",
       "      <td>1</td>\n",
       "    </tr>\n",
       "  </tbody>\n",
       "</table>\n",
       "<p>5 rows × 21 columns</p>\n",
       "</div>"
      ],
      "text/plain": [
       "          0         1         2         3         4         5         6  \\\n",
       "0  0.094176  1.311481  0.669518  0.462130  0.924826  0.320199  0.500238   \n",
       "1  0.039309 -0.282793  0.091440  0.348772 -1.222226 -1.270123  0.565200   \n",
       "2 -0.566671 -0.865299 -1.869118 -0.708375 -1.363103 -1.322028  0.346960   \n",
       "3  0.229075 -2.189922  0.103816 -0.662714  0.346710 -0.630887  0.958386   \n",
       "4  0.660343 -1.007195  1.097985  0.978973  1.396760  0.201980 -2.161304   \n",
       "\n",
       "          7         8         9   ...          11        12        13  \\\n",
       "0 -1.141416  0.946244  0.134583   ...   -0.210488 -0.688082 -0.198602   \n",
       "1  0.654688 -1.243673  1.190361   ...   -0.291332  0.636953  0.464488   \n",
       "2 -2.391982  0.693698  0.442282   ...    0.160562  0.724428  1.359291   \n",
       "3  1.194592 -0.032281 -0.756764   ...   -1.299216  0.640543  0.123078   \n",
       "4  0.168231 -0.161767  0.479940   ...   -0.331865  0.330867  0.749767   \n",
       "\n",
       "         14        15        16        17        18        19  target  \n",
       "0 -0.389638  0.847061  1.147521 -1.248303  0.819974  0.684105       1  \n",
       "1  0.815605  0.277057  0.274514  0.879307 -0.182923  0.470393       1  \n",
       "2  0.388840 -1.174396  0.287220 -0.152500 -1.979320  0.563817       0  \n",
       "3  2.162666 -1.839366  2.511557  0.051661 -1.840078  0.232787       0  \n",
       "4 -0.728429  1.780035  0.444968  0.482534  0.031063  0.324782       1  \n",
       "\n",
       "[5 rows x 21 columns]"
      ]
     },
     "execution_count": 4,
     "metadata": {},
     "output_type": "execute_result"
    }
   ],
   "source": [
    "df.head()"
   ]
  },
  {
   "cell_type": "markdown",
   "metadata": {},
   "source": [
    "**Scale dataframe**"
   ]
  },
  {
   "cell_type": "code",
   "execution_count": 28,
   "metadata": {
    "collapsed": false
   },
   "outputs": [],
   "source": [
    "scaler = StandardScaler()\n",
    "df_scaled = pd.DataFrame(scaler.fit_transform(df.iloc[:,:20]))"
   ]
  },
  {
   "cell_type": "code",
   "execution_count": 30,
   "metadata": {
    "collapsed": true
   },
   "outputs": [],
   "source": [
    "df_scaled['target'] = df['target']"
   ]
  },
  {
   "cell_type": "code",
   "execution_count": 32,
   "metadata": {
    "collapsed": false
   },
   "outputs": [
    {
     "data": {
      "text/html": [
       "<div>\n",
       "<table border=\"1\" class=\"dataframe\">\n",
       "  <thead>\n",
       "    <tr style=\"text-align: right;\">\n",
       "      <th></th>\n",
       "      <th>0</th>\n",
       "      <th>1</th>\n",
       "      <th>2</th>\n",
       "      <th>3</th>\n",
       "      <th>4</th>\n",
       "      <th>5</th>\n",
       "      <th>6</th>\n",
       "      <th>7</th>\n",
       "      <th>8</th>\n",
       "      <th>9</th>\n",
       "      <th>...</th>\n",
       "      <th>11</th>\n",
       "      <th>12</th>\n",
       "      <th>13</th>\n",
       "      <th>14</th>\n",
       "      <th>15</th>\n",
       "      <th>16</th>\n",
       "      <th>17</th>\n",
       "      <th>18</th>\n",
       "      <th>19</th>\n",
       "      <th>target</th>\n",
       "    </tr>\n",
       "  </thead>\n",
       "  <tbody>\n",
       "    <tr>\n",
       "      <th>0</th>\n",
       "      <td>0.023042</td>\n",
       "      <td>1.340729</td>\n",
       "      <td>0.133051</td>\n",
       "      <td>0.389986</td>\n",
       "      <td>0.952241</td>\n",
       "      <td>0.662449</td>\n",
       "      <td>0.488307</td>\n",
       "      <td>-1.070648</td>\n",
       "      <td>0.928763</td>\n",
       "      <td>0.087676</td>\n",
       "      <td>...</td>\n",
       "      <td>-0.222719</td>\n",
       "      <td>-0.721245</td>\n",
       "      <td>-0.225730</td>\n",
       "      <td>-0.694536</td>\n",
       "      <td>0.690836</td>\n",
       "      <td>1.066901</td>\n",
       "      <td>-1.271201</td>\n",
       "      <td>0.844603</td>\n",
       "      <td>0.694817</td>\n",
       "      <td>1</td>\n",
       "    </tr>\n",
       "    <tr>\n",
       "      <th>1</th>\n",
       "      <td>-0.031458</td>\n",
       "      <td>-0.262836</td>\n",
       "      <td>-0.313895</td>\n",
       "      <td>0.218794</td>\n",
       "      <td>-1.138267</td>\n",
       "      <td>-0.607613</td>\n",
       "      <td>0.555130</td>\n",
       "      <td>0.741511</td>\n",
       "      <td>-1.212090</td>\n",
       "      <td>1.148250</td>\n",
       "      <td>...</td>\n",
       "      <td>-0.302904</td>\n",
       "      <td>0.627403</td>\n",
       "      <td>0.442942</td>\n",
       "      <td>0.002490</td>\n",
       "      <td>0.215756</td>\n",
       "      <td>0.230091</td>\n",
       "      <td>0.808892</td>\n",
       "      <td>-0.183525</td>\n",
       "      <td>0.485669</td>\n",
       "      <td>1</td>\n",
       "    </tr>\n",
       "    <tr>\n",
       "      <th>2</th>\n",
       "      <td>-0.633379</td>\n",
       "      <td>-0.848736</td>\n",
       "      <td>-1.829716</td>\n",
       "      <td>-1.377693</td>\n",
       "      <td>-1.275434</td>\n",
       "      <td>-0.649065</td>\n",
       "      <td>0.330638</td>\n",
       "      <td>-2.332392</td>\n",
       "      <td>0.681875</td>\n",
       "      <td>0.396772</td>\n",
       "      <td>...</td>\n",
       "      <td>0.145304</td>\n",
       "      <td>0.716438</td>\n",
       "      <td>1.345280</td>\n",
       "      <td>-0.244320</td>\n",
       "      <td>-0.993984</td>\n",
       "      <td>0.242270</td>\n",
       "      <td>-0.199871</td>\n",
       "      <td>-2.025115</td>\n",
       "      <td>0.577098</td>\n",
       "      <td>0</td>\n",
       "    </tr>\n",
       "    <tr>\n",
       "      <th>3</th>\n",
       "      <td>0.157036</td>\n",
       "      <td>-2.181078</td>\n",
       "      <td>-0.304326</td>\n",
       "      <td>-1.308737</td>\n",
       "      <td>0.389350</td>\n",
       "      <td>-0.097106</td>\n",
       "      <td>0.959580</td>\n",
       "      <td>1.286240</td>\n",
       "      <td>-0.027838</td>\n",
       "      <td>-0.807720</td>\n",
       "      <td>...</td>\n",
       "      <td>-1.302567</td>\n",
       "      <td>0.631058</td>\n",
       "      <td>0.098658</td>\n",
       "      <td>0.781533</td>\n",
       "      <td>-1.548215</td>\n",
       "      <td>2.374382</td>\n",
       "      <td>-0.000270</td>\n",
       "      <td>-1.882370</td>\n",
       "      <td>0.253138</td>\n",
       "      <td>0</td>\n",
       "    </tr>\n",
       "    <tr>\n",
       "      <th>4</th>\n",
       "      <td>0.585416</td>\n",
       "      <td>-0.991459</td>\n",
       "      <td>0.464324</td>\n",
       "      <td>1.170515</td>\n",
       "      <td>1.411746</td>\n",
       "      <td>0.568037</td>\n",
       "      <td>-2.249484</td>\n",
       "      <td>0.250705</td>\n",
       "      <td>-0.154424</td>\n",
       "      <td>0.434601</td>\n",
       "      <td>...</td>\n",
       "      <td>-0.343106</td>\n",
       "      <td>0.315863</td>\n",
       "      <td>0.730623</td>\n",
       "      <td>-0.890469</td>\n",
       "      <td>1.468440</td>\n",
       "      <td>0.393478</td>\n",
       "      <td>0.420980</td>\n",
       "      <td>0.035845</td>\n",
       "      <td>0.343168</td>\n",
       "      <td>1</td>\n",
       "    </tr>\n",
       "  </tbody>\n",
       "</table>\n",
       "<p>5 rows × 21 columns</p>\n",
       "</div>"
      ],
      "text/plain": [
       "          0         1         2         3         4         5         6  \\\n",
       "0  0.023042  1.340729  0.133051  0.389986  0.952241  0.662449  0.488307   \n",
       "1 -0.031458 -0.262836 -0.313895  0.218794 -1.138267 -0.607613  0.555130   \n",
       "2 -0.633379 -0.848736 -1.829716 -1.377693 -1.275434 -0.649065  0.330638   \n",
       "3  0.157036 -2.181078 -0.304326 -1.308737  0.389350 -0.097106  0.959580   \n",
       "4  0.585416 -0.991459  0.464324  1.170515  1.411746  0.568037 -2.249484   \n",
       "\n",
       "          7         8         9   ...          11        12        13  \\\n",
       "0 -1.070648  0.928763  0.087676   ...   -0.222719 -0.721245 -0.225730   \n",
       "1  0.741511 -1.212090  1.148250   ...   -0.302904  0.627403  0.442942   \n",
       "2 -2.332392  0.681875  0.396772   ...    0.145304  0.716438  1.345280   \n",
       "3  1.286240 -0.027838 -0.807720   ...   -1.302567  0.631058  0.098658   \n",
       "4  0.250705 -0.154424  0.434601   ...   -0.343106  0.315863  0.730623   \n",
       "\n",
       "         14        15        16        17        18        19  target  \n",
       "0 -0.694536  0.690836  1.066901 -1.271201  0.844603  0.694817       1  \n",
       "1  0.002490  0.215756  0.230091  0.808892 -0.183525  0.485669       1  \n",
       "2 -0.244320 -0.993984  0.242270 -0.199871 -2.025115  0.577098       0  \n",
       "3  0.781533 -1.548215  2.374382 -0.000270 -1.882370  0.253138       0  \n",
       "4 -0.890469  1.468440  0.393478  0.420980  0.035845  0.343168       1  \n",
       "\n",
       "[5 rows x 21 columns]"
      ]
     },
     "execution_count": 32,
     "metadata": {},
     "output_type": "execute_result"
    }
   ],
   "source": [
    "df_scaled.head()"
   ]
  },
  {
   "cell_type": "markdown",
   "metadata": {},
   "source": [
    "**Train Test Split**"
   ]
  },
  {
   "cell_type": "code",
   "execution_count": 36,
   "metadata": {
    "collapsed": true
   },
   "outputs": [],
   "source": [
    "X = df_scaled.iloc[:,:20]\n",
    "y = df_scaled.iloc[:,20]"
   ]
  },
  {
   "cell_type": "code",
   "execution_count": 37,
   "metadata": {
    "collapsed": true
   },
   "outputs": [],
   "source": [
    "X_train, X_test, y_train, y_test = train_test_split(X, y, test_size=0.33, random_state=42)"
   ]
  },
  {
   "cell_type": "markdown",
   "metadata": {},
   "source": [
    "**Random Forest**"
   ]
  },
  {
   "cell_type": "code",
   "execution_count": 33,
   "metadata": {
    "collapsed": true
   },
   "outputs": [],
   "source": [
    "rf = RandomForestClassifier()"
   ]
  },
  {
   "cell_type": "code",
   "execution_count": 39,
   "metadata": {
    "collapsed": false
   },
   "outputs": [
    {
     "data": {
      "text/plain": [
       "RandomForestClassifier(bootstrap=True, class_weight=None, criterion='gini',\n",
       "            max_depth=None, max_features='auto', max_leaf_nodes=None,\n",
       "            min_impurity_split=1e-07, min_samples_leaf=1,\n",
       "            min_samples_split=2, min_weight_fraction_leaf=0.0,\n",
       "            n_estimators=10, n_jobs=1, oob_score=False, random_state=None,\n",
       "            verbose=0, warm_start=False)"
      ]
     },
     "execution_count": 39,
     "metadata": {},
     "output_type": "execute_result"
    }
   ],
   "source": [
    "rf.fit(X_train, y_train)"
   ]
  },
  {
   "cell_type": "code",
   "execution_count": 40,
   "metadata": {
    "collapsed": true
   },
   "outputs": [],
   "source": [
    "y_pred = rf.predict(X_test)"
   ]
  },
  {
   "cell_type": "code",
   "execution_count": 42,
   "metadata": {
    "collapsed": false
   },
   "outputs": [
    {
     "data": {
      "text/plain": [
       "0.91666666666666663"
      ]
     },
     "execution_count": 42,
     "metadata": {},
     "output_type": "execute_result"
    }
   ],
   "source": [
    "accuracy_score(y_test, y_pred)"
   ]
  },
  {
   "cell_type": "code",
   "execution_count": 45,
   "metadata": {
    "collapsed": false
   },
   "outputs": [
    {
     "name": "stdout",
     "output_type": "stream",
     "text": [
      "             precision    recall  f1-score   support\n",
      "\n",
      "          0       0.94      0.90      0.92       144\n",
      "          1       0.89      0.93      0.91       120\n",
      "\n",
      "avg / total       0.92      0.92      0.92       264\n",
      "\n"
     ]
    }
   ],
   "source": [
    "print(classification_report(y_test, y_pred))"
   ]
  },
  {
   "cell_type": "markdown",
   "metadata": {},
   "source": [
    "**Optimize Model**"
   ]
  },
  {
   "cell_type": "code",
   "execution_count": 69,
   "metadata": {
    "collapsed": true
   },
   "outputs": [],
   "source": [
    "rf_opt = RandomForestClassifier()"
   ]
  },
  {
   "cell_type": "code",
   "execution_count": 73,
   "metadata": {
    "collapsed": true
   },
   "outputs": [],
   "source": [
    "n_trees =      [100, 200, 400]\n",
    "max_features = [10, 15, 20]\n",
    "max_depth =    [50, 100, 200, 400, 600, 800]\n",
    "\n",
    "parameters = {'n_estimators': n_trees,\n",
    "              'max_features': max_features,\n",
    "              'max_depth': max_depth}"
   ]
  },
  {
   "cell_type": "code",
   "execution_count": 74,
   "metadata": {
    "collapsed": true
   },
   "outputs": [],
   "source": [
    "clf = GridSearchCV(rf_opt, parameters, verbose=10, cv=5)"
   ]
  },
  {
   "cell_type": "code",
   "execution_count": 75,
   "metadata": {
    "collapsed": false,
    "scrolled": true
   },
   "outputs": [
    {
     "name": "stdout",
     "output_type": "stream",
     "text": [
      "Fitting 5 folds for each of 54 candidates, totalling 270 fits\n",
      "[CV] n_estimators=100, max_depth=50, max_features=10 .................\n",
      "[CV]  n_estimators=100, max_depth=50, max_features=10, score=0.962963 -   0.0s\n",
      "[CV] n_estimators=100, max_depth=50, max_features=10 .................\n"
     ]
    },
    {
     "name": "stderr",
     "output_type": "stream",
     "text": [
      "[Parallel(n_jobs=1)]: Done   1 out of   1 | elapsed:    0.3s remaining:    0.0s\n"
     ]
    },
    {
     "name": "stdout",
     "output_type": "stream",
     "text": [
      "[CV]  n_estimators=100, max_depth=50, max_features=10, score=0.953704 -   0.0s\n",
      "[CV] n_estimators=100, max_depth=50, max_features=10 .................\n"
     ]
    },
    {
     "name": "stderr",
     "output_type": "stream",
     "text": [
      "[Parallel(n_jobs=1)]: Done   2 out of   2 | elapsed:    0.6s remaining:    0.0s\n"
     ]
    },
    {
     "name": "stdout",
     "output_type": "stream",
     "text": [
      "[CV]  n_estimators=100, max_depth=50, max_features=10, score=0.925926 -   0.0s\n",
      "[CV] n_estimators=100, max_depth=50, max_features=10 .................\n"
     ]
    },
    {
     "name": "stderr",
     "output_type": "stream",
     "text": [
      "[Parallel(n_jobs=1)]: Done   3 out of   3 | elapsed:    0.9s remaining:    0.0s\n"
     ]
    },
    {
     "name": "stdout",
     "output_type": "stream",
     "text": [
      "[CV]  n_estimators=100, max_depth=50, max_features=10, score=0.943396 -   0.0s\n",
      "[CV] n_estimators=100, max_depth=50, max_features=10 .................\n"
     ]
    },
    {
     "name": "stderr",
     "output_type": "stream",
     "text": [
      "[Parallel(n_jobs=1)]: Done   4 out of   4 | elapsed:    1.2s remaining:    0.0s\n"
     ]
    },
    {
     "name": "stdout",
     "output_type": "stream",
     "text": [
      "[CV]  n_estimators=100, max_depth=50, max_features=10, score=0.943396 -   0.0s\n",
      "[CV] n_estimators=200, max_depth=50, max_features=10 .................\n"
     ]
    },
    {
     "name": "stderr",
     "output_type": "stream",
     "text": [
      "[Parallel(n_jobs=1)]: Done   5 out of   5 | elapsed:    1.5s remaining:    0.0s\n"
     ]
    },
    {
     "name": "stdout",
     "output_type": "stream",
     "text": [
      "[CV]  n_estimators=200, max_depth=50, max_features=10, score=0.981481 -   0.0s\n",
      "[CV] n_estimators=200, max_depth=50, max_features=10 .................\n"
     ]
    },
    {
     "name": "stderr",
     "output_type": "stream",
     "text": [
      "[Parallel(n_jobs=1)]: Done   6 out of   6 | elapsed:    2.2s remaining:    0.0s\n"
     ]
    },
    {
     "name": "stdout",
     "output_type": "stream",
     "text": [
      "[CV]  n_estimators=200, max_depth=50, max_features=10, score=0.935185 -   0.0s\n",
      "[CV] n_estimators=200, max_depth=50, max_features=10 .................\n"
     ]
    },
    {
     "name": "stderr",
     "output_type": "stream",
     "text": [
      "[Parallel(n_jobs=1)]: Done   7 out of   7 | elapsed:    2.8s remaining:    0.0s\n"
     ]
    },
    {
     "name": "stdout",
     "output_type": "stream",
     "text": [
      "[CV]  n_estimators=200, max_depth=50, max_features=10, score=0.925926 -   0.0s\n",
      "[CV] n_estimators=200, max_depth=50, max_features=10 .................\n"
     ]
    },
    {
     "name": "stderr",
     "output_type": "stream",
     "text": [
      "[Parallel(n_jobs=1)]: Done   8 out of   8 | elapsed:    3.4s remaining:    0.0s\n"
     ]
    },
    {
     "name": "stdout",
     "output_type": "stream",
     "text": [
      "[CV]  n_estimators=200, max_depth=50, max_features=10, score=0.924528 -   0.0s\n",
      "[CV] n_estimators=200, max_depth=50, max_features=10 .................\n"
     ]
    },
    {
     "name": "stderr",
     "output_type": "stream",
     "text": [
      "[Parallel(n_jobs=1)]: Done   9 out of   9 | elapsed:    4.1s remaining:    0.0s\n"
     ]
    },
    {
     "name": "stdout",
     "output_type": "stream",
     "text": [
      "[CV]  n_estimators=200, max_depth=50, max_features=10, score=0.933962 -   0.0s\n",
      "[CV] n_estimators=400, max_depth=50, max_features=10 .................\n",
      "[CV]  n_estimators=400, max_depth=50, max_features=10, score=0.981481 -   0.0s\n",
      "[CV] n_estimators=400, max_depth=50, max_features=10 .................\n",
      "[CV]  n_estimators=400, max_depth=50, max_features=10, score=0.935185 -   0.0s\n",
      "[CV] n_estimators=400, max_depth=50, max_features=10 .................\n",
      "[CV]  n_estimators=400, max_depth=50, max_features=10, score=0.925926 -   0.0s\n",
      "[CV] n_estimators=400, max_depth=50, max_features=10 .................\n",
      "[CV]  n_estimators=400, max_depth=50, max_features=10, score=0.924528 -   0.0s\n",
      "[CV] n_estimators=400, max_depth=50, max_features=10 .................\n",
      "[CV]  n_estimators=400, max_depth=50, max_features=10, score=0.943396 -   0.0s\n",
      "[CV] n_estimators=100, max_depth=50, max_features=15 .................\n",
      "[CV]  n_estimators=100, max_depth=50, max_features=15, score=0.981481 -   0.0s\n",
      "[CV] n_estimators=100, max_depth=50, max_features=15 .................\n",
      "[CV]  n_estimators=100, max_depth=50, max_features=15, score=0.953704 -   0.0s\n",
      "[CV] n_estimators=100, max_depth=50, max_features=15 .................\n",
      "[CV]  n_estimators=100, max_depth=50, max_features=15, score=0.925926 -   0.0s\n",
      "[CV] n_estimators=100, max_depth=50, max_features=15 .................\n",
      "[CV]  n_estimators=100, max_depth=50, max_features=15, score=0.924528 -   0.0s\n",
      "[CV] n_estimators=100, max_depth=50, max_features=15 .................\n",
      "[CV]  n_estimators=100, max_depth=50, max_features=15, score=0.933962 -   0.0s\n",
      "[CV] n_estimators=200, max_depth=50, max_features=15 .................\n",
      "[CV]  n_estimators=200, max_depth=50, max_features=15, score=0.981481 -   0.0s\n",
      "[CV] n_estimators=200, max_depth=50, max_features=15 .................\n",
      "[CV]  n_estimators=200, max_depth=50, max_features=15, score=0.916667 -   0.0s\n",
      "[CV] n_estimators=200, max_depth=50, max_features=15 .................\n",
      "[CV]  n_estimators=200, max_depth=50, max_features=15, score=0.935185 -   0.0s\n",
      "[CV] n_estimators=200, max_depth=50, max_features=15 .................\n",
      "[CV]  n_estimators=200, max_depth=50, max_features=15, score=0.933962 -   0.0s\n",
      "[CV] n_estimators=200, max_depth=50, max_features=15 .................\n",
      "[CV]  n_estimators=200, max_depth=50, max_features=15, score=0.933962 -   0.0s\n",
      "[CV] n_estimators=400, max_depth=50, max_features=15 .................\n",
      "[CV]  n_estimators=400, max_depth=50, max_features=15, score=0.981481 -   0.0s\n",
      "[CV] n_estimators=400, max_depth=50, max_features=15 .................\n",
      "[CV]  n_estimators=400, max_depth=50, max_features=15, score=0.935185 -   0.0s\n",
      "[CV] n_estimators=400, max_depth=50, max_features=15 .................\n",
      "[CV]  n_estimators=400, max_depth=50, max_features=15, score=0.925926 -   0.0s\n",
      "[CV] n_estimators=400, max_depth=50, max_features=15 .................\n",
      "[CV]  n_estimators=400, max_depth=50, max_features=15, score=0.924528 -   0.1s\n",
      "[CV] n_estimators=400, max_depth=50, max_features=15 .................\n",
      "[CV]  n_estimators=400, max_depth=50, max_features=15, score=0.943396 -   0.1s\n",
      "[CV] n_estimators=100, max_depth=50, max_features=20 .................\n",
      "[CV]  n_estimators=100, max_depth=50, max_features=20, score=0.972222 -   0.0s\n",
      "[CV] n_estimators=100, max_depth=50, max_features=20 .................\n",
      "[CV]  n_estimators=100, max_depth=50, max_features=20, score=0.916667 -   0.0s\n",
      "[CV] n_estimators=100, max_depth=50, max_features=20 .................\n",
      "[CV]  n_estimators=100, max_depth=50, max_features=20, score=0.935185 -   0.0s\n",
      "[CV] n_estimators=100, max_depth=50, max_features=20 .................\n",
      "[CV]  n_estimators=100, max_depth=50, max_features=20, score=0.924528 -   0.0s\n",
      "[CV] n_estimators=100, max_depth=50, max_features=20 .................\n",
      "[CV]  n_estimators=100, max_depth=50, max_features=20, score=0.933962 -   0.0s\n",
      "[CV] n_estimators=200, max_depth=50, max_features=20 .................\n",
      "[CV]  n_estimators=200, max_depth=50, max_features=20, score=0.972222 -   0.0s\n",
      "[CV] n_estimators=200, max_depth=50, max_features=20 .................\n",
      "[CV]  n_estimators=200, max_depth=50, max_features=20, score=0.935185 -   0.0s\n",
      "[CV] n_estimators=200, max_depth=50, max_features=20 .................\n",
      "[CV]  n_estimators=200, max_depth=50, max_features=20, score=0.935185 -   0.0s\n",
      "[CV] n_estimators=200, max_depth=50, max_features=20 .................\n",
      "[CV]  n_estimators=200, max_depth=50, max_features=20, score=0.943396 -   0.0s\n",
      "[CV] n_estimators=200, max_depth=50, max_features=20 .................\n",
      "[CV]  n_estimators=200, max_depth=50, max_features=20, score=0.924528 -   0.0s\n",
      "[CV] n_estimators=400, max_depth=50, max_features=20 .................\n",
      "[CV]  n_estimators=400, max_depth=50, max_features=20, score=0.972222 -   0.0s\n",
      "[CV] n_estimators=400, max_depth=50, max_features=20 .................\n",
      "[CV]  n_estimators=400, max_depth=50, max_features=20, score=0.916667 -   0.0s\n",
      "[CV] n_estimators=400, max_depth=50, max_features=20 .................\n",
      "[CV]  n_estimators=400, max_depth=50, max_features=20, score=0.935185 -   0.0s\n",
      "[CV] n_estimators=400, max_depth=50, max_features=20 .................\n",
      "[CV]  n_estimators=400, max_depth=50, max_features=20, score=0.933962 -   0.0s\n",
      "[CV] n_estimators=400, max_depth=50, max_features=20 .................\n",
      "[CV]  n_estimators=400, max_depth=50, max_features=20, score=0.924528 -   0.0s\n",
      "[CV] n_estimators=100, max_depth=100, max_features=10 ................\n",
      "[CV]  n_estimators=100, max_depth=100, max_features=10, score=0.981481 -   0.0s\n",
      "[CV] n_estimators=100, max_depth=100, max_features=10 ................\n",
      "[CV]  n_estimators=100, max_depth=100, max_features=10, score=0.935185 -   0.0s\n",
      "[CV] n_estimators=100, max_depth=100, max_features=10 ................\n",
      "[CV]  n_estimators=100, max_depth=100, max_features=10, score=0.935185 -   0.0s\n",
      "[CV] n_estimators=100, max_depth=100, max_features=10 ................\n",
      "[CV]  n_estimators=100, max_depth=100, max_features=10, score=0.933962 -   0.0s\n",
      "[CV] n_estimators=100, max_depth=100, max_features=10 ................\n",
      "[CV]  n_estimators=100, max_depth=100, max_features=10, score=0.933962 -   0.0s\n",
      "[CV] n_estimators=200, max_depth=100, max_features=10 ................\n",
      "[CV]  n_estimators=200, max_depth=100, max_features=10, score=0.981481 -   0.0s\n",
      "[CV] n_estimators=200, max_depth=100, max_features=10 ................\n",
      "[CV]  n_estimators=200, max_depth=100, max_features=10, score=0.944444 -   0.0s\n",
      "[CV] n_estimators=200, max_depth=100, max_features=10 ................\n",
      "[CV]  n_estimators=200, max_depth=100, max_features=10, score=0.916667 -   0.0s\n",
      "[CV] n_estimators=200, max_depth=100, max_features=10 ................\n",
      "[CV]  n_estimators=200, max_depth=100, max_features=10, score=0.924528 -   0.0s\n",
      "[CV] n_estimators=200, max_depth=100, max_features=10 ................\n",
      "[CV]  n_estimators=200, max_depth=100, max_features=10, score=0.952830 -   0.0s\n",
      "[CV] n_estimators=400, max_depth=100, max_features=10 ................\n",
      "[CV]  n_estimators=400, max_depth=100, max_features=10, score=0.981481 -   0.0s\n",
      "[CV] n_estimators=400, max_depth=100, max_features=10 ................\n",
      "[CV]  n_estimators=400, max_depth=100, max_features=10, score=0.944444 -   0.1s\n",
      "[CV] n_estimators=400, max_depth=100, max_features=10 ................\n",
      "[CV]  n_estimators=400, max_depth=100, max_features=10, score=0.925926 -   0.0s\n",
      "[CV] n_estimators=400, max_depth=100, max_features=10 ................\n",
      "[CV]  n_estimators=400, max_depth=100, max_features=10, score=0.924528 -   0.0s\n",
      "[CV] n_estimators=400, max_depth=100, max_features=10 ................\n",
      "[CV]  n_estimators=400, max_depth=100, max_features=10, score=0.943396 -   0.0s\n",
      "[CV] n_estimators=100, max_depth=100, max_features=15 ................\n",
      "[CV]  n_estimators=100, max_depth=100, max_features=15, score=0.990741 -   0.0s\n",
      "[CV] n_estimators=100, max_depth=100, max_features=15 ................\n",
      "[CV]  n_estimators=100, max_depth=100, max_features=15, score=0.916667 -   0.0s\n",
      "[CV] n_estimators=100, max_depth=100, max_features=15 ................\n",
      "[CV]  n_estimators=100, max_depth=100, max_features=15, score=0.925926 -   0.0s\n",
      "[CV] n_estimators=100, max_depth=100, max_features=15 ................\n",
      "[CV]  n_estimators=100, max_depth=100, max_features=15, score=0.915094 -   0.0s\n",
      "[CV] n_estimators=100, max_depth=100, max_features=15 ................\n",
      "[CV]  n_estimators=100, max_depth=100, max_features=15, score=0.943396 -   0.0s\n",
      "[CV] n_estimators=200, max_depth=100, max_features=15 ................\n",
      "[CV]  n_estimators=200, max_depth=100, max_features=15, score=0.981481 -   0.0s\n",
      "[CV] n_estimators=200, max_depth=100, max_features=15 ................\n",
      "[CV]  n_estimators=200, max_depth=100, max_features=15, score=0.916667 -   0.0s\n",
      "[CV] n_estimators=200, max_depth=100, max_features=15 ................\n",
      "[CV]  n_estimators=200, max_depth=100, max_features=15, score=0.925926 -   0.0s\n",
      "[CV] n_estimators=200, max_depth=100, max_features=15 ................\n",
      "[CV]  n_estimators=200, max_depth=100, max_features=15, score=0.924528 -   0.0s\n",
      "[CV] n_estimators=200, max_depth=100, max_features=15 ................\n",
      "[CV]  n_estimators=200, max_depth=100, max_features=15, score=0.933962 -   0.0s\n",
      "[CV] n_estimators=400, max_depth=100, max_features=15 ................\n",
      "[CV]  n_estimators=400, max_depth=100, max_features=15, score=0.981481 -   0.0s\n",
      "[CV] n_estimators=400, max_depth=100, max_features=15 ................\n",
      "[CV]  n_estimators=400, max_depth=100, max_features=15, score=0.925926 -   0.0s\n",
      "[CV] n_estimators=400, max_depth=100, max_features=15 ................\n",
      "[CV]  n_estimators=400, max_depth=100, max_features=15, score=0.935185 -   0.0s\n",
      "[CV] n_estimators=400, max_depth=100, max_features=15 ................\n",
      "[CV]  n_estimators=400, max_depth=100, max_features=15, score=0.933962 -   0.0s\n",
      "[CV] n_estimators=400, max_depth=100, max_features=15 ................\n",
      "[CV]  n_estimators=400, max_depth=100, max_features=15, score=0.943396 -   0.0s\n",
      "[CV] n_estimators=100, max_depth=100, max_features=20 ................\n",
      "[CV]  n_estimators=100, max_depth=100, max_features=20, score=0.962963 -   0.0s\n",
      "[CV] n_estimators=100, max_depth=100, max_features=20 ................\n",
      "[CV]  n_estimators=100, max_depth=100, max_features=20, score=0.916667 -   0.0s\n",
      "[CV] n_estimators=100, max_depth=100, max_features=20 ................\n",
      "[CV]  n_estimators=100, max_depth=100, max_features=20, score=0.925926 -   0.0s\n",
      "[CV] n_estimators=100, max_depth=100, max_features=20 ................\n",
      "[CV]  n_estimators=100, max_depth=100, max_features=20, score=0.943396 -   0.0s\n",
      "[CV] n_estimators=100, max_depth=100, max_features=20 ................\n",
      "[CV]  n_estimators=100, max_depth=100, max_features=20, score=0.924528 -   0.0s\n",
      "[CV] n_estimators=200, max_depth=100, max_features=20 ................\n",
      "[CV]  n_estimators=200, max_depth=100, max_features=20, score=0.972222 -   0.0s\n",
      "[CV] n_estimators=200, max_depth=100, max_features=20 ................\n",
      "[CV]  n_estimators=200, max_depth=100, max_features=20, score=0.925926 -   0.0s\n",
      "[CV] n_estimators=200, max_depth=100, max_features=20 ................\n",
      "[CV]  n_estimators=200, max_depth=100, max_features=20, score=0.935185 -   0.0s\n",
      "[CV] n_estimators=200, max_depth=100, max_features=20 ................\n",
      "[CV]  n_estimators=200, max_depth=100, max_features=20, score=0.933962 -   0.0s\n",
      "[CV] n_estimators=200, max_depth=100, max_features=20 ................\n",
      "[CV]  n_estimators=200, max_depth=100, max_features=20, score=0.933962 -   0.0s\n",
      "[CV] n_estimators=400, max_depth=100, max_features=20 ................\n",
      "[CV]  n_estimators=400, max_depth=100, max_features=20, score=0.962963 -   0.0s\n",
      "[CV] n_estimators=400, max_depth=100, max_features=20 ................\n",
      "[CV]  n_estimators=400, max_depth=100, max_features=20, score=0.925926 -   0.0s\n",
      "[CV] n_estimators=400, max_depth=100, max_features=20 ................\n",
      "[CV]  n_estimators=400, max_depth=100, max_features=20, score=0.935185 -   0.0s\n",
      "[CV] n_estimators=400, max_depth=100, max_features=20 ................\n",
      "[CV]  n_estimators=400, max_depth=100, max_features=20, score=0.933962 -   0.0s\n",
      "[CV] n_estimators=400, max_depth=100, max_features=20 ................\n",
      "[CV]  n_estimators=400, max_depth=100, max_features=20, score=0.933962 -   0.1s\n",
      "[CV] n_estimators=100, max_depth=200, max_features=10 ................\n",
      "[CV]  n_estimators=100, max_depth=200, max_features=10, score=0.981481 -   0.0s\n",
      "[CV] n_estimators=100, max_depth=200, max_features=10 ................\n",
      "[CV]  n_estimators=100, max_depth=200, max_features=10, score=0.944444 -   0.0s\n",
      "[CV] n_estimators=100, max_depth=200, max_features=10 ................\n",
      "[CV]  n_estimators=100, max_depth=200, max_features=10, score=0.935185 -   0.0s\n",
      "[CV] n_estimators=100, max_depth=200, max_features=10 ................\n",
      "[CV]  n_estimators=100, max_depth=200, max_features=10, score=0.924528 -   0.0s\n",
      "[CV] n_estimators=100, max_depth=200, max_features=10 ................\n",
      "[CV]  n_estimators=100, max_depth=200, max_features=10, score=0.952830 -   0.0s\n",
      "[CV] n_estimators=200, max_depth=200, max_features=10 ................\n",
      "[CV]  n_estimators=200, max_depth=200, max_features=10, score=0.981481 -   0.0s\n",
      "[CV] n_estimators=200, max_depth=200, max_features=10 ................\n",
      "[CV]  n_estimators=200, max_depth=200, max_features=10, score=0.953704 -   0.0s\n",
      "[CV] n_estimators=200, max_depth=200, max_features=10 ................\n",
      "[CV]  n_estimators=200, max_depth=200, max_features=10, score=0.935185 -   0.0s\n",
      "[CV] n_estimators=200, max_depth=200, max_features=10 ................\n",
      "[CV]  n_estimators=200, max_depth=200, max_features=10, score=0.943396 -   0.0s\n",
      "[CV] n_estimators=200, max_depth=200, max_features=10 ................\n",
      "[CV]  n_estimators=200, max_depth=200, max_features=10, score=0.933962 -   0.0s\n",
      "[CV] n_estimators=400, max_depth=200, max_features=10 ................\n",
      "[CV]  n_estimators=400, max_depth=200, max_features=10, score=0.981481 -   0.0s\n",
      "[CV] n_estimators=400, max_depth=200, max_features=10 ................\n",
      "[CV]  n_estimators=400, max_depth=200, max_features=10, score=0.944444 -   0.0s\n",
      "[CV] n_estimators=400, max_depth=200, max_features=10 ................\n",
      "[CV]  n_estimators=400, max_depth=200, max_features=10, score=0.925926 -   0.0s\n",
      "[CV] n_estimators=400, max_depth=200, max_features=10 ................\n",
      "[CV]  n_estimators=400, max_depth=200, max_features=10, score=0.924528 -   0.0s\n",
      "[CV] n_estimators=400, max_depth=200, max_features=10 ................\n",
      "[CV]  n_estimators=400, max_depth=200, max_features=10, score=0.943396 -   0.1s\n",
      "[CV] n_estimators=100, max_depth=200, max_features=15 ................\n",
      "[CV]  n_estimators=100, max_depth=200, max_features=15, score=0.972222 -   0.0s\n",
      "[CV] n_estimators=100, max_depth=200, max_features=15 ................\n",
      "[CV]  n_estimators=100, max_depth=200, max_features=15, score=0.925926 -   0.0s\n",
      "[CV] n_estimators=100, max_depth=200, max_features=15 ................\n",
      "[CV]  n_estimators=100, max_depth=200, max_features=15, score=0.935185 -   0.0s\n",
      "[CV] n_estimators=100, max_depth=200, max_features=15 ................\n",
      "[CV]  n_estimators=100, max_depth=200, max_features=15, score=0.933962 -   0.0s\n",
      "[CV] n_estimators=100, max_depth=200, max_features=15 ................\n",
      "[CV]  n_estimators=100, max_depth=200, max_features=15, score=0.943396 -   0.0s\n",
      "[CV] n_estimators=200, max_depth=200, max_features=15 ................\n",
      "[CV]  n_estimators=200, max_depth=200, max_features=15, score=0.972222 -   0.0s\n",
      "[CV] n_estimators=200, max_depth=200, max_features=15 ................\n",
      "[CV]  n_estimators=200, max_depth=200, max_features=15, score=0.925926 -   0.0s\n",
      "[CV] n_estimators=200, max_depth=200, max_features=15 ................\n",
      "[CV]  n_estimators=200, max_depth=200, max_features=15, score=0.925926 -   0.0s\n",
      "[CV] n_estimators=200, max_depth=200, max_features=15 ................\n",
      "[CV]  n_estimators=200, max_depth=200, max_features=15, score=0.924528 -   0.0s\n",
      "[CV] n_estimators=200, max_depth=200, max_features=15 ................\n",
      "[CV]  n_estimators=200, max_depth=200, max_features=15, score=0.933962 -   0.0s\n",
      "[CV] n_estimators=400, max_depth=200, max_features=15 ................\n",
      "[CV]  n_estimators=400, max_depth=200, max_features=15, score=0.981481 -   0.0s\n",
      "[CV] n_estimators=400, max_depth=200, max_features=15 ................\n",
      "[CV]  n_estimators=400, max_depth=200, max_features=15, score=0.925926 -   0.1s\n",
      "[CV] n_estimators=400, max_depth=200, max_features=15 ................\n",
      "[CV]  n_estimators=400, max_depth=200, max_features=15, score=0.925926 -   0.0s\n",
      "[CV] n_estimators=400, max_depth=200, max_features=15 ................\n",
      "[CV]  n_estimators=400, max_depth=200, max_features=15, score=0.933962 -   0.0s\n",
      "[CV] n_estimators=400, max_depth=200, max_features=15 ................\n",
      "[CV]  n_estimators=400, max_depth=200, max_features=15, score=0.933962 -   0.0s\n",
      "[CV] n_estimators=100, max_depth=200, max_features=20 ................\n",
      "[CV]  n_estimators=100, max_depth=200, max_features=20, score=0.972222 -   0.0s\n",
      "[CV] n_estimators=100, max_depth=200, max_features=20 ................\n",
      "[CV]  n_estimators=100, max_depth=200, max_features=20, score=0.925926 -   0.0s\n",
      "[CV] n_estimators=100, max_depth=200, max_features=20 ................\n",
      "[CV]  n_estimators=100, max_depth=200, max_features=20, score=0.935185 -   0.0s\n",
      "[CV] n_estimators=100, max_depth=200, max_features=20 ................\n",
      "[CV]  n_estimators=100, max_depth=200, max_features=20, score=0.952830 -   0.0s\n",
      "[CV] n_estimators=100, max_depth=200, max_features=20 ................\n",
      "[CV]  n_estimators=100, max_depth=200, max_features=20, score=0.933962 -   0.0s\n",
      "[CV] n_estimators=200, max_depth=200, max_features=20 ................\n",
      "[CV]  n_estimators=200, max_depth=200, max_features=20, score=0.962963 -   0.0s\n",
      "[CV] n_estimators=200, max_depth=200, max_features=20 ................\n",
      "[CV]  n_estimators=200, max_depth=200, max_features=20, score=0.925926 -   0.0s\n",
      "[CV] n_estimators=200, max_depth=200, max_features=20 ................\n",
      "[CV]  n_estimators=200, max_depth=200, max_features=20, score=0.935185 -   0.0s\n",
      "[CV] n_estimators=200, max_depth=200, max_features=20 ................\n",
      "[CV]  n_estimators=200, max_depth=200, max_features=20, score=0.933962 -   0.0s\n",
      "[CV] n_estimators=200, max_depth=200, max_features=20 ................\n",
      "[CV]  n_estimators=200, max_depth=200, max_features=20, score=0.924528 -   0.0s\n",
      "[CV] n_estimators=400, max_depth=200, max_features=20 ................\n",
      "[CV]  n_estimators=400, max_depth=200, max_features=20, score=0.972222 -   0.0s\n",
      "[CV] n_estimators=400, max_depth=200, max_features=20 ................\n",
      "[CV]  n_estimators=400, max_depth=200, max_features=20, score=0.925926 -   0.0s\n",
      "[CV] n_estimators=400, max_depth=200, max_features=20 ................\n",
      "[CV]  n_estimators=400, max_depth=200, max_features=20, score=0.935185 -   0.0s\n",
      "[CV] n_estimators=400, max_depth=200, max_features=20 ................\n",
      "[CV]  n_estimators=400, max_depth=200, max_features=20, score=0.933962 -   0.0s\n",
      "[CV] n_estimators=400, max_depth=200, max_features=20 ................\n",
      "[CV]  n_estimators=400, max_depth=200, max_features=20, score=0.924528 -   0.0s\n",
      "[CV] n_estimators=100, max_depth=400, max_features=10 ................\n",
      "[CV]  n_estimators=100, max_depth=400, max_features=10, score=0.981481 -   0.0s\n",
      "[CV] n_estimators=100, max_depth=400, max_features=10 ................\n",
      "[CV]  n_estimators=100, max_depth=400, max_features=10, score=0.935185 -   0.0s\n",
      "[CV] n_estimators=100, max_depth=400, max_features=10 ................\n",
      "[CV]  n_estimators=100, max_depth=400, max_features=10, score=0.925926 -   0.0s\n",
      "[CV] n_estimators=100, max_depth=400, max_features=10 ................\n",
      "[CV]  n_estimators=100, max_depth=400, max_features=10, score=0.943396 -   0.0s\n",
      "[CV] n_estimators=100, max_depth=400, max_features=10 ................\n",
      "[CV]  n_estimators=100, max_depth=400, max_features=10, score=0.943396 -   0.0s\n",
      "[CV] n_estimators=200, max_depth=400, max_features=10 ................\n",
      "[CV]  n_estimators=200, max_depth=400, max_features=10, score=0.981481 -   0.0s\n",
      "[CV] n_estimators=200, max_depth=400, max_features=10 ................\n",
      "[CV]  n_estimators=200, max_depth=400, max_features=10, score=0.925926 -   0.0s\n",
      "[CV] n_estimators=200, max_depth=400, max_features=10 ................\n",
      "[CV]  n_estimators=200, max_depth=400, max_features=10, score=0.916667 -   0.0s\n",
      "[CV] n_estimators=200, max_depth=400, max_features=10 ................\n",
      "[CV]  n_estimators=200, max_depth=400, max_features=10, score=0.943396 -   0.0s\n",
      "[CV] n_estimators=200, max_depth=400, max_features=10 ................\n",
      "[CV]  n_estimators=200, max_depth=400, max_features=10, score=0.933962 -   0.0s\n",
      "[CV] n_estimators=400, max_depth=400, max_features=10 ................\n",
      "[CV]  n_estimators=400, max_depth=400, max_features=10, score=0.981481 -   0.0s\n",
      "[CV] n_estimators=400, max_depth=400, max_features=10 ................\n",
      "[CV]  n_estimators=400, max_depth=400, max_features=10, score=0.944444 -   0.0s\n",
      "[CV] n_estimators=400, max_depth=400, max_features=10 ................\n",
      "[CV]  n_estimators=400, max_depth=400, max_features=10, score=0.925926 -   0.0s\n",
      "[CV] n_estimators=400, max_depth=400, max_features=10 ................\n",
      "[CV]  n_estimators=400, max_depth=400, max_features=10, score=0.933962 -   0.0s\n",
      "[CV] n_estimators=400, max_depth=400, max_features=10 ................\n",
      "[CV]  n_estimators=400, max_depth=400, max_features=10, score=0.943396 -   0.0s\n",
      "[CV] n_estimators=100, max_depth=400, max_features=15 ................\n",
      "[CV]  n_estimators=100, max_depth=400, max_features=15, score=0.972222 -   0.0s\n",
      "[CV] n_estimators=100, max_depth=400, max_features=15 ................\n",
      "[CV]  n_estimators=100, max_depth=400, max_features=15, score=0.916667 -   0.0s\n",
      "[CV] n_estimators=100, max_depth=400, max_features=15 ................\n",
      "[CV]  n_estimators=100, max_depth=400, max_features=15, score=0.935185 -   0.0s\n",
      "[CV] n_estimators=100, max_depth=400, max_features=15 ................\n",
      "[CV]  n_estimators=100, max_depth=400, max_features=15, score=0.924528 -   0.0s\n",
      "[CV] n_estimators=100, max_depth=400, max_features=15 ................\n",
      "[CV]  n_estimators=100, max_depth=400, max_features=15, score=0.933962 -   0.0s\n",
      "[CV] n_estimators=200, max_depth=400, max_features=15 ................\n",
      "[CV]  n_estimators=200, max_depth=400, max_features=15, score=0.972222 -   0.0s\n",
      "[CV] n_estimators=200, max_depth=400, max_features=15 ................\n",
      "[CV]  n_estimators=200, max_depth=400, max_features=15, score=0.925926 -   0.0s\n",
      "[CV] n_estimators=200, max_depth=400, max_features=15 ................\n",
      "[CV]  n_estimators=200, max_depth=400, max_features=15, score=0.925926 -   0.0s\n",
      "[CV] n_estimators=200, max_depth=400, max_features=15 ................\n",
      "[CV]  n_estimators=200, max_depth=400, max_features=15, score=0.924528 -   0.0s\n",
      "[CV] n_estimators=200, max_depth=400, max_features=15 ................\n",
      "[CV]  n_estimators=200, max_depth=400, max_features=15, score=0.933962 -   0.0s\n",
      "[CV] n_estimators=400, max_depth=400, max_features=15 ................\n",
      "[CV]  n_estimators=400, max_depth=400, max_features=15, score=0.981481 -   0.0s\n",
      "[CV] n_estimators=400, max_depth=400, max_features=15 ................\n",
      "[CV]  n_estimators=400, max_depth=400, max_features=15, score=0.935185 -   0.0s\n",
      "[CV] n_estimators=400, max_depth=400, max_features=15 ................\n",
      "[CV]  n_estimators=400, max_depth=400, max_features=15, score=0.925926 -   0.0s\n",
      "[CV] n_estimators=400, max_depth=400, max_features=15 ................\n",
      "[CV]  n_estimators=400, max_depth=400, max_features=15, score=0.924528 -   0.0s\n",
      "[CV] n_estimators=400, max_depth=400, max_features=15 ................\n",
      "[CV]  n_estimators=400, max_depth=400, max_features=15, score=0.943396 -   0.0s\n",
      "[CV] n_estimators=100, max_depth=400, max_features=20 ................\n",
      "[CV]  n_estimators=100, max_depth=400, max_features=20, score=0.972222 -   0.0s\n",
      "[CV] n_estimators=100, max_depth=400, max_features=20 ................\n",
      "[CV]  n_estimators=100, max_depth=400, max_features=20, score=0.925926 -   0.0s\n",
      "[CV] n_estimators=100, max_depth=400, max_features=20 ................\n",
      "[CV]  n_estimators=100, max_depth=400, max_features=20, score=0.925926 -   0.0s\n",
      "[CV] n_estimators=100, max_depth=400, max_features=20 ................\n",
      "[CV]  n_estimators=100, max_depth=400, max_features=20, score=0.933962 -   0.0s\n",
      "[CV] n_estimators=100, max_depth=400, max_features=20 ................\n",
      "[CV]  n_estimators=100, max_depth=400, max_features=20, score=0.933962 -   0.0s\n",
      "[CV] n_estimators=200, max_depth=400, max_features=20 ................\n",
      "[CV]  n_estimators=200, max_depth=400, max_features=20, score=0.972222 -   0.0s\n",
      "[CV] n_estimators=200, max_depth=400, max_features=20 ................\n",
      "[CV]  n_estimators=200, max_depth=400, max_features=20, score=0.925926 -   0.0s\n",
      "[CV] n_estimators=200, max_depth=400, max_features=20 ................\n",
      "[CV]  n_estimators=200, max_depth=400, max_features=20, score=0.925926 -   0.0s\n",
      "[CV] n_estimators=200, max_depth=400, max_features=20 ................\n",
      "[CV]  n_estimators=200, max_depth=400, max_features=20, score=0.933962 -   0.0s\n",
      "[CV] n_estimators=200, max_depth=400, max_features=20 ................\n",
      "[CV]  n_estimators=200, max_depth=400, max_features=20, score=0.943396 -   0.0s\n",
      "[CV] n_estimators=400, max_depth=400, max_features=20 ................\n",
      "[CV]  n_estimators=400, max_depth=400, max_features=20, score=0.953704 -   0.0s\n",
      "[CV] n_estimators=400, max_depth=400, max_features=20 ................\n",
      "[CV]  n_estimators=400, max_depth=400, max_features=20, score=0.925926 -   0.0s\n",
      "[CV] n_estimators=400, max_depth=400, max_features=20 ................\n",
      "[CV]  n_estimators=400, max_depth=400, max_features=20, score=0.935185 -   0.0s\n",
      "[CV] n_estimators=400, max_depth=400, max_features=20 ................\n",
      "[CV]  n_estimators=400, max_depth=400, max_features=20, score=0.933962 -   0.0s\n",
      "[CV] n_estimators=400, max_depth=400, max_features=20 ................\n",
      "[CV]  n_estimators=400, max_depth=400, max_features=20, score=0.924528 -   0.0s\n",
      "[CV] n_estimators=100, max_depth=600, max_features=10 ................\n",
      "[CV]  n_estimators=100, max_depth=600, max_features=10, score=0.981481 -   0.0s\n",
      "[CV] n_estimators=100, max_depth=600, max_features=10 ................\n",
      "[CV]  n_estimators=100, max_depth=600, max_features=10, score=0.944444 -   0.0s\n",
      "[CV] n_estimators=100, max_depth=600, max_features=10 ................\n",
      "[CV]  n_estimators=100, max_depth=600, max_features=10, score=0.935185 -   0.0s\n",
      "[CV] n_estimators=100, max_depth=600, max_features=10 ................\n",
      "[CV]  n_estimators=100, max_depth=600, max_features=10, score=0.924528 -   0.0s\n",
      "[CV] n_estimators=100, max_depth=600, max_features=10 ................\n",
      "[CV]  n_estimators=100, max_depth=600, max_features=10, score=0.943396 -   0.0s\n",
      "[CV] n_estimators=200, max_depth=600, max_features=10 ................\n",
      "[CV]  n_estimators=200, max_depth=600, max_features=10, score=0.981481 -   0.0s\n",
      "[CV] n_estimators=200, max_depth=600, max_features=10 ................\n",
      "[CV]  n_estimators=200, max_depth=600, max_features=10, score=0.944444 -   0.0s\n",
      "[CV] n_estimators=200, max_depth=600, max_features=10 ................\n",
      "[CV]  n_estimators=200, max_depth=600, max_features=10, score=0.916667 -   0.0s\n",
      "[CV] n_estimators=200, max_depth=600, max_features=10 ................\n",
      "[CV]  n_estimators=200, max_depth=600, max_features=10, score=0.933962 -   0.0s\n",
      "[CV] n_estimators=200, max_depth=600, max_features=10 ................\n",
      "[CV]  n_estimators=200, max_depth=600, max_features=10, score=0.933962 -   0.0s\n",
      "[CV] n_estimators=400, max_depth=600, max_features=10 ................\n",
      "[CV]  n_estimators=400, max_depth=600, max_features=10, score=0.981481 -   0.0s\n",
      "[CV] n_estimators=400, max_depth=600, max_features=10 ................\n",
      "[CV]  n_estimators=400, max_depth=600, max_features=10, score=0.944444 -   0.0s\n",
      "[CV] n_estimators=400, max_depth=600, max_features=10 ................\n",
      "[CV]  n_estimators=400, max_depth=600, max_features=10, score=0.925926 -   0.0s\n",
      "[CV] n_estimators=400, max_depth=600, max_features=10 ................\n",
      "[CV]  n_estimators=400, max_depth=600, max_features=10, score=0.924528 -   0.0s\n",
      "[CV] n_estimators=400, max_depth=600, max_features=10 ................\n",
      "[CV]  n_estimators=400, max_depth=600, max_features=10, score=0.933962 -   0.0s\n",
      "[CV] n_estimators=100, max_depth=600, max_features=15 ................\n",
      "[CV]  n_estimators=100, max_depth=600, max_features=15, score=0.972222 -   0.0s\n",
      "[CV] n_estimators=100, max_depth=600, max_features=15 ................\n",
      "[CV]  n_estimators=100, max_depth=600, max_features=15, score=0.916667 -   0.0s\n",
      "[CV] n_estimators=100, max_depth=600, max_features=15 ................\n",
      "[CV]  n_estimators=100, max_depth=600, max_features=15, score=0.935185 -   0.0s\n",
      "[CV] n_estimators=100, max_depth=600, max_features=15 ................\n",
      "[CV]  n_estimators=100, max_depth=600, max_features=15, score=0.933962 -   0.0s\n",
      "[CV] n_estimators=100, max_depth=600, max_features=15 ................\n",
      "[CV]  n_estimators=100, max_depth=600, max_features=15, score=0.943396 -   0.0s\n",
      "[CV] n_estimators=200, max_depth=600, max_features=15 ................\n",
      "[CV]  n_estimators=200, max_depth=600, max_features=15, score=0.981481 -   0.0s\n",
      "[CV] n_estimators=200, max_depth=600, max_features=15 ................\n",
      "[CV]  n_estimators=200, max_depth=600, max_features=15, score=0.944444 -   0.0s\n",
      "[CV] n_estimators=200, max_depth=600, max_features=15 ................\n",
      "[CV]  n_estimators=200, max_depth=600, max_features=15, score=0.935185 -   0.0s\n",
      "[CV] n_estimators=200, max_depth=600, max_features=15 ................\n",
      "[CV]  n_estimators=200, max_depth=600, max_features=15, score=0.933962 -   0.0s\n",
      "[CV] n_estimators=200, max_depth=600, max_features=15 ................\n",
      "[CV]  n_estimators=200, max_depth=600, max_features=15, score=0.933962 -   0.0s\n",
      "[CV] n_estimators=400, max_depth=600, max_features=15 ................\n",
      "[CV]  n_estimators=400, max_depth=600, max_features=15, score=0.972222 -   0.0s\n",
      "[CV] n_estimators=400, max_depth=600, max_features=15 ................\n",
      "[CV]  n_estimators=400, max_depth=600, max_features=15, score=0.935185 -   0.0s\n",
      "[CV] n_estimators=400, max_depth=600, max_features=15 ................\n",
      "[CV]  n_estimators=400, max_depth=600, max_features=15, score=0.925926 -   0.0s\n",
      "[CV] n_estimators=400, max_depth=600, max_features=15 ................\n",
      "[CV]  n_estimators=400, max_depth=600, max_features=15, score=0.933962 -   0.0s\n",
      "[CV] n_estimators=400, max_depth=600, max_features=15 ................\n",
      "[CV]  n_estimators=400, max_depth=600, max_features=15, score=0.943396 -   0.0s\n",
      "[CV] n_estimators=100, max_depth=600, max_features=20 ................\n",
      "[CV]  n_estimators=100, max_depth=600, max_features=20, score=0.953704 -   0.0s\n",
      "[CV] n_estimators=100, max_depth=600, max_features=20 ................\n",
      "[CV]  n_estimators=100, max_depth=600, max_features=20, score=0.925926 -   0.0s\n",
      "[CV] n_estimators=100, max_depth=600, max_features=20 ................\n",
      "[CV]  n_estimators=100, max_depth=600, max_features=20, score=0.935185 -   0.0s\n",
      "[CV] n_estimators=100, max_depth=600, max_features=20 ................\n",
      "[CV]  n_estimators=100, max_depth=600, max_features=20, score=0.924528 -   0.0s\n",
      "[CV] n_estimators=100, max_depth=600, max_features=20 ................\n",
      "[CV]  n_estimators=100, max_depth=600, max_features=20, score=0.933962 -   0.0s\n",
      "[CV] n_estimators=200, max_depth=600, max_features=20 ................\n",
      "[CV]  n_estimators=200, max_depth=600, max_features=20, score=0.944444 -   0.0s\n",
      "[CV] n_estimators=200, max_depth=600, max_features=20 ................\n",
      "[CV]  n_estimators=200, max_depth=600, max_features=20, score=0.916667 -   0.0s\n",
      "[CV] n_estimators=200, max_depth=600, max_features=20 ................\n",
      "[CV]  n_estimators=200, max_depth=600, max_features=20, score=0.935185 -   0.0s\n",
      "[CV] n_estimators=200, max_depth=600, max_features=20 ................\n",
      "[CV]  n_estimators=200, max_depth=600, max_features=20, score=0.933962 -   0.0s\n",
      "[CV] n_estimators=200, max_depth=600, max_features=20 ................\n",
      "[CV]  n_estimators=200, max_depth=600, max_features=20, score=0.933962 -   0.0s\n",
      "[CV] n_estimators=400, max_depth=600, max_features=20 ................\n",
      "[CV]  n_estimators=400, max_depth=600, max_features=20, score=0.972222 -   0.1s\n",
      "[CV] n_estimators=400, max_depth=600, max_features=20 ................\n",
      "[CV]  n_estimators=400, max_depth=600, max_features=20, score=0.935185 -   0.0s\n",
      "[CV] n_estimators=400, max_depth=600, max_features=20 ................\n",
      "[CV]  n_estimators=400, max_depth=600, max_features=20, score=0.935185 -   0.0s\n",
      "[CV] n_estimators=400, max_depth=600, max_features=20 ................\n",
      "[CV]  n_estimators=400, max_depth=600, max_features=20, score=0.933962 -   0.1s\n",
      "[CV] n_estimators=400, max_depth=600, max_features=20 ................\n",
      "[CV]  n_estimators=400, max_depth=600, max_features=20, score=0.924528 -   0.1s\n",
      "[CV] n_estimators=100, max_depth=800, max_features=10 ................\n",
      "[CV]  n_estimators=100, max_depth=800, max_features=10, score=0.972222 -   0.0s\n",
      "[CV] n_estimators=100, max_depth=800, max_features=10 ................\n",
      "[CV]  n_estimators=100, max_depth=800, max_features=10, score=0.944444 -   0.0s\n",
      "[CV] n_estimators=100, max_depth=800, max_features=10 ................\n",
      "[CV]  n_estimators=100, max_depth=800, max_features=10, score=0.935185 -   0.0s\n",
      "[CV] n_estimators=100, max_depth=800, max_features=10 ................\n",
      "[CV]  n_estimators=100, max_depth=800, max_features=10, score=0.933962 -   0.0s\n",
      "[CV] n_estimators=100, max_depth=800, max_features=10 ................\n",
      "[CV]  n_estimators=100, max_depth=800, max_features=10, score=0.943396 -   0.0s\n",
      "[CV] n_estimators=200, max_depth=800, max_features=10 ................\n",
      "[CV]  n_estimators=200, max_depth=800, max_features=10, score=0.972222 -   0.0s\n",
      "[CV] n_estimators=200, max_depth=800, max_features=10 ................\n",
      "[CV]  n_estimators=200, max_depth=800, max_features=10, score=0.935185 -   0.0s\n",
      "[CV] n_estimators=200, max_depth=800, max_features=10 ................\n",
      "[CV]  n_estimators=200, max_depth=800, max_features=10, score=0.925926 -   0.0s\n",
      "[CV] n_estimators=200, max_depth=800, max_features=10 ................\n",
      "[CV]  n_estimators=200, max_depth=800, max_features=10, score=0.924528 -   0.1s\n",
      "[CV] n_estimators=200, max_depth=800, max_features=10 ................\n",
      "[CV]  n_estimators=200, max_depth=800, max_features=10, score=0.933962 -   0.0s\n",
      "[CV] n_estimators=400, max_depth=800, max_features=10 ................\n",
      "[CV]  n_estimators=400, max_depth=800, max_features=10, score=0.981481 -   0.1s\n",
      "[CV] n_estimators=400, max_depth=800, max_features=10 ................\n",
      "[CV]  n_estimators=400, max_depth=800, max_features=10, score=0.944444 -   0.1s\n",
      "[CV] n_estimators=400, max_depth=800, max_features=10 ................\n",
      "[CV]  n_estimators=400, max_depth=800, max_features=10, score=0.925926 -   0.1s\n",
      "[CV] n_estimators=400, max_depth=800, max_features=10 ................\n",
      "[CV]  n_estimators=400, max_depth=800, max_features=10, score=0.924528 -   0.1s\n",
      "[CV] n_estimators=400, max_depth=800, max_features=10 ................\n",
      "[CV]  n_estimators=400, max_depth=800, max_features=10, score=0.933962 -   0.0s\n",
      "[CV] n_estimators=100, max_depth=800, max_features=15 ................\n",
      "[CV]  n_estimators=100, max_depth=800, max_features=15, score=0.962963 -   0.0s\n",
      "[CV] n_estimators=100, max_depth=800, max_features=15 ................\n",
      "[CV]  n_estimators=100, max_depth=800, max_features=15, score=0.916667 -   0.0s\n",
      "[CV] n_estimators=100, max_depth=800, max_features=15 ................\n",
      "[CV]  n_estimators=100, max_depth=800, max_features=15, score=0.925926 -   0.0s\n",
      "[CV] n_estimators=100, max_depth=800, max_features=15 ................\n",
      "[CV]  n_estimators=100, max_depth=800, max_features=15, score=0.933962 -   0.0s\n",
      "[CV] n_estimators=100, max_depth=800, max_features=15 ................\n",
      "[CV]  n_estimators=100, max_depth=800, max_features=15, score=0.933962 -   0.0s\n",
      "[CV] n_estimators=200, max_depth=800, max_features=15 ................\n",
      "[CV]  n_estimators=200, max_depth=800, max_features=15, score=0.981481 -   0.0s\n",
      "[CV] n_estimators=200, max_depth=800, max_features=15 ................\n",
      "[CV]  n_estimators=200, max_depth=800, max_features=15, score=0.925926 -   0.0s\n",
      "[CV] n_estimators=200, max_depth=800, max_features=15 ................\n",
      "[CV]  n_estimators=200, max_depth=800, max_features=15, score=0.925926 -   0.0s\n",
      "[CV] n_estimators=200, max_depth=800, max_features=15 ................\n",
      "[CV]  n_estimators=200, max_depth=800, max_features=15, score=0.933962 -   0.0s\n",
      "[CV] n_estimators=200, max_depth=800, max_features=15 ................\n",
      "[CV]  n_estimators=200, max_depth=800, max_features=15, score=0.933962 -   0.0s\n",
      "[CV] n_estimators=400, max_depth=800, max_features=15 ................\n",
      "[CV]  n_estimators=400, max_depth=800, max_features=15, score=0.981481 -   0.1s\n",
      "[CV] n_estimators=400, max_depth=800, max_features=15 ................\n",
      "[CV]  n_estimators=400, max_depth=800, max_features=15, score=0.916667 -   0.1s\n",
      "[CV] n_estimators=400, max_depth=800, max_features=15 ................\n",
      "[CV]  n_estimators=400, max_depth=800, max_features=15, score=0.935185 -   0.0s\n",
      "[CV] n_estimators=400, max_depth=800, max_features=15 ................\n",
      "[CV]  n_estimators=400, max_depth=800, max_features=15, score=0.933962 -   0.0s\n",
      "[CV] n_estimators=400, max_depth=800, max_features=15 ................\n",
      "[CV]  n_estimators=400, max_depth=800, max_features=15, score=0.943396 -   0.1s\n",
      "[CV] n_estimators=100, max_depth=800, max_features=20 ................\n",
      "[CV]  n_estimators=100, max_depth=800, max_features=20, score=0.962963 -   0.0s\n",
      "[CV] n_estimators=100, max_depth=800, max_features=20 ................\n",
      "[CV]  n_estimators=100, max_depth=800, max_features=20, score=0.935185 -   0.0s\n",
      "[CV] n_estimators=100, max_depth=800, max_features=20 ................\n",
      "[CV]  n_estimators=100, max_depth=800, max_features=20, score=0.935185 -   0.0s\n",
      "[CV] n_estimators=100, max_depth=800, max_features=20 ................\n",
      "[CV]  n_estimators=100, max_depth=800, max_features=20, score=0.933962 -   0.0s\n",
      "[CV] n_estimators=100, max_depth=800, max_features=20 ................\n",
      "[CV]  n_estimators=100, max_depth=800, max_features=20, score=0.924528 -   0.0s\n",
      "[CV] n_estimators=200, max_depth=800, max_features=20 ................\n",
      "[CV]  n_estimators=200, max_depth=800, max_features=20, score=0.962963 -   0.0s\n",
      "[CV] n_estimators=200, max_depth=800, max_features=20 ................\n",
      "[CV]  n_estimators=200, max_depth=800, max_features=20, score=0.916667 -   0.0s\n",
      "[CV] n_estimators=200, max_depth=800, max_features=20 ................\n",
      "[CV]  n_estimators=200, max_depth=800, max_features=20, score=0.935185 -   0.0s\n",
      "[CV] n_estimators=200, max_depth=800, max_features=20 ................\n",
      "[CV]  n_estimators=200, max_depth=800, max_features=20, score=0.933962 -   0.0s\n",
      "[CV] n_estimators=200, max_depth=800, max_features=20 ................\n",
      "[CV]  n_estimators=200, max_depth=800, max_features=20, score=0.943396 -   0.0s\n",
      "[CV] n_estimators=400, max_depth=800, max_features=20 ................\n",
      "[CV]  n_estimators=400, max_depth=800, max_features=20, score=0.972222 -   0.1s\n",
      "[CV] n_estimators=400, max_depth=800, max_features=20 ................\n",
      "[CV]  n_estimators=400, max_depth=800, max_features=20, score=0.925926 -   0.0s\n",
      "[CV] n_estimators=400, max_depth=800, max_features=20 ................\n",
      "[CV]  n_estimators=400, max_depth=800, max_features=20, score=0.935185 -   0.0s\n",
      "[CV] n_estimators=400, max_depth=800, max_features=20 ................\n",
      "[CV]  n_estimators=400, max_depth=800, max_features=20, score=0.933962 -   0.0s\n",
      "[CV] n_estimators=400, max_depth=800, max_features=20 ................\n",
      "[CV]  n_estimators=400, max_depth=800, max_features=20, score=0.933962 -   0.1s\n"
     ]
    },
    {
     "name": "stderr",
     "output_type": "stream",
     "text": [
      "[Parallel(n_jobs=1)]: Done 270 out of 270 | elapsed:  3.7min finished\n"
     ]
    },
    {
     "data": {
      "text/plain": [
       "GridSearchCV(cv=5, error_score='raise',\n",
       "       estimator=RandomForestClassifier(bootstrap=True, class_weight=None, criterion='gini',\n",
       "            max_depth=None, max_features='auto', max_leaf_nodes=None,\n",
       "            min_impurity_split=1e-07, min_samples_leaf=1,\n",
       "            min_samples_split=2, min_weight_fraction_leaf=0.0,\n",
       "            n_estimators=10, n_jobs=1, oob_score=False, random_state=None,\n",
       "            verbose=0, warm_start=False),\n",
       "       fit_params={}, iid=True, n_jobs=1,\n",
       "       param_grid={'n_estimators': [100, 200, 400], 'max_depth': [50, 100, 200, 400, 600, 800], 'max_features': [10, 15, 20]},\n",
       "       pre_dispatch='2*n_jobs', refit=True, return_train_score=True,\n",
       "       scoring=None, verbose=10)"
      ]
     },
     "execution_count": 75,
     "metadata": {},
     "output_type": "execute_result"
    }
   ],
   "source": [
    "clf.fit(X_train, y_train)"
   ]
  },
  {
   "cell_type": "code",
   "execution_count": 76,
   "metadata": {
    "collapsed": true
   },
   "outputs": [],
   "source": [
    "y_pred_best = clf.predict(X_test)"
   ]
  },
  {
   "cell_type": "code",
   "execution_count": 77,
   "metadata": {
    "collapsed": false,
    "scrolled": true
   },
   "outputs": [
    {
     "name": "stdout",
     "output_type": "stream",
     "text": [
      "             precision    recall  f1-score   support\n",
      "\n",
      "          0       0.96      0.90      0.93       144\n",
      "          1       0.89      0.96      0.92       120\n",
      "\n",
      "avg / total       0.93      0.93      0.93       264\n",
      "\n"
     ]
    }
   ],
   "source": [
    "print(classification_report(y_test, y_pred_best))"
   ]
  },
  {
   "cell_type": "code",
   "execution_count": 78,
   "metadata": {
    "collapsed": false
   },
   "outputs": [
    {
     "data": {
      "text/plain": [
       "{'max_depth': 200, 'max_features': 10, 'n_estimators': 200}"
      ]
     },
     "execution_count": 78,
     "metadata": {},
     "output_type": "execute_result"
    }
   ],
   "source": [
    "clf.best_params_"
   ]
  },
  {
   "cell_type": "code",
   "execution_count": null,
   "metadata": {
    "collapsed": true
   },
   "outputs": [],
   "source": []
  }
 ],
 "metadata": {
  "kernelspec": {
   "display_name": "Python [Root]",
   "language": "python",
   "name": "Python [Root]"
  },
  "language_info": {
   "codemirror_mode": {
    "name": "ipython",
    "version": 3
   },
   "file_extension": ".py",
   "mimetype": "text/x-python",
   "name": "python",
   "nbconvert_exporter": "python",
   "pygments_lexer": "ipython3",
   "version": "3.5.2"
  }
 },
 "nbformat": 4,
 "nbformat_minor": 0
}

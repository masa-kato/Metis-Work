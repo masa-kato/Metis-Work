{
 "cells": [
  {
   "cell_type": "markdown",
   "metadata": {},
   "source": [
    "### Initial Failed Attempt"
   ]
  },
  {
   "cell_type": "code",
   "execution_count": 21,
   "metadata": {
    "collapsed": true
   },
   "outputs": [],
   "source": [
    "def check_paren0(s):\n",
    "    if list(s).count('(') == list(s).count(')'):\n",
    "        return True\n",
    "    else:\n",
    "        return False"
   ]
  },
  {
   "cell_type": "code",
   "execution_count": 34,
   "metadata": {
    "collapsed": false
   },
   "outputs": [
    {
     "name": "stdout",
     "output_type": "stream",
     "text": [
      "True\n",
      "True\n",
      "True\n",
      "False\n",
      "False\n",
      "True\n"
     ]
    }
   ],
   "source": [
    "print(check_paren0('(()()()())'))\n",
    "print(check_paren0('(((())))'))\n",
    "print(check_paren0('(()((())()))'))\n",
    "print(check_paren0('((((((())'))\n",
    "print(check_paren0('()))'))\n",
    "print(check_paren0('(()()))(()'))"
   ]
  },
  {
   "cell_type": "markdown",
   "metadata": {},
   "source": [
    "### Successful Attempt!"
   ]
  },
  {
   "cell_type": "code",
   "execution_count": 42,
   "metadata": {
    "collapsed": false
   },
   "outputs": [],
   "source": [
    "def check_paren1(s):\n",
    "    count = 0\n",
    "    for paren in list(s):\n",
    "        if paren == '(':\n",
    "            count += 1\n",
    "        else:\n",
    "            count -= 1\n",
    "        if count < 0:\n",
    "            return False\n",
    "    if count == 0:\n",
    "        return True\n",
    "    else:\n",
    "        return False"
   ]
  },
  {
   "cell_type": "code",
   "execution_count": 43,
   "metadata": {
    "collapsed": false
   },
   "outputs": [
    {
     "name": "stdout",
     "output_type": "stream",
     "text": [
      "True\n",
      "True\n",
      "True\n",
      "False\n",
      "False\n",
      "False\n"
     ]
    }
   ],
   "source": [
    "print(check_paren1('(()()()())'))\n",
    "print(check_paren1('(((())))'))\n",
    "print(check_paren1('(()((())()))'))\n",
    "print(check_paren1('((((((())'))\n",
    "print(check_paren1('()))'))\n",
    "print(check_paren1('(()()))(()'))"
   ]
  },
  {
   "cell_type": "code",
   "execution_count": 233,
   "metadata": {
    "collapsed": false
   },
   "outputs": [],
   "source": [
    "def check_paren2(s):   \n",
    "    if len(s) == 0:\n",
    "        return True\n",
    "    if '(' not in s:\n",
    "        return False\n",
    "    if ')' not in s:\n",
    "        return False \n",
    "    \n",
    "    if '()' in s:\n",
    "        s = s.replace('()','');\n",
    "        print(s)\n",
    "        check_paren2(s)"
   ]
  },
  {
   "cell_type": "code",
   "execution_count": 232,
   "metadata": {
    "collapsed": false
   },
   "outputs": [
    {
     "name": "stdout",
     "output_type": "stream",
     "text": [
      "()\n",
      "\n",
      "None\n"
     ]
    }
   ],
   "source": [
    "print(check_paren2('(()()()())'))\n",
    "# print(check_paren2('(((())))'))\n",
    "# print(check_paren2('(()((())()))'))\n",
    "# print(check_paren2('((((((())'))\n",
    "# print(check_paren2('()))'))\n",
    "# print(check_paren2('(()()))(()'))"
   ]
  },
  {
   "cell_type": "markdown",
   "metadata": {},
   "source": [
    "**Recursive Solution**"
   ]
  },
  {
   "cell_type": "code",
   "execution_count": 208,
   "metadata": {
    "collapsed": true
   },
   "outputs": [],
   "source": [
    "def paren2(s):\n",
    "    i = s.find(')')\n",
    "    if s == '':\n",
    "        return True\n",
    "    elif i < 1:\n",
    "        return False\n",
    "    else:\n",
    "        return paren2(s[:i-1]+s[i+1:])"
   ]
  }
 ],
 "metadata": {
  "anaconda-cloud": {},
  "kernelspec": {
   "display_name": "Python [Root]",
   "language": "python",
   "name": "Python [Root]"
  },
  "language_info": {
   "codemirror_mode": {
    "name": "ipython",
    "version": 3
   },
   "file_extension": ".py",
   "mimetype": "text/x-python",
   "name": "python",
   "nbconvert_exporter": "python",
   "pygments_lexer": "ipython3",
   "version": "3.5.2"
  }
 },
 "nbformat": 4,
 "nbformat_minor": 0
}

{
 "cells": [
  {
   "cell_type": "markdown",
   "metadata": {},
   "source": [
    "# Pair Problem"
   ]
  },
  {
   "cell_type": "markdown",
   "metadata": {},
   "source": [
    "## CodeEval Beautiful Strings Challenge"
   ]
  },
  {
   "cell_type": "code",
   "execution_count": 217,
   "metadata": {
    "collapsed": false
   },
   "outputs": [],
   "source": [
    "# Import Relevant Libraries\n",
    "import re\n",
    "import numpy as np\n",
    "from collections import Counter"
   ]
  },
  {
   "cell_type": "code",
   "execution_count": 209,
   "metadata": {
    "collapsed": true
   },
   "outputs": [],
   "source": [
    "# First Iteration\n",
    "def beautiful_strings_initial(s):\n",
    "    s = re.sub('[^A-Za-z]+', '', s.lower())\n",
    "    \n",
    "    counts = {}\n",
    "    for letter in s:\n",
    "        counts[letter] = counts.get(letter, 0) + 1\n",
    "    counts = sorted(counts.items(), key=lambda x: x[1],reverse=True)\n",
    "    \n",
    "    i = 26\n",
    "    beauty = 0\n",
    "    while counts:\n",
    "        beauty += i*counts.pop(0)[1]\n",
    "        i-=1\n",
    "        \n",
    "    return beauty"
   ]
  },
  {
   "cell_type": "code",
   "execution_count": 210,
   "metadata": {
    "collapsed": false
   },
   "outputs": [],
   "source": [
    "def beautiful_strings(s):\n",
    "    s = re.sub('[^a-z]+', '', s.lower())\n",
    "    \n",
    "    counts = {}\n",
    "    for letter in s:\n",
    "        counts[letter] = counts.get(letter, 0) + 1\n",
    "    counts = sorted(counts.values())\n",
    "    values = range(27-len(counts),27)\n",
    "    return np.dot(counts,values)"
   ]
  },
  {
   "cell_type": "code",
   "execution_count": 255,
   "metadata": {
    "collapsed": true
   },
   "outputs": [],
   "source": [
    "def beautiful_strings_counter(s):\n",
    "    s = re.sub('[^a-z]+', '', s.lower())\n",
    "    counts = sorted(Counter(s).values())\n",
    "    return np.dot(counts,range(27-len(counts),27))    "
   ]
  },
  {
   "cell_type": "code",
   "execution_count": 265,
   "metadata": {
    "collapsed": true
   },
   "outputs": [],
   "source": [
    "def beautiful_strings_counter_alt(s):\n",
    "    counts = sorted(Counter(re.sub('[^a-z]+', '', s.lower())).values())\n",
    "    return np.dot(counts,range(27-len(counts),27))    "
   ]
  },
  {
   "cell_type": "code",
   "execution_count": 256,
   "metadata": {
    "collapsed": true
   },
   "outputs": [],
   "source": [
    "a = 'ABbCcc'\n",
    "b = 'Good luck in the Facebook Hacker Cup this year!'\n",
    "c = 'Ignore punctuation, please :)'\n",
    "d = 'Sometimes test cases are hard to make up.'\n",
    "e = 'So I just go consult Professor Dalves'"
   ]
  },
  {
   "cell_type": "code",
   "execution_count": 258,
   "metadata": {
    "collapsed": false,
    "scrolled": true
   },
   "outputs": [
    {
     "data": {
      "text/plain": [
       "646"
      ]
     },
     "execution_count": 258,
     "metadata": {},
     "output_type": "execute_result"
    }
   ],
   "source": [
    "beautiful_strings(a)\n",
    "beautiful_strings(b)\n",
    "beautiful_strings(c)\n",
    "beautiful_strings(d)\n",
    "beautiful_strings(e)"
   ]
  },
  {
   "cell_type": "code",
   "execution_count": 270,
   "metadata": {
    "collapsed": false
   },
   "outputs": [
    {
     "data": {
      "text/plain": [
       "152"
      ]
     },
     "execution_count": 270,
     "metadata": {},
     "output_type": "execute_result"
    }
   ],
   "source": [
    "beautiful_strings(a)"
   ]
  },
  {
   "cell_type": "code",
   "execution_count": 269,
   "metadata": {
    "collapsed": false,
    "scrolled": true
   },
   "outputs": [
    {
     "data": {
      "text/plain": [
       "152"
      ]
     },
     "execution_count": 269,
     "metadata": {},
     "output_type": "execute_result"
    }
   ],
   "source": [
    "beautiful_strings_initial(a)"
   ]
  },
  {
   "cell_type": "code",
   "execution_count": 268,
   "metadata": {
    "collapsed": false,
    "scrolled": true
   },
   "outputs": [
    {
     "data": {
      "text/plain": [
       "152"
      ]
     },
     "execution_count": 268,
     "metadata": {},
     "output_type": "execute_result"
    }
   ],
   "source": [
    "beautiful_strings_counter(a)"
   ]
  },
  {
   "cell_type": "code",
   "execution_count": 267,
   "metadata": {
    "collapsed": false
   },
   "outputs": [
    {
     "data": {
      "text/plain": [
       "152"
      ]
     },
     "execution_count": 267,
     "metadata": {},
     "output_type": "execute_result"
    }
   ],
   "source": [
    "beautiful_strings_counter_alt(a)"
   ]
  },
  {
   "cell_type": "code",
   "execution_count": null,
   "metadata": {
    "collapsed": true
   },
   "outputs": [],
   "source": []
  }
 ],
 "metadata": {
  "anaconda-cloud": {},
  "kernelspec": {
   "display_name": "Python [Root]",
   "language": "python",
   "name": "Python [Root]"
  },
  "language_info": {
   "codemirror_mode": {
    "name": "ipython",
    "version": 3
   },
   "file_extension": ".py",
   "mimetype": "text/x-python",
   "name": "python",
   "nbconvert_exporter": "python",
   "pygments_lexer": "ipython3",
   "version": "3.5.2"
  }
 },
 "nbformat": 4,
 "nbformat_minor": 0
}

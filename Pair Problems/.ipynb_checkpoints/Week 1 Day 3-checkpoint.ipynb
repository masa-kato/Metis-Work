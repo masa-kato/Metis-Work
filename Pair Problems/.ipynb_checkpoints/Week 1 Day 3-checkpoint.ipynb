{
 "cells": [
  {
   "cell_type": "markdown",
   "metadata": {},
   "source": [
    "# Problem 1"
   ]
  },
  {
   "cell_type": "code",
   "execution_count": 20,
   "metadata": {
    "collapsed": false
   },
   "outputs": [
    {
     "name": "stdout",
     "output_type": "stream",
     "text": [
      "Please input a number between 1 & 100: 73\n",
      "Guess: 50\n",
      "Guess: 75\n",
      "Guess: 62\n",
      "Guess: 68\n",
      "Guess: 71\n",
      "Guess: 73\n",
      "Your Number is: 73\n",
      "I got it right in 6 tries\n"
     ]
    }
   ],
   "source": [
    "def guess(number):\n",
    "    low, high = 1, 100\n",
    "    guess = (low + high)//2\n",
    "    print('Guess:',guess)\n",
    "    iteration = 1\n",
    "    while number != guess:\n",
    "        if number > guess:\n",
    "            low = guess\n",
    "            guess = (low + high)//2\n",
    "            print('Guess:',guess)\n",
    "            iteration += 1\n",
    "        else:\n",
    "            high = guess\n",
    "            guess = (low + high)//2\n",
    "            print('Guess:',guess)\n",
    "            iteration += 1\n",
    "    print('Your Number is:',guess)\n",
    "    print('I got it right in {} tries'.format(iteration))\n",
    "    \n",
    "guess(int(input('Please input a number between 1 & 100: ')))"
   ]
  },
  {
   "cell_type": "markdown",
   "metadata": {},
   "source": [
    "# Problem 2"
   ]
  },
  {
   "cell_type": "code",
   "execution_count": 12,
   "metadata": {
    "collapsed": false
   },
   "outputs": [],
   "source": [
    "import random\n",
    "from operator import mul\n",
    "from functools import reduce\n",
    "random.seed(0)"
   ]
  },
  {
   "cell_type": "code",
   "execution_count": 6,
   "metadata": {
    "collapsed": false
   },
   "outputs": [
    {
     "data": {
      "text/plain": [
       "[1, 3, 4, 2, 3, 2, 7, 4, 2, 8]"
      ]
     },
     "execution_count": 6,
     "metadata": {},
     "output_type": "execute_result"
    }
   ],
   "source": [
    "input_num = 1342327428\n",
    "input_list = [int(i) for i in str(input_num)]\n",
    "input_list"
   ]
  },
  {
   "cell_type": "code",
   "execution_count": 35,
   "metadata": {
    "collapsed": true
   },
   "outputs": [],
   "source": [
    "def euler(input_list, digits=13):\n",
    "    best_product = 0\n",
    "    for i in range(len(input_list)-(digits-1)):\n",
    "        if 0 in input_list[i:i+digits]:\n",
    "            pass\n",
    "        else:\n",
    "            product = reduce(mul, input_list[i:i+digits], 1)\n",
    "            if product > best_product:\n",
    "                best_product = product\n",
    "                best_list = input_list[i:i+digits]\n",
    "    # print(best_list)\n",
    "    # print(best_product)\n"
   ]
  },
  {
   "cell_type": "code",
   "execution_count": 28,
   "metadata": {
    "collapsed": false
   },
   "outputs": [],
   "source": [
    "input_num = 73167176531330624919225119674426574742355349194934\\\n",
    "96983520312774506326239578318016984801869478851843\\\n",
    "85861560789112949495459501737958331952853208805511\\\n",
    "12540698747158523863050715693290963295227443043557\\\n",
    "66896648950445244523161731856403098711121722383113\\\n",
    "62229893423380308135336276614282806444486645238749\\\n",
    "30358907296290491560440772390713810515859307960866\\\n",
    "70172427121883998797908792274921901699720888093776\\\n",
    "65727333001053367881220235421809751254540594752243\\\n",
    "52584907711670556013604839586446706324415722155397\\\n",
    "53697817977846174064955149290862569321978468622482\\\n",
    "83972241375657056057490261407972968652414535100474\\\n",
    "82166370484403199890008895243450658541227588666881\\\n",
    "16427171479924442928230863465674813919123162824586\\\n",
    "17866458359124566529476545682848912883142607690042\\\n",
    "24219022671055626321111109370544217506941658960408\\\n",
    "07198403850962455444362981230987879927244284909188\\\n",
    "84580156166097919133875499200524063689912560717606\\\n",
    "05886116467109405077541002256983155200055935729725\\\n",
    "71636269561882670428252483600823257530420752963450\n",
    "input_list = [int(i) for i in str(input_num)]"
   ]
  },
  {
   "cell_type": "code",
   "execution_count": 38,
   "metadata": {
    "collapsed": false
   },
   "outputs": [
    {
     "name": "stdout",
     "output_type": "stream",
     "text": [
      "1000 loops, best of 3: 905 µs per loop\n"
     ]
    }
   ],
   "source": [
    "%timeit euler(input_list,13)"
   ]
  },
  {
   "cell_type": "code",
   "execution_count": 39,
   "metadata": {
    "collapsed": false
   },
   "outputs": [
    {
     "name": "stdout",
     "output_type": "stream",
     "text": [
      "1000 loops, best of 3: 897 µs per loop\n"
     ]
    }
   ],
   "source": [
    "%timeit euler(input_list,2)"
   ]
  },
  {
   "cell_type": "code",
   "execution_count": 40,
   "metadata": {
    "collapsed": false
   },
   "outputs": [
    {
     "name": "stdout",
     "output_type": "stream",
     "text": [
      "1000 loops, best of 3: 770 µs per loop\n"
     ]
    }
   ],
   "source": [
    "%timeit euler(input_list,40)"
   ]
  },
  {
   "cell_type": "code",
   "execution_count": null,
   "metadata": {
    "collapsed": true
   },
   "outputs": [],
   "source": []
  }
 ],
 "metadata": {
  "kernelspec": {
   "display_name": "Python [Root]",
   "language": "python",
   "name": "Python [Root]"
  },
  "language_info": {
   "codemirror_mode": {
    "name": "ipython",
    "version": 3
   },
   "file_extension": ".py",
   "mimetype": "text/x-python",
   "name": "python",
   "nbconvert_exporter": "python",
   "pygments_lexer": "ipython3",
   "version": "3.5.2"
  }
 },
 "nbformat": 4,
 "nbformat_minor": 0
}

{
 "cells": [
  {
   "cell_type": "markdown",
   "metadata": {},
   "source": [
    "# Pair Problem"
   ]
  },
  {
   "cell_type": "code",
   "execution_count": 2,
   "metadata": {
    "collapsed": true
   },
   "outputs": [],
   "source": [
    "import numpy as np"
   ]
  },
  {
   "cell_type": "code",
   "execution_count": 1,
   "metadata": {
    "collapsed": true
   },
   "outputs": [],
   "source": [
    "docs = [[0.98, 0.01, 0.01],\n",
    "        [0.01, 0.98, 0.01],\n",
    "        [0.01, 0.01, 0.98]]\n",
    "topics = [[ 0.4,      0.4,   0.01,        0.01,    0.01,       0.01,\n",
    "            0.1,     0.04,   0.01,        0.01],\n",
    "          [0.01,     0.01,    0.4,         0.4,    0.01,       0.01,\n",
    "            0.1,     0.04,   0.01,        0.01],\n",
    "          [0.02,     0.02,   0.01,        0.01,     0.4,        0.4,\n",
    "           0.02,      0.1,   0.01,        0.01]]\n",
    "words =  ['cat', 'kitten',  'dog',     'puppy',  'deep', 'learning',\n",
    "          'fur',  'image',  'GPU', 'asparagus']"
   ]
  },
  {
   "cell_type": "code",
   "execution_count": 116,
   "metadata": {
    "collapsed": false
   },
   "outputs": [],
   "source": [
    "def make_doc(n_words, topic_probs=None):\n",
    "    if topic_probs is None:\n",
    "        topic_probs = np.random.dirichlet([1]*len(topics))\n",
    "    \n",
    "    print('Topic Probabilities:',topic_probs)    \n",
    "    \n",
    "    output = []\n",
    "    for i in range(n_words):\n",
    "        topic = topics[np.random.choice(range(len(topic_probs)),p=topic_probs)]\n",
    "        word = words[np.random.choice(range(len(topic)), p=topic)]\n",
    "        output.append(word)\n",
    "    sentence = ' '.join(word for word in output)\n",
    "    \n",
    "    return sentence"
   ]
  },
  {
   "cell_type": "code",
   "execution_count": 117,
   "metadata": {
    "collapsed": false
   },
   "outputs": [
    {
     "name": "stdout",
     "output_type": "stream",
     "text": [
      "Topic Probabilities: [0.98, 0.01, 0.01]\n",
      "kitten cat kitten fur asparagus cat image cat cat cat\n",
      "Topic Probabilities: [0.01, 0.98, 0.01]\n",
      "dog fur dog dog puppy dog puppy dog dog dog\n",
      "Topic Probabilities: [0.01, 0.01, 0.98]\n",
      "learning learning puppy deep learning learning learning deep deep deep\n"
     ]
    }
   ],
   "source": [
    "for doc in docs:\n",
    "    print(make_doc(topic_probs=doc, n_words=10))"
   ]
  },
  {
   "cell_type": "code",
   "execution_count": 118,
   "metadata": {
    "collapsed": false
   },
   "outputs": [
    {
     "name": "stdout",
     "output_type": "stream",
     "text": [
      "Topic Probabilities: [ 0.03066288  0.76739717  0.20193995]\n",
      "puppy dog puppy learning dog puppy fur dog dog puppy\n",
      "Topic Probabilities: [ 0.39368642  0.40692292  0.19939066]\n",
      "deep cat cat image cat dog dog cat dog dog\n",
      "Topic Probabilities: [ 0.59425097  0.25250736  0.15324167]\n",
      "asparagus fur cat learning kitten fur puppy deep image fur\n"
     ]
    }
   ],
   "source": [
    "for doc in docs:\n",
    "    print(make_doc(topic_probs=None, n_words=10))"
   ]
  },
  {
   "cell_type": "markdown",
   "metadata": {},
   "source": [
    "## For Intuition for Dirichlet Distribution"
   ]
  },
  {
   "cell_type": "code",
   "execution_count": 165,
   "metadata": {
    "collapsed": false,
    "scrolled": true
   },
   "outputs": [
    {
     "data": {
      "text/plain": [
       "array([ 0.33408902,  0.33343891,  0.33247207])"
      ]
     },
     "execution_count": 165,
     "metadata": {},
     "output_type": "execute_result"
    }
   ],
   "source": [
    "np.random.dirichlet([10000]*len(topics))"
   ]
  },
  {
   "cell_type": "code",
   "execution_count": 166,
   "metadata": {
    "collapsed": false
   },
   "outputs": [
    {
     "data": {
      "text/plain": [
       "array([ 0.56902576,  0.30079319,  0.13018105])"
      ]
     },
     "execution_count": 166,
     "metadata": {},
     "output_type": "execute_result"
    }
   ],
   "source": [
    "np.random.dirichlet([1]*len(topics))"
   ]
  },
  {
   "cell_type": "code",
   "execution_count": 181,
   "metadata": {
    "collapsed": false
   },
   "outputs": [
    {
     "data": {
      "text/plain": [
       "array([ 1.,  0.,  0.])"
      ]
     },
     "execution_count": 181,
     "metadata": {},
     "output_type": "execute_result"
    }
   ],
   "source": [
    "np.random.dirichlet([0.001]*len(topics))"
   ]
  },
  {
   "cell_type": "code",
   "execution_count": 194,
   "metadata": {
    "collapsed": false
   },
   "outputs": [
    {
     "data": {
      "text/plain": [
       "array([ 0.00951286,  0.11062042,  0.87986672])"
      ]
     },
     "execution_count": 194,
     "metadata": {},
     "output_type": "execute_result"
    }
   ],
   "source": [
    "np.random.dirichlet([0.1, 1, 10])"
   ]
  }
 ],
 "metadata": {
  "anaconda-cloud": {},
  "kernelspec": {
   "display_name": "Python [Root]",
   "language": "python",
   "name": "Python [Root]"
  },
  "language_info": {
   "codemirror_mode": {
    "name": "ipython",
    "version": 3
   },
   "file_extension": ".py",
   "mimetype": "text/x-python",
   "name": "python",
   "nbconvert_exporter": "python",
   "pygments_lexer": "ipython3",
   "version": "3.5.2"
  }
 },
 "nbformat": 4,
 "nbformat_minor": 0
}

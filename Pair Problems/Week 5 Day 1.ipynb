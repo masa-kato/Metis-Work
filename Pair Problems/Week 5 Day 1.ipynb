{
 "cells": [
  {
   "cell_type": "markdown",
   "metadata": {},
   "source": [
    "#### Pair Problem\n",
    "\n",
    "Write a function that takes three arguments:\n",
    "\n",
    "A list of lists, X_train, where each inner list is of length three and represents the position of a Wookiee in space, along the traditional x, y, and z axes.\n",
    "A list of strings, y, the same length as the outer list X_train, where each string represents the color of a Wookiee at the corresponding position.\n",
    "A list of lists, X_test, where each inner list is of length three and represents the position in space of a Wookiee of unknown color.\n",
    "The function should produce a list of strings, the same length as the outer list, representing for each unknown Wookiee the color of the closest known Wookiee.\n",
    "\n"
   ]
  },
  {
   "cell_type": "code",
   "execution_count": 1,
   "metadata": {
    "collapsed": true
   },
   "outputs": [],
   "source": [
    "import numpy as np"
   ]
  },
  {
   "cell_type": "code",
   "execution_count": 23,
   "metadata": {
    "collapsed": true
   },
   "outputs": [],
   "source": [
    "def function(X_train, y_train, X_test):\n",
    "    X_train = np.array(X_train)\n",
    "    X_test = np.array(X_test)\n",
    "    \n",
    "    dist = np.sqrt(np.sum(np.square(X_train - X_test, dtype = np.float64), axis = 1))\n",
    "    print(dist)\n",
    "    min_index = np.argmin(dist)\n",
    "    return y_train[min_index]\n",
    "    "
   ]
  },
  {
   "cell_type": "code",
   "execution_count": 24,
   "metadata": {
    "collapsed": true
   },
   "outputs": [],
   "source": [
    "X_train = [[1,   1,  1],\n",
    "           [0,   0,  0],\n",
    "           [-1, -1, -1],\n",
    "           [10, 10, 10]]\n",
    "\n",
    "y_train = ['red',\n",
    "           'white',\n",
    "           'blue',\n",
    "           'chartreuse']\n",
    "X_test = [[1.1, 1.1, 1.1]]"
   ]
  },
  {
   "cell_type": "code",
   "execution_count": 25,
   "metadata": {
    "collapsed": false
   },
   "outputs": [
    {
     "name": "stdout",
     "output_type": "stream",
     "text": [
      "[  0.17320508   1.90525589   3.6373067   15.41525219]\n"
     ]
    },
    {
     "data": {
      "text/plain": [
       "'red'"
      ]
     },
     "execution_count": 25,
     "metadata": {},
     "output_type": "execute_result"
    }
   ],
   "source": [
    "function(X_train, y_train, X_test)"
   ]
  },
  {
   "cell_type": "code",
   "execution_count": 8,
   "metadata": {
    "collapsed": false
   },
   "outputs": [
    {
     "data": {
      "text/plain": [
       "4"
      ]
     },
     "execution_count": 8,
     "metadata": {},
     "output_type": "execute_result"
    }
   ],
   "source": [
    "np.argmin([1,2,3,4,0])"
   ]
  },
  {
   "cell_type": "code",
   "execution_count": 18,
   "metadata": {
    "collapsed": true
   },
   "outputs": [],
   "source": [
    "X_test2 = [[1.1, 1.1, 1.1],\n",
    "          [9,9,9]]"
   ]
  },
  {
   "cell_type": "code",
   "execution_count": 32,
   "metadata": {
    "collapsed": true
   },
   "outputs": [],
   "source": [
    "def function2(X_train, y_train, X_test):\n",
    "    X_train = np.array(X_train)\n",
    "    X_test = np.array(X_test)\n",
    "    \n",
    "    predictions = []\n",
    "    for x in X_test:\n",
    "        dist = np.sqrt(np.sum(np.square(X_train - x, dtype = np.float64), axis = 1))\n",
    "        min_index = np.argmin(dist)\n",
    "        prediction = y_train[min_index]\n",
    "        predictions.append(prediction)\n",
    "        print(dist)\n",
    "    return predictions\n",
    "    "
   ]
  },
  {
   "cell_type": "code",
   "execution_count": 33,
   "metadata": {
    "collapsed": false
   },
   "outputs": [
    {
     "name": "stdout",
     "output_type": "stream",
     "text": [
      "[  0.17320508   1.90525589   3.6373067   15.41525219]\n",
      "[ 13.85640646  15.58845727  17.32050808   1.73205081]\n"
     ]
    },
    {
     "data": {
      "text/plain": [
       "['red', 'chartreuse']"
      ]
     },
     "execution_count": 33,
     "metadata": {},
     "output_type": "execute_result"
    }
   ],
   "source": [
    "function2(X_train, y_train, X_test2)"
   ]
  },
  {
   "cell_type": "code",
   "execution_count": 28,
   "metadata": {
    "collapsed": true
   },
   "outputs": [],
   "source": [
    "dist = np.sqrt(np.sum(np.square(X_train, dtype=np.float64), axis=1, keepdims=True) + \\\n",
    "   np.sum(np.square(X_test, dtype=np.float64), axis=1) - \\\n",
    "   2*np.dot(X_train, np.transpose(X_test)))"
   ]
  },
  {
   "cell_type": "code",
   "execution_count": 29,
   "metadata": {
    "collapsed": false
   },
   "outputs": [
    {
     "data": {
      "text/plain": [
       "array([[  0.17320508],\n",
       "       [  1.90525589],\n",
       "       [  3.6373067 ],\n",
       "       [ 15.41525219]])"
      ]
     },
     "execution_count": 29,
     "metadata": {},
     "output_type": "execute_result"
    }
   ],
   "source": [
    "dist"
   ]
  },
  {
   "cell_type": "code",
   "execution_count": 50,
   "metadata": {
    "collapsed": false
   },
   "outputs": [
    {
     "data": {
      "text/plain": [
       "array([[  0.17320508,  13.85640646],\n",
       "       [  1.90525589,  15.58845727],\n",
       "       [  3.6373067 ,  17.32050808],\n",
       "       [ 15.41525219,   1.73205081]])"
      ]
     },
     "execution_count": 50,
     "metadata": {},
     "output_type": "execute_result"
    }
   ],
   "source": [
    "dist2 = np.sqrt(np.sum(np.square(X_train, dtype=np.float64), axis=1, keepdims=True) + \\\n",
    "   np.sum(np.square(X_test2, dtype=np.float64), axis=1) - \\\n",
    "   2*np.dot(X_train, np.transpose(X_test2)))\n",
    "dist2"
   ]
  },
  {
   "cell_type": "code",
   "execution_count": 51,
   "metadata": {
    "collapsed": false
   },
   "outputs": [
    {
     "data": {
      "text/plain": [
       "array([[  0.17320508,   1.90525589,   3.6373067 ,  15.41525219],\n",
       "       [ 13.85640646,  15.58845727,  17.32050808,   1.73205081]])"
      ]
     },
     "execution_count": 51,
     "metadata": {},
     "output_type": "execute_result"
    }
   ],
   "source": [
    "dist2 = dist2.transpose()\n",
    "dist2"
   ]
  },
  {
   "cell_type": "code",
   "execution_count": 44,
   "metadata": {
    "collapsed": false
   },
   "outputs": [
    {
     "data": {
      "text/plain": [
       "array([0, 3])"
      ]
     },
     "execution_count": 44,
     "metadata": {},
     "output_type": "execute_result"
    }
   ],
   "source": [
    "mins = np.argmin(dist2,axis=1)\n",
    "mins"
   ]
  },
  {
   "cell_type": "code",
   "execution_count": 43,
   "metadata": {
    "collapsed": false
   },
   "outputs": [
    {
     "data": {
      "text/plain": [
       "['red', 'white', 'blue', 'chartreuse']"
      ]
     },
     "execution_count": 43,
     "metadata": {},
     "output_type": "execute_result"
    }
   ],
   "source": [
    "y_train"
   ]
  },
  {
   "cell_type": "code",
   "execution_count": 45,
   "metadata": {
    "collapsed": false
   },
   "outputs": [
    {
     "data": {
      "text/plain": [
       "['red', 'chartreuse']"
      ]
     },
     "execution_count": 45,
     "metadata": {},
     "output_type": "execute_result"
    }
   ],
   "source": [
    "[y_train[i] for i in mins]"
   ]
  },
  {
   "cell_type": "code",
   "execution_count": 46,
   "metadata": {
    "collapsed": true
   },
   "outputs": [],
   "source": [
    "def function3(X_train, y_train, X_test):\n",
    "    X_train = np.array(X_train)\n",
    "    X_test = np.array(X_test)\n",
    "    \n",
    "    predictions = []\n",
    "    dist2 = np.sqrt(np.sum(np.square(X_train, dtype=np.float64), axis=1, keepdims=True) + \\\n",
    "    np.sum(np.square(X_test2, dtype=np.float64), axis=1) - \\\n",
    "    2*np.dot(X_train, np.transpose(X_test2)))\n",
    "   \n",
    "    dist2 = dist2.transpose(1,0)\n",
    "\n",
    "    min_indices = np.argmin(dist2,axis=1)\n",
    "    \n",
    "    predictions = [y_train[min_index] for min_index in min_indices]\n",
    "\n",
    "    return predictions\n",
    "    "
   ]
  },
  {
   "cell_type": "code",
   "execution_count": 47,
   "metadata": {
    "collapsed": false
   },
   "outputs": [
    {
     "data": {
      "text/plain": [
       "['red', 'chartreuse']"
      ]
     },
     "execution_count": 47,
     "metadata": {},
     "output_type": "execute_result"
    }
   ],
   "source": [
    "function3(X_train, y_train, X_test2)"
   ]
  },
  {
   "cell_type": "code",
   "execution_count": null,
   "metadata": {
    "collapsed": true
   },
   "outputs": [],
   "source": []
  }
 ],
 "metadata": {
  "anaconda-cloud": {},
  "kernelspec": {
   "display_name": "Python [Root]",
   "language": "python",
   "name": "Python [Root]"
  },
  "language_info": {
   "codemirror_mode": {
    "name": "ipython",
    "version": 3
   },
   "file_extension": ".py",
   "mimetype": "text/x-python",
   "name": "python",
   "nbconvert_exporter": "python",
   "pygments_lexer": "ipython3",
   "version": "3.5.2"
  }
 },
 "nbformat": 4,
 "nbformat_minor": 1
}

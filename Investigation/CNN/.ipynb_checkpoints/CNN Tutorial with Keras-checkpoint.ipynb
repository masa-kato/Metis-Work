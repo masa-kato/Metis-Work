{
 "cells": [
  {
   "cell_type": "markdown",
   "metadata": {},
   "source": [
    "Masa Kato  \n",
    "February 28, 2017\n",
    "# Convolutional Neural Network Tutorial  \n",
    "**A completely original tutorial by Masa Kato with a ton of copy/pasting so don't forget to look at the amazing blogs/documentations at the bottom of the page that helped me create this tutorial.**"
   ]
  },
  {
   "cell_type": "markdown",
   "metadata": {},
   "source": [
    "**Not covered in tutorial: padding, drop-out**"
   ]
  },
  {
   "cell_type": "markdown",
   "metadata": {},
   "source": [
    "# What are CNNs? \n",
    "** Convolutional neural networks are a specific type of neural network comprised of convolutional layers followed by one or more fully connected layers. Okay, a crappy explanation but it'll make more sense as we move along.**"
   ]
  },
  {
   "cell_type": "markdown",
   "metadata": {},
   "source": [
    "# Why are CNNs necessary?\n",
    "** CNNs excel at looking for patterns in an image. The first few layers can identify lines, edges, curves & corners (Low-Level Features). The deeper layers can start to recognize shapes & objects (High-Level Features). These properties make CNNs great at classifying images.**\n",
    "\n",
    "** CNNs also reduce the number of parameters by applying convolutions. In the simple ol' neural network, a 32x32 color image will have 32x32x3 = 3072 parameters. As the size of the image increases, the number of parameters quickly become unmaneagable. And that's where CNNs come in. **"
   ]
  },
  {
   "cell_type": "markdown",
   "metadata": {},
   "source": [
    "# So, what is a convolutional layer?\n",
    "\n",
    "** Take a look at the pretty gif below that is applying a convolution to an image. Here we have an image represented as a 5x5 matrix of pixels values and a 3x3 window that slides around the image. At each position, the values of the image are multiplied by the values of the 3x3 window (indicated by the small red numbers) & then summed. This results in a single number that represents all the values in that window of the image.**"
   ]
  },
  {
   "cell_type": "markdown",
   "metadata": {
    "collapsed": true
   },
   "source": [
    "![Kernel](images/kernel.gif 'GIF')"
   ]
  },
  {
   "cell_type": "markdown",
   "metadata": {},
   "source": [
    "** The sliding window is called a convolutional kernel (also called filters, weights, convolutional matrices). The distance the window moves each time is called the stride. The kernel used in the gif was the matrix:**\n",
    "```\n",
    "1 0 1\n",
    "0 1 0\n",
    "1 0 1\n",
    "```\n",
    "** These kernel provides a way of extracting interesting features from the original image & are the fundamental basis of the convolutional layer. In each convolutional layer, we specify the number of kernels, which then operate on the outputs of the previous layer. Afterwards, biases are added and an activation function is applied similar to Multilayer Perceptrons (MLPs). **\n",
    "\n",
    "** Remember, the kernels are essentially just weights & can therefore be learned or updated via Gradient Descent & Back Propagation. Now we won't go into the details in this notebook --insert sigh of relief-- but just know that is how the kernels are updated.**"
   ]
  },
  {
   "cell_type": "markdown",
   "metadata": {},
   "source": [
    "# Pooling Layers\n",
    "\n",
    "**Another Layer!? Yes, another layer...but we're almost done!**  \n",
    "**The pooling layer is a mechanism for downsampling, which consumes small and (usually) disjoint chunks of the image (typically 2×2) and aggregates them into a single value. There are several possible schemes for the aggregation - the most popular being max-pooling, where the maximum pixel value within each chunk is taken. See the image below for visualization of max pooling.**"
   ]
  },
  {
   "cell_type": "markdown",
   "metadata": {},
   "source": [
    "![Pool](images/pool.png 'Pool')"
   ]
  },
  {
   "cell_type": "markdown",
   "metadata": {},
   "source": [
    "# Summary of CNN"
   ]
  },
  {
   "cell_type": "markdown",
   "metadata": {},
   "source": [
    "![Network](images/summary.png 'summary')"
   ]
  },
  {
   "cell_type": "markdown",
   "metadata": {},
   "source": [
    "# What is Keras?\n",
    "\n",
    "**Keras is a high-level neural network library, written in Python & capable of running on top of either TensorFlow or Theano.**"
   ]
  },
  {
   "cell_type": "markdown",
   "metadata": {},
   "source": [
    "# Before we move on, we must pip"
   ]
  },
  {
   "cell_type": "markdown",
   "metadata": {},
   "source": [
    "**Install TensorFlow**\n",
    "```\n",
    "pip install tensorflow      # Python 2.7; CPU support (no GPU support)\n",
    "pip3 install tensorflow     # Python 3.n; CPU support (no GPU support)\n",
    "```"
   ]
  },
  {
   "cell_type": "markdown",
   "metadata": {},
   "source": [
    "**Install Keras**\n",
    "```\n",
    "sudo pip install keras\n",
    "```"
   ]
  },
  {
   "cell_type": "markdown",
   "metadata": {},
   "source": [
    "# Load Data - MNIST Dataset\n",
    "\n",
    "**Each digit is represented as a 28 x 28 grayscale image. These grayscale pixel intensities are integers with the values of the pixels falling in the range [0, 255]**"
   ]
  },
  {
   "cell_type": "code",
   "execution_count": 86,
   "metadata": {
    "collapsed": true
   },
   "outputs": [],
   "source": [
    "import numpy as np"
   ]
  },
  {
   "cell_type": "code",
   "execution_count": 54,
   "metadata": {
    "collapsed": true
   },
   "outputs": [],
   "source": [
    "from keras.datasets import mnist"
   ]
  },
  {
   "cell_type": "code",
   "execution_count": 55,
   "metadata": {
    "collapsed": false,
    "scrolled": true
   },
   "outputs": [],
   "source": [
    "(X_train, y_train), (X_test, y_test) = mnist.load_data()"
   ]
  },
  {
   "cell_type": "code",
   "execution_count": 56,
   "metadata": {
    "collapsed": false
   },
   "outputs": [
    {
     "name": "stdout",
     "output_type": "stream",
     "text": [
      "Training Features Shape: (60000, 28, 28)\n",
      "Test Features Shape: (60000, 28, 28)\n"
     ]
    }
   ],
   "source": [
    "print('Training Features Shape:',X_train.shape)\n",
    "print('Test Features Shape:',X_train.shape)"
   ]
  },
  {
   "cell_type": "markdown",
   "metadata": {},
   "source": [
    "## Plot Images from Training Set"
   ]
  },
  {
   "cell_type": "code",
   "execution_count": 57,
   "metadata": {
    "collapsed": true
   },
   "outputs": [],
   "source": [
    "import matplotlib.pyplot as plt\n",
    "% matplotlib inline"
   ]
  },
  {
   "cell_type": "code",
   "execution_count": 58,
   "metadata": {
    "collapsed": false
   },
   "outputs": [
    {
     "data": {
      "image/png": "[encoded data removed]",
      "text/plain": [
       "<matplotlib.figure.Figure at 0x124b5c9e8>"
      ]
     },
     "metadata": {},
     "output_type": "display_data"
    }
   ],
   "source": [
    "plt.figure(figsize=(8,8))\n",
    "\n",
    "for i in range(1,10):\n",
    "    plt.subplot(3,3,i)\n",
    "    plt.imshow(X_train[i], cmap='gray', interpolation='none')\n",
    "    plt.axis('off')"
   ]
  },
  {
   "cell_type": "markdown",
   "metadata": {},
   "source": [
    "## Preprocessing Data\n",
    "\n",
    "**In Keras, we must explicitly declare a dimension for the depth of the input image. Typically, a full-color image contains 3 channels (RGB) & thus, will have a depth of 3. The MNIST images only have a depth of 1 since the images are in grayscale.**\n",
    "\n",
    "**In other words, we must transform our dataset from having shape (n_samples, width, height) to (n_samples, width, height, depth).**"
   ]
  },
  {
   "cell_type": "code",
   "execution_count": 59,
   "metadata": {
    "collapsed": true
   },
   "outputs": [],
   "source": [
    "X_train = X_train.reshape(X_train.shape[0], 28, 28, 1).astype('float32')\n",
    "X_test = X_test.reshape(X_test.shape[0], 28, 28, 1).astype('float32')"
   ]
  },
  {
   "cell_type": "code",
   "execution_count": 60,
   "metadata": {
    "collapsed": false
   },
   "outputs": [
    {
     "name": "stdout",
     "output_type": "stream",
     "text": [
      "Training Features Shape: (60000, 28, 28, 1)\n",
      "Test Features Shape: (60000, 28, 28, 1)\n"
     ]
    }
   ],
   "source": [
    "print('Training Features Shape:',X_train.shape)\n",
    "print('Test Features Shape:',X_train.shape)"
   ]
  },
  {
   "cell_type": "markdown",
   "metadata": {},
   "source": [
    "**Normalize Pixel Values from 0 to 1**"
   ]
  },
  {
   "cell_type": "code",
   "execution_count": 61,
   "metadata": {
    "collapsed": true
   },
   "outputs": [],
   "source": [
    "X_train = X_train / 255\n",
    "X_test = X_test/255"
   ]
  },
  {
   "cell_type": "markdown",
   "metadata": {},
   "source": [
    "**Convert Target Variables to Categorical Array**"
   ]
  },
  {
   "cell_type": "code",
   "execution_count": 62,
   "metadata": {
    "collapsed": true
   },
   "outputs": [],
   "source": [
    "from keras.utils import np_utils"
   ]
  },
  {
   "cell_type": "code",
   "execution_count": 63,
   "metadata": {
    "collapsed": false
   },
   "outputs": [],
   "source": [
    "Y_train = np_utils.to_categorical(y_train, nb_classes=10)\n",
    "Y_test = np_utils.to_categorical(y_test, nb_classes=10)"
   ]
  },
  {
   "cell_type": "code",
   "execution_count": 64,
   "metadata": {
    "collapsed": false
   },
   "outputs": [
    {
     "name": "stdout",
     "output_type": "stream",
     "text": [
      "Target Label Before Conversion: 5\n",
      "Target Label After Conversion: [ 0.  0.  0.  0.  0.  1.  0.  0.  0.  0.]\n"
     ]
    }
   ],
   "source": [
    "# Comparing the target labels\n",
    "print('Target Label Before Conversion:',y_train[0])\n",
    "print('Target Label After Conversion:',Y_train[0])"
   ]
  },
  {
   "cell_type": "markdown",
   "metadata": {},
   "source": [
    "## Create Model\n",
    "\n",
    "**The core data structure of Keras is a model, a way to organize layers. The main type of model is the Sequential model, a linear stack of layers.**"
   ]
  },
  {
   "cell_type": "code",
   "execution_count": 67,
   "metadata": {
    "collapsed": true
   },
   "outputs": [],
   "source": [
    "from keras.models import Sequential"
   ]
  },
  {
   "cell_type": "code",
   "execution_count": 68,
   "metadata": {
    "collapsed": true
   },
   "outputs": [],
   "source": [
    "model = Sequential()"
   ]
  },
  {
   "cell_type": "markdown",
   "metadata": {},
   "source": [
    "**Add First Layer Sets of CONV => RELU => POOL**"
   ]
  },
  {
   "cell_type": "code",
   "execution_count": 69,
   "metadata": {
    "collapsed": true
   },
   "outputs": [],
   "source": [
    "from keras.layers.convolutional import Convolution2D, MaxPooling2D\n",
    "from keras.layers.core import Activation, Dense, Dropout, Flatten"
   ]
  },
  {
   "cell_type": "code",
   "execution_count": 70,
   "metadata": {
    "collapsed": false
   },
   "outputs": [],
   "source": [
    "model.add(Convolution2D(32, 5, 5, input_shape=(28,28,1), activation='relu', border_mode='valid'))"
   ]
  },
  {
   "cell_type": "markdown",
   "metadata": {},
   "source": [
    "**You might see the above line written as two separate lines as shown by the commented lines below.**"
   ]
  },
  {
   "cell_type": "code",
   "execution_count": 71,
   "metadata": {
    "collapsed": true
   },
   "outputs": [],
   "source": [
    "# model.add(Convolution2D(32, 5, 5, input_shape=(28,28,1), border_mode='valid'))\n",
    "# model.add(Activation('relu'))"
   ]
  },
  {
   "cell_type": "code",
   "execution_count": 72,
   "metadata": {
    "collapsed": true
   },
   "outputs": [],
   "source": [
    "model.add(MaxPooling2D(pool_size=(2,2)))"
   ]
  },
  {
   "cell_type": "markdown",
   "metadata": {},
   "source": [
    "**Add Dropout Layer**"
   ]
  },
  {
   "cell_type": "code",
   "execution_count": 73,
   "metadata": {
    "collapsed": true
   },
   "outputs": [],
   "source": [
    "model.add(Dropout(0.25))"
   ]
  },
  {
   "cell_type": "markdown",
   "metadata": {},
   "source": [
    "**Add Fully Connected Layers**"
   ]
  },
  {
   "cell_type": "code",
   "execution_count": 74,
   "metadata": {
    "collapsed": true
   },
   "outputs": [],
   "source": [
    "model.add(Flatten())\n",
    "model.add(Dense(128, activation='relu'))\n",
    "model.add(Dense(10, activation='softmax'))"
   ]
  },
  {
   "cell_type": "markdown",
   "metadata": {},
   "source": [
    "**Compile Model**"
   ]
  },
  {
   "cell_type": "code",
   "execution_count": 75,
   "metadata": {
    "collapsed": true
   },
   "outputs": [],
   "source": [
    "model.compile(loss='categorical_crossentropy', optimizer='adam', metrics=['accuracy'])"
   ]
  },
  {
   "cell_type": "markdown",
   "metadata": {},
   "source": [
    "## Train/Fit the Model"
   ]
  },
  {
   "cell_type": "code",
   "execution_count": 77,
   "metadata": {
    "collapsed": false
   },
   "outputs": [
    {
     "name": "stdout",
     "output_type": "stream",
     "text": [
      "Epoch 1/10\n",
      "60000/60000 [==============================] - 61s - loss: 0.0421 - acc: 0.9867    \n",
      "Epoch 2/10\n",
      "60000/60000 [==============================] - 58s - loss: 0.0338 - acc: 0.9895    \n",
      "Epoch 3/10\n",
      "60000/60000 [==============================] - 57s - loss: 0.0271 - acc: 0.9915    \n",
      "Epoch 4/10\n",
      "60000/60000 [==============================] - 58s - loss: 0.0228 - acc: 0.9928    \n",
      "Epoch 5/10\n",
      "60000/60000 [==============================] - 56s - loss: 0.0187 - acc: 0.9938    \n",
      "Epoch 6/10\n",
      "60000/60000 [==============================] - 56s - loss: 0.0174 - acc: 0.9942    \n",
      "Epoch 7/10\n",
      "60000/60000 [==============================] - 60s - loss: 0.0142 - acc: 0.9953    \n",
      "Epoch 8/10\n",
      "60000/60000 [==============================] - 61s - loss: 0.0118 - acc: 0.9961    \n",
      "Epoch 9/10\n",
      "60000/60000 [==============================] - 57s - loss: 0.0110 - acc: 0.9964    \n",
      "Epoch 10/10\n",
      "60000/60000 [==============================] - 63s - loss: 0.0103 - acc: 0.9967    \n"
     ]
    },
    {
     "data": {
      "text/plain": [
       "<keras.callbacks.History at 0x122759128>"
      ]
     },
     "execution_count": 77,
     "metadata": {},
     "output_type": "execute_result"
    }
   ],
   "source": [
    "model.fit(X_train, Y_train, batch_size=128, nb_epoch=10, verbose=1)"
   ]
  },
  {
   "cell_type": "markdown",
   "metadata": {},
   "source": [
    "## Evaluate Model"
   ]
  },
  {
   "cell_type": "code",
   "execution_count": 79,
   "metadata": {
    "collapsed": false
   },
   "outputs": [
    {
     "name": "stdout",
     "output_type": "stream",
     "text": [
      " 9984/10000 [============================>.] - ETA: 0s"
     ]
    }
   ],
   "source": [
    "score = model.evaluate(X_test, Y_test, verbose=1)"
   ]
  },
  {
   "cell_type": "code",
   "execution_count": 81,
   "metadata": {
    "collapsed": false
   },
   "outputs": [
    {
     "name": "stdout",
     "output_type": "stream",
     "text": [
      "Accuracy: 0.9892\n",
      "Loss: 0.0378874181849\n"
     ]
    }
   ],
   "source": [
    "print('Accuracy:', score[1])\n",
    "print('Loss:', score[0])"
   ]
  },
  {
   "cell_type": "markdown",
   "metadata": {},
   "source": [
    "## Summary of Entire Code for Our Simple CNN Model\n",
    "```python\n",
    "model = Sequential()\n",
    "model.add(Convolution2D(32, 5, 5, input_shape=(28,28,1), activation='relu', border_mode='valid'))\n",
    "model.add(MaxPooling2D(pool_size=(2,2)))\n",
    "model.add(Dropout(0.25))\n",
    "model.add(Flatten())\n",
    "model.add(Dense(128, activation='relu'))\n",
    "model.add(Dense(10, activation='softmax'))\n",
    "model.compile(loss='categorical_crossentropy', optimizer='adam', metrics=['accuracy'])\n",
    "model.fit(X_train, Y_train, batch_size=128, nb_epoch=10, verbose=1)\n",
    "```"
   ]
  },
  {
   "cell_type": "markdown",
   "metadata": {},
   "source": [
    "## Plot Some of the Predictions"
   ]
  },
  {
   "cell_type": "code",
   "execution_count": 83,
   "metadata": {
    "collapsed": false
   },
   "outputs": [],
   "source": [
    "Y_pred = model.predict(X_test)"
   ]
  },
  {
   "cell_type": "code",
   "execution_count": 113,
   "metadata": {
    "collapsed": false
   },
   "outputs": [],
   "source": [
    "def plot_predictions(Y_pred, Y_test, X_test):\n",
    "    X_test = X_test.reshape(10000,28,28)\n",
    "    \n",
    "    ind = np.random.randint(0,10000)\n",
    "    act_y = np.argmax(Y_test[ind])\n",
    "    pred_y = np.argmax(Y_pred[ind])\n",
    "    \n",
    "    plt.figure(figsize=(8,8))\n",
    "    plt.title('Actual Number {}, Predicted Number {}'.format(act_y, pred_y), fontsize=20)\n",
    "    plt.imshow(X_test[ind], cmap='gray', interpolation='none')\n",
    "    plt.axis('off')"
   ]
  },
  {
   "cell_type": "code",
   "execution_count": 116,
   "metadata": {
    "collapsed": false
   },
   "outputs": [
    {
     "data": {
      "image/png": "[encoded data removed]",
      "text/plain": [
       "<matplotlib.figure.Figure at 0x1209e1240>"
      ]
     },
     "metadata": {},
     "output_type": "display_data"
    }
   ],
   "source": [
    "plot_predictions(Y_pred, Y_test, X_test)"
   ]
  },
  {
   "cell_type": "markdown",
   "metadata": {
    "collapsed": true
   },
   "source": [
    "# References"
   ]
  },
  {
   "cell_type": "markdown",
   "metadata": {},
   "source": [
    "[Blog by Erik Reppel - Visualizing Parts of Convolutional Neural Networks using Keras and Cats](https://hackernoon.com/visualizing-parts-of-convolutional-neural-networks-using-keras-and-cats-5cc01b214e59#.uhxeutkai)"
   ]
  },
  {
   "cell_type": "markdown",
   "metadata": {},
   "source": [
    "[Blog by Adit Deshpande - Beginner's Guide to CNNs](https://adeshpande3.github.io/adeshpande3.github.io/A-Beginner's-Guide-To-Understanding-Convolutional-Neural-Networks/)"
   ]
  },
  {
   "cell_type": "markdown",
   "metadata": {},
   "source": [
    "[Blog by Jefkine - Backpropagation in CNNs](http://www.jefkine.com/general/2016/09/05/backpropagation-in-convolutional-neural-networks/)"
   ]
  },
  {
   "cell_type": "markdown",
   "metadata": {},
   "source": [
    "[Blog by Grzegorz Gwardys - Back Propagation Derivation](https://grzegorzgwardys.wordpress.com/2016/04/22/8/)"
   ]
  },
  {
   "cell_type": "markdown",
   "metadata": {},
   "source": [
    "[Cambridge Coding Academy - CNN to Recognize Images](http://online.cambridgecoding.com/notebooks/cca_admin/convolutional-neural-networks-with-keras)"
   ]
  },
  {
   "cell_type": "markdown",
   "metadata": {},
   "source": [
    "[Keras Blog - Cats & Dogs Classification](https://blog.keras.io/building-powerful-image-classification-models-using-very-little-data.html)"
   ]
  },
  {
   "cell_type": "markdown",
   "metadata": {},
   "source": [
    "[Keras Documentation](https://keras.io/)"
   ]
  }
 ],
 "metadata": {
  "anaconda-cloud": {},
  "kernelspec": {
   "display_name": "Python [Root]",
   "language": "python",
   "name": "Python [Root]"
  },
  "language_info": {
   "codemirror_mode": {
    "name": "ipython",
    "version": 3
   },
   "file_extension": ".py",
   "mimetype": "text/x-python",
   "name": "python",
   "nbconvert_exporter": "python",
   "pygments_lexer": "ipython3",
   "version": "3.5.2"
  }
 },
 "nbformat": 4,
 "nbformat_minor": 0
}
